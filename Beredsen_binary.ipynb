{
  "nbformat": 4,
  "nbformat_minor": 0,
  "metadata": {
    "colab": {
      "name": "Beredsen binary.ipynb",
      "provenance": [],
      "authorship_tag": "ABX9TyO7eBiG0kYRLC0CARH5zAuV",
      "include_colab_link": true
    },
    "kernelspec": {
      "name": "python3",
      "display_name": "Python 3"
    },
    "language_info": {
      "name": "python"
    }
  },
  "cells": [
    {
      "cell_type": "markdown",
      "metadata": {
        "id": "view-in-github",
        "colab_type": "text"
      },
      "source": [
        "<a href=\"https://colab.research.google.com/github/gabrielcerono/GlioblastomaMultiforme/blob/main/Beredsen_binary.ipynb\" target=\"_parent\"><img src=\"https://colab.research.google.com/assets/colab-badge.svg\" alt=\"Open In Colab\"/></a>"
      ]
    },
    {
      "cell_type": "code",
      "metadata": {
        "id": "ueKtwNCM__Bp"
      },
      "source": [
        "import pandas as pd\n",
        "import matplotlib.pyplot as plt\n",
        "import numpy as np\n",
        "import sklearn as sk\n",
        "import warnings\n",
        "warnings.filterwarnings(\"ignore\", category=RuntimeWarning) \n",
        "from imblearn.ensemble import BalancedBaggingClassifier\n",
        "from sklearn.metrics import f1_score\n",
        "from sklearn.metrics import accuracy_score\n",
        "from sklearn.metrics import confusion_matrix\n",
        "from sklearn.metrics import roc_auc_score\n",
        "from sklearn import metrics\n",
        "from sklearn.metrics import precision_recall_curve\n",
        "from sklearn.metrics import matthews_corrcoef\n",
        "import RFE_Glioblastomav2 as rfev2"
      ],
      "execution_count": null,
      "outputs": []
    },
    {
      "cell_type": "code",
      "metadata": {
        "id": "WWRISYuuA-MP"
      },
      "source": [
        "dataset = pd.read_excel('/content/Beredsen.xlsx')"
      ],
      "execution_count": 2,
      "outputs": []
    },
    {
      "cell_type": "code",
      "metadata": {
        "colab": {
          "base_uri": "https://localhost:8080/"
        },
        "id": "2CG6y1qJBCqR",
        "outputId": "b36d95cd-5f5b-4450-c2c8-42f0d0ab6606"
      },
      "source": [
        "dataset.columns"
      ],
      "execution_count": 3,
      "outputs": [
        {
          "output_type": "execute_result",
          "data": {
            "text/plain": [
              "Index(['age', 'biopsy_debulking', 'KPS', 'adjuvant_treatment', 'SVZ status',\n",
              "       'survival ', 'censoring', 'Unnamed: 7', 'Variables'],\n",
              "      dtype='object')"
            ]
          },
          "metadata": {
            "tags": []
          },
          "execution_count": 3
        }
      ]
    },
    {
      "cell_type": "code",
      "metadata": {
        "id": "MDOSS3jeBERs"
      },
      "source": [
        "dataset.drop(columns = ['Unnamed: 7', 'Variables'], inplace = True)"
      ],
      "execution_count": 4,
      "outputs": []
    },
    {
      "cell_type": "code",
      "metadata": {
        "colab": {
          "base_uri": "https://localhost:8080/",
          "height": 205
        },
        "id": "TgzghlWVBF6X",
        "outputId": "a53902a3-c779-4e4a-c2d3-ea0412817aae"
      },
      "source": [
        "dataset.head()"
      ],
      "execution_count": 5,
      "outputs": [
        {
          "output_type": "execute_result",
          "data": {
            "text/html": [
              "<div>\n",
              "<style scoped>\n",
              "    .dataframe tbody tr th:only-of-type {\n",
              "        vertical-align: middle;\n",
              "    }\n",
              "\n",
              "    .dataframe tbody tr th {\n",
              "        vertical-align: top;\n",
              "    }\n",
              "\n",
              "    .dataframe thead th {\n",
              "        text-align: right;\n",
              "    }\n",
              "</style>\n",
              "<table border=\"1\" class=\"dataframe\">\n",
              "  <thead>\n",
              "    <tr style=\"text-align: right;\">\n",
              "      <th></th>\n",
              "      <th>age</th>\n",
              "      <th>biopsy_debulking</th>\n",
              "      <th>KPS</th>\n",
              "      <th>adjuvant_treatment</th>\n",
              "      <th>SVZ status</th>\n",
              "      <th>survival</th>\n",
              "      <th>censoring</th>\n",
              "    </tr>\n",
              "  </thead>\n",
              "  <tbody>\n",
              "    <tr>\n",
              "      <th>0</th>\n",
              "      <td>82</td>\n",
              "      <td>1.0</td>\n",
              "      <td>1.0</td>\n",
              "      <td>1.0</td>\n",
              "      <td>0.0</td>\n",
              "      <td>176.0</td>\n",
              "      <td>1.0</td>\n",
              "    </tr>\n",
              "    <tr>\n",
              "      <th>1</th>\n",
              "      <td>67</td>\n",
              "      <td>1.0</td>\n",
              "      <td>1.0</td>\n",
              "      <td>2.0</td>\n",
              "      <td>0.0</td>\n",
              "      <td>362.0</td>\n",
              "      <td>0.0</td>\n",
              "    </tr>\n",
              "    <tr>\n",
              "      <th>2</th>\n",
              "      <td>70</td>\n",
              "      <td>1.0</td>\n",
              "      <td>1.0</td>\n",
              "      <td>2.0</td>\n",
              "      <td>0.0</td>\n",
              "      <td>433.0</td>\n",
              "      <td>1.0</td>\n",
              "    </tr>\n",
              "    <tr>\n",
              "      <th>3</th>\n",
              "      <td>49</td>\n",
              "      <td>2.0</td>\n",
              "      <td>1.0</td>\n",
              "      <td>1.0</td>\n",
              "      <td>0.0</td>\n",
              "      <td>117.0</td>\n",
              "      <td>1.0</td>\n",
              "    </tr>\n",
              "    <tr>\n",
              "      <th>4</th>\n",
              "      <td>78</td>\n",
              "      <td>2.0</td>\n",
              "      <td>1.0</td>\n",
              "      <td>1.0</td>\n",
              "      <td>0.0</td>\n",
              "      <td>326.0</td>\n",
              "      <td>1.0</td>\n",
              "    </tr>\n",
              "  </tbody>\n",
              "</table>\n",
              "</div>"
            ],
            "text/plain": [
              "   age  biopsy_debulking  KPS  ...  SVZ status  survival   censoring\n",
              "0   82               1.0  1.0  ...         0.0      176.0        1.0\n",
              "1   67               1.0  1.0  ...         0.0      362.0        0.0\n",
              "2   70               1.0  1.0  ...         0.0      433.0        1.0\n",
              "3   49               2.0  1.0  ...         0.0      117.0        1.0\n",
              "4   78               2.0  1.0  ...         0.0      326.0        1.0\n",
              "\n",
              "[5 rows x 7 columns]"
            ]
          },
          "metadata": {
            "tags": []
          },
          "execution_count": 5
        }
      ]
    },
    {
      "cell_type": "code",
      "metadata": {
        "id": "zHGHQr_GBHhi"
      },
      "source": [
        "dataset = dataset.rename(columns={'censoring': 'death', 'survival ' : 'OS_time'})"
      ],
      "execution_count": 6,
      "outputs": []
    },
    {
      "cell_type": "code",
      "metadata": {
        "colab": {
          "base_uri": "https://localhost:8080/"
        },
        "id": "WZPi0MVuDOCS",
        "outputId": "f6294a56-d93a-4a3b-e32e-e42df598db84"
      },
      "source": [
        "dataset.death.describe()"
      ],
      "execution_count": 29,
      "outputs": [
        {
          "output_type": "execute_result",
          "data": {
            "text/plain": [
              "count    647.000000\n",
              "mean       0.768161\n",
              "std        0.422333\n",
              "min        0.000000\n",
              "25%        1.000000\n",
              "50%        1.000000\n",
              "75%        1.000000\n",
              "max        1.000000\n",
              "Name: death, dtype: float64"
            ]
          },
          "metadata": {
            "tags": []
          },
          "execution_count": 29
        }
      ]
    },
    {
      "cell_type": "code",
      "metadata": {
        "id": "z9t0NNWRBRY6"
      },
      "source": [
        "from sklearn.experimental import enable_iterative_imputer\n",
        "from sklearn.impute import IterativeImputer"
      ],
      "execution_count": 7,
      "outputs": []
    },
    {
      "cell_type": "code",
      "metadata": {
        "id": "Sbb_4MleBUr1"
      },
      "source": [
        "imp_mean = IterativeImputer(random_state=0)"
      ],
      "execution_count": 8,
      "outputs": []
    },
    {
      "cell_type": "code",
      "metadata": {
        "id": "KX16KPqsBX1y"
      },
      "source": [
        "data = imp_mean.fit_transform(dataset)"
      ],
      "execution_count": 9,
      "outputs": []
    },
    {
      "cell_type": "code",
      "metadata": {
        "id": "oGMlQiz4BX4o"
      },
      "source": [
        "data = pd.DataFrame(data=data, columns= dataset.columns,)"
      ],
      "execution_count": 10,
      "outputs": []
    },
    {
      "cell_type": "code",
      "metadata": {
        "colab": {
          "base_uri": "https://localhost:8080/",
          "height": 268
        },
        "id": "MFlAvMTnBbxy",
        "outputId": "a8f3afd9-e5bb-44ac-a7de-5bf028dc84d2"
      },
      "source": [
        "data.corr(method = 'pearson')"
      ],
      "execution_count": 11,
      "outputs": [
        {
          "output_type": "execute_result",
          "data": {
            "text/html": [
              "<div>\n",
              "<style scoped>\n",
              "    .dataframe tbody tr th:only-of-type {\n",
              "        vertical-align: middle;\n",
              "    }\n",
              "\n",
              "    .dataframe tbody tr th {\n",
              "        vertical-align: top;\n",
              "    }\n",
              "\n",
              "    .dataframe thead th {\n",
              "        text-align: right;\n",
              "    }\n",
              "</style>\n",
              "<table border=\"1\" class=\"dataframe\">\n",
              "  <thead>\n",
              "    <tr style=\"text-align: right;\">\n",
              "      <th></th>\n",
              "      <th>age</th>\n",
              "      <th>biopsy_debulking</th>\n",
              "      <th>KPS</th>\n",
              "      <th>adjuvant_treatment</th>\n",
              "      <th>SVZ status</th>\n",
              "      <th>OS_time</th>\n",
              "      <th>death</th>\n",
              "    </tr>\n",
              "  </thead>\n",
              "  <tbody>\n",
              "    <tr>\n",
              "      <th>age</th>\n",
              "      <td>1.000000</td>\n",
              "      <td>-0.082257</td>\n",
              "      <td>-0.161910</td>\n",
              "      <td>-0.029705</td>\n",
              "      <td>0.061247</td>\n",
              "      <td>-0.362111</td>\n",
              "      <td>0.173820</td>\n",
              "    </tr>\n",
              "    <tr>\n",
              "      <th>biopsy_debulking</th>\n",
              "      <td>-0.082257</td>\n",
              "      <td>1.000000</td>\n",
              "      <td>0.148640</td>\n",
              "      <td>-0.013053</td>\n",
              "      <td>-0.192748</td>\n",
              "      <td>0.363858</td>\n",
              "      <td>-0.144109</td>\n",
              "    </tr>\n",
              "    <tr>\n",
              "      <th>KPS</th>\n",
              "      <td>-0.161910</td>\n",
              "      <td>0.148640</td>\n",
              "      <td>1.000000</td>\n",
              "      <td>0.041573</td>\n",
              "      <td>-0.105957</td>\n",
              "      <td>0.297927</td>\n",
              "      <td>-0.127053</td>\n",
              "    </tr>\n",
              "    <tr>\n",
              "      <th>adjuvant_treatment</th>\n",
              "      <td>-0.029705</td>\n",
              "      <td>-0.013053</td>\n",
              "      <td>0.041573</td>\n",
              "      <td>1.000000</td>\n",
              "      <td>-0.015329</td>\n",
              "      <td>0.054873</td>\n",
              "      <td>-0.038990</td>\n",
              "    </tr>\n",
              "    <tr>\n",
              "      <th>SVZ status</th>\n",
              "      <td>0.061247</td>\n",
              "      <td>-0.192748</td>\n",
              "      <td>-0.105957</td>\n",
              "      <td>-0.015329</td>\n",
              "      <td>1.000000</td>\n",
              "      <td>-0.260603</td>\n",
              "      <td>0.110869</td>\n",
              "    </tr>\n",
              "    <tr>\n",
              "      <th>OS_time</th>\n",
              "      <td>-0.362111</td>\n",
              "      <td>0.363858</td>\n",
              "      <td>0.297927</td>\n",
              "      <td>0.054873</td>\n",
              "      <td>-0.260603</td>\n",
              "      <td>1.000000</td>\n",
              "      <td>-0.476101</td>\n",
              "    </tr>\n",
              "    <tr>\n",
              "      <th>death</th>\n",
              "      <td>0.173820</td>\n",
              "      <td>-0.144109</td>\n",
              "      <td>-0.127053</td>\n",
              "      <td>-0.038990</td>\n",
              "      <td>0.110869</td>\n",
              "      <td>-0.476101</td>\n",
              "      <td>1.000000</td>\n",
              "    </tr>\n",
              "  </tbody>\n",
              "</table>\n",
              "</div>"
            ],
            "text/plain": [
              "                         age  biopsy_debulking  ...   OS_time     death\n",
              "age                 1.000000         -0.082257  ... -0.362111  0.173820\n",
              "biopsy_debulking   -0.082257          1.000000  ...  0.363858 -0.144109\n",
              "KPS                -0.161910          0.148640  ...  0.297927 -0.127053\n",
              "adjuvant_treatment -0.029705         -0.013053  ...  0.054873 -0.038990\n",
              "SVZ status          0.061247         -0.192748  ... -0.260603  0.110869\n",
              "OS_time            -0.362111          0.363858  ...  1.000000 -0.476101\n",
              "death               0.173820         -0.144109  ... -0.476101  1.000000\n",
              "\n",
              "[7 rows x 7 columns]"
            ]
          },
          "metadata": {
            "tags": []
          },
          "execution_count": 11
        }
      ]
    },
    {
      "cell_type": "markdown",
      "metadata": {
        "id": "1CFvzjlIBkML"
      },
      "source": [
        "## Classification scores"
      ]
    },
    {
      "cell_type": "code",
      "metadata": {
        "id": "tyWZ-evOBl1d"
      },
      "source": [
        "X = data.drop(columns=['death', 'OS_time'], axis = 1)\n",
        "y = data['death']"
      ],
      "execution_count": 20,
      "outputs": []
    },
    {
      "cell_type": "code",
      "metadata": {
        "id": "CvxW1jmoB0om"
      },
      "source": [
        "from sklearn.model_selection import train_test_split\n",
        "from sklearn.ensemble import RandomForestClassifier\n",
        "from sklearn.linear_model import LogisticRegression\n",
        "import xgboost as xgb\n",
        "from sklearn.tree import DecisionTreeClassifier\n",
        "from sklearn.neighbors import KNeighborsClassifier\n",
        "from xgboost import XGBClassifier"
      ],
      "execution_count": 14,
      "outputs": []
    },
    {
      "cell_type": "code",
      "metadata": {
        "id": "ZiDeZI5SCVlS"
      },
      "source": [
        "clf = RandomForestClassifier(random_state=0)\n"
      ],
      "execution_count": 21,
      "outputs": []
    },
    {
      "cell_type": "code",
      "metadata": {
        "id": "VtQso_OGCLRX"
      },
      "source": [
        "mttavg= []\n",
        "favg= []\n",
        "accuracyavg = []\n",
        "tpavg = []\n",
        "tnavg = []\n",
        "rocavg = []\n",
        "praucavg = []\n",
        "\n",
        "\n",
        "\n",
        "\n",
        "for x in range(100): \n",
        "  X_train, X_test, y_train, y_test = train_test_split(X, y, test_size=0.3,)\n",
        "  clf.fit(X_train, y_train)\n",
        "  #That's for the ranking, now we gotta do for the validation set and also for all the metrics\n",
        "  mttaverage = matthews_corrcoef(y_test, clf.predict(X_test))\n",
        "  mttavg.append(mttaverage)\n",
        "   #f1 score\n",
        "  faverage = f1_score(y_test, clf.predict(X_test))\n",
        "  favg.append(faverage)\n",
        "  #accuracy score\n",
        "  accuracyaverage = accuracy_score(y_test, clf.predict(X_test))\n",
        "  accuracyavg.append(accuracyaverage)\n",
        "  #TP and TN rate \n",
        "  tn, fp, fn, tp = confusion_matrix(y_test, clf.predict(X_test), labels =[0,1]).ravel()\n",
        "  tprate =  tp / (tp + fn)\n",
        "  tnrate = tn / (tn + fp)\n",
        "  tpavg.append(tprate)\n",
        "  tnavg.append(tnrate)\n",
        "  # ROC AUC \n",
        "  roc = roc_auc_score(y_test, clf.predict_proba(X_test)[:, 1])\n",
        "  rocavg.append(roc)\n",
        "  #Precision recall area under de curve\n",
        "  precision, recall, _thresholds = metrics.precision_recall_curve(y_test, clf.predict_proba(X_test)[:, 1])\n",
        "  prauc = metrics.auc(recall, precision)     \n",
        "  praucavg.append(prauc)\n",
        "\n",
        "\n",
        "mttavgmean = np.mean(np.array(mttavg))\n",
        "favgmean = np.mean(np.array(favg))\n",
        "accuracyavgmean = np.mean(np.array(accuracyavg))\n",
        "tpavgmean = np.mean(np.array(tpavg))\n",
        "tnavgmean = np.mean(np.array(tnavg))\n",
        "rocavgmean = np.mean(np.array(rocavg))\n",
        "praucavgmean = np.mean(np.array(praucavg))\n",
        "metricss = np.array([mttavgmean, favgmean, accuracyavgmean, tpavgmean, tnavgmean, rocavgmean, praucavgmean])\n",
        "metricss = metricss.reshape(1,7)\n",
        "metric_final = pd.DataFrame(data = metricss, columns = ['matthewscore', 'f1-score', 'Accuracy', 'True Positives', 'True Negatives', 'ROC AUC', 'PR AUC'])"
      ],
      "execution_count": 24,
      "outputs": []
    },
    {
      "cell_type": "code",
      "metadata": {
        "colab": {
          "base_uri": "https://localhost:8080/",
          "height": 81
        },
        "id": "gtI4hj-7CngA",
        "outputId": "de39f654-5e2d-4227-baa8-04b028aadd94"
      },
      "source": [
        "metric_final"
      ],
      "execution_count": 25,
      "outputs": [
        {
          "output_type": "execute_result",
          "data": {
            "text/html": [
              "<div>\n",
              "<style scoped>\n",
              "    .dataframe tbody tr th:only-of-type {\n",
              "        vertical-align: middle;\n",
              "    }\n",
              "\n",
              "    .dataframe tbody tr th {\n",
              "        vertical-align: top;\n",
              "    }\n",
              "\n",
              "    .dataframe thead th {\n",
              "        text-align: right;\n",
              "    }\n",
              "</style>\n",
              "<table border=\"1\" class=\"dataframe\">\n",
              "  <thead>\n",
              "    <tr style=\"text-align: right;\">\n",
              "      <th></th>\n",
              "      <th>matthewscore</th>\n",
              "      <th>f1-score</th>\n",
              "      <th>Accuracy</th>\n",
              "      <th>True Positives</th>\n",
              "      <th>True Negatives</th>\n",
              "      <th>ROC AUC</th>\n",
              "      <th>PR AUC</th>\n",
              "    </tr>\n",
              "  </thead>\n",
              "  <tbody>\n",
              "    <tr>\n",
              "      <th>0</th>\n",
              "      <td>0.056471</td>\n",
              "      <td>0.809418</td>\n",
              "      <td>0.695641</td>\n",
              "      <td>0.841867</td>\n",
              "      <td>0.208222</td>\n",
              "      <td>0.598024</td>\n",
              "      <td>0.833387</td>\n",
              "    </tr>\n",
              "  </tbody>\n",
              "</table>\n",
              "</div>"
            ],
            "text/plain": [
              "   matthewscore  f1-score  Accuracy  ...  True Negatives   ROC AUC    PR AUC\n",
              "0      0.056471  0.809418  0.695641  ...        0.208222  0.598024  0.833387\n",
              "\n",
              "[1 rows x 7 columns]"
            ]
          },
          "metadata": {
            "tags": []
          },
          "execution_count": 25
        }
      ]
    },
    {
      "cell_type": "markdown",
      "metadata": {
        "id": "uIWQnE7KDjvr"
      },
      "source": [
        "### XgBoost "
      ]
    },
    {
      "cell_type": "code",
      "metadata": {
        "id": "_F2rGT3dDmhO"
      },
      "source": [
        "xgb = xgb.XGBClassifier(random_state=42)"
      ],
      "execution_count": 30,
      "outputs": []
    },
    {
      "cell_type": "code",
      "metadata": {
        "id": "ib043wToDrPz"
      },
      "source": [
        "mttavg= []\n",
        "favg= []\n",
        "accuracyavg = []\n",
        "tpavg = []\n",
        "tnavg = []\n",
        "rocavg = []\n",
        "praucavg = []\n",
        "\n",
        "\n",
        "\n",
        "\n",
        "for x in range(100): \n",
        "  X_train, X_test, y_train, y_test = train_test_split(X, y, test_size=0.3)\n",
        "  xgb.fit(X_train, y_train)\n",
        "  #That's for the ranking, now we gotta do for the validation set and also for all the metrics\n",
        "  mttaverage = matthews_corrcoef(y_test,xgb.predict(X_test))\n",
        "  mttavg.append(mttaverage)\n",
        "   #f1 score\n",
        "  faverage = f1_score(y_test,xgb.predict(X_test))\n",
        "  favg.append(faverage)\n",
        "  #accuracy score\n",
        "  accuracyaverage = accuracy_score(y_test,xgb.predict(X_test))\n",
        "  accuracyavg.append(accuracyaverage)\n",
        "  #TP and TN rate \n",
        "  tn, fp, fn, tp = confusion_matrix(y_test,xgb.predict(X_test), labels =[0,1]).ravel()\n",
        "  tprate =  tp / (tp + fn)\n",
        "  tnrate = tn / (tn + fp)\n",
        "  tpavg.append(tprate)\n",
        "  tnavg.append(tnrate)\n",
        "  # ROC AUC \n",
        "  roc = roc_auc_score(y_test, xgb.predict_proba(X_test)[:, 1])\n",
        "  rocavg.append(roc)\n",
        "  #Precision recall area under de curve\n",
        "  precision, recall, _thresholds = metrics.precision_recall_curve(y_test, xgb.predict_proba(X_test)[:, 1])\n",
        "  prauc = metrics.auc(recall, precision)     \n",
        "  praucavg.append(prauc)\n",
        "\n",
        "  \n",
        "mttavgmean = np.mean(np.array(mttavg))\n",
        "favgmean = np.mean(np.array(favg))\n",
        "accuracyavgmean = np.mean(np.array(accuracyavg))\n",
        "tpavgmean = np.mean(np.array(tpavg))\n",
        "tnavgmean = np.mean(np.array(tnavg))\n",
        "rocavgmean = np.mean(np.array(rocavg))\n",
        "praucavgmean = np.mean(np.array(praucavg))\n",
        "metricss = np.array([mttavgmean, favgmean, accuracyavgmean, tpavgmean, tnavgmean, rocavgmean, praucavgmean])\n",
        "metricss = metricss.reshape(1,7)\n",
        "metric_final = pd.DataFrame(data = metricss, columns = ['matthewscore', 'f1-score', 'Accuracy', 'True Positive rate', 'True Negative rate', 'ROC AUC', 'PR AUC'])\n",
        "  "
      ],
      "execution_count": 31,
      "outputs": []
    },
    {
      "cell_type": "code",
      "metadata": {
        "colab": {
          "base_uri": "https://localhost:8080/",
          "height": 81
        },
        "id": "H-sV8y6ADuy7",
        "outputId": "48e609c1-3fbd-43f6-bb32-6a0ec9a4efa4"
      },
      "source": [
        "metric_final"
      ],
      "execution_count": 32,
      "outputs": [
        {
          "output_type": "execute_result",
          "data": {
            "text/html": [
              "<div>\n",
              "<style scoped>\n",
              "    .dataframe tbody tr th:only-of-type {\n",
              "        vertical-align: middle;\n",
              "    }\n",
              "\n",
              "    .dataframe tbody tr th {\n",
              "        vertical-align: top;\n",
              "    }\n",
              "\n",
              "    .dataframe thead th {\n",
              "        text-align: right;\n",
              "    }\n",
              "</style>\n",
              "<table border=\"1\" class=\"dataframe\">\n",
              "  <thead>\n",
              "    <tr style=\"text-align: right;\">\n",
              "      <th></th>\n",
              "      <th>matthewscore</th>\n",
              "      <th>f1-score</th>\n",
              "      <th>Accuracy</th>\n",
              "      <th>True Positive rate</th>\n",
              "      <th>True Negative rate</th>\n",
              "      <th>ROC AUC</th>\n",
              "      <th>PR AUC</th>\n",
              "    </tr>\n",
              "  </thead>\n",
              "  <tbody>\n",
              "    <tr>\n",
              "      <th>0</th>\n",
              "      <td>0.071818</td>\n",
              "      <td>0.84845</td>\n",
              "      <td>0.743846</td>\n",
              "      <td>0.93497</td>\n",
              "      <td>0.110531</td>\n",
              "      <td>0.634671</td>\n",
              "      <td>0.851623</td>\n",
              "    </tr>\n",
              "  </tbody>\n",
              "</table>\n",
              "</div>"
            ],
            "text/plain": [
              "   matthewscore  f1-score  Accuracy  ...  True Negative rate   ROC AUC    PR AUC\n",
              "0      0.071818   0.84845  0.743846  ...            0.110531  0.634671  0.851623\n",
              "\n",
              "[1 rows x 7 columns]"
            ]
          },
          "metadata": {
            "tags": []
          },
          "execution_count": 32
        }
      ]
    },
    {
      "cell_type": "code",
      "metadata": {
        "id": "BYmKAqgbDvvy"
      },
      "source": [
        ""
      ],
      "execution_count": null,
      "outputs": []
    },
    {
      "cell_type": "markdown",
      "metadata": {
        "id": "uHZa0qG_EpQY"
      },
      "source": [
        "### KNN"
      ]
    },
    {
      "cell_type": "code",
      "metadata": {
        "id": "qQUwLkSCEp2-"
      },
      "source": [
        "knn = KNeighborsClassifier()"
      ],
      "execution_count": 33,
      "outputs": []
    },
    {
      "cell_type": "code",
      "metadata": {
        "id": "ZWe6TLqjEu1S"
      },
      "source": [
        "mttavg= []\n",
        "favg= []\n",
        "accuracyavg = []\n",
        "tpavg = []\n",
        "tnavg = []\n",
        "rocavg = []\n",
        "praucavg = []\n",
        "\n",
        "\n",
        "\n",
        "\n",
        "for x in range(100): \n",
        "  X_train, X_test, y_train, y_test = train_test_split(X, y, test_size=0.3)\n",
        "  knn.fit(X_train, y_train)\n",
        "  #That's for the ranking, now we gotta do for the validation set and also for all the metrics\n",
        "  mttaverage = matthews_corrcoef(y_test,knn.predict(X_test))\n",
        "  mttavg.append(mttaverage)\n",
        "   #f1 score\n",
        "  faverage = f1_score(y_test,knn.predict(X_test))\n",
        "  favg.append(faverage)\n",
        "  #accuracy score\n",
        "  accuracyaverage = accuracy_score(y_test,knn.predict(X_test))\n",
        "  accuracyavg.append(accuracyaverage)\n",
        "  #TP and TN rate \n",
        "  tn, fp, fn, tp = confusion_matrix(y_test,knn.predict(X_test), labels =[0,1]).ravel()\n",
        "  tprate =  tp / (tp + fn)\n",
        "  tnrate = tn / (tn + fp)\n",
        "  tpavg.append(tprate)\n",
        "  tnavg.append(tnrate)\n",
        "  # ROC AUC \n",
        "  roc = roc_auc_score(y_test, knn.predict_proba(X_test)[:, 1])\n",
        "  rocavg.append(roc)\n",
        "  #Precision recall area under de curve\n",
        "  precision, recall, _thresholds = metrics.precision_recall_curve(y_test, knn.predict_proba(X_test)[:, 1])\n",
        "  prauc = metrics.auc(recall, precision)     \n",
        "  praucavg.append(prauc)\n",
        "\n",
        "mttavgmean = np.mean(np.array(mttavg))\n",
        "favgmean = np.mean(np.array(favg))\n",
        "accuracyavgmean = np.mean(np.array(accuracyavg))\n",
        "tpavgmean = np.mean(np.array(tpavg))\n",
        "tnavgmean = np.mean(np.array(tnavg))\n",
        "rocavgmean = np.mean(np.array(rocavg))\n",
        "praucavgmean = np.mean(np.array(praucavg))\n",
        "metricss = np.array([mttavgmean, favgmean, accuracyavgmean, tpavgmean, tnavgmean, rocavgmean, praucavgmean])\n",
        "metricss = metricss.reshape(1,7)\n",
        "knn_metric_final = pd.DataFrame(data = metricss, columns = ['matthewscore', 'f1-score', 'Accuracy', 'True Positive rate', 'True Negative rate', 'ROC AUC', 'PR AUC'])"
      ],
      "execution_count": 34,
      "outputs": []
    },
    {
      "cell_type": "code",
      "metadata": {
        "colab": {
          "base_uri": "https://localhost:8080/",
          "height": 81
        },
        "id": "-20P_JOxEvLz",
        "outputId": "3b6cf8fd-74b1-45c8-981f-01fe4ba2a757"
      },
      "source": [
        "knn_metric_final"
      ],
      "execution_count": 35,
      "outputs": [
        {
          "output_type": "execute_result",
          "data": {
            "text/html": [
              "<div>\n",
              "<style scoped>\n",
              "    .dataframe tbody tr th:only-of-type {\n",
              "        vertical-align: middle;\n",
              "    }\n",
              "\n",
              "    .dataframe tbody tr th {\n",
              "        vertical-align: top;\n",
              "    }\n",
              "\n",
              "    .dataframe thead th {\n",
              "        text-align: right;\n",
              "    }\n",
              "</style>\n",
              "<table border=\"1\" class=\"dataframe\">\n",
              "  <thead>\n",
              "    <tr style=\"text-align: right;\">\n",
              "      <th></th>\n",
              "      <th>matthewscore</th>\n",
              "      <th>f1-score</th>\n",
              "      <th>Accuracy</th>\n",
              "      <th>True Positive rate</th>\n",
              "      <th>True Negative rate</th>\n",
              "      <th>ROC AUC</th>\n",
              "      <th>PR AUC</th>\n",
              "    </tr>\n",
              "  </thead>\n",
              "  <tbody>\n",
              "    <tr>\n",
              "      <th>0</th>\n",
              "      <td>0.056395</td>\n",
              "      <td>0.833661</td>\n",
              "      <td>0.72441</td>\n",
              "      <td>0.897975</td>\n",
              "      <td>0.145621</td>\n",
              "      <td>0.592646</td>\n",
              "      <td>0.851016</td>\n",
              "    </tr>\n",
              "  </tbody>\n",
              "</table>\n",
              "</div>"
            ],
            "text/plain": [
              "   matthewscore  f1-score  Accuracy  ...  True Negative rate   ROC AUC    PR AUC\n",
              "0      0.056395  0.833661   0.72441  ...            0.145621  0.592646  0.851016\n",
              "\n",
              "[1 rows x 7 columns]"
            ]
          },
          "metadata": {
            "tags": []
          },
          "execution_count": 35
        }
      ]
    },
    {
      "cell_type": "markdown",
      "metadata": {
        "id": "YgEZt6nTF2ff"
      },
      "source": [
        "### Bagging Forest Balanced from Imbalanced learn"
      ]
    },
    {
      "cell_type": "code",
      "metadata": {
        "id": "ckM__J53GRN7"
      },
      "source": [
        ""
      ],
      "execution_count": null,
      "outputs": []
    },
    {
      "cell_type": "code",
      "metadata": {
        "id": "o-Rhh5ArF6cP"
      },
      "source": [
        "from imblearn.ensemble import BalancedBaggingClassifier\n",
        "bbc = BalancedBaggingClassifier(n_estimators=100, random_state=0)\n"
      ],
      "execution_count": 37,
      "outputs": []
    },
    {
      "cell_type": "code",
      "metadata": {
        "id": "L-vsdrLTGDpq"
      },
      "source": [
        "mttavg= []\n",
        "favg= []\n",
        "accuracyavg = []\n",
        "tpavg = []\n",
        "tnavg = []\n",
        "rocavg = []\n",
        "praucavg = []\n",
        "\n",
        "\n",
        "\n",
        "\n",
        "for x in range(100): \n",
        "  X_train, X_test, y_train, y_test = train_test_split(X, y, test_size=0.3,)\n",
        "  bbc.fit(X_train, y_train)\n",
        "  #That's for the ranking, now we gotta do for the validation set and also for all the metrics\n",
        "  mttaverage = matthews_corrcoef(y_test, bbc.predict(X_test))\n",
        "  mttavg.append(mttaverage)\n",
        "   #f1 score\n",
        "  faverage = f1_score(y_test, bbc.predict(X_test))\n",
        "  favg.append(faverage)\n",
        "  #accuracy score\n",
        "  accuracyaverage = accuracy_score(y_test, bbc.predict(X_test))\n",
        "  accuracyavg.append(accuracyaverage)\n",
        "  #TP and TN rate \n",
        "  tn, fp, fn, tp = confusion_matrix(y_test, bbc.predict(X_test), labels =[0,1]).ravel()\n",
        "  tprate =  tp / (tp + fn)\n",
        "  tnrate = tn / (tn + fp)\n",
        "  tpavg.append(tprate)\n",
        "  tnavg.append(tnrate)\n",
        "  # ROC AUC \n",
        "  roc = roc_auc_score(y_test, bbc.predict_proba(X_test)[:, 1])\n",
        "  rocavg.append(roc)\n",
        "  #Precision recall area under de curve\n",
        "  precision, recall, _thresholds = metrics.precision_recall_curve(y_test, bbc.predict_proba(X_test)[:, 1])\n",
        "  prauc = metrics.auc(recall, precision)     \n",
        "  praucavg.append(prauc)\n",
        "\n",
        "\n",
        "mttavgmean = np.mean(np.array(mttavg))\n",
        "favgmean = np.mean(np.array(favg))\n",
        "accuracyavgmean = np.mean(np.array(accuracyavg))\n",
        "tpavgmean = np.mean(np.array(tpavg))\n",
        "tnavgmean = np.mean(np.array(tnavg))\n",
        "rocavgmean = np.mean(np.array(rocavg))\n",
        "praucavgmean = np.mean(np.array(praucavg))\n",
        "metricss = np.array([mttavgmean, favgmean, accuracyavgmean, tpavgmean, tnavgmean, rocavgmean, praucavgmean])\n",
        "metricss = metricss.reshape(1,7)\n",
        "metric_final = pd.DataFrame(data = metricss, columns = ['matthewscore', 'f1-score', 'Accuracy', 'True Positives', 'True Negatives', 'ROC AUC', 'PR AUC'])"
      ],
      "execution_count": null,
      "outputs": []
    },
    {
      "cell_type": "code",
      "metadata": {
        "colab": {
          "base_uri": "https://localhost:8080/",
          "height": 81
        },
        "id": "9h16Z6coHRlj",
        "outputId": "c29d424d-f83f-473f-a429-37dc3d4e8fc5"
      },
      "source": [
        "metric_final"
      ],
      "execution_count": 39,
      "outputs": [
        {
          "output_type": "execute_result",
          "data": {
            "text/html": [
              "<div>\n",
              "<style scoped>\n",
              "    .dataframe tbody tr th:only-of-type {\n",
              "        vertical-align: middle;\n",
              "    }\n",
              "\n",
              "    .dataframe tbody tr th {\n",
              "        vertical-align: top;\n",
              "    }\n",
              "\n",
              "    .dataframe thead th {\n",
              "        text-align: right;\n",
              "    }\n",
              "</style>\n",
              "<table border=\"1\" class=\"dataframe\">\n",
              "  <thead>\n",
              "    <tr style=\"text-align: right;\">\n",
              "      <th></th>\n",
              "      <th>matthewscore</th>\n",
              "      <th>f1-score</th>\n",
              "      <th>Accuracy</th>\n",
              "      <th>True Positives</th>\n",
              "      <th>True Negatives</th>\n",
              "      <th>ROC AUC</th>\n",
              "      <th>PR AUC</th>\n",
              "    </tr>\n",
              "  </thead>\n",
              "  <tbody>\n",
              "    <tr>\n",
              "      <th>0</th>\n",
              "      <td>0.133561</td>\n",
              "      <td>0.726768</td>\n",
              "      <td>0.620615</td>\n",
              "      <td>0.658217</td>\n",
              "      <td>0.494993</td>\n",
              "      <td>0.616977</td>\n",
              "      <td>0.842339</td>\n",
              "    </tr>\n",
              "  </tbody>\n",
              "</table>\n",
              "</div>"
            ],
            "text/plain": [
              "   matthewscore  f1-score  Accuracy  ...  True Negatives   ROC AUC    PR AUC\n",
              "0      0.133561  0.726768  0.620615  ...        0.494993  0.616977  0.842339\n",
              "\n",
              "[1 rows x 7 columns]"
            ]
          },
          "metadata": {
            "tags": []
          },
          "execution_count": 39
        }
      ]
    },
    {
      "cell_type": "code",
      "metadata": {
        "id": "JzSzfCZRHSbs"
      },
      "source": [
        ""
      ],
      "execution_count": null,
      "outputs": []
    },
    {
      "cell_type": "markdown",
      "metadata": {
        "id": "M09RGUWOHmiL"
      },
      "source": [
        "## RFE with Matthew score as ranking system - Without Pogression \n"
      ]
    },
    {
      "cell_type": "code",
      "metadata": {
        "id": "mXcsEuzxHnKO"
      },
      "source": [
        "import RFE_Glioblastomav2 as rfe\n",
        "clf = RandomForestClassifier(random_state=0)"
      ],
      "execution_count": 40,
      "outputs": []
    },
    {
      "cell_type": "code",
      "metadata": {
        "id": "l5TraHumHsm1"
      },
      "source": [
        "ranking = rfe.RankingRE(X, y, 100, clf)"
      ],
      "execution_count": 41,
      "outputs": []
    },
    {
      "cell_type": "code",
      "metadata": {
        "id": "kOroSMQkHwvi"
      },
      "source": [
        "rank, metrics_all_features, metrics_top2_features = ranking.ranking_by_matthew_punishment()"
      ],
      "execution_count": 42,
      "outputs": []
    },
    {
      "cell_type": "code",
      "metadata": {
        "colab": {
          "base_uri": "https://localhost:8080/",
          "height": 205
        },
        "id": "DGW215s3Hxhn",
        "outputId": "0628b266-9bc2-49cb-f5bb-f84f8dbd830c"
      },
      "source": [
        "rank"
      ],
      "execution_count": 43,
      "outputs": [
        {
          "output_type": "execute_result",
          "data": {
            "text/html": [
              "<div>\n",
              "<style scoped>\n",
              "    .dataframe tbody tr th:only-of-type {\n",
              "        vertical-align: middle;\n",
              "    }\n",
              "\n",
              "    .dataframe tbody tr th {\n",
              "        vertical-align: top;\n",
              "    }\n",
              "\n",
              "    .dataframe thead th {\n",
              "        text-align: right;\n",
              "    }\n",
              "</style>\n",
              "<table border=\"1\" class=\"dataframe\">\n",
              "  <thead>\n",
              "    <tr style=\"text-align: right;\">\n",
              "      <th></th>\n",
              "      <th>Categories</th>\n",
              "      <th>average-mtt-punishment</th>\n",
              "      <th>ranking</th>\n",
              "      <th>SD_of_matt_punishment</th>\n",
              "    </tr>\n",
              "  </thead>\n",
              "  <tbody>\n",
              "    <tr>\n",
              "      <th>0</th>\n",
              "      <td>age</td>\n",
              "      <td>0.056889501554919404</td>\n",
              "      <td>1.0</td>\n",
              "      <td>0.0908661164323985</td>\n",
              "    </tr>\n",
              "    <tr>\n",
              "      <th>3</th>\n",
              "      <td>adjuvant_treatment</td>\n",
              "      <td>0.03260283718506046</td>\n",
              "      <td>2.0</td>\n",
              "      <td>0.05660381167501167</td>\n",
              "    </tr>\n",
              "    <tr>\n",
              "      <th>2</th>\n",
              "      <td>KPS</td>\n",
              "      <td>0.011776906784822056</td>\n",
              "      <td>3.0</td>\n",
              "      <td>0.040148147912240854</td>\n",
              "    </tr>\n",
              "    <tr>\n",
              "      <th>1</th>\n",
              "      <td>biopsy_debulking</td>\n",
              "      <td>0.010252407082233335</td>\n",
              "      <td>4.0</td>\n",
              "      <td>0.052332716360165586</td>\n",
              "    </tr>\n",
              "    <tr>\n",
              "      <th>4</th>\n",
              "      <td>SVZ status</td>\n",
              "      <td>-0.0109530061416281</td>\n",
              "      <td>5.0</td>\n",
              "      <td>0.06770415236698024</td>\n",
              "    </tr>\n",
              "  </tbody>\n",
              "</table>\n",
              "</div>"
            ],
            "text/plain": [
              "           Categories average-mtt-punishment  ranking SD_of_matt_punishment\n",
              "0                 age   0.056889501554919404      1.0    0.0908661164323985\n",
              "3  adjuvant_treatment    0.03260283718506046      2.0   0.05660381167501167\n",
              "2                 KPS   0.011776906784822056      3.0  0.040148147912240854\n",
              "1    biopsy_debulking   0.010252407082233335      4.0  0.052332716360165586\n",
              "4          SVZ status    -0.0109530061416281      5.0   0.06770415236698024"
            ]
          },
          "metadata": {
            "tags": []
          },
          "execution_count": 43
        }
      ]
    },
    {
      "cell_type": "code",
      "metadata": {
        "colab": {
          "base_uri": "https://localhost:8080/",
          "height": 81
        },
        "id": "jrb1pHFRIfOW",
        "outputId": "0abff9d2-fd02-41e8-ee1b-8c9a3c1fb342"
      },
      "source": [
        "metrics_all_features"
      ],
      "execution_count": 44,
      "outputs": [
        {
          "output_type": "execute_result",
          "data": {
            "text/html": [
              "<div>\n",
              "<style scoped>\n",
              "    .dataframe tbody tr th:only-of-type {\n",
              "        vertical-align: middle;\n",
              "    }\n",
              "\n",
              "    .dataframe tbody tr th {\n",
              "        vertical-align: top;\n",
              "    }\n",
              "\n",
              "    .dataframe thead th {\n",
              "        text-align: right;\n",
              "    }\n",
              "</style>\n",
              "<table border=\"1\" class=\"dataframe\">\n",
              "  <thead>\n",
              "    <tr style=\"text-align: right;\">\n",
              "      <th></th>\n",
              "      <th>matthewscore</th>\n",
              "      <th>f1-score</th>\n",
              "      <th>Accuracy</th>\n",
              "      <th>True Positives</th>\n",
              "      <th>True Negatives</th>\n",
              "      <th>ROC AUC</th>\n",
              "      <th>PR AUC</th>\n",
              "    </tr>\n",
              "  </thead>\n",
              "  <tbody>\n",
              "    <tr>\n",
              "      <th>0</th>\n",
              "      <td>0.087761</td>\n",
              "      <td>0.816002</td>\n",
              "      <td>0.705981</td>\n",
              "      <td>0.849494</td>\n",
              "      <td>0.230008</td>\n",
              "      <td>0.586614</td>\n",
              "      <td>0.82248</td>\n",
              "    </tr>\n",
              "  </tbody>\n",
              "</table>\n",
              "</div>"
            ],
            "text/plain": [
              "   matthewscore  f1-score  Accuracy  ...  True Negatives   ROC AUC   PR AUC\n",
              "0      0.087761  0.816002  0.705981  ...        0.230008  0.586614  0.82248\n",
              "\n",
              "[1 rows x 7 columns]"
            ]
          },
          "metadata": {
            "tags": []
          },
          "execution_count": 44
        }
      ]
    },
    {
      "cell_type": "markdown",
      "metadata": {
        "id": "a8OssOOfJzde"
      },
      "source": [
        "### RFE with balanced bagging trees"
      ]
    },
    {
      "cell_type": "code",
      "metadata": {
        "id": "jLDuiJAIJ2AG"
      },
      "source": [
        "bbc = BalancedBaggingClassifier(n_estimators=100, random_state=0)\n"
      ],
      "execution_count": 45,
      "outputs": []
    },
    {
      "cell_type": "code",
      "metadata": {
        "id": "-ds93GfEJ-h1"
      },
      "source": [
        "ranking_balanced = rfe.RankingRE(X, y, 100, bbc)"
      ],
      "execution_count": 46,
      "outputs": []
    },
    {
      "cell_type": "code",
      "metadata": {
        "id": "_pfirYagKFPl"
      },
      "source": [
        "rank, metrics_all_features, metrics_top2_features = ranking_balanced.ranking_by_matthew_punishment()"
      ],
      "execution_count": null,
      "outputs": []
    },
    {
      "cell_type": "code",
      "metadata": {
        "colab": {
          "base_uri": "https://localhost:8080/",
          "height": 205
        },
        "id": "-s53HxGsKJzt",
        "outputId": "87a1ab83-2aa0-470b-c7d8-129f6356dd7f"
      },
      "source": [
        "rank"
      ],
      "execution_count": 48,
      "outputs": [
        {
          "output_type": "execute_result",
          "data": {
            "text/html": [
              "<div>\n",
              "<style scoped>\n",
              "    .dataframe tbody tr th:only-of-type {\n",
              "        vertical-align: middle;\n",
              "    }\n",
              "\n",
              "    .dataframe tbody tr th {\n",
              "        vertical-align: top;\n",
              "    }\n",
              "\n",
              "    .dataframe thead th {\n",
              "        text-align: right;\n",
              "    }\n",
              "</style>\n",
              "<table border=\"1\" class=\"dataframe\">\n",
              "  <thead>\n",
              "    <tr style=\"text-align: right;\">\n",
              "      <th></th>\n",
              "      <th>Categories</th>\n",
              "      <th>average-mtt-punishment</th>\n",
              "      <th>ranking</th>\n",
              "      <th>SD_of_matt_punishment</th>\n",
              "    </tr>\n",
              "  </thead>\n",
              "  <tbody>\n",
              "    <tr>\n",
              "      <th>3</th>\n",
              "      <td>adjuvant_treatment</td>\n",
              "      <td>0.038408325486875325</td>\n",
              "      <td>1.0</td>\n",
              "      <td>0.050013625403574326</td>\n",
              "    </tr>\n",
              "    <tr>\n",
              "      <th>1</th>\n",
              "      <td>biopsy_debulking</td>\n",
              "      <td>0.015502869568245783</td>\n",
              "      <td>2.0</td>\n",
              "      <td>0.04138271650795975</td>\n",
              "    </tr>\n",
              "    <tr>\n",
              "      <th>2</th>\n",
              "      <td>KPS</td>\n",
              "      <td>0.008825222898620444</td>\n",
              "      <td>3.0</td>\n",
              "      <td>0.03875298884654419</td>\n",
              "    </tr>\n",
              "    <tr>\n",
              "      <th>4</th>\n",
              "      <td>SVZ status</td>\n",
              "      <td>0.004053912340226398</td>\n",
              "      <td>4.0</td>\n",
              "      <td>0.05434686809419818</td>\n",
              "    </tr>\n",
              "    <tr>\n",
              "      <th>0</th>\n",
              "      <td>age</td>\n",
              "      <td>-0.07407705114369625</td>\n",
              "      <td>5.0</td>\n",
              "      <td>0.07626157739329288</td>\n",
              "    </tr>\n",
              "  </tbody>\n",
              "</table>\n",
              "</div>"
            ],
            "text/plain": [
              "           Categories average-mtt-punishment  ranking SD_of_matt_punishment\n",
              "3  adjuvant_treatment   0.038408325486875325      1.0  0.050013625403574326\n",
              "1    biopsy_debulking   0.015502869568245783      2.0   0.04138271650795975\n",
              "2                 KPS   0.008825222898620444      3.0   0.03875298884654419\n",
              "4          SVZ status   0.004053912340226398      4.0   0.05434686809419818\n",
              "0                 age   -0.07407705114369625      5.0   0.07626157739329288"
            ]
          },
          "metadata": {
            "tags": []
          },
          "execution_count": 48
        }
      ]
    },
    {
      "cell_type": "code",
      "metadata": {
        "colab": {
          "base_uri": "https://localhost:8080/",
          "height": 81
        },
        "id": "vT538ZqTLUOb",
        "outputId": "9804934c-89d4-48ab-81f0-102065e5328c"
      },
      "source": [
        "metrics_all_features"
      ],
      "execution_count": 49,
      "outputs": [
        {
          "output_type": "execute_result",
          "data": {
            "text/html": [
              "<div>\n",
              "<style scoped>\n",
              "    .dataframe tbody tr th:only-of-type {\n",
              "        vertical-align: middle;\n",
              "    }\n",
              "\n",
              "    .dataframe tbody tr th {\n",
              "        vertical-align: top;\n",
              "    }\n",
              "\n",
              "    .dataframe thead th {\n",
              "        text-align: right;\n",
              "    }\n",
              "</style>\n",
              "<table border=\"1\" class=\"dataframe\">\n",
              "  <thead>\n",
              "    <tr style=\"text-align: right;\">\n",
              "      <th></th>\n",
              "      <th>matthewscore</th>\n",
              "      <th>f1-score</th>\n",
              "      <th>Accuracy</th>\n",
              "      <th>True Positives</th>\n",
              "      <th>True Negatives</th>\n",
              "      <th>ROC AUC</th>\n",
              "      <th>PR AUC</th>\n",
              "    </tr>\n",
              "  </thead>\n",
              "  <tbody>\n",
              "    <tr>\n",
              "      <th>0</th>\n",
              "      <td>0.132211</td>\n",
              "      <td>0.737195</td>\n",
              "      <td>0.630467</td>\n",
              "      <td>0.678506</td>\n",
              "      <td>0.471633</td>\n",
              "      <td>0.604075</td>\n",
              "      <td>0.826999</td>\n",
              "    </tr>\n",
              "  </tbody>\n",
              "</table>\n",
              "</div>"
            ],
            "text/plain": [
              "   matthewscore  f1-score  Accuracy  ...  True Negatives   ROC AUC    PR AUC\n",
              "0      0.132211  0.737195  0.630467  ...        0.471633  0.604075  0.826999\n",
              "\n",
              "[1 rows x 7 columns]"
            ]
          },
          "metadata": {
            "tags": []
          },
          "execution_count": 49
        }
      ]
    },
    {
      "cell_type": "markdown",
      "metadata": {
        "id": "cli0fpfsLoiH"
      },
      "source": [
        "### Top 2 features classification balanced *bagged* Trees"
      ]
    },
    {
      "cell_type": "code",
      "metadata": {
        "id": "-Ly8os8LL0Mk"
      },
      "source": [
        "bbc = BalancedBaggingClassifier(n_estimators=100, random_state=0)\n"
      ],
      "execution_count": 50,
      "outputs": []
    },
    {
      "cell_type": "code",
      "metadata": {
        "id": "ra73lyVCLsgH"
      },
      "source": [
        "X = data[['adjuvant_treatment', 'biopsy_debulking']]\n",
        "y = data['death']"
      ],
      "execution_count": 52,
      "outputs": []
    },
    {
      "cell_type": "code",
      "metadata": {
        "id": "NO3WOycKLrHy"
      },
      "source": [
        "mttavg= []\n",
        "favg= []\n",
        "accuracyavg = []\n",
        "tpavg = []\n",
        "tnavg = []\n",
        "rocavg = []\n",
        "praucavg = []\n",
        "\n",
        "\n",
        "\n",
        "\n",
        "for x in range(100): \n",
        "  X_train, X_test, y_train, y_test = train_test_split(X, y, test_size=0.3,)\n",
        "  bbc.fit(X_train, y_train)\n",
        "  #That's for the ranking, now we gotta do for the validation set and also for all the metrics\n",
        "  mttaverage = matthews_corrcoef(y_test, bbc.predict(X_test))\n",
        "  mttavg.append(mttaverage)\n",
        "   #f1 score\n",
        "  faverage = f1_score(y_test, bbc.predict(X_test))\n",
        "  favg.append(faverage)\n",
        "  #accuracy score\n",
        "  accuracyaverage = accuracy_score(y_test, bbc.predict(X_test))\n",
        "  accuracyavg.append(accuracyaverage)\n",
        "  #TP and TN rate \n",
        "  tn, fp, fn, tp = confusion_matrix(y_test, bbc.predict(X_test), labels =[0,1]).ravel()\n",
        "  tprate =  tp / (tp + fn)\n",
        "  tnrate = tn / (tn + fp)\n",
        "  tpavg.append(tprate)\n",
        "  tnavg.append(tnrate)\n",
        "  # ROC AUC \n",
        "  roc = roc_auc_score(y_test, bbc.predict_proba(X_test)[:, 1])\n",
        "  rocavg.append(roc)\n",
        "  #Precision recall area under de curve\n",
        "  precision, recall, _thresholds = metrics.precision_recall_curve(y_test, bbc.predict_proba(X_test)[:, 1])\n",
        "  prauc = metrics.auc(recall, precision)     \n",
        "  praucavg.append(prauc)\n",
        "\n",
        "\n",
        "mttavgmean = np.mean(np.array(mttavg))\n",
        "favgmean = np.mean(np.array(favg))\n",
        "accuracyavgmean = np.mean(np.array(accuracyavg))\n",
        "tpavgmean = np.mean(np.array(tpavg))\n",
        "tnavgmean = np.mean(np.array(tnavg))\n",
        "rocavgmean = np.mean(np.array(rocavg))\n",
        "praucavgmean = np.mean(np.array(praucavg))\n",
        "metricss = np.array([mttavgmean, favgmean, accuracyavgmean, tpavgmean, tnavgmean, rocavgmean, praucavgmean])\n",
        "metricss = metricss.reshape(1,7)\n",
        "metric_final = pd.DataFrame(data = metricss, columns = ['matthewscore', 'f1-score', 'Accuracy', 'True Positives', 'True Negatives', 'ROC AUC', 'PR AUC'])"
      ],
      "execution_count": null,
      "outputs": []
    },
    {
      "cell_type": "code",
      "metadata": {
        "colab": {
          "base_uri": "https://localhost:8080/",
          "height": 81
        },
        "id": "IAdp67hkMc_-",
        "outputId": "02872392-cc72-48f9-df2f-2c908c864dd1"
      },
      "source": [
        "metric_final"
      ],
      "execution_count": 55,
      "outputs": [
        {
          "output_type": "execute_result",
          "data": {
            "text/html": [
              "<div>\n",
              "<style scoped>\n",
              "    .dataframe tbody tr th:only-of-type {\n",
              "        vertical-align: middle;\n",
              "    }\n",
              "\n",
              "    .dataframe tbody tr th {\n",
              "        vertical-align: top;\n",
              "    }\n",
              "\n",
              "    .dataframe thead th {\n",
              "        text-align: right;\n",
              "    }\n",
              "</style>\n",
              "<table border=\"1\" class=\"dataframe\">\n",
              "  <thead>\n",
              "    <tr style=\"text-align: right;\">\n",
              "      <th></th>\n",
              "      <th>matthewscore</th>\n",
              "      <th>f1-score</th>\n",
              "      <th>Accuracy</th>\n",
              "      <th>True Positives</th>\n",
              "      <th>True Negatives</th>\n",
              "      <th>ROC AUC</th>\n",
              "      <th>PR AUC</th>\n",
              "    </tr>\n",
              "  </thead>\n",
              "  <tbody>\n",
              "    <tr>\n",
              "      <th>0</th>\n",
              "      <td>0.242892</td>\n",
              "      <td>0.720032</td>\n",
              "      <td>0.631333</td>\n",
              "      <td>0.620963</td>\n",
              "      <td>0.664539</td>\n",
              "      <td>0.666665</td>\n",
              "      <td>0.870869</td>\n",
              "    </tr>\n",
              "  </tbody>\n",
              "</table>\n",
              "</div>"
            ],
            "text/plain": [
              "   matthewscore  f1-score  Accuracy  ...  True Negatives   ROC AUC    PR AUC\n",
              "0      0.242892  0.720032  0.631333  ...        0.664539  0.666665  0.870869\n",
              "\n",
              "[1 rows x 7 columns]"
            ]
          },
          "metadata": {
            "tags": []
          },
          "execution_count": 55
        }
      ]
    },
    {
      "cell_type": "markdown",
      "metadata": {
        "id": "L7sAdigHMmfA"
      },
      "source": [
        "### Top 2 features classification random forest\n"
      ]
    },
    {
      "cell_type": "code",
      "metadata": {
        "id": "cyqOTCcJMfRf"
      },
      "source": [
        "clf = RandomForestClassifier(random_state=0)"
      ],
      "execution_count": 56,
      "outputs": []
    },
    {
      "cell_type": "code",
      "metadata": {
        "id": "g-CYWDCnMwox"
      },
      "source": [
        "X = data[['adjuvant_treatment', 'age']]\n",
        "y = data['death']"
      ],
      "execution_count": 57,
      "outputs": []
    },
    {
      "cell_type": "code",
      "metadata": {
        "id": "TMiwXZwSM0QC"
      },
      "source": [
        "mttavg= []\n",
        "favg= []\n",
        "accuracyavg = []\n",
        "tpavg = []\n",
        "tnavg = []\n",
        "rocavg = []\n",
        "praucavg = []\n",
        "\n",
        "\n",
        "\n",
        "\n",
        "for x in range(100): \n",
        "  X_train, X_test, y_train, y_test = train_test_split(X, y, test_size=0.3,)\n",
        "  bbc.fit(X_train, y_train)\n",
        "  #That's for the ranking, now we gotta do for the validation set and also for all the metrics\n",
        "  mttaverage = matthews_corrcoef(y_test, bbc.predict(X_test))\n",
        "  mttavg.append(mttaverage)\n",
        "   #f1 score\n",
        "  faverage = f1_score(y_test, bbc.predict(X_test))\n",
        "  favg.append(faverage)\n",
        "  #accuracy score\n",
        "  accuracyaverage = accuracy_score(y_test, bbc.predict(X_test))\n",
        "  accuracyavg.append(accuracyaverage)\n",
        "  #TP and TN rate \n",
        "  tn, fp, fn, tp = confusion_matrix(y_test, bbc.predict(X_test), labels =[0,1]).ravel()\n",
        "  tprate =  tp / (tp + fn)\n",
        "  tnrate = tn / (tn + fp)\n",
        "  tpavg.append(tprate)\n",
        "  tnavg.append(tnrate)\n",
        "  # ROC AUC \n",
        "  roc = roc_auc_score(y_test, bbc.predict_proba(X_test)[:, 1])\n",
        "  rocavg.append(roc)\n",
        "  #Precision recall area under de curve\n",
        "  precision, recall, _thresholds = metrics.precision_recall_curve(y_test, bbc.predict_proba(X_test)[:, 1])\n",
        "  prauc = metrics.auc(recall, precision)     \n",
        "  praucavg.append(prauc)\n",
        "\n",
        "\n",
        "mttavgmean = np.mean(np.array(mttavg))\n",
        "favgmean = np.mean(np.array(favg))\n",
        "accuracyavgmean = np.mean(np.array(accuracyavg))\n",
        "tpavgmean = np.mean(np.array(tpavg))\n",
        "tnavgmean = np.mean(np.array(tnavg))\n",
        "rocavgmean = np.mean(np.array(rocavg))\n",
        "praucavgmean = np.mean(np.array(praucavg))\n",
        "metricss = np.array([mttavgmean, favgmean, accuracyavgmean, tpavgmean, tnavgmean, rocavgmean, praucavgmean])\n",
        "metricss = metricss.reshape(1,7)\n",
        "metric_final = pd.DataFrame(data = metricss, columns = ['matthewscore', 'f1-score', 'Accuracy', 'True Positives', 'True Negatives', 'ROC AUC', 'PR AUC'])"
      ],
      "execution_count": null,
      "outputs": []
    },
    {
      "cell_type": "code",
      "metadata": {
        "id": "r6sLfo66NRI4",
        "outputId": "da884265-5403-4f87-ae36-6d10155128df",
        "colab": {
          "base_uri": "https://localhost:8080/",
          "height": 81
        }
      },
      "source": [
        "metric_final"
      ],
      "execution_count": 59,
      "outputs": [
        {
          "output_type": "execute_result",
          "data": {
            "text/html": [
              "<div>\n",
              "<style scoped>\n",
              "    .dataframe tbody tr th:only-of-type {\n",
              "        vertical-align: middle;\n",
              "    }\n",
              "\n",
              "    .dataframe tbody tr th {\n",
              "        vertical-align: top;\n",
              "    }\n",
              "\n",
              "    .dataframe thead th {\n",
              "        text-align: right;\n",
              "    }\n",
              "</style>\n",
              "<table border=\"1\" class=\"dataframe\">\n",
              "  <thead>\n",
              "    <tr style=\"text-align: right;\">\n",
              "      <th></th>\n",
              "      <th>matthewscore</th>\n",
              "      <th>f1-score</th>\n",
              "      <th>Accuracy</th>\n",
              "      <th>True Positives</th>\n",
              "      <th>True Negatives</th>\n",
              "      <th>ROC AUC</th>\n",
              "      <th>PR AUC</th>\n",
              "    </tr>\n",
              "  </thead>\n",
              "  <tbody>\n",
              "    <tr>\n",
              "      <th>0</th>\n",
              "      <td>0.103571</td>\n",
              "      <td>0.678687</td>\n",
              "      <td>0.575385</td>\n",
              "      <td>0.588374</td>\n",
              "      <td>0.532185</td>\n",
              "      <td>0.598945</td>\n",
              "      <td>0.8297</td>\n",
              "    </tr>\n",
              "  </tbody>\n",
              "</table>\n",
              "</div>"
            ],
            "text/plain": [
              "   matthewscore  f1-score  Accuracy  ...  True Negatives   ROC AUC  PR AUC\n",
              "0      0.103571  0.678687  0.575385  ...        0.532185  0.598945  0.8297\n",
              "\n",
              "[1 rows x 7 columns]"
            ]
          },
          "metadata": {
            "tags": []
          },
          "execution_count": 59
        }
      ]
    },
    {
      "cell_type": "code",
      "metadata": {
        "id": "zXlGP0ZWNSBQ"
      },
      "source": [
        ""
      ],
      "execution_count": null,
      "outputs": []
    }
  ]
}