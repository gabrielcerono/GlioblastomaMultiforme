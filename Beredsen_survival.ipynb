{
  "nbformat": 4,
  "nbformat_minor": 0,
  "metadata": {
    "colab": {
      "name": "Beredsen_survival.ipynb",
      "provenance": [],
      "collapsed_sections": [
        "oHrnhtqsx4RZ",
        "MY-IYyS4zaeQ",
        "B4gnf5DR1yuO"
      ],
      "authorship_tag": "ABX9TyOf+B0K7DnEGp16WzLBe0aY",
      "include_colab_link": true
    },
    "kernelspec": {
      "name": "python3",
      "display_name": "Python 3"
    },
    "language_info": {
      "name": "python"
    }
  },
  "cells": [
    {
      "cell_type": "markdown",
      "metadata": {
        "id": "view-in-github",
        "colab_type": "text"
      },
      "source": [
        "<a href=\"https://colab.research.google.com/github/gabrielcerono/GlioblastomaMultiforme/blob/main/Beredsen_survival.ipynb\" target=\"_parent\"><img src=\"https://colab.research.google.com/assets/colab-badge.svg\" alt=\"Open In Colab\"/></a>"
      ]
    },
    {
      "cell_type": "code",
      "metadata": {
        "id": "lixjTuwrqeSQ"
      },
      "source": [
        "import pandas as pd\n",
        "import matplotlib.pyplot as plt\n",
        "import numpy as np\n",
        "import sklearn as sk"
      ],
      "execution_count": null,
      "outputs": []
    },
    {
      "cell_type": "code",
      "metadata": {
        "id": "d52tHvbHqnBc"
      },
      "source": [
        "!pip install scipy --upgrade"
      ],
      "execution_count": null,
      "outputs": []
    },
    {
      "cell_type": "code",
      "metadata": {
        "id": "Fcm8_w8rubDa"
      },
      "source": [
        "!pip install --upgrade pip\n",
        "!pip uninstall --yes --quiet osqp\n",
        "!pip install -U scikit-survival"
      ],
      "execution_count": null,
      "outputs": []
    },
    {
      "cell_type": "code",
      "metadata": {
        "id": "OWPXCwRwujdE"
      },
      "source": [
        "pip install eli5"
      ],
      "execution_count": null,
      "outputs": []
    },
    {
      "cell_type": "code",
      "metadata": {
        "id": "pKaVcTshq0yo"
      },
      "source": [
        "from scipy.stats import rankdata\n"
      ],
      "execution_count": null,
      "outputs": []
    },
    {
      "cell_type": "code",
      "metadata": {
        "id": "BHuA7ZWbq05s"
      },
      "source": [
        "dataset = pd.read_excel('/content/Beredsen.xlsx')"
      ],
      "execution_count": null,
      "outputs": []
    },
    {
      "cell_type": "code",
      "metadata": {
        "colab": {
          "base_uri": "https://localhost:8080/"
        },
        "id": "SXtKNvilq08g",
        "outputId": "86a3938d-4271-4632-c609-8ee8076b0514"
      },
      "source": [
        "dataset.columns"
      ],
      "execution_count": null,
      "outputs": [
        {
          "output_type": "execute_result",
          "data": {
            "text/plain": [
              "Index(['age', 'biopsy_debulking', 'KPS', 'adjuvant_treatment', 'SVZ status',\n",
              "       'survival ', 'censoring', 'Unnamed: 7', 'Variables'],\n",
              "      dtype='object')"
            ]
          },
          "metadata": {
            "tags": []
          },
          "execution_count": 27
        }
      ]
    },
    {
      "cell_type": "code",
      "metadata": {
        "id": "E0zQe74urFGM"
      },
      "source": [
        "dataset.drop(columns = ['Unnamed: 7', 'Variables'], inplace = True)"
      ],
      "execution_count": null,
      "outputs": []
    },
    {
      "cell_type": "code",
      "metadata": {
        "colab": {
          "base_uri": "https://localhost:8080/",
          "height": 203
        },
        "id": "N2bFuVDEq_mZ",
        "outputId": "fea466cf-c936-4260-f051-946b1f871adf"
      },
      "source": [
        "dataset.head()"
      ],
      "execution_count": null,
      "outputs": [
        {
          "output_type": "execute_result",
          "data": {
            "text/html": [
              "<div>\n",
              "<style scoped>\n",
              "    .dataframe tbody tr th:only-of-type {\n",
              "        vertical-align: middle;\n",
              "    }\n",
              "\n",
              "    .dataframe tbody tr th {\n",
              "        vertical-align: top;\n",
              "    }\n",
              "\n",
              "    .dataframe thead th {\n",
              "        text-align: right;\n",
              "    }\n",
              "</style>\n",
              "<table border=\"1\" class=\"dataframe\">\n",
              "  <thead>\n",
              "    <tr style=\"text-align: right;\">\n",
              "      <th></th>\n",
              "      <th>age</th>\n",
              "      <th>biopsy_debulking</th>\n",
              "      <th>KPS</th>\n",
              "      <th>adjuvant_treatment</th>\n",
              "      <th>SVZ status</th>\n",
              "      <th>survival</th>\n",
              "      <th>censoring</th>\n",
              "    </tr>\n",
              "  </thead>\n",
              "  <tbody>\n",
              "    <tr>\n",
              "      <th>0</th>\n",
              "      <td>82</td>\n",
              "      <td>1.0</td>\n",
              "      <td>1.0</td>\n",
              "      <td>1.0</td>\n",
              "      <td>0.0</td>\n",
              "      <td>176.0</td>\n",
              "      <td>1.0</td>\n",
              "    </tr>\n",
              "    <tr>\n",
              "      <th>1</th>\n",
              "      <td>67</td>\n",
              "      <td>1.0</td>\n",
              "      <td>1.0</td>\n",
              "      <td>2.0</td>\n",
              "      <td>0.0</td>\n",
              "      <td>362.0</td>\n",
              "      <td>0.0</td>\n",
              "    </tr>\n",
              "    <tr>\n",
              "      <th>2</th>\n",
              "      <td>70</td>\n",
              "      <td>1.0</td>\n",
              "      <td>1.0</td>\n",
              "      <td>2.0</td>\n",
              "      <td>0.0</td>\n",
              "      <td>433.0</td>\n",
              "      <td>1.0</td>\n",
              "    </tr>\n",
              "    <tr>\n",
              "      <th>3</th>\n",
              "      <td>49</td>\n",
              "      <td>2.0</td>\n",
              "      <td>1.0</td>\n",
              "      <td>1.0</td>\n",
              "      <td>0.0</td>\n",
              "      <td>117.0</td>\n",
              "      <td>1.0</td>\n",
              "    </tr>\n",
              "    <tr>\n",
              "      <th>4</th>\n",
              "      <td>78</td>\n",
              "      <td>2.0</td>\n",
              "      <td>1.0</td>\n",
              "      <td>1.0</td>\n",
              "      <td>0.0</td>\n",
              "      <td>326.0</td>\n",
              "      <td>1.0</td>\n",
              "    </tr>\n",
              "  </tbody>\n",
              "</table>\n",
              "</div>"
            ],
            "text/plain": [
              "   age  biopsy_debulking  KPS  ...  SVZ status  survival   censoring\n",
              "0   82               1.0  1.0  ...         0.0      176.0        1.0\n",
              "1   67               1.0  1.0  ...         0.0      362.0        0.0\n",
              "2   70               1.0  1.0  ...         0.0      433.0        1.0\n",
              "3   49               2.0  1.0  ...         0.0      117.0        1.0\n",
              "4   78               2.0  1.0  ...         0.0      326.0        1.0\n",
              "\n",
              "[5 rows x 7 columns]"
            ]
          },
          "metadata": {
            "tags": []
          },
          "execution_count": 29
        }
      ]
    },
    {
      "cell_type": "code",
      "metadata": {
        "id": "1zeP08PEr2T5"
      },
      "source": [
        "dataset = dataset.rename(columns={'censoring': 'death', 'survival ' : 'OS_time'})"
      ],
      "execution_count": null,
      "outputs": []
    },
    {
      "cell_type": "code",
      "metadata": {
        "id": "Mxhx9dFcsH0w"
      },
      "source": [
        "from sklearn.experimental import enable_iterative_imputer\n",
        "from sklearn.impute import IterativeImputer"
      ],
      "execution_count": null,
      "outputs": []
    },
    {
      "cell_type": "code",
      "metadata": {
        "id": "sxmmP-5RtLXD"
      },
      "source": [
        "imp_mean = IterativeImputer(random_state=0)"
      ],
      "execution_count": null,
      "outputs": []
    },
    {
      "cell_type": "code",
      "metadata": {
        "id": "E-02aT6qtNrW"
      },
      "source": [
        "data = imp_mean.fit_transform(dataset)"
      ],
      "execution_count": null,
      "outputs": []
    },
    {
      "cell_type": "code",
      "metadata": {
        "id": "ZGtJ53IetQCJ"
      },
      "source": [
        "data = pd.DataFrame(data=data, columns= dataset.columns,)"
      ],
      "execution_count": null,
      "outputs": []
    },
    {
      "cell_type": "code",
      "metadata": {
        "colab": {
          "base_uri": "https://localhost:8080/",
          "height": 265
        },
        "id": "k9QnCUzGtRVc",
        "outputId": "bfc0d0e5-4386-454d-e997-b53c4332a04a"
      },
      "source": [
        "data.corr(method = 'pearson')"
      ],
      "execution_count": null,
      "outputs": [
        {
          "output_type": "execute_result",
          "data": {
            "text/html": [
              "<div>\n",
              "<style scoped>\n",
              "    .dataframe tbody tr th:only-of-type {\n",
              "        vertical-align: middle;\n",
              "    }\n",
              "\n",
              "    .dataframe tbody tr th {\n",
              "        vertical-align: top;\n",
              "    }\n",
              "\n",
              "    .dataframe thead th {\n",
              "        text-align: right;\n",
              "    }\n",
              "</style>\n",
              "<table border=\"1\" class=\"dataframe\">\n",
              "  <thead>\n",
              "    <tr style=\"text-align: right;\">\n",
              "      <th></th>\n",
              "      <th>age</th>\n",
              "      <th>biopsy_debulking</th>\n",
              "      <th>KPS</th>\n",
              "      <th>adjuvant_treatment</th>\n",
              "      <th>SVZ status</th>\n",
              "      <th>OS_time</th>\n",
              "      <th>death</th>\n",
              "    </tr>\n",
              "  </thead>\n",
              "  <tbody>\n",
              "    <tr>\n",
              "      <th>age</th>\n",
              "      <td>1.000000</td>\n",
              "      <td>-0.082257</td>\n",
              "      <td>-0.161910</td>\n",
              "      <td>-0.029705</td>\n",
              "      <td>0.061247</td>\n",
              "      <td>-0.362111</td>\n",
              "      <td>0.173820</td>\n",
              "    </tr>\n",
              "    <tr>\n",
              "      <th>biopsy_debulking</th>\n",
              "      <td>-0.082257</td>\n",
              "      <td>1.000000</td>\n",
              "      <td>0.148640</td>\n",
              "      <td>-0.013053</td>\n",
              "      <td>-0.192748</td>\n",
              "      <td>0.363858</td>\n",
              "      <td>-0.144109</td>\n",
              "    </tr>\n",
              "    <tr>\n",
              "      <th>KPS</th>\n",
              "      <td>-0.161910</td>\n",
              "      <td>0.148640</td>\n",
              "      <td>1.000000</td>\n",
              "      <td>0.041573</td>\n",
              "      <td>-0.105957</td>\n",
              "      <td>0.297927</td>\n",
              "      <td>-0.127053</td>\n",
              "    </tr>\n",
              "    <tr>\n",
              "      <th>adjuvant_treatment</th>\n",
              "      <td>-0.029705</td>\n",
              "      <td>-0.013053</td>\n",
              "      <td>0.041573</td>\n",
              "      <td>1.000000</td>\n",
              "      <td>-0.015329</td>\n",
              "      <td>0.054873</td>\n",
              "      <td>-0.038990</td>\n",
              "    </tr>\n",
              "    <tr>\n",
              "      <th>SVZ status</th>\n",
              "      <td>0.061247</td>\n",
              "      <td>-0.192748</td>\n",
              "      <td>-0.105957</td>\n",
              "      <td>-0.015329</td>\n",
              "      <td>1.000000</td>\n",
              "      <td>-0.260603</td>\n",
              "      <td>0.110869</td>\n",
              "    </tr>\n",
              "    <tr>\n",
              "      <th>OS_time</th>\n",
              "      <td>-0.362111</td>\n",
              "      <td>0.363858</td>\n",
              "      <td>0.297927</td>\n",
              "      <td>0.054873</td>\n",
              "      <td>-0.260603</td>\n",
              "      <td>1.000000</td>\n",
              "      <td>-0.476101</td>\n",
              "    </tr>\n",
              "    <tr>\n",
              "      <th>death</th>\n",
              "      <td>0.173820</td>\n",
              "      <td>-0.144109</td>\n",
              "      <td>-0.127053</td>\n",
              "      <td>-0.038990</td>\n",
              "      <td>0.110869</td>\n",
              "      <td>-0.476101</td>\n",
              "      <td>1.000000</td>\n",
              "    </tr>\n",
              "  </tbody>\n",
              "</table>\n",
              "</div>"
            ],
            "text/plain": [
              "                         age  biopsy_debulking  ...   OS_time     death\n",
              "age                 1.000000         -0.082257  ... -0.362111  0.173820\n",
              "biopsy_debulking   -0.082257          1.000000  ...  0.363858 -0.144109\n",
              "KPS                -0.161910          0.148640  ...  0.297927 -0.127053\n",
              "adjuvant_treatment -0.029705         -0.013053  ...  0.054873 -0.038990\n",
              "SVZ status          0.061247         -0.192748  ... -0.260603  0.110869\n",
              "OS_time            -0.362111          0.363858  ...  1.000000 -0.476101\n",
              "death               0.173820         -0.144109  ... -0.476101  1.000000\n",
              "\n",
              "[7 rows x 7 columns]"
            ]
          },
          "metadata": {
            "tags": []
          },
          "execution_count": 42
        }
      ]
    },
    {
      "cell_type": "code",
      "metadata": {
        "id": "YOmDsXr0tT3k"
      },
      "source": [
        ""
      ],
      "execution_count": null,
      "outputs": []
    },
    {
      "cell_type": "markdown",
      "metadata": {
        "id": "eg_W19E_t8h9"
      },
      "source": [
        "## Survival analysis and ranking"
      ]
    },
    {
      "cell_type": "code",
      "metadata": {
        "id": "fDf0U04St7me"
      },
      "source": [
        "Y = data[['death', 'OS_time']]"
      ],
      "execution_count": null,
      "outputs": []
    },
    {
      "cell_type": "code",
      "metadata": {
        "id": "k8y1oSNluGEe"
      },
      "source": [
        "Y['death'] = Y['death'].map({1.0: True, 0: False})"
      ],
      "execution_count": null,
      "outputs": []
    },
    {
      "cell_type": "code",
      "metadata": {
        "id": "twzW-ZoBuLg5"
      },
      "source": [
        "Y = Y.to_records(index=False)"
      ],
      "execution_count": null,
      "outputs": []
    },
    {
      "cell_type": "code",
      "metadata": {
        "id": "PGP73XlruOQU"
      },
      "source": [
        "Y"
      ],
      "execution_count": null,
      "outputs": []
    },
    {
      "cell_type": "code",
      "metadata": {
        "id": "HSRBrYFBuPBp"
      },
      "source": [
        "X = data.drop(columns=['death', 'OS_time'])"
      ],
      "execution_count": null,
      "outputs": []
    },
    {
      "cell_type": "code",
      "metadata": {
        "id": "mu2JQpb3uXk5"
      },
      "source": [
        "from sksurv.ensemble import RandomSurvivalForest\n",
        "from sklearn.model_selection import train_test_split\n",
        "from eli5.sklearn import PermutationImportance\n",
        "import eli5"
      ],
      "execution_count": null,
      "outputs": []
    },
    {
      "cell_type": "code",
      "metadata": {
        "id": "Vm8qI3pZu9wz"
      },
      "source": [
        "rsf = RandomSurvivalForest()"
      ],
      "execution_count": null,
      "outputs": []
    },
    {
      "cell_type": "code",
      "metadata": {
        "id": "4FVACqbDwHVJ"
      },
      "source": [
        "def permutation(X, y, model, loops):\n",
        "  rankings = np.zeros(len(X.columns),)\n",
        "  bordarank = np.zeros(len(X.columns),)\n",
        "  c_score_total = []\n",
        "  a= 0\n",
        "  np.random.seed(42); randseed = np.random.randint(9999, size = 1500)\n",
        "\n",
        "  for x in range(loops):\n",
        "\n",
        "    #Let's do this trick with the seeding, so we can have the same test set\n",
        "    a += 1\n",
        "    seed = randseed[a]\n",
        "  #Let's do a splitting 1/3 train, 1/3 rank, 1/3 test\n",
        "    X_train, X_test, y_train, y_test = train_test_split(\n",
        "    X, Y, test_size=0.33, random_state = seed )\n",
        "    X_train, X_rank, y_train, y_rank = train_test_split(\n",
        "    X_train, y_train, test_size=0.5, random_state = seed)\n",
        "  #Let's train the model on the \n",
        "    model.fit(X_train, y_train)\n",
        "  #Let's define the permutation.\n",
        "    permuter = PermutationImportance(\n",
        "    estimator = model,\n",
        "    n_iter = 10)\n",
        "  #Let's fit the permutator on the Y test, (This permutation only shuffle the Y test.)\n",
        "    permuter.fit(X_rank, y_rank)\n",
        "  \n",
        "    columns = X_test.columns.to_list()\n",
        "  #The feature importance will give us and n array of how much the Concordance score dropped\n",
        "    feature_importance = permuter.feature_importances_\n",
        "  # I need to create a ranking out of this\n",
        "    rankings = np.add(feature_importance, rankings)\n",
        "  #This will create a numpy array with each c index loss. Each row is a loop. \n",
        "    bordarank = np.vstack((bordarank, feature_importance))\n",
        "  #Let's compute the Concordance index score\n",
        "    c_score = model.score(X_test, y_test)\n",
        "    c_score_total.append(c_score)\n",
        "\n",
        "  \n",
        "    \n",
        "  #Dividing to get the average \n",
        "  ranking_terminal = np.true_divide(rankings, loops) \n",
        "  c_rank = pd.DataFrame({'features': columns, 'C_loss': ranking_terminal}).sort_values(ascending = False, by =['C_loss'])\n",
        "  c_mean = np.mean(np.array(c_score_total))\n",
        "  c_std = np.std(np.array(c_score_total))\n",
        "  #Let's start working with the borda. First we delete the first row that is just 0s\n",
        "  bordarank = np.delete(bordarank, 0, 0)\n",
        "  ranking_the_data = rankdata(bordarank * -1, axis=1)\n",
        "  rankavg = np.mean(ranking_the_data, axis = 0)\n",
        "  ranksd = np.std(ranking_the_data, axis = 0)\n",
        "  #Vamos a ver como queda\n",
        "  borda = pd.DataFrame({'Features': columns, 'C_Average_Loss': ranking_terminal, 'borda_average': rankavg, 'borda_sd': ranksd}).sort_values(ascending = True, by = ['borda_average'])\n",
        "  \n",
        "\n",
        "\n",
        "\n",
        "  return c_rank, c_mean, c_std, borda"
      ],
      "execution_count": null,
      "outputs": []
    },
    {
      "cell_type": "code",
      "metadata": {
        "id": "dX7jL2elwHYC"
      },
      "source": [
        "rank, c_mean, c_std, borda = permutation(X, Y, rsf, 100)"
      ],
      "execution_count": null,
      "outputs": []
    },
    {
      "cell_type": "code",
      "metadata": {
        "colab": {
          "base_uri": "https://localhost:8080/"
        },
        "id": "4rgg9E6Mw8Ek",
        "outputId": "33496aba-7dab-4c25-a6ff-daefa3d83c47"
      },
      "source": [
        "c_mean"
      ],
      "execution_count": null,
      "outputs": [
        {
          "output_type": "execute_result",
          "data": {
            "text/plain": [
              "0.7766496154102278"
            ]
          },
          "metadata": {
            "tags": []
          },
          "execution_count": 55
        }
      ]
    },
    {
      "cell_type": "code",
      "metadata": {
        "colab": {
          "base_uri": "https://localhost:8080/"
        },
        "id": "veEgGXKPxIA8",
        "outputId": "43a4d42c-b217-41da-e932-9a9bf2a61381"
      },
      "source": [
        "c_std"
      ],
      "execution_count": null,
      "outputs": [
        {
          "output_type": "execute_result",
          "data": {
            "text/plain": [
              "0.01372879766960945"
            ]
          },
          "metadata": {
            "tags": []
          },
          "execution_count": 57
        }
      ]
    },
    {
      "cell_type": "code",
      "metadata": {
        "colab": {
          "base_uri": "https://localhost:8080/",
          "height": 203
        },
        "id": "4_tAY1ILw80Z",
        "outputId": "0d8de177-593e-45f2-ce5b-98e0b2cc572f"
      },
      "source": [
        "borda"
      ],
      "execution_count": null,
      "outputs": [
        {
          "output_type": "execute_result",
          "data": {
            "text/html": [
              "<div>\n",
              "<style scoped>\n",
              "    .dataframe tbody tr th:only-of-type {\n",
              "        vertical-align: middle;\n",
              "    }\n",
              "\n",
              "    .dataframe tbody tr th {\n",
              "        vertical-align: top;\n",
              "    }\n",
              "\n",
              "    .dataframe thead th {\n",
              "        text-align: right;\n",
              "    }\n",
              "</style>\n",
              "<table border=\"1\" class=\"dataframe\">\n",
              "  <thead>\n",
              "    <tr style=\"text-align: right;\">\n",
              "      <th></th>\n",
              "      <th>Features</th>\n",
              "      <th>C_Average_Loss</th>\n",
              "      <th>borda_average</th>\n",
              "      <th>borda_sd</th>\n",
              "    </tr>\n",
              "  </thead>\n",
              "  <tbody>\n",
              "    <tr>\n",
              "      <th>3</th>\n",
              "      <td>adjuvant_treatment</td>\n",
              "      <td>0.171855</td>\n",
              "      <td>1.00</td>\n",
              "      <td>0.000000</td>\n",
              "    </tr>\n",
              "    <tr>\n",
              "      <th>1</th>\n",
              "      <td>biopsy_debulking</td>\n",
              "      <td>0.025196</td>\n",
              "      <td>2.42</td>\n",
              "      <td>0.635295</td>\n",
              "    </tr>\n",
              "    <tr>\n",
              "      <th>0</th>\n",
              "      <td>age</td>\n",
              "      <td>0.019631</td>\n",
              "      <td>2.88</td>\n",
              "      <td>0.738647</td>\n",
              "    </tr>\n",
              "    <tr>\n",
              "      <th>4</th>\n",
              "      <td>SVZ status</td>\n",
              "      <td>0.010251</td>\n",
              "      <td>3.93</td>\n",
              "      <td>0.724638</td>\n",
              "    </tr>\n",
              "    <tr>\n",
              "      <th>2</th>\n",
              "      <td>KPS</td>\n",
              "      <td>0.004276</td>\n",
              "      <td>4.77</td>\n",
              "      <td>0.420833</td>\n",
              "    </tr>\n",
              "  </tbody>\n",
              "</table>\n",
              "</div>"
            ],
            "text/plain": [
              "             Features  C_Average_Loss  borda_average  borda_sd\n",
              "3  adjuvant_treatment        0.171855           1.00  0.000000\n",
              "1    biopsy_debulking        0.025196           2.42  0.635295\n",
              "0                 age        0.019631           2.88  0.738647\n",
              "4          SVZ status        0.010251           3.93  0.724638\n",
              "2                 KPS        0.004276           4.77  0.420833"
            ]
          },
          "metadata": {
            "tags": []
          },
          "execution_count": 56
        }
      ]
    },
    {
      "cell_type": "markdown",
      "metadata": {
        "id": "JX5CiDm9xMX8"
      },
      "source": [
        "First top 2 features"
      ]
    },
    {
      "cell_type": "code",
      "metadata": {
        "id": "tXlu9s9oxLwh"
      },
      "source": [
        "X_tf = data[['adjuvant_treatment', 'biopsy_debulking']]"
      ],
      "execution_count": null,
      "outputs": []
    },
    {
      "cell_type": "code",
      "metadata": {
        "id": "qqYse4zJxUgn"
      },
      "source": [
        "def top2features(X, y, model, loops):\n",
        "  \n",
        "  c_score_total = []\n",
        "  a= 0\n",
        "  np.random.seed(42); randseed = np.random.randint(9999, size = 1500)\n",
        "  for x in range(loops):\n",
        "\n",
        "    #Let's do this trick with the seeding, so we can have the same array of test sets, that we had in the previous feature selection algorithm. \n",
        "    a += 1\n",
        "    seed = randseed[a]\n",
        "  #Let's do a splitting 1/3 train, 1/3 rank, 1/3 test\n",
        "    X_train, X_test, y_train, y_test = train_test_split(\n",
        "    X, Y, test_size=0.33, random_state = seed )\n",
        "    X_train, X_rank, y_train, y_rank = train_test_split(\n",
        "    X, Y, test_size=0.5, random_state = seed)\n",
        "  #Let's train the model on the \n",
        "    model.fit(X_train, y_train)\n",
        "  #Let's compute the scores\n",
        "    c_score = model.score(X_test, y_test)\n",
        "    c_score_total.append(c_score)\n",
        "\n",
        "  \n",
        "  c_mean_top2 = np.mean(np.array(c_score_total))\n",
        "  c_std_top2 = np.std(np.array(c_score_total))\n",
        "\n",
        "\n",
        "\n",
        "  return c_mean_top2, c_std_top2"
      ],
      "execution_count": null,
      "outputs": []
    },
    {
      "cell_type": "code",
      "metadata": {
        "id": "c0s7h3T9xcRu"
      },
      "source": [
        "c_score_tf = top2features(X_tf, Y, rsf, 100)"
      ],
      "execution_count": null,
      "outputs": []
    },
    {
      "cell_type": "code",
      "metadata": {
        "colab": {
          "base_uri": "https://localhost:8080/"
        },
        "id": "kYr7wP8sxkWP",
        "outputId": "7b6d7d2b-5145-4171-944d-1654ad88899a"
      },
      "source": [
        "c_score_tf"
      ],
      "execution_count": null,
      "outputs": [
        {
          "output_type": "execute_result",
          "data": {
            "text/plain": [
              "(0.7650182818916558, 0.011195077761728893)"
            ]
          },
          "metadata": {
            "tags": []
          },
          "execution_count": 63
        }
      ]
    },
    {
      "cell_type": "code",
      "metadata": {
        "id": "xKdW_1NQxlRT"
      },
      "source": [
        ""
      ],
      "execution_count": null,
      "outputs": []
    },
    {
      "cell_type": "markdown",
      "metadata": {
        "id": "oHrnhtqsx4RZ"
      },
      "source": [
        "## Brier Score"
      ]
    },
    {
      "cell_type": "code",
      "metadata": {
        "id": "A3Q123Ocx5kO"
      },
      "source": [
        "pip install pysurvival"
      ],
      "execution_count": null,
      "outputs": []
    },
    {
      "cell_type": "code",
      "metadata": {
        "id": "0g6Z6Oh_x8wm"
      },
      "source": [
        "from pysurvival.utils.metrics import concordance_index\n",
        "from pysurvival.utils.metrics import integrated_brier_score\n",
        "from pysurvival.models.survival_forest import RandomSurvivalForestModel"
      ],
      "execution_count": null,
      "outputs": []
    },
    {
      "cell_type": "code",
      "metadata": {
        "id": "3NshYJUXx84p"
      },
      "source": [
        "T = data['OS_time']\n",
        "E = data['death']"
      ],
      "execution_count": null,
      "outputs": []
    },
    {
      "cell_type": "code",
      "metadata": {
        "id": "9pmDp3TMyMnn"
      },
      "source": [
        "pyforest = RandomSurvivalForestModel(num_trees=100)"
      ],
      "execution_count": null,
      "outputs": []
    },
    {
      "cell_type": "code",
      "metadata": {
        "id": "NzLpb6M_yMqV"
      },
      "source": [
        "def Py_scores(X, T, E, model, loops):\n",
        "  \n",
        "  c_score_total = []\n",
        "  ibstotal = []\n",
        "  a= 0\n",
        "  np.random.seed(42); randseed = np.random.randint(9999, size = 1500)\n",
        "  for x in range(loops):\n",
        "\n",
        "    #Let's do this trick with the seeding, so we can have the same array of test sets, that we had in the previous feature selection algorithm. \n",
        "    a += 1\n",
        "    seed = randseed[a]\n",
        "  #Let's do a splitting 1/3 train, 1/3 rank, 1/3 test\n",
        "    X_train, X_test, t_train, t_test, e_train, e_test = train_test_split(\n",
        "    X, T, E, test_size=0.33, random_state = seed )\n",
        "    X_train, X_rank, t_train, t_rank, e_train, e_rank = train_test_split(\n",
        "    X_train, t_train, e_train, test_size=0.5, random_state = seed)\n",
        "  #Let's train the model on the \n",
        "    model.fit(X_train, t_train, e_train, max_depth=5)\n",
        "    \n",
        "  #Let's compute the C - scores\n",
        "  #Let's compute the integrated brier score\n",
        "    ibs = integrated_brier_score(model, X_test, t_test, e_test)\n",
        "    ibstotal.append(ibs)\n",
        "    \n",
        "  \n",
        "  \n",
        "  ibstotal2 = np.mean(np.array(ibstotal))\n",
        "  ibs_std = np.std(np.array(ibstotal))\n",
        "\n",
        "\n",
        "  return ibstotal2, ibs_std"
      ],
      "execution_count": null,
      "outputs": []
    },
    {
      "cell_type": "code",
      "metadata": {
        "id": "kwkRa0bIyQu_"
      },
      "source": [
        "ibs_mean, ibs_std = Py_scores(X, T, E, pyforest, 100)"
      ],
      "execution_count": null,
      "outputs": []
    },
    {
      "cell_type": "code",
      "metadata": {
        "colab": {
          "base_uri": "https://localhost:8080/"
        },
        "id": "6_NcI05VyQ2F",
        "outputId": "2ef1c3b0-06ff-48a9-e7da-e2aa2cf36338"
      },
      "source": [
        "ibs_mean"
      ],
      "execution_count": null,
      "outputs": [
        {
          "output_type": "execute_result",
          "data": {
            "text/plain": [
              "0.12826046916225586"
            ]
          },
          "metadata": {
            "tags": []
          },
          "execution_count": 73
        }
      ]
    },
    {
      "cell_type": "code",
      "metadata": {
        "colab": {
          "base_uri": "https://localhost:8080/"
        },
        "id": "lkbQLxyOzKgB",
        "outputId": "b9fd0dcc-79f9-469e-c063-cc1679d7b7ae"
      },
      "source": [
        "ibs_std"
      ],
      "execution_count": null,
      "outputs": [
        {
          "output_type": "execute_result",
          "data": {
            "text/plain": [
              "0.005334775141717203"
            ]
          },
          "metadata": {
            "tags": []
          },
          "execution_count": 74
        }
      ]
    },
    {
      "cell_type": "markdown",
      "metadata": {
        "id": "MY-IYyS4zaeQ"
      },
      "source": [
        "## Deep Surv"
      ]
    },
    {
      "cell_type": "code",
      "metadata": {
        "id": "j_lvJiX4zbww"
      },
      "source": [
        "from pysurvival.models.semi_parametric import NonLinearCoxPHModel\n"
      ],
      "execution_count": null,
      "outputs": []
    },
    {
      "cell_type": "code",
      "metadata": {
        "id": "Nr_x9hU4zede"
      },
      "source": [
        "def Py_scores_deepsurv(X, T, E, loops):\n",
        "  \n",
        "  c_score_total = []\n",
        "  ibstotal = []\n",
        "  a= 0\n",
        "  np.random.seed(42); randseed = np.random.randint(9999, size = 1500)\n",
        "  for x in range(loops):\n",
        "\n",
        "    #Let's do this trick with the seeding, so we can have the same array of test sets, that we had in the previous feature selection algorithm. \n",
        "    a += 1\n",
        "    seed = randseed[a]\n",
        "  #Let's do a splitting 1/3 train, 1/3 rank, 1/3 test\n",
        "    X_train, X_test, t_train, t_test, e_train, e_test = train_test_split(\n",
        "    X, T, E, test_size=0.33, random_state = seed )\n",
        "    X_train, X_rank, t_train, t_rank, e_train, e_rank = train_test_split(\n",
        "    X_train, t_train, e_train, test_size=0.5, random_state = seed)\n",
        "  #Let's train the NN \n",
        "    structure = [ {'activation': 'ReLU', 'num_units': 64}, {'activation': 'ReLU', 'num_units': 32}, ]\n",
        "    nonlinear_coxph = NonLinearCoxPHModel(structure = structure)\n",
        "    nonlinear_coxph.fit(X_train, t_train, e_train, num_epochs = 500, dropout = 0.2,)\n",
        "    c_score_total.append(concordance_index(nonlinear_coxph, X_test, t_test, e_test))\n",
        "    \n",
        "  #Let's compute the C - scores\n",
        "  #Let's compute the integrated brier score\n",
        "    ibs = integrated_brier_score(nonlinear_coxph, X_test, t_test, e_test)\n",
        "    ibstotal.append(ibs)\n",
        "    \n",
        "  \n",
        "  \n",
        "  ibstotal2 = np.mean(np.array(ibstotal))\n",
        "  ibs_std = np.std(np.array(ibstotal))\n",
        "  c_score_avg = np.mean(np.array(c_score_total))\n",
        "  c_score_std = np.std(np.array(c_score_total))\n",
        "\n",
        "  return ibstotal2, ibs_std, c_score_avg, c_score_std"
      ],
      "execution_count": null,
      "outputs": []
    },
    {
      "cell_type": "code",
      "metadata": {
        "id": "52hs4hPxzhCq"
      },
      "source": [
        "ib, ibstd, c_index_avg, c_score_std = Py_scores_deepsurv(X, T, E, 100)"
      ],
      "execution_count": null,
      "outputs": []
    },
    {
      "cell_type": "code",
      "metadata": {
        "colab": {
          "base_uri": "https://localhost:8080/"
        },
        "id": "oaYfYoGw0HFQ",
        "outputId": "eb41e5df-85bf-466c-e760-e0a5d5bef734"
      },
      "source": [
        "c_index_avg"
      ],
      "execution_count": null,
      "outputs": [
        {
          "output_type": "execute_result",
          "data": {
            "text/plain": [
              "0.7312816209251735"
            ]
          },
          "metadata": {
            "tags": []
          },
          "execution_count": 83
        }
      ]
    },
    {
      "cell_type": "code",
      "metadata": {
        "colab": {
          "base_uri": "https://localhost:8080/"
        },
        "id": "ljPyqGSS0KK6",
        "outputId": "49295481-1f38-43bf-c058-8e88968c362e"
      },
      "source": [
        "c_score_std"
      ],
      "execution_count": null,
      "outputs": [
        {
          "output_type": "execute_result",
          "data": {
            "text/plain": [
              "0.03631301715480736"
            ]
          },
          "metadata": {
            "tags": []
          },
          "execution_count": 84
        }
      ]
    },
    {
      "cell_type": "code",
      "metadata": {
        "colab": {
          "base_uri": "https://localhost:8080/"
        },
        "id": "wB_Gj32W0LU2",
        "outputId": "139a7a69-3b9f-4180-f2ff-4953aac7964b"
      },
      "source": [
        "ib"
      ],
      "execution_count": null,
      "outputs": [
        {
          "output_type": "execute_result",
          "data": {
            "text/plain": [
              "0.13856814493326333"
            ]
          },
          "metadata": {
            "tags": []
          },
          "execution_count": 85
        }
      ]
    },
    {
      "cell_type": "markdown",
      "metadata": {
        "id": "B4gnf5DR1yuO"
      },
      "source": [
        "## Cox Proportional Hazards"
      ]
    },
    {
      "cell_type": "code",
      "metadata": {
        "id": "gokU-IhW11B7"
      },
      "source": [
        "from pysurvival.models.semi_parametric import CoxPHModel\n"
      ],
      "execution_count": null,
      "outputs": []
    },
    {
      "cell_type": "code",
      "metadata": {
        "id": "nlSPexnz13bK"
      },
      "source": [
        "coxph = CoxPHModel()"
      ],
      "execution_count": null,
      "outputs": []
    },
    {
      "cell_type": "code",
      "metadata": {
        "id": "UzTaggI316iD"
      },
      "source": [
        "def Py_scores_cox(X, T, E, model, loops):\n",
        "  \n",
        "  c_score_total = []\n",
        "  ibstotal = []\n",
        "  a= 0\n",
        "  np.random.seed(42); randseed = np.random.randint(9999, size = 1500)\n",
        "  for x in range(loops):\n",
        "\n",
        "    #Let's do this trick with the seeding, so we can have the same array of test sets, that we had in the previous feature selection algorithm. \n",
        "    a += 1\n",
        "    seed = randseed[a]\n",
        "  #Let's do a splitting 1/3 train, 1/3 rank, 1/3 test\n",
        "    X_train, X_test, t_train, t_test, e_train, e_test = train_test_split(\n",
        "    X, T, E, test_size=0.33, random_state = seed )\n",
        "    X_train, X_rank, t_train, t_rank, e_train, e_rank = train_test_split(\n",
        "    X_train, t_train, e_train, test_size=0.5, random_state = seed)\n",
        "  #Let's train the model on the \n",
        "    model.fit(X_train, t_train, e_train, lr = 1e-2, max_iter = 400)\n",
        "    c_score_total.append(concordance_index(model, X_test, t_test, e_test))\n",
        "    \n",
        "  #Let's compute the C - scores\n",
        "  #Let's compute the integrated brier score\n",
        "    ibs = integrated_brier_score(model, X_test, t_test, e_test)\n",
        "    ibstotal.append(ibs)\n",
        "    \n",
        "  \n",
        "  \n",
        "  ibstotal2 = np.mean(np.array(ibstotal))\n",
        "  ibs_std = np.std(np.array(ibstotal))\n",
        "  c_index = np.mean(np.array(c_score_total))\n",
        "\n",
        "  return ibstotal2, ibs_std, c_index"
      ],
      "execution_count": null,
      "outputs": []
    },
    {
      "cell_type": "code",
      "metadata": {
        "id": "UWkeV8T617du"
      },
      "source": [
        "ib, ibstd, c_index_avg = Py_scores_cox(X, T, E, coxph, 10)"
      ],
      "execution_count": null,
      "outputs": []
    },
    {
      "cell_type": "code",
      "metadata": {
        "colab": {
          "base_uri": "https://localhost:8080/"
        },
        "id": "Uat09eEi2Hkq",
        "outputId": "eb39530d-ea73-4c62-bfe2-19cf3be96e2e"
      },
      "source": [
        "ib"
      ],
      "execution_count": null,
      "outputs": [
        {
          "output_type": "execute_result",
          "data": {
            "text/plain": [
              "0.13896793715785521"
            ]
          },
          "metadata": {
            "tags": []
          },
          "execution_count": 107
        }
      ]
    },
    {
      "cell_type": "code",
      "metadata": {
        "colab": {
          "base_uri": "https://localhost:8080/"
        },
        "id": "FmDf242X3w4B",
        "outputId": "b5bcc831-bf99-47df-90fb-2ce6cb940dff"
      },
      "source": [
        "c_index_avg"
      ],
      "execution_count": null,
      "outputs": [
        {
          "output_type": "execute_result",
          "data": {
            "text/plain": [
              "0.7341447476172143"
            ]
          },
          "metadata": {
            "tags": []
          },
          "execution_count": 108
        }
      ]
    }
  ]
}