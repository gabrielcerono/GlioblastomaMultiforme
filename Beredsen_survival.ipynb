{
  "nbformat": 4,
  "nbformat_minor": 0,
  "metadata": {
    "colab": {
      "name": "Beredsen_survival.ipynb",
      "provenance": [],
      "collapsed_sections": [
        "oHrnhtqsx4RZ",
        "MY-IYyS4zaeQ",
        "B4gnf5DR1yuO"
      ],
      "authorship_tag": "ABX9TyOPcugMSeuCw1nlEdx9bMVh",
      "include_colab_link": true
    },
    "kernelspec": {
      "name": "python3",
      "display_name": "Python 3"
    },
    "language_info": {
      "name": "python"
    }
  },
  "cells": [
    {
      "cell_type": "markdown",
      "metadata": {
        "id": "view-in-github",
        "colab_type": "text"
      },
      "source": [
        "<a href=\"https://colab.research.google.com/github/gabrielcerono/GlioblastomaMultiforme/blob/main/Beredsen_survival.ipynb\" target=\"_parent\"><img src=\"https://colab.research.google.com/assets/colab-badge.svg\" alt=\"Open In Colab\"/></a>"
      ]
    },
    {
      "cell_type": "code",
      "metadata": {
        "id": "lixjTuwrqeSQ"
      },
      "source": [
        "import pandas as pd\n",
        "import matplotlib.pyplot as plt\n",
        "import numpy as np\n",
        "import sklearn as sk"
      ],
      "execution_count": 1,
      "outputs": []
    },
    {
      "cell_type": "code",
      "metadata": {
        "id": "d52tHvbHqnBc",
        "colab": {
          "base_uri": "https://localhost:8080/"
        },
        "outputId": "003e9554-b3ed-4eb5-e1f4-bd4e5719f9c6"
      },
      "source": [
        "!pip install scipy --upgrade"
      ],
      "execution_count": 33,
      "outputs": [
        {
          "output_type": "stream",
          "text": [
            "Requirement already satisfied: scipy in /usr/local/lib/python3.7/dist-packages (1.7.0)\n",
            "Requirement already satisfied: numpy<1.23.0,>=1.16.5 in /usr/local/lib/python3.7/dist-packages (from scipy) (1.19.5)\n",
            "\u001b[33mWARNING: Running pip as the 'root' user can result in broken permissions and conflicting behaviour with the system package manager. It is recommended to use a virtual environment instead: https://pip.pypa.io/warnings/venv\u001b[0m\n"
          ],
          "name": "stdout"
        }
      ]
    },
    {
      "cell_type": "code",
      "metadata": {
        "id": "Fcm8_w8rubDa",
        "colab": {
          "base_uri": "https://localhost:8080/"
        },
        "outputId": "1dae941e-561c-41f7-eb6d-5cde1aae3719"
      },
      "source": [
        "!pip install --upgrade pip\n",
        "!pip uninstall --yes --quiet osqp\n",
        "!pip install -U scikit-survival"
      ],
      "execution_count": 28,
      "outputs": [
        {
          "output_type": "stream",
          "text": [
            "Requirement already satisfied: pip in /usr/local/lib/python3.7/dist-packages (21.2.2)\n",
            "\u001b[33mWARNING: Running pip as the 'root' user can result in broken permissions and conflicting behaviour with the system package manager. It is recommended to use a virtual environment instead: https://pip.pypa.io/warnings/venv\u001b[0m\n",
            "\u001b[33mWARNING: Skipping osqp as it is not installed.\u001b[0m\n",
            "\u001b[33mWARNING: Running pip as the 'root' user can result in broken permissions and conflicting behaviour with the system package manager. It is recommended to use a virtual environment instead: https://pip.pypa.io/warnings/venv\u001b[0m\n",
            "Requirement already satisfied: scikit-survival in /usr/local/lib/python3.7/dist-packages (0.14.0)\n",
            "Collecting scikit-survival\n",
            "  Using cached scikit-survival-0.15.0.post0.tar.gz (2.4 MB)\n",
            "\u001b[33m  WARNING: Value for purelib does not match. Please report this to <https://github.com/pypa/pip/issues/10151>\n",
            "  distutils: /usr/lib/python3/dist-packages\n",
            "  sysconfig: /usr/lib/python3.7/site-packages\u001b[0m\n",
            "\u001b[33m  WARNING: Additional context:\n",
            "  user = False\n",
            "  home = None\n",
            "  root = None\n",
            "  prefix = None\u001b[0m\n",
            "\u001b[33m  WARNING: Value for platlib does not match. Please report this to <https://github.com/pypa/pip/issues/10151>\n",
            "  distutils: /usr/lib/python3/dist-packages\n",
            "  sysconfig: /usr/lib/python3.7/site-packages\u001b[0m\n",
            "  Installing build dependencies ... \u001b[?25l\u001b[?25hdone\n",
            "  Getting requirements to build wheel ... \u001b[?25l\u001b[?25herror\n",
            "\u001b[33mWARNING: Discarding https://files.pythonhosted.org/packages/91/f0/047ce90bb831ab34ca287d1d23f0c61b6546cd89494566898c0e17516990/scikit-survival-0.15.0.post0.tar.gz#sha256=572c3ac6818a9d0944fc4b8176eb948051654de857e28419ecc5060bcc6fbf37 (from https://pypi.org/simple/scikit-survival/) (requires-python:>=3.7). Command errored out with exit status 1: /usr/bin/python3 /usr/local/lib/python3.7/dist-packages/pip/_vendor/pep517/in_process/_in_process.py get_requires_for_build_wheel /tmp/tmpmknwzex9 Check the logs for full command output.\u001b[0m\n",
            "Requirement already satisfied: cvxopt in /usr/local/lib/python3.7/dist-packages (from scikit-survival) (1.2.6)\n",
            "Requirement already satisfied: scipy!=1.3.0,>=1.0 in /usr/local/lib/python3.7/dist-packages (from scikit-survival) (1.7.0)\n",
            "Requirement already satisfied: scikit-learn<0.24,>=0.22.0 in /usr/local/lib/python3.7/dist-packages (from scikit-survival) (0.22.2.post1)\n",
            "Collecting osqp!=0.6.0,!=0.6.1\n",
            "  Using cached osqp-0.6.2.post0-cp37-cp37m-manylinux2014_x86_64.whl (212 kB)\n",
            "Requirement already satisfied: numexpr in /usr/local/lib/python3.7/dist-packages (from scikit-survival) (2.7.3)\n",
            "Requirement already satisfied: joblib in /usr/local/lib/python3.7/dist-packages (from scikit-survival) (1.0.1)\n",
            "Requirement already satisfied: pandas>=0.21 in /usr/local/lib/python3.7/dist-packages (from scikit-survival) (1.1.5)\n",
            "Requirement already satisfied: cvxpy>=1.0 in /usr/local/lib/python3.7/dist-packages (from scikit-survival) (1.0.31)\n",
            "Requirement already satisfied: numpy in /usr/local/lib/python3.7/dist-packages (from scikit-survival) (1.19.5)\n",
            "Requirement already satisfied: multiprocess in /usr/local/lib/python3.7/dist-packages (from cvxpy>=1.0->scikit-survival) (0.70.12.2)\n",
            "Requirement already satisfied: ecos>=2 in /usr/local/lib/python3.7/dist-packages (from cvxpy>=1.0->scikit-survival) (2.0.7.post1)\n",
            "Requirement already satisfied: scs>=1.1.3 in /usr/local/lib/python3.7/dist-packages (from cvxpy>=1.0->scikit-survival) (2.1.4)\n",
            "Requirement already satisfied: qdldl in /usr/local/lib/python3.7/dist-packages (from osqp!=0.6.0,!=0.6.1->scikit-survival) (0.1.5.post0)\n",
            "Requirement already satisfied: python-dateutil>=2.7.3 in /usr/local/lib/python3.7/dist-packages (from pandas>=0.21->scikit-survival) (2.8.1)\n",
            "Requirement already satisfied: pytz>=2017.2 in /usr/local/lib/python3.7/dist-packages (from pandas>=0.21->scikit-survival) (2018.9)\n",
            "Requirement already satisfied: six>=1.5 in /usr/local/lib/python3.7/dist-packages (from python-dateutil>=2.7.3->pandas>=0.21->scikit-survival) (1.15.0)\n",
            "Requirement already satisfied: dill>=0.3.4 in /usr/local/lib/python3.7/dist-packages (from multiprocess->cvxpy>=1.0->scikit-survival) (0.3.4)\n",
            "Installing collected packages: osqp\n",
            "Successfully installed osqp-0.6.2.post0\n",
            "\u001b[33mWARNING: Running pip as the 'root' user can result in broken permissions and conflicting behaviour with the system package manager. It is recommended to use a virtual environment instead: https://pip.pypa.io/warnings/venv\u001b[0m\n"
          ],
          "name": "stdout"
        }
      ]
    },
    {
      "cell_type": "code",
      "metadata": {
        "id": "OWPXCwRwujdE"
      },
      "source": [
        "pip install eli5"
      ],
      "execution_count": null,
      "outputs": []
    },
    {
      "cell_type": "code",
      "metadata": {
        "id": "pKaVcTshq0yo"
      },
      "source": [
        "from scipy.stats import rankdata\n"
      ],
      "execution_count": 3,
      "outputs": []
    },
    {
      "cell_type": "code",
      "metadata": {
        "id": "BHuA7ZWbq05s"
      },
      "source": [
        "dataset = pd.read_excel('/content/Beredsen.xlsx')"
      ],
      "execution_count": 4,
      "outputs": []
    },
    {
      "cell_type": "code",
      "metadata": {
        "colab": {
          "base_uri": "https://localhost:8080/"
        },
        "id": "SXtKNvilq08g",
        "outputId": "9487824d-aad0-44f5-dbdd-9e2e6c9dacac"
      },
      "source": [
        "dataset.columns"
      ],
      "execution_count": 5,
      "outputs": [
        {
          "output_type": "execute_result",
          "data": {
            "text/plain": [
              "Index(['age', 'biopsy_debulking', 'KPS', 'adjuvant_treatment', 'SVZ status',\n",
              "       'survival ', 'censoring', 'Unnamed: 7', 'Variables'],\n",
              "      dtype='object')"
            ]
          },
          "metadata": {
            "tags": []
          },
          "execution_count": 5
        }
      ]
    },
    {
      "cell_type": "code",
      "metadata": {
        "id": "E0zQe74urFGM"
      },
      "source": [
        "dataset.drop(columns = ['Unnamed: 7', 'Variables'], inplace = True)"
      ],
      "execution_count": 6,
      "outputs": []
    },
    {
      "cell_type": "code",
      "metadata": {
        "colab": {
          "base_uri": "https://localhost:8080/",
          "height": 205
        },
        "id": "N2bFuVDEq_mZ",
        "outputId": "566da8e0-93d3-4ecf-e350-43c9ca7f14da"
      },
      "source": [
        "dataset.head()"
      ],
      "execution_count": 7,
      "outputs": [
        {
          "output_type": "execute_result",
          "data": {
            "text/html": [
              "<div>\n",
              "<style scoped>\n",
              "    .dataframe tbody tr th:only-of-type {\n",
              "        vertical-align: middle;\n",
              "    }\n",
              "\n",
              "    .dataframe tbody tr th {\n",
              "        vertical-align: top;\n",
              "    }\n",
              "\n",
              "    .dataframe thead th {\n",
              "        text-align: right;\n",
              "    }\n",
              "</style>\n",
              "<table border=\"1\" class=\"dataframe\">\n",
              "  <thead>\n",
              "    <tr style=\"text-align: right;\">\n",
              "      <th></th>\n",
              "      <th>age</th>\n",
              "      <th>biopsy_debulking</th>\n",
              "      <th>KPS</th>\n",
              "      <th>adjuvant_treatment</th>\n",
              "      <th>SVZ status</th>\n",
              "      <th>survival</th>\n",
              "      <th>censoring</th>\n",
              "    </tr>\n",
              "  </thead>\n",
              "  <tbody>\n",
              "    <tr>\n",
              "      <th>0</th>\n",
              "      <td>82</td>\n",
              "      <td>1.0</td>\n",
              "      <td>1.0</td>\n",
              "      <td>1.0</td>\n",
              "      <td>0.0</td>\n",
              "      <td>176.0</td>\n",
              "      <td>1.0</td>\n",
              "    </tr>\n",
              "    <tr>\n",
              "      <th>1</th>\n",
              "      <td>67</td>\n",
              "      <td>1.0</td>\n",
              "      <td>1.0</td>\n",
              "      <td>2.0</td>\n",
              "      <td>0.0</td>\n",
              "      <td>362.0</td>\n",
              "      <td>0.0</td>\n",
              "    </tr>\n",
              "    <tr>\n",
              "      <th>2</th>\n",
              "      <td>70</td>\n",
              "      <td>1.0</td>\n",
              "      <td>1.0</td>\n",
              "      <td>2.0</td>\n",
              "      <td>0.0</td>\n",
              "      <td>433.0</td>\n",
              "      <td>1.0</td>\n",
              "    </tr>\n",
              "    <tr>\n",
              "      <th>3</th>\n",
              "      <td>49</td>\n",
              "      <td>2.0</td>\n",
              "      <td>1.0</td>\n",
              "      <td>1.0</td>\n",
              "      <td>0.0</td>\n",
              "      <td>117.0</td>\n",
              "      <td>1.0</td>\n",
              "    </tr>\n",
              "    <tr>\n",
              "      <th>4</th>\n",
              "      <td>78</td>\n",
              "      <td>2.0</td>\n",
              "      <td>1.0</td>\n",
              "      <td>1.0</td>\n",
              "      <td>0.0</td>\n",
              "      <td>326.0</td>\n",
              "      <td>1.0</td>\n",
              "    </tr>\n",
              "  </tbody>\n",
              "</table>\n",
              "</div>"
            ],
            "text/plain": [
              "   age  biopsy_debulking  KPS  ...  SVZ status  survival   censoring\n",
              "0   82               1.0  1.0  ...         0.0      176.0        1.0\n",
              "1   67               1.0  1.0  ...         0.0      362.0        0.0\n",
              "2   70               1.0  1.0  ...         0.0      433.0        1.0\n",
              "3   49               2.0  1.0  ...         0.0      117.0        1.0\n",
              "4   78               2.0  1.0  ...         0.0      326.0        1.0\n",
              "\n",
              "[5 rows x 7 columns]"
            ]
          },
          "metadata": {
            "tags": []
          },
          "execution_count": 7
        }
      ]
    },
    {
      "cell_type": "code",
      "metadata": {
        "id": "1zeP08PEr2T5"
      },
      "source": [
        "dataset = dataset.rename(columns={'censoring': 'death', 'survival ' : 'OS_time'})"
      ],
      "execution_count": 8,
      "outputs": []
    },
    {
      "cell_type": "code",
      "metadata": {
        "id": "Mxhx9dFcsH0w"
      },
      "source": [
        "from sklearn.experimental import enable_iterative_imputer\n",
        "from sklearn.impute import IterativeImputer"
      ],
      "execution_count": 9,
      "outputs": []
    },
    {
      "cell_type": "code",
      "metadata": {
        "id": "sxmmP-5RtLXD"
      },
      "source": [
        "imp_mean = IterativeImputer(random_state=0)"
      ],
      "execution_count": 10,
      "outputs": []
    },
    {
      "cell_type": "code",
      "metadata": {
        "id": "E-02aT6qtNrW"
      },
      "source": [
        "data = imp_mean.fit_transform(dataset)"
      ],
      "execution_count": 11,
      "outputs": []
    },
    {
      "cell_type": "code",
      "metadata": {
        "id": "ZGtJ53IetQCJ"
      },
      "source": [
        "data = pd.DataFrame(data=data, columns= dataset.columns,)"
      ],
      "execution_count": 12,
      "outputs": []
    },
    {
      "cell_type": "code",
      "metadata": {
        "colab": {
          "base_uri": "https://localhost:8080/",
          "height": 268
        },
        "id": "k9QnCUzGtRVc",
        "outputId": "6ce20312-10f1-4d78-ce0f-16ca1472d463"
      },
      "source": [
        "data.corr(method = 'pearson')"
      ],
      "execution_count": 13,
      "outputs": [
        {
          "output_type": "execute_result",
          "data": {
            "text/html": [
              "<div>\n",
              "<style scoped>\n",
              "    .dataframe tbody tr th:only-of-type {\n",
              "        vertical-align: middle;\n",
              "    }\n",
              "\n",
              "    .dataframe tbody tr th {\n",
              "        vertical-align: top;\n",
              "    }\n",
              "\n",
              "    .dataframe thead th {\n",
              "        text-align: right;\n",
              "    }\n",
              "</style>\n",
              "<table border=\"1\" class=\"dataframe\">\n",
              "  <thead>\n",
              "    <tr style=\"text-align: right;\">\n",
              "      <th></th>\n",
              "      <th>age</th>\n",
              "      <th>biopsy_debulking</th>\n",
              "      <th>KPS</th>\n",
              "      <th>adjuvant_treatment</th>\n",
              "      <th>SVZ status</th>\n",
              "      <th>OS_time</th>\n",
              "      <th>death</th>\n",
              "    </tr>\n",
              "  </thead>\n",
              "  <tbody>\n",
              "    <tr>\n",
              "      <th>age</th>\n",
              "      <td>1.000000</td>\n",
              "      <td>-0.082257</td>\n",
              "      <td>-0.161910</td>\n",
              "      <td>-0.029705</td>\n",
              "      <td>0.061247</td>\n",
              "      <td>-0.362111</td>\n",
              "      <td>0.173820</td>\n",
              "    </tr>\n",
              "    <tr>\n",
              "      <th>biopsy_debulking</th>\n",
              "      <td>-0.082257</td>\n",
              "      <td>1.000000</td>\n",
              "      <td>0.148640</td>\n",
              "      <td>-0.013053</td>\n",
              "      <td>-0.192748</td>\n",
              "      <td>0.363858</td>\n",
              "      <td>-0.144109</td>\n",
              "    </tr>\n",
              "    <tr>\n",
              "      <th>KPS</th>\n",
              "      <td>-0.161910</td>\n",
              "      <td>0.148640</td>\n",
              "      <td>1.000000</td>\n",
              "      <td>0.041573</td>\n",
              "      <td>-0.105957</td>\n",
              "      <td>0.297927</td>\n",
              "      <td>-0.127053</td>\n",
              "    </tr>\n",
              "    <tr>\n",
              "      <th>adjuvant_treatment</th>\n",
              "      <td>-0.029705</td>\n",
              "      <td>-0.013053</td>\n",
              "      <td>0.041573</td>\n",
              "      <td>1.000000</td>\n",
              "      <td>-0.015329</td>\n",
              "      <td>0.054873</td>\n",
              "      <td>-0.038990</td>\n",
              "    </tr>\n",
              "    <tr>\n",
              "      <th>SVZ status</th>\n",
              "      <td>0.061247</td>\n",
              "      <td>-0.192748</td>\n",
              "      <td>-0.105957</td>\n",
              "      <td>-0.015329</td>\n",
              "      <td>1.000000</td>\n",
              "      <td>-0.260603</td>\n",
              "      <td>0.110869</td>\n",
              "    </tr>\n",
              "    <tr>\n",
              "      <th>OS_time</th>\n",
              "      <td>-0.362111</td>\n",
              "      <td>0.363858</td>\n",
              "      <td>0.297927</td>\n",
              "      <td>0.054873</td>\n",
              "      <td>-0.260603</td>\n",
              "      <td>1.000000</td>\n",
              "      <td>-0.476101</td>\n",
              "    </tr>\n",
              "    <tr>\n",
              "      <th>death</th>\n",
              "      <td>0.173820</td>\n",
              "      <td>-0.144109</td>\n",
              "      <td>-0.127053</td>\n",
              "      <td>-0.038990</td>\n",
              "      <td>0.110869</td>\n",
              "      <td>-0.476101</td>\n",
              "      <td>1.000000</td>\n",
              "    </tr>\n",
              "  </tbody>\n",
              "</table>\n",
              "</div>"
            ],
            "text/plain": [
              "                         age  biopsy_debulking  ...   OS_time     death\n",
              "age                 1.000000         -0.082257  ... -0.362111  0.173820\n",
              "biopsy_debulking   -0.082257          1.000000  ...  0.363858 -0.144109\n",
              "KPS                -0.161910          0.148640  ...  0.297927 -0.127053\n",
              "adjuvant_treatment -0.029705         -0.013053  ...  0.054873 -0.038990\n",
              "SVZ status          0.061247         -0.192748  ... -0.260603  0.110869\n",
              "OS_time            -0.362111          0.363858  ...  1.000000 -0.476101\n",
              "death               0.173820         -0.144109  ... -0.476101  1.000000\n",
              "\n",
              "[7 rows x 7 columns]"
            ]
          },
          "metadata": {
            "tags": []
          },
          "execution_count": 13
        }
      ]
    },
    {
      "cell_type": "code",
      "metadata": {
        "id": "YOmDsXr0tT3k"
      },
      "source": [
        ""
      ],
      "execution_count": 20,
      "outputs": []
    },
    {
      "cell_type": "markdown",
      "metadata": {
        "id": "eg_W19E_t8h9"
      },
      "source": [
        "## Survival analysis and ranking"
      ]
    },
    {
      "cell_type": "code",
      "metadata": {
        "id": "fDf0U04St7me"
      },
      "source": [
        "Y = data[['death', 'OS_time']]"
      ],
      "execution_count": 14,
      "outputs": []
    },
    {
      "cell_type": "code",
      "metadata": {
        "id": "k8y1oSNluGEe",
        "colab": {
          "base_uri": "https://localhost:8080/"
        },
        "outputId": "0d162f28-1a7f-4a30-ece0-4f14c1f11519"
      },
      "source": [
        "Y['death'] = Y['death'].map({1.0: True, 0: False})"
      ],
      "execution_count": 15,
      "outputs": [
        {
          "output_type": "stream",
          "text": [
            "/usr/local/lib/python3.7/dist-packages/ipykernel_launcher.py:1: SettingWithCopyWarning: \n",
            "A value is trying to be set on a copy of a slice from a DataFrame.\n",
            "Try using .loc[row_indexer,col_indexer] = value instead\n",
            "\n",
            "See the caveats in the documentation: https://pandas.pydata.org/pandas-docs/stable/user_guide/indexing.html#returning-a-view-versus-a-copy\n",
            "  \"\"\"Entry point for launching an IPython kernel.\n"
          ],
          "name": "stderr"
        }
      ]
    },
    {
      "cell_type": "code",
      "metadata": {
        "id": "twzW-ZoBuLg5"
      },
      "source": [
        "Y = Y.to_records(index=False)"
      ],
      "execution_count": 16,
      "outputs": []
    },
    {
      "cell_type": "code",
      "metadata": {
        "id": "PGP73XlruOQU",
        "colab": {
          "base_uri": "https://localhost:8080/"
        },
        "outputId": "99249797-886d-4f2b-f07e-0caecba06e6c"
      },
      "source": [
        "Y"
      ],
      "execution_count": 17,
      "outputs": [
        {
          "output_type": "execute_result",
          "data": {
            "text/plain": [
              "rec.array([( True,  176.), (False,  362.), ( True,  433.), ( True,  117.),\n",
              "           ( True,  326.), (False,  469.), ( True,  295.), (False, 1000.),\n",
              "           (False,  680.), ( True,  474.), (False, 1000.), (False, 1000.),\n",
              "           (False, 1000.), ( True,  130.), ( True,  411.), ( True,  230.),\n",
              "           ( True,  277.), ( True,   83.), ( True,   23.), ( True,   61.),\n",
              "           (False, 1000.), ( True,  161.), ( True,    9.), ( True,   76.),\n",
              "           ( True,  508.), ( True,   50.), ( True,  377.), (False, 1000.),\n",
              "           ( True,  230.), ( True,  320.), ( True,  122.), (False,   56.),\n",
              "           (False, 1000.), ( True,   13.), (False,  211.), ( True,  253.),\n",
              "           ( True,   74.), ( True,  303.), ( True,   97.), ( True,   15.),\n",
              "           ( True,  241.), ( True,  173.), ( True,  843.), ( True,   54.),\n",
              "           (False, 1000.), (False,  491.), ( True,  175.), (False,   11.),\n",
              "           (False,  611.), ( True,  340.), (False,  490.), (False,  275.),\n",
              "           (False,  345.), ( True,  182.), ( True,  481.), ( True,  168.),\n",
              "           ( True,  298.), ( True,  580.), ( True,  585.), ( True,   49.),\n",
              "           ( True,  564.), ( True,  442.), ( True,  359.), ( True,   52.),\n",
              "           ( True,   21.), ( True,  106.), ( True,   22.), ( True,   72.),\n",
              "           ( True,  554.), ( True,  319.), ( True,  464.), ( True,  184.),\n",
              "           (False,  425.), ( True,  165.), ( True,  144.), ( True,  614.),\n",
              "           ( True,  117.), (False, 1000.), (False,  134.), ( True,  528.),\n",
              "           ( True,   75.), ( True,  227.), ( True,   34.), ( True,  377.),\n",
              "           (False,  504.), ( True,  491.), ( True,  252.), ( True,   13.),\n",
              "           (False,  230.), ( True,  233.), ( True,  237.), ( True,  298.),\n",
              "           ( True,  300.), (False,   57.), ( True,  561.), (False,   35.),\n",
              "           ( True,  239.), (False,  973.), (False,  952.), ( True,  106.),\n",
              "           ( True,   80.), ( True,   23.), ( True,  104.), (False,  609.),\n",
              "           ( True,  159.), (False,  501.), ( True,  272.), (False,  519.),\n",
              "           (False, 1000.), ( True,   12.), ( True,  288.), ( True,  449.),\n",
              "           ( True,  168.), ( True,  130.), ( True,   94.), (False,  431.),\n",
              "           ( True,  222.), ( True,  321.), (False,  462.), (False, 1000.),\n",
              "           ( True,  166.), ( True,  122.), ( True,   43.), ( True,  773.),\n",
              "           ( True,  772.), ( True,   28.), (False, 1000.), ( True,  249.),\n",
              "           ( True,  204.), ( True,   42.), ( True,  429.), ( True,  552.),\n",
              "           (False, 1000.), ( True,  309.), (False,   17.), ( True,  318.),\n",
              "           ( True,    2.), ( True,  107.), ( True,  327.), (False,  504.),\n",
              "           (False, 1000.), ( True,  101.), ( True,  796.), ( True,  315.),\n",
              "           (False, 1000.), ( True,  362.), ( True,  378.), ( True,  237.),\n",
              "           ( True,  280.), ( True,  647.), ( True,  368.), ( True,  761.),\n",
              "           ( True,  116.), ( True,  644.), ( True,  178.), ( True,  390.),\n",
              "           ( True,  149.), ( True,  585.), ( True,  206.), ( True,  164.),\n",
              "           ( True,  254.), ( True,  289.), ( True,   41.), (False,  159.),\n",
              "           ( True,  432.), ( True,  517.), (False,  803.), (False,  535.),\n",
              "           (False,  155.), ( True,    2.), (False,   11.), ( True,    3.),\n",
              "           ( True,  122.), ( True,  945.), ( True,   63.), (False,  348.),\n",
              "           (False,   22.), ( True,  369.), (False,  414.), (False,  388.),\n",
              "           ( True,  321.), ( True,  201.), ( True,   84.), ( True,   81.),\n",
              "           ( True,  146.), ( True,  120.), ( True,  137.), ( True,  547.),\n",
              "           ( True,  257.), ( True,  269.), ( True,    2.), ( True,   11.),\n",
              "           (False,  300.), ( True,   52.), ( True,  431.), (False,  123.),\n",
              "           ( True,   28.), ( True,  384.), ( True,   83.), (False, 1000.),\n",
              "           ( True,   35.), ( True,  196.), ( True,  383.), ( True,  313.),\n",
              "           ( True,  234.), ( True,  666.), ( True,  711.), ( True,  312.),\n",
              "           (False,  967.), ( True,  413.), ( True,  246.), ( True,  103.),\n",
              "           ( True,   50.), ( True,  241.), ( True,    6.), ( True,   20.),\n",
              "           ( True,   26.), (False, 1000.), ( True,  341.), ( True,   34.),\n",
              "           ( True,  201.), ( True,   21.), (False,   22.), (False, 1000.),\n",
              "           ( True,  173.), ( True,  451.), ( True,  234.), ( True,  855.),\n",
              "           ( True,  207.), ( True,  383.), ( True,  501.), (False,   16.),\n",
              "           ( True,   53.), ( True,  416.), (False, 1000.), (False,   83.),\n",
              "           ( True,  301.), ( True,  373.), (False, 1000.), ( True,  179.),\n",
              "           ( True,   43.), ( True,   23.), ( True,  460.), (False,  506.),\n",
              "           ( True,  109.), (False,  397.), ( True,  269.), (False, 1000.),\n",
              "           ( True,  294.), ( True,   35.), ( True,  215.), ( True,  174.),\n",
              "           ( True,   36.), ( True,  402.), (False, 1000.), ( True,  364.),\n",
              "           ( True,   43.), (False,   13.), ( True,   46.), (False, 1000.),\n",
              "           (False,  266.), ( True,   35.), ( True,  521.), ( True,  230.),\n",
              "           ( True,  281.), ( True,  111.), ( True,  189.), ( True,  318.),\n",
              "           ( True,  257.), ( True,  366.), ( True,  207.), ( True,  626.),\n",
              "           ( True,  185.), ( True,  147.), ( True,  356.), (False,  440.),\n",
              "           ( True,  430.), (False, 1000.), ( True,  796.), (False,  257.),\n",
              "           ( True,  164.), (False, 1000.), ( True,  538.), (False, 1000.),\n",
              "           ( True,   82.), ( True,  974.), ( True,   17.), ( True,    3.),\n",
              "           ( True,  171.), ( True,  771.), (False,  400.), ( True,  747.),\n",
              "           ( True,   60.), ( True,  211.), ( True,  916.), (False, 1000.),\n",
              "           ( True,  737.), ( True,  440.), ( True,  150.), ( True,  294.),\n",
              "           ( True,  333.), ( True,   86.), ( True,  256.), ( True,   56.),\n",
              "           ( True,   47.), ( True,  109.), (False, 1000.), ( True,  115.),\n",
              "           ( True,  551.), ( True,  346.), ( True,  761.), ( True,  123.),\n",
              "           ( True,   49.), (False, 1000.), ( True,  264.), ( True,  422.),\n",
              "           (False, 1000.), ( True,   26.), ( True,  795.), ( True,   27.),\n",
              "           ( True,  132.), ( True,  941.), ( True,  328.), ( True,  295.),\n",
              "           (False, 1000.), ( True,  332.), ( True,  820.), ( True,  429.),\n",
              "           ( True,  553.), ( True,  711.), ( True,   40.), ( True,  343.),\n",
              "           (False, 1000.), ( True,  191.), (False,   21.), ( True,  672.),\n",
              "           ( True,  117.), (False,  251.), (False,  693.), ( True,   75.),\n",
              "           ( True,   10.), ( True,  320.), (False,  194.), ( True,  171.),\n",
              "           (False,  358.), (False,  700.), (False,  662.), ( True,   37.),\n",
              "           ( True,  224.), ( True,  329.), (False,  192.), ( True,  290.),\n",
              "           ( True,   44.), (False,  469.), (False,   60.), ( True,   34.),\n",
              "           ( True,  225.), ( True,  421.), ( True,  291.), ( True,  211.),\n",
              "           ( True,   69.), (False, 1000.), ( True,  793.), ( True,  665.),\n",
              "           (False,   18.), ( True,   86.), ( True,  187.), (False,  103.),\n",
              "           ( True,  132.), ( True,  272.), ( True,  335.), ( True,  162.),\n",
              "           ( True,  434.), ( True,  478.), ( True,  218.), ( True,   28.),\n",
              "           ( True,  297.), ( True,  346.), ( True,   90.), ( True,  693.),\n",
              "           (False, 1000.), ( True,  545.), ( True,   62.), (False,  648.),\n",
              "           ( True,   35.), ( True,  360.), (False, 1000.), ( True,    4.),\n",
              "           ( True,  197.), ( True,   62.), ( True,  150.), ( True,   23.),\n",
              "           ( True,  346.), ( True,  270.), ( True,    9.), ( True,  317.),\n",
              "           ( True,  496.), ( True,  157.), ( True,  164.), ( True,   20.),\n",
              "           ( True,   91.), ( True,  198.), ( True,  195.), ( True,  301.),\n",
              "           ( True,  171.), ( True,   34.), ( True,   48.), (False,  116.),\n",
              "           ( True,  364.), ( True,  246.), ( True,  345.), ( True,  671.),\n",
              "           ( True,  118.), ( True,  561.), ( True,   91.), ( True,   72.),\n",
              "           ( True,  192.), ( True,  278.), (False,   56.), ( True,  291.),\n",
              "           ( True,  986.), ( True,  101.), ( True,  401.), ( True,   66.),\n",
              "           (False,   25.), (False,  371.), (False,  621.), ( True,  329.),\n",
              "           ( True,  202.), ( True,  105.), (False, 1000.), ( True,  391.),\n",
              "           ( True,   63.), (False,  596.), ( True,  171.), ( True,  174.),\n",
              "           ( True,   34.), ( True,   78.), (False,  221.), (False,  462.),\n",
              "           ( True,   58.), ( True,  251.), ( True,  546.), ( True,  187.),\n",
              "           ( True,  406.), ( True,  358.), ( True,  194.), ( True,  151.),\n",
              "           (False,  125.), ( True,  294.), ( True,  472.), ( True,  494.),\n",
              "           ( True,  435.), ( True,  703.), ( True,   41.), (False, 1000.),\n",
              "           ( True,  340.), (False, 1000.), ( True,  383.), ( True,  518.),\n",
              "           ( True,  843.), ( True,  662.), (False, 1000.), ( True,   34.),\n",
              "           ( True,  111.), ( True,  194.), ( True,  276.), ( True,  125.),\n",
              "           ( True,  121.), ( True,  417.), ( True,   83.), ( True,  528.),\n",
              "           ( True,  171.), ( True,  357.), ( True,  527.), ( True,  149.),\n",
              "           ( True,  518.), ( True,   81.), (False,  434.), ( True,  131.),\n",
              "           ( True,   66.), ( True,  613.), ( True,   48.), ( True,   83.),\n",
              "           (False,    6.), ( True,   33.), (False, 1000.), ( True,  492.),\n",
              "           (False,  251.), (False,  784.), ( True,  396.), ( True,  218.),\n",
              "           ( True,   17.), (False,  878.), ( True,  398.), ( True,  375.),\n",
              "           ( True,  379.), (False,  615.), (False,  540.), ( True,  187.),\n",
              "           (False,   71.), (False,  330.), (False,  519.), (False,  502.),\n",
              "           ( True,  303.), ( True,  303.), (False,  358.), ( True,  129.),\n",
              "           ( True,  335.), ( True,  320.), ( True,  156.), ( True,   19.),\n",
              "           ( True,  704.), (False, 1000.), ( True,  448.), ( True,  413.),\n",
              "           (False, 1000.), ( True,  522.), ( True,  447.), ( True,   15.),\n",
              "           (False, 1000.), ( True,  381.), ( True,  815.), (False, 1000.),\n",
              "           ( True,    2.), ( True,  148.), ( True,  282.), ( True,  349.),\n",
              "           ( True,   22.), ( True,  336.), ( True,   37.), ( True,  269.),\n",
              "           ( True,  233.), ( True,   74.), ( True,  252.), (False, 1000.),\n",
              "           ( True,  937.), ( True,  113.), ( True,  237.), ( True,   41.),\n",
              "           ( True,  379.), ( True,  176.), ( True,   45.), (False,  478.),\n",
              "           ( True,  287.), ( True,  376.), ( True,  104.), ( True,   99.),\n",
              "           ( True,  370.), ( True,   99.), (False, 1000.), (False,  275.),\n",
              "           ( True,  436.), ( True,   13.), ( True,  699.), ( True,  309.),\n",
              "           (False,    1.), ( True,  280.), (False, 1000.), ( True,  926.),\n",
              "           ( True,  107.), ( True,  354.), ( True,  375.), ( True,   63.),\n",
              "           ( True,  291.), (False,   14.), (False,  874.), ( True,  330.),\n",
              "           ( True,  624.), ( True,  282.), ( True,  439.), (False, 1000.),\n",
              "           ( True,  187.), ( True,  285.), ( True,  314.), ( True,   89.),\n",
              "           (False,  868.), (False,  844.), ( True,  202.), ( True,  505.),\n",
              "           ( True,  143.), ( True,  261.), ( True,  225.), ( True,   51.),\n",
              "           (False,  512.), ( True,  552.), (False,  249.), (False,  476.),\n",
              "           ( True,  560.), (False, 1000.), ( True,   63.), ( True,  255.),\n",
              "           ( True,  168.), ( True,  145.), ( True,  268.), ( True,   30.),\n",
              "           (False,  148.), ( True,  408.), ( True,   76.), ( True,  281.),\n",
              "           (False, 1000.), ( True,   29.), ( True,  246.), ( True,  405.),\n",
              "           (False, 1000.), ( True,   94.), ( True,  850.), ( True,  293.),\n",
              "           ( True,   51.), ( True,   21.), (False, 1000.), ( True,  158.),\n",
              "           (False, 1000.), ( True,   38.), ( True,   41.), ( True,  219.),\n",
              "           ( True,  283.), ( True,  514.), ( True,  121.), ( True,  218.),\n",
              "           ( True,    1.), ( True,  438.), ( True,   67.), ( True,  243.),\n",
              "           ( True,  426.), ( True,   20.), ( True,  132.), ( True,  460.),\n",
              "           ( True,   73.), (False,  293.), (False, 1000.), ( True,  712.),\n",
              "           ( True,  144.), ( True,  407.), (False,  925.), ( True,   23.),\n",
              "           (False, 1000.), ( True,  247.), ( True,   71.), ( True,  555.),\n",
              "           ( True,   32.), ( True,  168.), ( True,   32.), ( True,  399.),\n",
              "           ( True,    2.), ( True,  395.), ( True,   61.)],\n",
              "          dtype=[('death', '?'), ('OS_time', '<f8')])"
            ]
          },
          "metadata": {
            "tags": []
          },
          "execution_count": 17
        }
      ]
    },
    {
      "cell_type": "code",
      "metadata": {
        "id": "HSRBrYFBuPBp"
      },
      "source": [
        "X = data.drop(columns=['death', 'OS_time'])"
      ],
      "execution_count": 18,
      "outputs": []
    },
    {
      "cell_type": "code",
      "metadata": {
        "id": "mu2JQpb3uXk5",
        "colab": {
          "base_uri": "https://localhost:8080/"
        },
        "outputId": "2566afaf-7f06-41a2-998e-64071f33664d"
      },
      "source": [
        "from sksurv.ensemble import RandomSurvivalForest\n",
        "from sklearn.model_selection import train_test_split\n",
        "from eli5.sklearn import PermutationImportance\n",
        "import eli5"
      ],
      "execution_count": 19,
      "outputs": [
        {
          "output_type": "stream",
          "text": [
            "/usr/local/lib/python3.7/dist-packages/sklearn/utils/deprecation.py:144: FutureWarning: The sklearn.feature_selection.base module is  deprecated in version 0.22 and will be removed in version 0.24. The corresponding classes / functions should instead be imported from sklearn.feature_selection. Anything that cannot be imported from sklearn.feature_selection is now part of the private API.\n",
            "  warnings.warn(message, FutureWarning)\n"
          ],
          "name": "stderr"
        }
      ]
    },
    {
      "cell_type": "code",
      "metadata": {
        "id": "Vm8qI3pZu9wz"
      },
      "source": [
        "rsf = RandomSurvivalForest()"
      ],
      "execution_count": 20,
      "outputs": []
    },
    {
      "cell_type": "code",
      "metadata": {
        "id": "4FVACqbDwHVJ"
      },
      "source": [
        "def permutation(X, y, model, loops):\n",
        "  rankings = np.zeros(len(X.columns),)\n",
        "  bordarank = np.zeros(len(X.columns),)\n",
        "  c_score_total = []\n",
        "  a= 0\n",
        "  np.random.seed(42); randseed = np.random.randint(9999, size = 1500)\n",
        "\n",
        "  for x in range(loops):\n",
        "\n",
        "    #Let's do this trick with the seeding, so we can have the same test set\n",
        "    a += 1\n",
        "    seed = randseed[a]\n",
        "  #Let's do a splitting 1/3 train, 1/3 rank, 1/3 test\n",
        "    X_train, X_test, y_train, y_test = train_test_split(\n",
        "    X, Y, test_size=0.33, random_state = seed )\n",
        "    X_train, X_rank, y_train, y_rank = train_test_split(\n",
        "    X_train, y_train, test_size=0.5, random_state = seed)\n",
        "  #Let's train the model on the \n",
        "    model.fit(X_train, y_train)\n",
        "  #Let's define the permutation.\n",
        "    permuter = PermutationImportance(\n",
        "    estimator = model,\n",
        "    n_iter = 10)\n",
        "  #Let's fit the permutator on the Y test, (This permutation only shuffle the Y test.)\n",
        "    permuter.fit(X_rank, y_rank)\n",
        "  \n",
        "    columns = X_test.columns.to_list()\n",
        "  #The feature importance will give us and n array of how much the Concordance score dropped\n",
        "    feature_importance = permuter.feature_importances_\n",
        "  # I need to create a ranking out of this\n",
        "    rankings = np.add(feature_importance, rankings)\n",
        "  #This will create a numpy array with each c index loss. Each row is a loop. \n",
        "    bordarank = np.vstack((bordarank, feature_importance))\n",
        "  #Let's compute the Concordance index score\n",
        "    c_score = model.score(X_test, y_test)\n",
        "    c_score_total.append(c_score)\n",
        "\n",
        "  \n",
        "    \n",
        "  #Dividing to get the average \n",
        "  ranking_terminal = np.true_divide(rankings, loops) \n",
        "  c_rank = pd.DataFrame({'features': columns, 'C_loss': ranking_terminal}).sort_values(ascending = False, by =['C_loss'])\n",
        "  c_mean = np.mean(np.array(c_score_total))\n",
        "  c_std = np.std(np.array(c_score_total))\n",
        "  #Let's start working with the borda. First we delete the first row that is just 0s\n",
        "  bordarank = np.delete(bordarank, 0, 0)\n",
        "  ranking_the_data = rankdata(bordarank * -1, axis=1)\n",
        "  rankavg = np.mean(ranking_the_data, axis = 0)\n",
        "  ranksd = np.std(ranking_the_data, axis = 0)\n",
        "  #Vamos a ver como queda\n",
        "  borda = pd.DataFrame({'Features': columns, 'C_Average_Loss': ranking_terminal, 'borda_average': rankavg, 'borda_sd': ranksd}).sort_values(ascending = True, by = ['borda_average'])\n",
        "  \n",
        "\n",
        "\n",
        "\n",
        "  return c_rank, c_mean, c_std, borda"
      ],
      "execution_count": 21,
      "outputs": []
    },
    {
      "cell_type": "code",
      "metadata": {
        "id": "dX7jL2elwHYC"
      },
      "source": [
        "rank, c_mean, c_std, borda = permutation(X, Y, rsf, 100)"
      ],
      "execution_count": 22,
      "outputs": []
    },
    {
      "cell_type": "code",
      "metadata": {
        "colab": {
          "base_uri": "https://localhost:8080/"
        },
        "id": "4rgg9E6Mw8Ek",
        "outputId": "be5d397f-04a5-4388-ff33-08c243ead0ad"
      },
      "source": [
        "c_mean"
      ],
      "execution_count": 23,
      "outputs": [
        {
          "output_type": "execute_result",
          "data": {
            "text/plain": [
              "0.7766496154102278"
            ]
          },
          "metadata": {
            "tags": []
          },
          "execution_count": 23
        }
      ]
    },
    {
      "cell_type": "code",
      "metadata": {
        "colab": {
          "base_uri": "https://localhost:8080/"
        },
        "id": "veEgGXKPxIA8",
        "outputId": "d58fd2d8-826b-4a01-e296-44ab962d0ecf"
      },
      "source": [
        "c_std"
      ],
      "execution_count": 24,
      "outputs": [
        {
          "output_type": "execute_result",
          "data": {
            "text/plain": [
              "0.01372879766960945"
            ]
          },
          "metadata": {
            "tags": []
          },
          "execution_count": 24
        }
      ]
    },
    {
      "cell_type": "code",
      "metadata": {
        "colab": {
          "base_uri": "https://localhost:8080/",
          "height": 205
        },
        "id": "4_tAY1ILw80Z",
        "outputId": "898ae613-7724-457d-b741-2255bf70533b"
      },
      "source": [
        "borda"
      ],
      "execution_count": 25,
      "outputs": [
        {
          "output_type": "execute_result",
          "data": {
            "text/html": [
              "<div>\n",
              "<style scoped>\n",
              "    .dataframe tbody tr th:only-of-type {\n",
              "        vertical-align: middle;\n",
              "    }\n",
              "\n",
              "    .dataframe tbody tr th {\n",
              "        vertical-align: top;\n",
              "    }\n",
              "\n",
              "    .dataframe thead th {\n",
              "        text-align: right;\n",
              "    }\n",
              "</style>\n",
              "<table border=\"1\" class=\"dataframe\">\n",
              "  <thead>\n",
              "    <tr style=\"text-align: right;\">\n",
              "      <th></th>\n",
              "      <th>Features</th>\n",
              "      <th>C_Average_Loss</th>\n",
              "      <th>borda_average</th>\n",
              "      <th>borda_sd</th>\n",
              "    </tr>\n",
              "  </thead>\n",
              "  <tbody>\n",
              "    <tr>\n",
              "      <th>3</th>\n",
              "      <td>adjuvant_treatment</td>\n",
              "      <td>0.171855</td>\n",
              "      <td>1.00</td>\n",
              "      <td>0.000000</td>\n",
              "    </tr>\n",
              "    <tr>\n",
              "      <th>1</th>\n",
              "      <td>biopsy_debulking</td>\n",
              "      <td>0.025196</td>\n",
              "      <td>2.42</td>\n",
              "      <td>0.635295</td>\n",
              "    </tr>\n",
              "    <tr>\n",
              "      <th>0</th>\n",
              "      <td>age</td>\n",
              "      <td>0.019631</td>\n",
              "      <td>2.88</td>\n",
              "      <td>0.738647</td>\n",
              "    </tr>\n",
              "    <tr>\n",
              "      <th>4</th>\n",
              "      <td>SVZ status</td>\n",
              "      <td>0.010251</td>\n",
              "      <td>3.93</td>\n",
              "      <td>0.724638</td>\n",
              "    </tr>\n",
              "    <tr>\n",
              "      <th>2</th>\n",
              "      <td>KPS</td>\n",
              "      <td>0.004276</td>\n",
              "      <td>4.77</td>\n",
              "      <td>0.420833</td>\n",
              "    </tr>\n",
              "  </tbody>\n",
              "</table>\n",
              "</div>"
            ],
            "text/plain": [
              "             Features  C_Average_Loss  borda_average  borda_sd\n",
              "3  adjuvant_treatment        0.171855           1.00  0.000000\n",
              "1    biopsy_debulking        0.025196           2.42  0.635295\n",
              "0                 age        0.019631           2.88  0.738647\n",
              "4          SVZ status        0.010251           3.93  0.724638\n",
              "2                 KPS        0.004276           4.77  0.420833"
            ]
          },
          "metadata": {
            "tags": []
          },
          "execution_count": 25
        }
      ]
    },
    {
      "cell_type": "markdown",
      "metadata": {
        "id": "JX5CiDm9xMX8"
      },
      "source": [
        "First top 2 features"
      ]
    },
    {
      "cell_type": "code",
      "metadata": {
        "id": "tXlu9s9oxLwh"
      },
      "source": [
        "X_tf = data[['adjuvant_treatment', 'biopsy_debulking']]"
      ],
      "execution_count": 26,
      "outputs": []
    },
    {
      "cell_type": "code",
      "metadata": {
        "id": "qqYse4zJxUgn"
      },
      "source": [
        "def top2features(X, y, model, loops):\n",
        "  \n",
        "  c_score_total = []\n",
        "  a= 0\n",
        "  np.random.seed(42); randseed = np.random.randint(9999, size = 1500)\n",
        "  for x in range(loops):\n",
        "\n",
        "    #Let's do this trick with the seeding, so we can have the same array of test sets, that we had in the previous feature selection algorithm. \n",
        "    a += 1\n",
        "    seed = randseed[a]\n",
        "  #Let's do a splitting 1/3 train, 1/3 rank, 1/3 test\n",
        "    X_train, X_test, y_train, y_test = train_test_split(\n",
        "    X, Y, test_size=0.33, random_state = seed )\n",
        "    X_train, X_rank, y_train, y_rank = train_test_split(\n",
        "    X, Y, test_size=0.5, random_state = seed)\n",
        "  #Let's train the model on the \n",
        "    model.fit(X_train, y_train)\n",
        "  #Let's compute the scores\n",
        "    c_score = model.score(X_test, y_test)\n",
        "    c_score_total.append(c_score)\n",
        "\n",
        "  \n",
        "  c_mean_top2 = np.mean(np.array(c_score_total))\n",
        "  c_std_top2 = np.std(np.array(c_score_total))\n",
        "\n",
        "\n",
        "\n",
        "  return c_mean_top2, c_std_top2"
      ],
      "execution_count": 27,
      "outputs": []
    },
    {
      "cell_type": "code",
      "metadata": {
        "id": "c0s7h3T9xcRu"
      },
      "source": [
        "c_score_tf = top2features(X_tf, Y, rsf, 100)"
      ],
      "execution_count": 28,
      "outputs": []
    },
    {
      "cell_type": "code",
      "metadata": {
        "colab": {
          "base_uri": "https://localhost:8080/"
        },
        "id": "kYr7wP8sxkWP",
        "outputId": "0c21f86c-7955-4069-973f-08d8732411b3"
      },
      "source": [
        "c_score_tf"
      ],
      "execution_count": 29,
      "outputs": [
        {
          "output_type": "execute_result",
          "data": {
            "text/plain": [
              "(0.7650182818916558, 0.011195077761728893)"
            ]
          },
          "metadata": {
            "tags": []
          },
          "execution_count": 29
        }
      ]
    },
    {
      "cell_type": "code",
      "metadata": {
        "id": "xKdW_1NQxlRT"
      },
      "source": [
        ""
      ],
      "execution_count": 29,
      "outputs": []
    },
    {
      "cell_type": "markdown",
      "metadata": {
        "id": "oHrnhtqsx4RZ"
      },
      "source": [
        "## Brier Score"
      ]
    },
    {
      "cell_type": "code",
      "metadata": {
        "id": "A3Q123Ocx5kO",
        "colab": {
          "base_uri": "https://localhost:8080/"
        },
        "outputId": "5fbdf9c0-1353-4753-d7b7-f7ca13dcd447"
      },
      "source": [
        "pip install pysurvival"
      ],
      "execution_count": 30,
      "outputs": [
        {
          "output_type": "stream",
          "text": [
            "Collecting pysurvival\n",
            "  Downloading pysurvival-0.1.2.tar.gz (4.7 MB)\n",
            "\u001b[K     |████████████████████████████████| 4.7 MB 35.1 MB/s \n",
            "\u001b[?25hRequirement already satisfied: matplotlib in /usr/local/lib/python3.7/dist-packages (from pysurvival) (3.2.2)\n",
            "Requirement already satisfied: numpy in /usr/local/lib/python3.7/dist-packages (from pysurvival) (1.19.5)\n",
            "Requirement already satisfied: pandas in /usr/local/lib/python3.7/dist-packages (from pysurvival) (1.1.5)\n",
            "Requirement already satisfied: pip in /usr/local/lib/python3.7/dist-packages (from pysurvival) (21.2.2)\n",
            "Collecting progressbar\n",
            "  Downloading progressbar-2.5.tar.gz (10 kB)\n",
            "Requirement already satisfied: pyarrow in /usr/local/lib/python3.7/dist-packages (from pysurvival) (3.0.0)\n",
            "Requirement already satisfied: scikit-learn in /usr/local/lib/python3.7/dist-packages (from pysurvival) (0.22.2.post1)\n",
            "Requirement already satisfied: scipy in /usr/local/lib/python3.7/dist-packages (from pysurvival) (1.7.0)\n",
            "Requirement already satisfied: sklearn in /usr/local/lib/python3.7/dist-packages (from pysurvival) (0.0)\n",
            "Requirement already satisfied: torch in /usr/local/lib/python3.7/dist-packages (from pysurvival) (1.9.0+cu102)\n",
            "Requirement already satisfied: kiwisolver>=1.0.1 in /usr/local/lib/python3.7/dist-packages (from matplotlib->pysurvival) (1.3.1)\n",
            "Requirement already satisfied: cycler>=0.10 in /usr/local/lib/python3.7/dist-packages (from matplotlib->pysurvival) (0.10.0)\n",
            "Requirement already satisfied: pyparsing!=2.0.4,!=2.1.2,!=2.1.6,>=2.0.1 in /usr/local/lib/python3.7/dist-packages (from matplotlib->pysurvival) (2.4.7)\n",
            "Requirement already satisfied: python-dateutil>=2.1 in /usr/local/lib/python3.7/dist-packages (from matplotlib->pysurvival) (2.8.1)\n",
            "Requirement already satisfied: six in /usr/local/lib/python3.7/dist-packages (from cycler>=0.10->matplotlib->pysurvival) (1.15.0)\n",
            "Requirement already satisfied: pytz>=2017.2 in /usr/local/lib/python3.7/dist-packages (from pandas->pysurvival) (2018.9)\n",
            "Requirement already satisfied: joblib>=0.11 in /usr/local/lib/python3.7/dist-packages (from scikit-learn->pysurvival) (1.0.1)\n",
            "Requirement already satisfied: typing-extensions in /usr/local/lib/python3.7/dist-packages (from torch->pysurvival) (3.7.4.3)\n",
            "Building wheels for collected packages: pysurvival, progressbar\n",
            "  Building wheel for pysurvival (setup.py) ... \u001b[?25l\u001b[?25hdone\n",
            "  Created wheel for pysurvival: filename=pysurvival-0.1.2-cp37-cp37m-linux_x86_64.whl size=3773312 sha256=463aab7e5b933b5c395566d527eb798333967c55784694eccc358228ae201cb2\n",
            "  Stored in directory: /root/.cache/pip/wheels/1a/63/e2/32273d765a4e2f4ccac69c8adf97425ca80bab5d0c8447f120\n",
            "  Building wheel for progressbar (setup.py) ... \u001b[?25l\u001b[?25hdone\n",
            "  Created wheel for progressbar: filename=progressbar-2.5-py3-none-any.whl size=12082 sha256=18082e39fa5e823d8bdece95698cb9398e738a963b3e163fab945dae5cbd12c2\n",
            "  Stored in directory: /root/.cache/pip/wheels/f0/fd/1f/3e35ed57e94cd8ced38dd46771f1f0f94f65fec548659ed855\n",
            "Successfully built pysurvival progressbar\n",
            "Installing collected packages: progressbar, pysurvival\n",
            "Successfully installed progressbar-2.5 pysurvival-0.1.2\n",
            "\u001b[33mWARNING: Running pip as the 'root' user can result in broken permissions and conflicting behaviour with the system package manager. It is recommended to use a virtual environment instead: https://pip.pypa.io/warnings/venv\u001b[0m\n"
          ],
          "name": "stdout"
        }
      ]
    },
    {
      "cell_type": "code",
      "metadata": {
        "id": "0g6Z6Oh_x8wm"
      },
      "source": [
        "from pysurvival.utils.metrics import concordance_index\n",
        "from pysurvival.utils.metrics import integrated_brier_score\n",
        "from pysurvival.models.survival_forest import RandomSurvivalForestModel"
      ],
      "execution_count": 31,
      "outputs": []
    },
    {
      "cell_type": "code",
      "metadata": {
        "id": "3NshYJUXx84p"
      },
      "source": [
        "T = data['OS_time']\n",
        "E = data['death']"
      ],
      "execution_count": 32,
      "outputs": []
    },
    {
      "cell_type": "code",
      "metadata": {
        "id": "9pmDp3TMyMnn"
      },
      "source": [
        "pyforest = RandomSurvivalForestModel(num_trees=100)"
      ],
      "execution_count": 33,
      "outputs": []
    },
    {
      "cell_type": "code",
      "metadata": {
        "id": "NzLpb6M_yMqV"
      },
      "source": [
        "def Py_scores(X, T, E, model, loops):\n",
        "  \n",
        "  c_score_total = []\n",
        "  ibstotal = []\n",
        "  a= 0\n",
        "  np.random.seed(42); randseed = np.random.randint(9999, size = 1500)\n",
        "  for x in range(loops):\n",
        "\n",
        "    #Let's do this trick with the seeding, so we can have the same array of test sets, that we had in the previous feature selection algorithm. \n",
        "    a += 1\n",
        "    seed = randseed[a]\n",
        "  #Let's do a splitting 1/3 train, 1/3 rank, 1/3 test\n",
        "    X_train, X_test, t_train, t_test, e_train, e_test = train_test_split(\n",
        "    X, T, E, test_size=0.33, random_state = seed )\n",
        "    X_train, X_rank, t_train, t_rank, e_train, e_rank = train_test_split(\n",
        "    X_train, t_train, e_train, test_size=0.5, random_state = seed)\n",
        "  #Let's train the model on the \n",
        "    model.fit(X_train, t_train, e_train, max_depth=5)\n",
        "    \n",
        "  #Let's compute the C - scores\n",
        "  #Let's compute the integrated brier score\n",
        "    ibs = integrated_brier_score(model, X_test, t_test, e_test)\n",
        "    ibstotal.append(ibs)\n",
        "    \n",
        "  \n",
        "  \n",
        "  ibstotal2 = np.mean(np.array(ibstotal))\n",
        "  ibs_std = np.std(np.array(ibstotal))\n",
        "\n",
        "\n",
        "  return ibstotal2, ibs_std"
      ],
      "execution_count": 34,
      "outputs": []
    },
    {
      "cell_type": "code",
      "metadata": {
        "id": "kwkRa0bIyQu_"
      },
      "source": [
        "ibs_mean, ibs_std = Py_scores(X, T, E, pyforest, 100)"
      ],
      "execution_count": 35,
      "outputs": []
    },
    {
      "cell_type": "code",
      "metadata": {
        "colab": {
          "base_uri": "https://localhost:8080/"
        },
        "id": "6_NcI05VyQ2F",
        "outputId": "5de58bb7-fee9-4252-d356-c59a1ccb1363"
      },
      "source": [
        "ibs_mean"
      ],
      "execution_count": 36,
      "outputs": [
        {
          "output_type": "execute_result",
          "data": {
            "text/plain": [
              "0.1282148011699619"
            ]
          },
          "metadata": {
            "tags": []
          },
          "execution_count": 36
        }
      ]
    },
    {
      "cell_type": "code",
      "metadata": {
        "colab": {
          "base_uri": "https://localhost:8080/"
        },
        "id": "lkbQLxyOzKgB",
        "outputId": "07186469-1e22-4d77-8a8d-c35f362c0ab4"
      },
      "source": [
        "ibs_std"
      ],
      "execution_count": 37,
      "outputs": [
        {
          "output_type": "execute_result",
          "data": {
            "text/plain": [
              "0.005238993029813132"
            ]
          },
          "metadata": {
            "tags": []
          },
          "execution_count": 37
        }
      ]
    },
    {
      "cell_type": "markdown",
      "metadata": {
        "id": "MY-IYyS4zaeQ"
      },
      "source": [
        "## Deep Surv"
      ]
    },
    {
      "cell_type": "code",
      "metadata": {
        "id": "j_lvJiX4zbww"
      },
      "source": [
        "from pysurvival.models.semi_parametric import NonLinearCoxPHModel\n"
      ],
      "execution_count": 38,
      "outputs": []
    },
    {
      "cell_type": "code",
      "metadata": {
        "id": "Nr_x9hU4zede"
      },
      "source": [
        "def Py_scores_deepsurv(X, T, E, loops):\n",
        "  \n",
        "  c_score_total = []\n",
        "  ibstotal = []\n",
        "  a= 0\n",
        "  np.random.seed(42); randseed = np.random.randint(9999, size = 1500)\n",
        "  for x in range(loops):\n",
        "\n",
        "    #Let's do this trick with the seeding, so we can have the same array of test sets, that we had in the previous feature selection algorithm. \n",
        "    a += 1\n",
        "    seed = randseed[a]\n",
        "  #Let's do a splitting 1/3 train, 1/3 rank, 1/3 test\n",
        "    X_train, X_test, t_train, t_test, e_train, e_test = train_test_split(\n",
        "    X, T, E, test_size=0.33, random_state = seed )\n",
        "    X_train, X_rank, t_train, t_rank, e_train, e_rank = train_test_split(\n",
        "    X_train, t_train, e_train, test_size=0.5, random_state = seed)\n",
        "  #Let's train the NN \n",
        "    structure = [ {'activation': 'ReLU', 'num_units': 64}, {'activation': 'ReLU', 'num_units': 32}, ]\n",
        "    nonlinear_coxph = NonLinearCoxPHModel(structure = structure)\n",
        "    nonlinear_coxph.fit(X_train, t_train, e_train, num_epochs = 500, dropout = 0.2,)\n",
        "    c_score_total.append(concordance_index(nonlinear_coxph, X_test, t_test, e_test))\n",
        "    \n",
        "  #Let's compute the C - scores\n",
        "  #Let's compute the integrated brier score\n",
        "    ibs = integrated_brier_score(nonlinear_coxph, X_test, t_test, e_test)\n",
        "    ibstotal.append(ibs)\n",
        "    \n",
        "  \n",
        "  \n",
        "  ibstotal2 = np.mean(np.array(ibstotal))\n",
        "  ibs_std = np.std(np.array(ibstotal))\n",
        "  c_score_avg = np.mean(np.array(c_score_total))\n",
        "  c_score_std = np.std(np.array(c_score_total))\n",
        "\n",
        "  return ibstotal2, ibs_std, c_score_avg, c_score_std"
      ],
      "execution_count": 39,
      "outputs": []
    },
    {
      "cell_type": "code",
      "metadata": {
        "id": "52hs4hPxzhCq"
      },
      "source": [
        "ib, ibstd, c_index_avg, c_score_std = Py_scores_deepsurv(X, T, E, 100)"
      ],
      "execution_count": null,
      "outputs": []
    },
    {
      "cell_type": "markdown",
      "metadata": {
        "id": "jKEM6eNazAWr"
      },
      "source": [
        "Integrated Brier Score"
      ]
    },
    {
      "cell_type": "code",
      "metadata": {
        "colab": {
          "base_uri": "https://localhost:8080/"
        },
        "id": "yUpstPzZy-jg",
        "outputId": "96936698-75eb-4dca-c55b-b9884a07f605"
      },
      "source": [
        "ib"
      ],
      "execution_count": 41,
      "outputs": [
        {
          "output_type": "execute_result",
          "data": {
            "text/plain": [
              "0.1386942363321737"
            ]
          },
          "metadata": {
            "tags": []
          },
          "execution_count": 41
        }
      ]
    },
    {
      "cell_type": "markdown",
      "metadata": {
        "id": "vsrpLrcuzKYU"
      },
      "source": [
        "Brier score sd"
      ]
    },
    {
      "cell_type": "code",
      "metadata": {
        "colab": {
          "base_uri": "https://localhost:8080/"
        },
        "id": "VrTMLpwGy_Zi",
        "outputId": "0133e385-4e77-45d4-c372-512b61763c79"
      },
      "source": [
        "ibstd"
      ],
      "execution_count": 42,
      "outputs": [
        {
          "output_type": "execute_result",
          "data": {
            "text/plain": [
              "0.012011663805876479"
            ]
          },
          "metadata": {
            "tags": []
          },
          "execution_count": 42
        }
      ]
    },
    {
      "cell_type": "code",
      "metadata": {
        "colab": {
          "base_uri": "https://localhost:8080/"
        },
        "id": "oaYfYoGw0HFQ",
        "outputId": "5e2fea4e-08a1-4b73-fcba-39078c62fbda"
      },
      "source": [
        "c_index_avg"
      ],
      "execution_count": 43,
      "outputs": [
        {
          "output_type": "execute_result",
          "data": {
            "text/plain": [
              "0.7311012036217651"
            ]
          },
          "metadata": {
            "tags": []
          },
          "execution_count": 43
        }
      ]
    },
    {
      "cell_type": "code",
      "metadata": {
        "colab": {
          "base_uri": "https://localhost:8080/"
        },
        "id": "ljPyqGSS0KK6",
        "outputId": "7f8427a7-a0c7-4c6c-fb59-078f7427afb2"
      },
      "source": [
        "c_score_std"
      ],
      "execution_count": 44,
      "outputs": [
        {
          "output_type": "execute_result",
          "data": {
            "text/plain": [
              "0.036146996983189864"
            ]
          },
          "metadata": {
            "tags": []
          },
          "execution_count": 44
        }
      ]
    },
    {
      "cell_type": "markdown",
      "metadata": {
        "id": "B4gnf5DR1yuO"
      },
      "source": [
        "## Cox Proportional Hazards"
      ]
    },
    {
      "cell_type": "code",
      "metadata": {
        "id": "gokU-IhW11B7"
      },
      "source": [
        "from pysurvival.models.semi_parametric import CoxPHModel\n"
      ],
      "execution_count": 45,
      "outputs": []
    },
    {
      "cell_type": "code",
      "metadata": {
        "id": "nlSPexnz13bK"
      },
      "source": [
        "coxph = CoxPHModel()"
      ],
      "execution_count": 46,
      "outputs": []
    },
    {
      "cell_type": "code",
      "metadata": {
        "id": "UzTaggI316iD"
      },
      "source": [
        "def Py_scores_cox(X, T, E, model, loops):\n",
        "  \n",
        "  c_score_total = []\n",
        "  ibstotal = []\n",
        "  a= 0\n",
        "  np.random.seed(42); randseed = np.random.randint(9999, size = 1500)\n",
        "  for x in range(loops):\n",
        "\n",
        "    #Let's do this trick with the seeding, so we can have the same array of test sets, that we had in the previous feature selection algorithm. \n",
        "    a += 1\n",
        "    seed = randseed[a]\n",
        "  #Let's do a splitting 1/3 train, 1/3 rank, 1/3 test\n",
        "    X_train, X_test, t_train, t_test, e_train, e_test = train_test_split(\n",
        "    X, T, E, test_size=0.33, random_state = seed )\n",
        "    X_train, X_rank, t_train, t_rank, e_train, e_rank = train_test_split(\n",
        "    X_train, t_train, e_train, test_size=0.5, random_state = seed)\n",
        "  #Let's train the model on the \n",
        "    model.fit(X_train, t_train, e_train, lr = 1e-3, max_iter = 1000)\n",
        "    c_score_total.append(concordance_index(model, X_test, t_test, e_test))\n",
        "    \n",
        "  #Let's compute the C - scores\n",
        "  #Let's compute the integrated brier score\n",
        "    ibs = integrated_brier_score(model, X_test, t_test, e_test)\n",
        "    ibstotal.append(ibs)\n",
        "    \n",
        "  \n",
        "  \n",
        "  ibstotal2 = np.mean(np.array(ibstotal))\n",
        "  ibs_std = np.std(np.array(ibstotal))\n",
        "  c_index = np.mean(np.array(c_score_total))\n",
        "  c_index_sd = np.std(np.array(c_score_total))\n",
        "\n",
        "  return ibstotal2, ibs_std, c_index, c_index_sd"
      ],
      "execution_count": 61,
      "outputs": []
    },
    {
      "cell_type": "code",
      "metadata": {
        "id": "UWkeV8T617du"
      },
      "source": [
        "ib, ibstd, c_index_avg, c_index_sd = Py_scores_cox(X, T, E, coxph, 100)"
      ],
      "execution_count": null,
      "outputs": []
    },
    {
      "cell_type": "code",
      "metadata": {
        "colab": {
          "base_uri": "https://localhost:8080/"
        },
        "id": "Uat09eEi2Hkq",
        "outputId": "21d7fd7b-5945-48f8-a22c-cf8386d806dd"
      },
      "source": [
        "ib"
      ],
      "execution_count": 65,
      "outputs": [
        {
          "output_type": "execute_result",
          "data": {
            "text/plain": [
              "0.14789487483168215"
            ]
          },
          "metadata": {
            "tags": []
          },
          "execution_count": 65
        }
      ]
    },
    {
      "cell_type": "code",
      "metadata": {
        "colab": {
          "base_uri": "https://localhost:8080/"
        },
        "id": "SicKAJ8Dzf6O",
        "outputId": "5c0b7e84-fca9-4a50-8846-120c95119c6d"
      },
      "source": [
        "ibstd"
      ],
      "execution_count": 66,
      "outputs": [
        {
          "output_type": "execute_result",
          "data": {
            "text/plain": [
              "0.015178430610807606"
            ]
          },
          "metadata": {
            "tags": []
          },
          "execution_count": 66
        }
      ]
    },
    {
      "cell_type": "code",
      "metadata": {
        "colab": {
          "base_uri": "https://localhost:8080/"
        },
        "id": "FmDf242X3w4B",
        "outputId": "a66aaa8a-f19a-4de7-ce14-800f5b73c4fb"
      },
      "source": [
        "c_index_avg"
      ],
      "execution_count": 64,
      "outputs": [
        {
          "output_type": "execute_result",
          "data": {
            "text/plain": [
              "0.7156577669953437"
            ]
          },
          "metadata": {
            "tags": []
          },
          "execution_count": 64
        }
      ]
    },
    {
      "cell_type": "code",
      "metadata": {
        "colab": {
          "base_uri": "https://localhost:8080/"
        },
        "id": "mmi4qsKgzh9c",
        "outputId": "f73e8368-8778-4dee-fdc5-37d432e59a20"
      },
      "source": [
        "c_index_sd"
      ],
      "execution_count": 67,
      "outputs": [
        {
          "output_type": "execute_result",
          "data": {
            "text/plain": [
              "0.034909994962186594"
            ]
          },
          "metadata": {
            "tags": []
          },
          "execution_count": 67
        }
      ]
    }
  ]
}