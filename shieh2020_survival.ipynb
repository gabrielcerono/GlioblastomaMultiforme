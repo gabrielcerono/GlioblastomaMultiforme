{
  "nbformat": 4,
  "nbformat_minor": 0,
  "metadata": {
    "colab": {
      "name": "shieh2020 survival.ipynb",
      "provenance": [],
      "authorship_tag": "ABX9TyMmqUkZQMwVAGdUW1W8axi/",
      "include_colab_link": true
    },
    "kernelspec": {
      "name": "python3",
      "display_name": "Python 3"
    },
    "language_info": {
      "name": "python"
    }
  },
  "cells": [
    {
      "cell_type": "markdown",
      "metadata": {
        "id": "view-in-github",
        "colab_type": "text"
      },
      "source": [
        "<a href=\"https://colab.research.google.com/github/gabrielcerono/GlioblastomaMultiforme/blob/main/shieh2020_survival.ipynb\" target=\"_parent\"><img src=\"https://colab.research.google.com/assets/colab-badge.svg\" alt=\"Open In Colab\"/></a>"
      ]
    },
    {
      "cell_type": "code",
      "metadata": {
        "id": "smkRR4Gg9Y_C"
      },
      "source": [
        "import pandas as pd\n",
        "import matplotlib.pyplot as plt\n",
        "import numpy as np\n",
        "import sklearn as sk"
      ],
      "execution_count": 1,
      "outputs": []
    },
    {
      "cell_type": "code",
      "metadata": {
        "id": "W6SgkbFO9UiC",
        "colab": {
          "base_uri": "https://localhost:8080/"
        },
        "outputId": "9041e7df-b353-4cc9-cd56-ad9c8b331e62"
      },
      "source": [
        "!pip install scipy --upgrade"
      ],
      "execution_count": 3,
      "outputs": [
        {
          "output_type": "stream",
          "text": [
            "Requirement already satisfied: scipy in /usr/local/lib/python3.7/dist-packages (1.7.0)\n",
            "Requirement already satisfied: numpy<1.23.0,>=1.16.5 in /usr/local/lib/python3.7/dist-packages (from scipy) (1.19.5)\n"
          ],
          "name": "stdout"
        }
      ]
    },
    {
      "cell_type": "code",
      "metadata": {
        "id": "0mX5Ssmi9W5Q"
      },
      "source": [
        "from scipy.stats import rankdata\n"
      ],
      "execution_count": 2,
      "outputs": []
    },
    {
      "cell_type": "markdown",
      "metadata": {
        "id": "9QXmh5TfEx_8"
      },
      "source": [
        "paper : https://doi.org/10.1371/journal.pone.0233188\n",
        "\n"
      ]
    },
    {
      "cell_type": "markdown",
      "metadata": {
        "id": "e8hbRcBBJocp"
      },
      "source": [
        " \" IDH and MGMT markers were not mandatory for routine pathologic reports \" Sadly we won't have this markers in this one, but we have it in other datasets."
      ]
    },
    {
      "cell_type": "code",
      "metadata": {
        "id": "VWtLUGuqEUzb"
      },
      "source": [
        "dataset = pd.read_excel('/content/shieh.xlsx')"
      ],
      "execution_count": 4,
      "outputs": []
    },
    {
      "cell_type": "code",
      "metadata": {
        "colab": {
          "base_uri": "https://localhost:8080/",
          "height": 205
        },
        "id": "qYTGd5A1FJtC",
        "outputId": "478c5877-9673-4dd0-f648-32ed10f13fd0"
      },
      "source": [
        "dataset.head(5)"
      ],
      "execution_count": 5,
      "outputs": [
        {
          "output_type": "execute_result",
          "data": {
            "text/html": [
              "<div>\n",
              "<style scoped>\n",
              "    .dataframe tbody tr th:only-of-type {\n",
              "        vertical-align: middle;\n",
              "    }\n",
              "\n",
              "    .dataframe tbody tr th {\n",
              "        vertical-align: top;\n",
              "    }\n",
              "\n",
              "    .dataframe thead th {\n",
              "        text-align: right;\n",
              "    }\n",
              "</style>\n",
              "<table border=\"1\" class=\"dataframe\">\n",
              "  <thead>\n",
              "    <tr style=\"text-align: right;\">\n",
              "      <th></th>\n",
              "      <th>gender</th>\n",
              "      <th>age</th>\n",
              "      <th>statusPFS</th>\n",
              "      <th>statusOS</th>\n",
              "      <th>surgery</th>\n",
              "      <th>dose</th>\n",
              "      <th>TMZ</th>\n",
              "      <th>Chemogroup</th>\n",
              "      <th>Chemo</th>\n",
              "      <th>diagnostic year</th>\n",
              "      <th>OS</th>\n",
              "      <th>PFS</th>\n",
              "      <th>volume</th>\n",
              "      <th>gender.1</th>\n",
              "      <th>age.1</th>\n",
              "    </tr>\n",
              "  </thead>\n",
              "  <tbody>\n",
              "    <tr>\n",
              "      <th>0</th>\n",
              "      <td>1</td>\n",
              "      <td>63</td>\n",
              "      <td>1</td>\n",
              "      <td>1</td>\n",
              "      <td>1</td>\n",
              "      <td>6000</td>\n",
              "      <td>1.0</td>\n",
              "      <td>1</td>\n",
              "      <td>1</td>\n",
              "      <td>2</td>\n",
              "      <td>1.36</td>\n",
              "      <td>1.260274</td>\n",
              "      <td>731.0</td>\n",
              "      <td>1</td>\n",
              "      <td>63</td>\n",
              "    </tr>\n",
              "    <tr>\n",
              "      <th>1</th>\n",
              "      <td>1</td>\n",
              "      <td>64</td>\n",
              "      <td>1</td>\n",
              "      <td>1</td>\n",
              "      <td>0</td>\n",
              "      <td>6600</td>\n",
              "      <td>0.0</td>\n",
              "      <td>2</td>\n",
              "      <td>1</td>\n",
              "      <td>1</td>\n",
              "      <td>8.84</td>\n",
              "      <td>5.115068</td>\n",
              "      <td>NaN</td>\n",
              "      <td>1</td>\n",
              "      <td>64</td>\n",
              "    </tr>\n",
              "    <tr>\n",
              "      <th>2</th>\n",
              "      <td>1</td>\n",
              "      <td>62</td>\n",
              "      <td>1</td>\n",
              "      <td>1</td>\n",
              "      <td>1</td>\n",
              "      <td>6000</td>\n",
              "      <td>1.0</td>\n",
              "      <td>1</td>\n",
              "      <td>1</td>\n",
              "      <td>2</td>\n",
              "      <td>1.46</td>\n",
              "      <td>0.641096</td>\n",
              "      <td>215.0</td>\n",
              "      <td>1</td>\n",
              "      <td>62</td>\n",
              "    </tr>\n",
              "    <tr>\n",
              "      <th>3</th>\n",
              "      <td>1</td>\n",
              "      <td>71</td>\n",
              "      <td>1</td>\n",
              "      <td>1</td>\n",
              "      <td>1</td>\n",
              "      <td>6000</td>\n",
              "      <td>NaN</td>\n",
              "      <td>3</td>\n",
              "      <td>1</td>\n",
              "      <td>1</td>\n",
              "      <td>2.42</td>\n",
              "      <td>0.652055</td>\n",
              "      <td>255.0</td>\n",
              "      <td>1</td>\n",
              "      <td>71</td>\n",
              "    </tr>\n",
              "    <tr>\n",
              "      <th>4</th>\n",
              "      <td>1</td>\n",
              "      <td>21</td>\n",
              "      <td>1</td>\n",
              "      <td>1</td>\n",
              "      <td>0</td>\n",
              "      <td>5940</td>\n",
              "      <td>0.0</td>\n",
              "      <td>2</td>\n",
              "      <td>1</td>\n",
              "      <td>2</td>\n",
              "      <td>1.26</td>\n",
              "      <td>1.079452</td>\n",
              "      <td>154.0</td>\n",
              "      <td>1</td>\n",
              "      <td>21</td>\n",
              "    </tr>\n",
              "  </tbody>\n",
              "</table>\n",
              "</div>"
            ],
            "text/plain": [
              "   gender  age  statusPFS  statusOS  ...       PFS  volume  gender.1  age.1\n",
              "0       1   63          1         1  ...  1.260274   731.0         1     63\n",
              "1       1   64          1         1  ...  5.115068     NaN         1     64\n",
              "2       1   62          1         1  ...  0.641096   215.0         1     62\n",
              "3       1   71          1         1  ...  0.652055   255.0         1     71\n",
              "4       1   21          1         1  ...  1.079452   154.0         1     21\n",
              "\n",
              "[5 rows x 15 columns]"
            ]
          },
          "metadata": {
            "tags": []
          },
          "execution_count": 5
        }
      ]
    },
    {
      "cell_type": "code",
      "metadata": {
        "id": "ajhfjjEWFLXo"
      },
      "source": [
        "from sklearn.experimental import enable_iterative_imputer\n",
        "from sklearn.impute import IterativeImputer"
      ],
      "execution_count": 6,
      "outputs": []
    },
    {
      "cell_type": "markdown",
      "metadata": {
        "id": "6iY4n1yiH9x2"
      },
      "source": [
        "Let's do all the pre-processing needed"
      ]
    },
    {
      "cell_type": "code",
      "metadata": {
        "id": "uYSg2wrbIA-U"
      },
      "source": [
        "imp_mean = IterativeImputer(random_state=0)"
      ],
      "execution_count": 7,
      "outputs": []
    },
    {
      "cell_type": "code",
      "metadata": {
        "id": "I5ws3IVEIClA"
      },
      "source": [
        "data = imp_mean.fit_transform(dataset)"
      ],
      "execution_count": 8,
      "outputs": []
    },
    {
      "cell_type": "code",
      "metadata": {
        "id": "ebZFafl4IJiC"
      },
      "source": [
        "data = pd.DataFrame(data=data, columns= dataset.columns,)"
      ],
      "execution_count": 9,
      "outputs": []
    },
    {
      "cell_type": "code",
      "metadata": {
        "colab": {
          "base_uri": "https://localhost:8080/",
          "height": 205
        },
        "id": "F9RprXMEIKWc",
        "outputId": "9ace8426-d259-424a-d098-a38570c46968"
      },
      "source": [
        "data.head()"
      ],
      "execution_count": 10,
      "outputs": [
        {
          "output_type": "execute_result",
          "data": {
            "text/html": [
              "<div>\n",
              "<style scoped>\n",
              "    .dataframe tbody tr th:only-of-type {\n",
              "        vertical-align: middle;\n",
              "    }\n",
              "\n",
              "    .dataframe tbody tr th {\n",
              "        vertical-align: top;\n",
              "    }\n",
              "\n",
              "    .dataframe thead th {\n",
              "        text-align: right;\n",
              "    }\n",
              "</style>\n",
              "<table border=\"1\" class=\"dataframe\">\n",
              "  <thead>\n",
              "    <tr style=\"text-align: right;\">\n",
              "      <th></th>\n",
              "      <th>gender</th>\n",
              "      <th>age</th>\n",
              "      <th>statusPFS</th>\n",
              "      <th>statusOS</th>\n",
              "      <th>surgery</th>\n",
              "      <th>dose</th>\n",
              "      <th>TMZ</th>\n",
              "      <th>Chemogroup</th>\n",
              "      <th>Chemo</th>\n",
              "      <th>diagnostic year</th>\n",
              "      <th>OS</th>\n",
              "      <th>PFS</th>\n",
              "      <th>volume</th>\n",
              "      <th>gender.1</th>\n",
              "      <th>age.1</th>\n",
              "    </tr>\n",
              "  </thead>\n",
              "  <tbody>\n",
              "    <tr>\n",
              "      <th>0</th>\n",
              "      <td>1.0</td>\n",
              "      <td>63.0</td>\n",
              "      <td>1.0</td>\n",
              "      <td>1.0</td>\n",
              "      <td>1.0</td>\n",
              "      <td>6000.0</td>\n",
              "      <td>1.000000</td>\n",
              "      <td>1.0</td>\n",
              "      <td>1.0</td>\n",
              "      <td>2.0</td>\n",
              "      <td>1.36</td>\n",
              "      <td>1.260274</td>\n",
              "      <td>731.000000</td>\n",
              "      <td>1.0</td>\n",
              "      <td>63.0</td>\n",
              "    </tr>\n",
              "    <tr>\n",
              "      <th>1</th>\n",
              "      <td>1.0</td>\n",
              "      <td>64.0</td>\n",
              "      <td>1.0</td>\n",
              "      <td>1.0</td>\n",
              "      <td>0.0</td>\n",
              "      <td>6600.0</td>\n",
              "      <td>0.000000</td>\n",
              "      <td>2.0</td>\n",
              "      <td>1.0</td>\n",
              "      <td>1.0</td>\n",
              "      <td>8.84</td>\n",
              "      <td>5.115068</td>\n",
              "      <td>272.938289</td>\n",
              "      <td>1.0</td>\n",
              "      <td>64.0</td>\n",
              "    </tr>\n",
              "    <tr>\n",
              "      <th>2</th>\n",
              "      <td>1.0</td>\n",
              "      <td>62.0</td>\n",
              "      <td>1.0</td>\n",
              "      <td>1.0</td>\n",
              "      <td>1.0</td>\n",
              "      <td>6000.0</td>\n",
              "      <td>1.000000</td>\n",
              "      <td>1.0</td>\n",
              "      <td>1.0</td>\n",
              "      <td>2.0</td>\n",
              "      <td>1.46</td>\n",
              "      <td>0.641096</td>\n",
              "      <td>215.000000</td>\n",
              "      <td>1.0</td>\n",
              "      <td>62.0</td>\n",
              "    </tr>\n",
              "    <tr>\n",
              "      <th>3</th>\n",
              "      <td>1.0</td>\n",
              "      <td>71.0</td>\n",
              "      <td>1.0</td>\n",
              "      <td>1.0</td>\n",
              "      <td>1.0</td>\n",
              "      <td>6000.0</td>\n",
              "      <td>-0.999998</td>\n",
              "      <td>3.0</td>\n",
              "      <td>1.0</td>\n",
              "      <td>1.0</td>\n",
              "      <td>2.42</td>\n",
              "      <td>0.652055</td>\n",
              "      <td>255.000000</td>\n",
              "      <td>1.0</td>\n",
              "      <td>71.0</td>\n",
              "    </tr>\n",
              "    <tr>\n",
              "      <th>4</th>\n",
              "      <td>1.0</td>\n",
              "      <td>21.0</td>\n",
              "      <td>1.0</td>\n",
              "      <td>1.0</td>\n",
              "      <td>0.0</td>\n",
              "      <td>5940.0</td>\n",
              "      <td>0.000000</td>\n",
              "      <td>2.0</td>\n",
              "      <td>1.0</td>\n",
              "      <td>2.0</td>\n",
              "      <td>1.26</td>\n",
              "      <td>1.079452</td>\n",
              "      <td>154.000000</td>\n",
              "      <td>1.0</td>\n",
              "      <td>21.0</td>\n",
              "    </tr>\n",
              "  </tbody>\n",
              "</table>\n",
              "</div>"
            ],
            "text/plain": [
              "   gender   age  statusPFS  statusOS  ...       PFS      volume  gender.1  age.1\n",
              "0     1.0  63.0        1.0       1.0  ...  1.260274  731.000000       1.0   63.0\n",
              "1     1.0  64.0        1.0       1.0  ...  5.115068  272.938289       1.0   64.0\n",
              "2     1.0  62.0        1.0       1.0  ...  0.641096  215.000000       1.0   62.0\n",
              "3     1.0  71.0        1.0       1.0  ...  0.652055  255.000000       1.0   71.0\n",
              "4     1.0  21.0        1.0       1.0  ...  1.079452  154.000000       1.0   21.0\n",
              "\n",
              "[5 rows x 15 columns]"
            ]
          },
          "metadata": {
            "tags": []
          },
          "execution_count": 10
        }
      ]
    },
    {
      "cell_type": "code",
      "metadata": {
        "colab": {
          "base_uri": "https://localhost:8080/",
          "height": 518
        },
        "id": "UXb0aczTMGJ-",
        "outputId": "04851013-ac3e-48e3-9bf2-f6d1fe24a839"
      },
      "source": [
        "data.corr(method = 'pearson')"
      ],
      "execution_count": 11,
      "outputs": [
        {
          "output_type": "execute_result",
          "data": {
            "text/html": [
              "<div>\n",
              "<style scoped>\n",
              "    .dataframe tbody tr th:only-of-type {\n",
              "        vertical-align: middle;\n",
              "    }\n",
              "\n",
              "    .dataframe tbody tr th {\n",
              "        vertical-align: top;\n",
              "    }\n",
              "\n",
              "    .dataframe thead th {\n",
              "        text-align: right;\n",
              "    }\n",
              "</style>\n",
              "<table border=\"1\" class=\"dataframe\">\n",
              "  <thead>\n",
              "    <tr style=\"text-align: right;\">\n",
              "      <th></th>\n",
              "      <th>gender</th>\n",
              "      <th>age</th>\n",
              "      <th>statusPFS</th>\n",
              "      <th>statusOS</th>\n",
              "      <th>surgery</th>\n",
              "      <th>dose</th>\n",
              "      <th>TMZ</th>\n",
              "      <th>Chemogroup</th>\n",
              "      <th>Chemo</th>\n",
              "      <th>diagnostic year</th>\n",
              "      <th>OS</th>\n",
              "      <th>PFS</th>\n",
              "      <th>volume</th>\n",
              "      <th>gender.1</th>\n",
              "      <th>age.1</th>\n",
              "    </tr>\n",
              "  </thead>\n",
              "  <tbody>\n",
              "    <tr>\n",
              "      <th>gender</th>\n",
              "      <td>1.000000</td>\n",
              "      <td>-0.163487</td>\n",
              "      <td>-0.139923</td>\n",
              "      <td>-0.113228</td>\n",
              "      <td>0.169842</td>\n",
              "      <td>0.117790</td>\n",
              "      <td>0.159429</td>\n",
              "      <td>-0.153072</td>\n",
              "      <td>-0.030024</td>\n",
              "      <td>-0.037493</td>\n",
              "      <td>0.043419</td>\n",
              "      <td>0.080638</td>\n",
              "      <td>-0.073217</td>\n",
              "      <td>1.000000</td>\n",
              "      <td>-0.163487</td>\n",
              "    </tr>\n",
              "    <tr>\n",
              "      <th>age</th>\n",
              "      <td>-0.163487</td>\n",
              "      <td>1.000000</td>\n",
              "      <td>0.202956</td>\n",
              "      <td>0.075994</td>\n",
              "      <td>-0.005687</td>\n",
              "      <td>-0.199397</td>\n",
              "      <td>0.046168</td>\n",
              "      <td>0.037592</td>\n",
              "      <td>0.110030</td>\n",
              "      <td>0.089632</td>\n",
              "      <td>-0.188313</td>\n",
              "      <td>-0.254452</td>\n",
              "      <td>0.153293</td>\n",
              "      <td>-0.163487</td>\n",
              "      <td>1.000000</td>\n",
              "    </tr>\n",
              "    <tr>\n",
              "      <th>statusPFS</th>\n",
              "      <td>-0.139923</td>\n",
              "      <td>0.202956</td>\n",
              "      <td>1.000000</td>\n",
              "      <td>0.570352</td>\n",
              "      <td>-0.063372</td>\n",
              "      <td>0.014962</td>\n",
              "      <td>-0.091558</td>\n",
              "      <td>0.045091</td>\n",
              "      <td>-0.044811</td>\n",
              "      <td>-0.075545</td>\n",
              "      <td>-0.022415</td>\n",
              "      <td>-0.143078</td>\n",
              "      <td>0.011984</td>\n",
              "      <td>-0.139923</td>\n",
              "      <td>0.202956</td>\n",
              "    </tr>\n",
              "    <tr>\n",
              "      <th>statusOS</th>\n",
              "      <td>-0.113228</td>\n",
              "      <td>0.075994</td>\n",
              "      <td>0.570352</td>\n",
              "      <td>1.000000</td>\n",
              "      <td>-0.111111</td>\n",
              "      <td>0.026233</td>\n",
              "      <td>-0.160530</td>\n",
              "      <td>0.079058</td>\n",
              "      <td>-0.078567</td>\n",
              "      <td>-0.132453</td>\n",
              "      <td>-0.028040</td>\n",
              "      <td>-0.045293</td>\n",
              "      <td>-0.083594</td>\n",
              "      <td>-0.113228</td>\n",
              "      <td>0.075994</td>\n",
              "    </tr>\n",
              "    <tr>\n",
              "      <th>surgery</th>\n",
              "      <td>0.169842</td>\n",
              "      <td>-0.005687</td>\n",
              "      <td>-0.063372</td>\n",
              "      <td>-0.111111</td>\n",
              "      <td>1.000000</td>\n",
              "      <td>-0.033926</td>\n",
              "      <td>0.171413</td>\n",
              "      <td>0.020329</td>\n",
              "      <td>0.235702</td>\n",
              "      <td>0.132453</td>\n",
              "      <td>-0.118900</td>\n",
              "      <td>-0.001697</td>\n",
              "      <td>0.088748</td>\n",
              "      <td>0.169842</td>\n",
              "      <td>-0.005687</td>\n",
              "    </tr>\n",
              "    <tr>\n",
              "      <th>dose</th>\n",
              "      <td>0.117790</td>\n",
              "      <td>-0.199397</td>\n",
              "      <td>0.014962</td>\n",
              "      <td>0.026233</td>\n",
              "      <td>-0.033926</td>\n",
              "      <td>1.000000</td>\n",
              "      <td>-0.132206</td>\n",
              "      <td>0.315258</td>\n",
              "      <td>0.297829</td>\n",
              "      <td>-0.334150</td>\n",
              "      <td>0.468474</td>\n",
              "      <td>0.378734</td>\n",
              "      <td>-0.162929</td>\n",
              "      <td>0.117790</td>\n",
              "      <td>-0.199397</td>\n",
              "    </tr>\n",
              "    <tr>\n",
              "      <th>TMZ</th>\n",
              "      <td>0.159429</td>\n",
              "      <td>0.046168</td>\n",
              "      <td>-0.091558</td>\n",
              "      <td>-0.160530</td>\n",
              "      <td>0.171413</td>\n",
              "      <td>-0.132206</td>\n",
              "      <td>1.000000</td>\n",
              "      <td>-0.730626</td>\n",
              "      <td>0.144294</td>\n",
              "      <td>0.515709</td>\n",
              "      <td>0.092544</td>\n",
              "      <td>0.077334</td>\n",
              "      <td>-0.057429</td>\n",
              "      <td>0.159429</td>\n",
              "      <td>0.046168</td>\n",
              "    </tr>\n",
              "    <tr>\n",
              "      <th>Chemogroup</th>\n",
              "      <td>-0.153072</td>\n",
              "      <td>0.037592</td>\n",
              "      <td>0.045091</td>\n",
              "      <td>0.079058</td>\n",
              "      <td>0.020329</td>\n",
              "      <td>0.315258</td>\n",
              "      <td>-0.730626</td>\n",
              "      <td>1.000000</td>\n",
              "      <td>0.570208</td>\n",
              "      <td>-0.370692</td>\n",
              "      <td>0.002759</td>\n",
              "      <td>-0.051486</td>\n",
              "      <td>0.013387</td>\n",
              "      <td>-0.153072</td>\n",
              "      <td>0.037592</td>\n",
              "    </tr>\n",
              "    <tr>\n",
              "      <th>Chemo</th>\n",
              "      <td>-0.030024</td>\n",
              "      <td>0.110030</td>\n",
              "      <td>-0.044811</td>\n",
              "      <td>-0.078567</td>\n",
              "      <td>0.235702</td>\n",
              "      <td>0.297829</td>\n",
              "      <td>0.144294</td>\n",
              "      <td>0.570208</td>\n",
              "      <td>1.000000</td>\n",
              "      <td>0.083252</td>\n",
              "      <td>0.115345</td>\n",
              "      <td>0.018430</td>\n",
              "      <td>-0.049697</td>\n",
              "      <td>-0.030024</td>\n",
              "      <td>0.110030</td>\n",
              "    </tr>\n",
              "    <tr>\n",
              "      <th>diagnostic year</th>\n",
              "      <td>-0.037493</td>\n",
              "      <td>0.089632</td>\n",
              "      <td>-0.075545</td>\n",
              "      <td>-0.132453</td>\n",
              "      <td>0.132453</td>\n",
              "      <td>-0.334150</td>\n",
              "      <td>0.515709</td>\n",
              "      <td>-0.370692</td>\n",
              "      <td>0.083252</td>\n",
              "      <td>1.000000</td>\n",
              "      <td>-0.345445</td>\n",
              "      <td>-0.203701</td>\n",
              "      <td>-0.077207</td>\n",
              "      <td>-0.037493</td>\n",
              "      <td>0.089632</td>\n",
              "    </tr>\n",
              "    <tr>\n",
              "      <th>OS</th>\n",
              "      <td>0.043419</td>\n",
              "      <td>-0.188313</td>\n",
              "      <td>-0.022415</td>\n",
              "      <td>-0.028040</td>\n",
              "      <td>-0.118900</td>\n",
              "      <td>0.468474</td>\n",
              "      <td>0.092544</td>\n",
              "      <td>0.002759</td>\n",
              "      <td>0.115345</td>\n",
              "      <td>-0.345445</td>\n",
              "      <td>1.000000</td>\n",
              "      <td>0.730692</td>\n",
              "      <td>0.127147</td>\n",
              "      <td>0.043419</td>\n",
              "      <td>-0.188313</td>\n",
              "    </tr>\n",
              "    <tr>\n",
              "      <th>PFS</th>\n",
              "      <td>0.080638</td>\n",
              "      <td>-0.254452</td>\n",
              "      <td>-0.143078</td>\n",
              "      <td>-0.045293</td>\n",
              "      <td>-0.001697</td>\n",
              "      <td>0.378734</td>\n",
              "      <td>0.077334</td>\n",
              "      <td>-0.051486</td>\n",
              "      <td>0.018430</td>\n",
              "      <td>-0.203701</td>\n",
              "      <td>0.730692</td>\n",
              "      <td>1.000000</td>\n",
              "      <td>-0.048545</td>\n",
              "      <td>0.080638</td>\n",
              "      <td>-0.254452</td>\n",
              "    </tr>\n",
              "    <tr>\n",
              "      <th>volume</th>\n",
              "      <td>-0.073217</td>\n",
              "      <td>0.153293</td>\n",
              "      <td>0.011984</td>\n",
              "      <td>-0.083594</td>\n",
              "      <td>0.088748</td>\n",
              "      <td>-0.162929</td>\n",
              "      <td>-0.057429</td>\n",
              "      <td>0.013387</td>\n",
              "      <td>-0.049697</td>\n",
              "      <td>-0.077207</td>\n",
              "      <td>0.127147</td>\n",
              "      <td>-0.048545</td>\n",
              "      <td>1.000000</td>\n",
              "      <td>-0.073217</td>\n",
              "      <td>0.153293</td>\n",
              "    </tr>\n",
              "    <tr>\n",
              "      <th>gender.1</th>\n",
              "      <td>1.000000</td>\n",
              "      <td>-0.163487</td>\n",
              "      <td>-0.139923</td>\n",
              "      <td>-0.113228</td>\n",
              "      <td>0.169842</td>\n",
              "      <td>0.117790</td>\n",
              "      <td>0.159429</td>\n",
              "      <td>-0.153072</td>\n",
              "      <td>-0.030024</td>\n",
              "      <td>-0.037493</td>\n",
              "      <td>0.043419</td>\n",
              "      <td>0.080638</td>\n",
              "      <td>-0.073217</td>\n",
              "      <td>1.000000</td>\n",
              "      <td>-0.163487</td>\n",
              "    </tr>\n",
              "    <tr>\n",
              "      <th>age.1</th>\n",
              "      <td>-0.163487</td>\n",
              "      <td>1.000000</td>\n",
              "      <td>0.202956</td>\n",
              "      <td>0.075994</td>\n",
              "      <td>-0.005687</td>\n",
              "      <td>-0.199397</td>\n",
              "      <td>0.046168</td>\n",
              "      <td>0.037592</td>\n",
              "      <td>0.110030</td>\n",
              "      <td>0.089632</td>\n",
              "      <td>-0.188313</td>\n",
              "      <td>-0.254452</td>\n",
              "      <td>0.153293</td>\n",
              "      <td>-0.163487</td>\n",
              "      <td>1.000000</td>\n",
              "    </tr>\n",
              "  </tbody>\n",
              "</table>\n",
              "</div>"
            ],
            "text/plain": [
              "                   gender       age  statusPFS  ...    volume  gender.1     age.1\n",
              "gender           1.000000 -0.163487  -0.139923  ... -0.073217  1.000000 -0.163487\n",
              "age             -0.163487  1.000000   0.202956  ...  0.153293 -0.163487  1.000000\n",
              "statusPFS       -0.139923  0.202956   1.000000  ...  0.011984 -0.139923  0.202956\n",
              "statusOS        -0.113228  0.075994   0.570352  ... -0.083594 -0.113228  0.075994\n",
              "surgery          0.169842 -0.005687  -0.063372  ...  0.088748  0.169842 -0.005687\n",
              "dose             0.117790 -0.199397   0.014962  ... -0.162929  0.117790 -0.199397\n",
              "TMZ              0.159429  0.046168  -0.091558  ... -0.057429  0.159429  0.046168\n",
              "Chemogroup      -0.153072  0.037592   0.045091  ...  0.013387 -0.153072  0.037592\n",
              "Chemo           -0.030024  0.110030  -0.044811  ... -0.049697 -0.030024  0.110030\n",
              "diagnostic year -0.037493  0.089632  -0.075545  ... -0.077207 -0.037493  0.089632\n",
              "OS               0.043419 -0.188313  -0.022415  ...  0.127147  0.043419 -0.188313\n",
              "PFS              0.080638 -0.254452  -0.143078  ... -0.048545  0.080638 -0.254452\n",
              "volume          -0.073217  0.153293   0.011984  ...  1.000000 -0.073217  0.153293\n",
              "gender.1         1.000000 -0.163487  -0.139923  ... -0.073217  1.000000 -0.163487\n",
              "age.1           -0.163487  1.000000   0.202956  ...  0.153293 -0.163487  1.000000\n",
              "\n",
              "[15 rows x 15 columns]"
            ]
          },
          "metadata": {
            "tags": []
          },
          "execution_count": 11
        }
      ]
    },
    {
      "cell_type": "code",
      "metadata": {
        "id": "hXeZBzucuHTE"
      },
      "source": [
        "data.drop(columns = ['TMZ', 'gender.1', 'age.1',], axis = 1, inplace= True)"
      ],
      "execution_count": 12,
      "outputs": []
    },
    {
      "cell_type": "code",
      "metadata": {
        "id": "hz2C9Z7QZXsq"
      },
      "source": [
        "data.drop(columns = ['Chemogroup', 'diagnostic year'], axis = 1, inplace = True)"
      ],
      "execution_count": 13,
      "outputs": []
    },
    {
      "cell_type": "markdown",
      "metadata": {
        "id": "LJsf_ygOL1TU"
      },
      "source": [
        "Converting Y to the ndarray so the sksurv package can process it"
      ]
    },
    {
      "cell_type": "code",
      "metadata": {
        "id": "aLJ3ccO7MtZ8"
      },
      "source": [
        "Y = data[['statusOS', 'OS']]"
      ],
      "execution_count": 15,
      "outputs": []
    },
    {
      "cell_type": "code",
      "metadata": {
        "id": "7_VqQOEcNrGi"
      },
      "source": [
        "X = data.drop(columns=['statusOS', 'OS'])"
      ],
      "execution_count": 16,
      "outputs": []
    },
    {
      "cell_type": "code",
      "metadata": {
        "id": "Ce2iyeEpL6O5"
      },
      "source": [
        "Y['statusOS'] = Y['statusOS'].map({1.0: True, 0: False})\n"
      ],
      "execution_count": null,
      "outputs": []
    },
    {
      "cell_type": "code",
      "metadata": {
        "id": "3EoMsV_-OG46"
      },
      "source": [
        "Y = Y.to_records(index=False)"
      ],
      "execution_count": 18,
      "outputs": []
    },
    {
      "cell_type": "code",
      "metadata": {
        "colab": {
          "base_uri": "https://localhost:8080/"
        },
        "id": "37LkZmjdOKce",
        "outputId": "c20ee483-f336-47ef-b3db-581cad8f801f"
      },
      "source": [
        "Y"
      ],
      "execution_count": 19,
      "outputs": [
        {
          "output_type": "execute_result",
          "data": {
            "text/plain": [
              "rec.array([( True, 1.36), ( True, 8.84), ( True, 1.46), ( True, 2.42),\n",
              "           ( True, 1.26), ( True, 0.85), ( True, 6.43), ( True, 0.63),\n",
              "           ( True, 0.96), ( True, 1.32), ( True, 2.82), ( True, 0.77),\n",
              "           ( True, 0.84), (False, 2.38), ( True, 0.23), ( True, 1.  ),\n",
              "           ( True, 3.5 ), ( True, 1.18), ( True, 5.4 ), ( True, 1.93),\n",
              "           ( True, 0.59), ( True, 0.48), ( True, 2.25), ( True, 1.34),\n",
              "           ( True, 0.9 ), ( True, 1.12), ( True, 0.58), ( True, 1.01),\n",
              "           ( True, 0.88), ( True, 0.62), ( True, 1.59), ( True, 2.33),\n",
              "           ( True, 1.66), ( True, 1.11), ( True, 0.79), ( True, 1.11),\n",
              "           ( True, 2.92), ( True, 1.22), ( True, 1.9 ), ( True, 2.5 ),\n",
              "           ( True, 0.32), ( True, 2.22), ( True, 9.15), ( True, 0.45),\n",
              "           ( True, 1.37), ( True, 3.45), ( True, 5.07), ( True, 1.82),\n",
              "           ( True, 0.41), ( True, 0.95), ( True, 0.98), ( True, 1.38),\n",
              "           ( True, 1.82), ( True, 2.68), ( True, 0.89), ( True, 1.68),\n",
              "           ( True, 1.77), ( True, 1.67), ( True, 0.35), ( True, 1.71),\n",
              "           ( True, 0.9 ), ( True, 0.73), ( True, 0.53), ( True, 0.68),\n",
              "           ( True, 1.04), (False, 2.05), ( True, 0.88), (False, 1.43),\n",
              "           ( True, 1.15), ( True, 4.58), ( True, 0.21), ( True, 0.52),\n",
              "           ( True, 2.93), ( True, 0.91), ( True, 0.41), ( True, 1.01),\n",
              "           ( True, 1.99), ( True, 0.47), ( True, 1.11), ( True, 4.74),\n",
              "           ( True, 1.19), ( True, 0.96), ( True, 0.56), ( True, 0.26)],\n",
              "          dtype=[('statusOS', '?'), ('OS', '<f8')])"
            ]
          },
          "metadata": {
            "tags": []
          },
          "execution_count": 19
        }
      ]
    },
    {
      "cell_type": "markdown",
      "metadata": {
        "id": "LYKNsZ_1Pf2A"
      },
      "source": [
        "# Let's do the ranking"
      ]
    },
    {
      "cell_type": "code",
      "metadata": {
        "id": "s_nNLmxsPknF"
      },
      "source": [
        "!pip install --upgrade pip\n",
        "!pip uninstall --yes --quiet osqp\n",
        "!pip install -U scikit-survival"
      ],
      "execution_count": null,
      "outputs": []
    },
    {
      "cell_type": "code",
      "metadata": {
        "id": "oO2oGQEAPqhS",
        "colab": {
          "base_uri": "https://localhost:8080/"
        },
        "outputId": "7795ac01-e4f9-49ed-84ec-c88ddf629ecc"
      },
      "source": [
        "pip install eli5"
      ],
      "execution_count": 21,
      "outputs": [
        {
          "output_type": "stream",
          "text": [
            "Collecting eli5\n",
            "  Downloading eli5-0.11.0-py2.py3-none-any.whl (106 kB)\n",
            "\u001b[?25l\r\u001b[K     |███                             | 10 kB 26.3 MB/s eta 0:00:01\r\u001b[K     |██████▏                         | 20 kB 27.8 MB/s eta 0:00:01\r\u001b[K     |█████████▎                      | 30 kB 19.5 MB/s eta 0:00:01\r\u001b[K     |████████████▍                   | 40 kB 16.0 MB/s eta 0:00:01\r\u001b[K     |███████████████▌                | 51 kB 7.4 MB/s eta 0:00:01\r\u001b[K     |██████████████████▌             | 61 kB 8.5 MB/s eta 0:00:01\r\u001b[K     |█████████████████████▋          | 71 kB 7.7 MB/s eta 0:00:01\r\u001b[K     |████████████████████████▊       | 81 kB 8.4 MB/s eta 0:00:01\r\u001b[K     |███████████████████████████▉    | 92 kB 9.0 MB/s eta 0:00:01\r\u001b[K     |███████████████████████████████ | 102 kB 7.7 MB/s eta 0:00:01\r\u001b[K     |████████████████████████████████| 106 kB 7.7 MB/s \n",
            "\u001b[?25hRequirement already satisfied: graphviz in /usr/local/lib/python3.7/dist-packages (from eli5) (0.10.1)\n",
            "Requirement already satisfied: tabulate>=0.7.7 in /usr/local/lib/python3.7/dist-packages (from eli5) (0.8.9)\n",
            "Requirement already satisfied: six in /usr/local/lib/python3.7/dist-packages (from eli5) (1.15.0)\n",
            "Requirement already satisfied: jinja2 in /usr/local/lib/python3.7/dist-packages (from eli5) (2.11.3)\n",
            "Requirement already satisfied: attrs>16.0.0 in /usr/local/lib/python3.7/dist-packages (from eli5) (21.2.0)\n",
            "Requirement already satisfied: scipy in /usr/local/lib/python3.7/dist-packages (from eli5) (1.7.0)\n",
            "Requirement already satisfied: numpy>=1.9.0 in /usr/local/lib/python3.7/dist-packages (from eli5) (1.19.5)\n",
            "Requirement already satisfied: scikit-learn>=0.20 in /usr/local/lib/python3.7/dist-packages (from eli5) (0.22.2.post1)\n",
            "Requirement already satisfied: joblib>=0.11 in /usr/local/lib/python3.7/dist-packages (from scikit-learn>=0.20->eli5) (1.0.1)\n",
            "Requirement already satisfied: MarkupSafe>=0.23 in /usr/local/lib/python3.7/dist-packages (from jinja2->eli5) (2.0.1)\n",
            "Installing collected packages: eli5\n",
            "Successfully installed eli5-0.11.0\n",
            "\u001b[33mWARNING: Running pip as the 'root' user can result in broken permissions and conflicting behaviour with the system package manager. It is recommended to use a virtual environment instead: https://pip.pypa.io/warnings/venv\u001b[0m\n"
          ],
          "name": "stdout"
        }
      ]
    },
    {
      "cell_type": "code",
      "metadata": {
        "id": "x9IUhms_QLB2",
        "colab": {
          "base_uri": "https://localhost:8080/"
        },
        "outputId": "ff7d5cb6-a233-4ec4-b10a-b37cc61f1509"
      },
      "source": [
        "from sksurv.ensemble import RandomSurvivalForest\n",
        "from sklearn.model_selection import train_test_split\n",
        "from eli5.sklearn import PermutationImportance\n",
        "import eli5\n"
      ],
      "execution_count": 22,
      "outputs": [
        {
          "output_type": "stream",
          "text": [
            "/usr/local/lib/python3.7/dist-packages/sklearn/utils/deprecation.py:144: FutureWarning: The sklearn.feature_selection.base module is  deprecated in version 0.22 and will be removed in version 0.24. The corresponding classes / functions should instead be imported from sklearn.feature_selection. Anything that cannot be imported from sklearn.feature_selection is now part of the private API.\n",
            "  warnings.warn(message, FutureWarning)\n"
          ],
          "name": "stderr"
        }
      ]
    },
    {
      "cell_type": "code",
      "metadata": {
        "id": "YDs33q8MQM3j"
      },
      "source": [
        "rsf = RandomSurvivalForest()\n"
      ],
      "execution_count": 23,
      "outputs": []
    },
    {
      "cell_type": "code",
      "metadata": {
        "id": "p__GgWXDQTwp"
      },
      "source": [
        "def permutation(X, y, model, loops):\n",
        "  rankings = np.zeros(len(X.columns),)\n",
        "  bordarank = np.zeros(len(X.columns),)\n",
        "  c_score_total = []\n",
        "  a= 0\n",
        "  np.random.seed(42); randseed = np.random.randint(9999, size = 1500)\n",
        "\n",
        "  for x in range(loops):\n",
        "\n",
        "    #Let's do this trick with the seeding, so we can have the same test set\n",
        "    a += 1\n",
        "    seed = randseed[a]\n",
        "  #Let's do a splitting 1/3 train, 1/3 rank, 1/3 test\n",
        "    X_train, X_test, y_train, y_test = train_test_split(\n",
        "    X, Y, test_size=0.33, random_state = seed )\n",
        "    X_train, X_rank, y_train, y_rank = train_test_split(\n",
        "    X_train, y_train, test_size=0.5, random_state = seed)\n",
        "  #Let's train the model on the \n",
        "    model.fit(X_train, y_train)\n",
        "  #Let's define the permutation.\n",
        "    permuter = PermutationImportance(\n",
        "    estimator = model,\n",
        "    n_iter = 10)\n",
        "  #Let's fit the permutator on the Y test, (This permutation only shuffle the Y test.)\n",
        "    permuter.fit(X_rank, y_rank)\n",
        "  \n",
        "    columns = X_test.columns.to_list()\n",
        "  #The feature importance will give us and n array of how much the Concordance score dropped\n",
        "    feature_importance = permuter.feature_importances_\n",
        "  # I need to create a ranking out of this\n",
        "    rankings = np.add(feature_importance, rankings)\n",
        "  #This will create a numpy array with each c index loss. Each row is a loop. \n",
        "    bordarank = np.vstack((bordarank, feature_importance))\n",
        "  #Let's compute the Concordance index score\n",
        "    c_score = model.score(X_test, y_test)\n",
        "    c_score_total.append(c_score)\n",
        "\n",
        "  \n",
        "    \n",
        "  #Dividing to get the average \n",
        "  ranking_terminal = np.true_divide(rankings, loops) \n",
        "  c_rank = pd.DataFrame({'features': columns, 'C_loss': ranking_terminal}).sort_values(ascending = False, by =['C_loss'])\n",
        "  c_mean = np.mean(np.array(c_score_total))\n",
        "  c_std = np.std(np.array(c_score_total))\n",
        "  #Let's start working with the borda. First we delete the first row that is just 0s\n",
        "  bordarank = np.delete(bordarank, 0, 0)\n",
        "  ranking_the_data = rankdata(bordarank * -1, axis=1)\n",
        "  rankavg = np.mean(ranking_the_data, axis = 0)\n",
        "  ranksd = np.std(ranking_the_data, axis = 0)\n",
        "  #Vamos a ver como queda\n",
        "  borda = pd.DataFrame({'Features': columns, 'C_Average_Loss': ranking_terminal, 'borda_average': rankavg, 'borda_sd': ranksd}).sort_values(ascending = True, by = ['borda_average'])\n",
        "  \n",
        "\n",
        "\n",
        "\n",
        "  return c_rank, c_mean, c_std, borda"
      ],
      "execution_count": 24,
      "outputs": []
    },
    {
      "cell_type": "code",
      "metadata": {
        "id": "fDgdJmlrQj7u"
      },
      "source": [
        "rank, c_mean, c_std, borda = permutation(X, Y, rsf, 100)"
      ],
      "execution_count": 25,
      "outputs": []
    },
    {
      "cell_type": "code",
      "metadata": {
        "colab": {
          "base_uri": "https://localhost:8080/",
          "height": 299
        },
        "id": "CkwxH47IRIrV",
        "outputId": "7e5ce3cd-95bc-4b4c-b0ed-c74fdec75780"
      },
      "source": [
        "rank"
      ],
      "execution_count": 26,
      "outputs": [
        {
          "output_type": "execute_result",
          "data": {
            "text/html": [
              "<div>\n",
              "<style scoped>\n",
              "    .dataframe tbody tr th:only-of-type {\n",
              "        vertical-align: middle;\n",
              "    }\n",
              "\n",
              "    .dataframe tbody tr th {\n",
              "        vertical-align: top;\n",
              "    }\n",
              "\n",
              "    .dataframe thead th {\n",
              "        text-align: right;\n",
              "    }\n",
              "</style>\n",
              "<table border=\"1\" class=\"dataframe\">\n",
              "  <thead>\n",
              "    <tr style=\"text-align: right;\">\n",
              "      <th></th>\n",
              "      <th>features</th>\n",
              "      <th>C_loss</th>\n",
              "    </tr>\n",
              "  </thead>\n",
              "  <tbody>\n",
              "    <tr>\n",
              "      <th>6</th>\n",
              "      <td>PFS</td>\n",
              "      <td>0.192140</td>\n",
              "    </tr>\n",
              "    <tr>\n",
              "      <th>1</th>\n",
              "      <td>age</td>\n",
              "      <td>0.015872</td>\n",
              "    </tr>\n",
              "    <tr>\n",
              "      <th>4</th>\n",
              "      <td>dose</td>\n",
              "      <td>0.008050</td>\n",
              "    </tr>\n",
              "    <tr>\n",
              "      <th>5</th>\n",
              "      <td>Chemo</td>\n",
              "      <td>0.002781</td>\n",
              "    </tr>\n",
              "    <tr>\n",
              "      <th>7</th>\n",
              "      <td>volume</td>\n",
              "      <td>0.001113</td>\n",
              "    </tr>\n",
              "    <tr>\n",
              "      <th>2</th>\n",
              "      <td>statusPFS</td>\n",
              "      <td>0.000000</td>\n",
              "    </tr>\n",
              "    <tr>\n",
              "      <th>0</th>\n",
              "      <td>gender</td>\n",
              "      <td>-0.001096</td>\n",
              "    </tr>\n",
              "    <tr>\n",
              "      <th>3</th>\n",
              "      <td>surgery</td>\n",
              "      <td>-0.001656</td>\n",
              "    </tr>\n",
              "  </tbody>\n",
              "</table>\n",
              "</div>"
            ],
            "text/plain": [
              "    features    C_loss\n",
              "6        PFS  0.192140\n",
              "1        age  0.015872\n",
              "4       dose  0.008050\n",
              "5      Chemo  0.002781\n",
              "7     volume  0.001113\n",
              "2  statusPFS  0.000000\n",
              "0     gender -0.001096\n",
              "3    surgery -0.001656"
            ]
          },
          "metadata": {
            "tags": []
          },
          "execution_count": 26
        }
      ]
    },
    {
      "cell_type": "code",
      "metadata": {
        "colab": {
          "base_uri": "https://localhost:8080/"
        },
        "id": "OaGwtR3vRJm-",
        "outputId": "c02d2ad1-7b7c-4e5a-bfbc-5d980f7e8712"
      },
      "source": [
        "c_mean"
      ],
      "execution_count": 27,
      "outputs": [
        {
          "output_type": "execute_result",
          "data": {
            "text/plain": [
              "0.7440020681459888"
            ]
          },
          "metadata": {
            "tags": []
          },
          "execution_count": 27
        }
      ]
    },
    {
      "cell_type": "code",
      "metadata": {
        "colab": {
          "base_uri": "https://localhost:8080/"
        },
        "id": "4hHDfsGd-jGE",
        "outputId": "b0b44995-83dc-4f52-edab-bcf41a407d87"
      },
      "source": [
        "c_std"
      ],
      "execution_count": 28,
      "outputs": [
        {
          "output_type": "execute_result",
          "data": {
            "text/plain": [
              "0.04397488082952339"
            ]
          },
          "metadata": {
            "tags": []
          },
          "execution_count": 28
        }
      ]
    },
    {
      "cell_type": "code",
      "metadata": {
        "colab": {
          "base_uri": "https://localhost:8080/",
          "height": 299
        },
        "id": "-7zkAwBt-jda",
        "outputId": "e8c29de6-b94e-42d3-9cdc-cf63fac132bf"
      },
      "source": [
        "borda"
      ],
      "execution_count": 29,
      "outputs": [
        {
          "output_type": "execute_result",
          "data": {
            "text/html": [
              "<div>\n",
              "<style scoped>\n",
              "    .dataframe tbody tr th:only-of-type {\n",
              "        vertical-align: middle;\n",
              "    }\n",
              "\n",
              "    .dataframe tbody tr th {\n",
              "        vertical-align: top;\n",
              "    }\n",
              "\n",
              "    .dataframe thead th {\n",
              "        text-align: right;\n",
              "    }\n",
              "</style>\n",
              "<table border=\"1\" class=\"dataframe\">\n",
              "  <thead>\n",
              "    <tr style=\"text-align: right;\">\n",
              "      <th></th>\n",
              "      <th>Features</th>\n",
              "      <th>C_Average_Loss</th>\n",
              "      <th>borda_average</th>\n",
              "      <th>borda_sd</th>\n",
              "    </tr>\n",
              "  </thead>\n",
              "  <tbody>\n",
              "    <tr>\n",
              "      <th>6</th>\n",
              "      <td>PFS</td>\n",
              "      <td>0.192140</td>\n",
              "      <td>1.000</td>\n",
              "      <td>0.000000</td>\n",
              "    </tr>\n",
              "    <tr>\n",
              "      <th>1</th>\n",
              "      <td>age</td>\n",
              "      <td>0.015872</td>\n",
              "      <td>3.750</td>\n",
              "      <td>2.137171</td>\n",
              "    </tr>\n",
              "    <tr>\n",
              "      <th>4</th>\n",
              "      <td>dose</td>\n",
              "      <td>0.008050</td>\n",
              "      <td>4.290</td>\n",
              "      <td>1.865717</td>\n",
              "    </tr>\n",
              "    <tr>\n",
              "      <th>5</th>\n",
              "      <td>Chemo</td>\n",
              "      <td>0.002781</td>\n",
              "      <td>4.975</td>\n",
              "      <td>1.605265</td>\n",
              "    </tr>\n",
              "    <tr>\n",
              "      <th>7</th>\n",
              "      <td>volume</td>\n",
              "      <td>0.001113</td>\n",
              "      <td>5.085</td>\n",
              "      <td>2.391710</td>\n",
              "    </tr>\n",
              "    <tr>\n",
              "      <th>2</th>\n",
              "      <td>statusPFS</td>\n",
              "      <td>0.000000</td>\n",
              "      <td>5.480</td>\n",
              "      <td>1.421126</td>\n",
              "    </tr>\n",
              "    <tr>\n",
              "      <th>0</th>\n",
              "      <td>gender</td>\n",
              "      <td>-0.001096</td>\n",
              "      <td>5.595</td>\n",
              "      <td>1.740251</td>\n",
              "    </tr>\n",
              "    <tr>\n",
              "      <th>3</th>\n",
              "      <td>surgery</td>\n",
              "      <td>-0.001656</td>\n",
              "      <td>5.825</td>\n",
              "      <td>1.778166</td>\n",
              "    </tr>\n",
              "  </tbody>\n",
              "</table>\n",
              "</div>"
            ],
            "text/plain": [
              "    Features  C_Average_Loss  borda_average  borda_sd\n",
              "6        PFS        0.192140          1.000  0.000000\n",
              "1        age        0.015872          3.750  2.137171\n",
              "4       dose        0.008050          4.290  1.865717\n",
              "5      Chemo        0.002781          4.975  1.605265\n",
              "7     volume        0.001113          5.085  2.391710\n",
              "2  statusPFS        0.000000          5.480  1.421126\n",
              "0     gender       -0.001096          5.595  1.740251\n",
              "3    surgery       -0.001656          5.825  1.778166"
            ]
          },
          "metadata": {
            "tags": []
          },
          "execution_count": 29
        }
      ]
    },
    {
      "cell_type": "markdown",
      "metadata": {
        "id": "luSdzR3evp8P"
      },
      "source": [
        "Now let's try the first 2 feature."
      ]
    },
    {
      "cell_type": "code",
      "metadata": {
        "id": "xa9DdR4WvpV2"
      },
      "source": [
        "X_tf = data[['PFS', 'age']]"
      ],
      "execution_count": null,
      "outputs": []
    },
    {
      "cell_type": "code",
      "metadata": {
        "id": "VrDCL5fwvpZD"
      },
      "source": [
        "def top2features(X, y, model, loops):\n",
        "  \n",
        "  c_score_total = []\n",
        "  a= 0\n",
        "  np.random.seed(42); randseed = np.random.randint(9999, size = 1500)\n",
        "  for x in range(loops):\n",
        "\n",
        "    #Let's do this trick with the seeding, so we can have the same array of test sets, that we had in the previous feature selection algorithm. \n",
        "    a += 1\n",
        "    seed = randseed[a]\n",
        "  #Let's do a splitting 1/3 train, 1/3 rank, 1/3 test\n",
        "    X_train, X_test, y_train, y_test = train_test_split(\n",
        "    X, Y, test_size=0.33, random_state = seed )\n",
        "    X_train, X_rank, y_train, y_rank = train_test_split(\n",
        "    X, Y, test_size=0.5, random_state = seed)\n",
        "  #Let's train the model on the \n",
        "    model.fit(X_train, y_train)\n",
        "  #Let's compute the scores\n",
        "    c_score = model.score(X_test, y_test)\n",
        "    c_score_total.append(c_score)\n",
        "\n",
        "  \n",
        "  c_mean_top2 = np.mean(np.array(c_score_total))\n",
        "  c_std_top2 = np.std(np.array(c_score_total))\n",
        "\n",
        "\n",
        "\n",
        "  return c_mean_top2"
      ],
      "execution_count": null,
      "outputs": []
    },
    {
      "cell_type": "code",
      "metadata": {
        "id": "ZbF7JYYSv5t1"
      },
      "source": [
        "c_score_tf = top2features(X_tf, Y, rsf, 100)"
      ],
      "execution_count": null,
      "outputs": []
    },
    {
      "cell_type": "code",
      "metadata": {
        "colab": {
          "base_uri": "https://localhost:8080/"
        },
        "id": "AFksFloLwOzH",
        "outputId": "dcd0bd65-f675-4339-a78f-db0c66dc0d11"
      },
      "source": [
        "c_score_tf "
      ],
      "execution_count": null,
      "outputs": [
        {
          "output_type": "execute_result",
          "data": {
            "text/plain": [
              "0.7707494191374952"
            ]
          },
          "metadata": {
            "tags": []
          },
          "execution_count": 29
        }
      ]
    },
    {
      "cell_type": "code",
      "metadata": {
        "id": "G-t9ZkIqAQV1"
      },
      "source": [
        ""
      ],
      "execution_count": null,
      "outputs": []
    },
    {
      "cell_type": "markdown",
      "metadata": {
        "id": "xESeovrtAbJK"
      },
      "source": [
        "## Brier Score\n"
      ]
    },
    {
      "cell_type": "code",
      "metadata": {
        "id": "FGJSIDHCAdDi",
        "colab": {
          "base_uri": "https://localhost:8080/"
        },
        "outputId": "1b7a7450-00c5-4da9-b490-7288557e2b5a"
      },
      "source": [
        "pip install pysurvival"
      ],
      "execution_count": 30,
      "outputs": [
        {
          "output_type": "stream",
          "text": [
            "Collecting pysurvival\n",
            "  Downloading pysurvival-0.1.2.tar.gz (4.7 MB)\n",
            "\u001b[K     |████████████████████████████████| 4.7 MB 8.1 MB/s \n",
            "\u001b[?25hRequirement already satisfied: matplotlib in /usr/local/lib/python3.7/dist-packages (from pysurvival) (3.2.2)\n",
            "Requirement already satisfied: numpy in /usr/local/lib/python3.7/dist-packages (from pysurvival) (1.19.5)\n",
            "Requirement already satisfied: pandas in /usr/local/lib/python3.7/dist-packages (from pysurvival) (1.1.5)\n",
            "Requirement already satisfied: pip in /usr/local/lib/python3.7/dist-packages (from pysurvival) (21.2.2)\n",
            "Collecting progressbar\n",
            "  Downloading progressbar-2.5.tar.gz (10 kB)\n",
            "Requirement already satisfied: pyarrow in /usr/local/lib/python3.7/dist-packages (from pysurvival) (3.0.0)\n",
            "Requirement already satisfied: scikit-learn in /usr/local/lib/python3.7/dist-packages (from pysurvival) (0.22.2.post1)\n",
            "Requirement already satisfied: scipy in /usr/local/lib/python3.7/dist-packages (from pysurvival) (1.7.0)\n",
            "Requirement already satisfied: sklearn in /usr/local/lib/python3.7/dist-packages (from pysurvival) (0.0)\n",
            "Requirement already satisfied: torch in /usr/local/lib/python3.7/dist-packages (from pysurvival) (1.9.0+cu102)\n",
            "Requirement already satisfied: kiwisolver>=1.0.1 in /usr/local/lib/python3.7/dist-packages (from matplotlib->pysurvival) (1.3.1)\n",
            "Requirement already satisfied: cycler>=0.10 in /usr/local/lib/python3.7/dist-packages (from matplotlib->pysurvival) (0.10.0)\n",
            "Requirement already satisfied: python-dateutil>=2.1 in /usr/local/lib/python3.7/dist-packages (from matplotlib->pysurvival) (2.8.1)\n",
            "Requirement already satisfied: pyparsing!=2.0.4,!=2.1.2,!=2.1.6,>=2.0.1 in /usr/local/lib/python3.7/dist-packages (from matplotlib->pysurvival) (2.4.7)\n",
            "Requirement already satisfied: six in /usr/local/lib/python3.7/dist-packages (from cycler>=0.10->matplotlib->pysurvival) (1.15.0)\n",
            "Requirement already satisfied: pytz>=2017.2 in /usr/local/lib/python3.7/dist-packages (from pandas->pysurvival) (2018.9)\n",
            "Requirement already satisfied: joblib>=0.11 in /usr/local/lib/python3.7/dist-packages (from scikit-learn->pysurvival) (1.0.1)\n",
            "Requirement already satisfied: typing-extensions in /usr/local/lib/python3.7/dist-packages (from torch->pysurvival) (3.7.4.3)\n",
            "Building wheels for collected packages: pysurvival, progressbar\n",
            "  Building wheel for pysurvival (setup.py) ... \u001b[?25l\u001b[?25hdone\n",
            "  Created wheel for pysurvival: filename=pysurvival-0.1.2-cp37-cp37m-linux_x86_64.whl size=3773235 sha256=424688a2c80ca8107112b12cbf3f31574d1618b3e8150c998f746aeadaca9e09\n",
            "  Stored in directory: /root/.cache/pip/wheels/1a/63/e2/32273d765a4e2f4ccac69c8adf97425ca80bab5d0c8447f120\n",
            "  Building wheel for progressbar (setup.py) ... \u001b[?25l\u001b[?25hdone\n",
            "  Created wheel for progressbar: filename=progressbar-2.5-py3-none-any.whl size=12082 sha256=38084d00d8771ac54794e087ade4cd46c0e3b06b130ae2ba33e467077aadbbb1\n",
            "  Stored in directory: /root/.cache/pip/wheels/f0/fd/1f/3e35ed57e94cd8ced38dd46771f1f0f94f65fec548659ed855\n",
            "Successfully built pysurvival progressbar\n",
            "Installing collected packages: progressbar, pysurvival\n",
            "Successfully installed progressbar-2.5 pysurvival-0.1.2\n",
            "\u001b[33mWARNING: Running pip as the 'root' user can result in broken permissions and conflicting behaviour with the system package manager. It is recommended to use a virtual environment instead: https://pip.pypa.io/warnings/venv\u001b[0m\n"
          ],
          "name": "stdout"
        }
      ]
    },
    {
      "cell_type": "code",
      "metadata": {
        "id": "1RMjAshyAilk"
      },
      "source": [
        "from pysurvival.utils.metrics import concordance_index\n",
        "from pysurvival.utils.metrics import integrated_brier_score\n",
        "from pysurvival.models.survival_forest import RandomSurvivalForestModel"
      ],
      "execution_count": 31,
      "outputs": []
    },
    {
      "cell_type": "code",
      "metadata": {
        "id": "Vc0x3G1PAioM"
      },
      "source": [
        "T = data['OS']\n",
        "E = data['statusOS']"
      ],
      "execution_count": 32,
      "outputs": []
    },
    {
      "cell_type": "code",
      "metadata": {
        "id": "2JKEFCNFBufG"
      },
      "source": [
        "pyforest = RandomSurvivalForestModel(num_trees=100)"
      ],
      "execution_count": 33,
      "outputs": []
    },
    {
      "cell_type": "code",
      "metadata": {
        "id": "voZjBYXiB3zh"
      },
      "source": [
        "def Py_scores(X, T, E, model, loops):\n",
        "  \n",
        "  c_score_total = []\n",
        "  ibstotal = []\n",
        "  a= 0\n",
        "  np.random.seed(42); randseed = np.random.randint(9999, size = 1500)\n",
        "  for x in range(loops):\n",
        "\n",
        "    #Let's do this trick with the seeding, so we can have the same array of test sets, that we had in the previous feature selection algorithm. \n",
        "    a += 1\n",
        "    seed = randseed[a]\n",
        "  #Let's do a splitting 1/3 train, 1/3 rank, 1/3 test\n",
        "    X_train, X_test, t_train, t_test, e_train, e_test = train_test_split(\n",
        "    X, T, E, test_size=0.33, random_state = seed )\n",
        "    X_train, X_rank, t_train, t_rank, e_train, e_rank = train_test_split(\n",
        "    X_train, t_train, e_train, test_size=0.5, random_state = seed)\n",
        "  #Let's train the model on the \n",
        "    model.fit(X_train, t_train, e_train, max_depth=5)\n",
        "    \n",
        "  #Let's compute the C - scores\n",
        "  #Let's compute the integrated brier score\n",
        "    ibs = integrated_brier_score(model, X_test, t_test, e_test)\n",
        "    ibstotal.append(ibs)\n",
        "    \n",
        "  \n",
        "  \n",
        "  ibstotal2 = np.mean(np.array(ibstotal))\n",
        "  ibs_std = np.std(np.array(ibstotal))\n",
        "\n",
        "\n",
        "  return ibstotal2, ibs_std"
      ],
      "execution_count": 34,
      "outputs": []
    },
    {
      "cell_type": "code",
      "metadata": {
        "colab": {
          "base_uri": "https://localhost:8080/"
        },
        "id": "K8Yd-SbEB8r9",
        "outputId": "174aa078-6274-4e43-e150-cbbddbcbf507"
      },
      "source": [
        "ibs_mean, ibs_std = Py_scores(X, T, E, pyforest, 100)"
      ],
      "execution_count": 35,
      "outputs": [
        {
          "output_type": "stream",
          "text": [
            "/usr/local/lib/python3.7/dist-packages/pysurvival/models/survival_forest.py:399: RuntimeWarning: invalid value encountered in true_divide\n",
            "  self.variable_importance_table['pct_importance']= importance/sum_imp\n"
          ],
          "name": "stderr"
        }
      ]
    },
    {
      "cell_type": "code",
      "metadata": {
        "colab": {
          "base_uri": "https://localhost:8080/"
        },
        "id": "6hFczN92CJrs",
        "outputId": "b12539cd-1f50-4857-d0c3-2d16e3ac6ae4"
      },
      "source": [
        "ibs_mean"
      ],
      "execution_count": 36,
      "outputs": [
        {
          "output_type": "execute_result",
          "data": {
            "text/plain": [
              "0.13725333133228546"
            ]
          },
          "metadata": {
            "tags": []
          },
          "execution_count": 36
        }
      ]
    },
    {
      "cell_type": "code",
      "metadata": {
        "colab": {
          "base_uri": "https://localhost:8080/"
        },
        "id": "Js91OqcJCL6b",
        "outputId": "a3f43db1-55b7-4ca1-e7d0-b804f775e7cb"
      },
      "source": [
        "ibs_std"
      ],
      "execution_count": 37,
      "outputs": [
        {
          "output_type": "execute_result",
          "data": {
            "text/plain": [
              "0.024911599066136287"
            ]
          },
          "metadata": {
            "tags": []
          },
          "execution_count": 37
        }
      ]
    },
    {
      "cell_type": "markdown",
      "metadata": {
        "id": "FaKjkkEDC1d5"
      },
      "source": [
        "## Deep Surv"
      ]
    },
    {
      "cell_type": "code",
      "metadata": {
        "id": "0JdZvliXC3CG"
      },
      "source": [
        "from pysurvival.models.semi_parametric import NonLinearCoxPHModel\n"
      ],
      "execution_count": 38,
      "outputs": []
    },
    {
      "cell_type": "code",
      "metadata": {
        "id": "pV3da6CSC58Y"
      },
      "source": [
        "def Py_scores_deepsurv(X, T, E, loops):\n",
        "  \n",
        "  c_score_total = []\n",
        "  ibstotal = []\n",
        "  a= 0\n",
        "  np.random.seed(42); randseed = np.random.randint(9999, size = 1500)\n",
        "  for x in range(loops):\n",
        "\n",
        "    #Let's do this trick with the seeding, so we can have the same array of test sets, that we had in the previous feature selection algorithm. \n",
        "    a += 1\n",
        "    seed = randseed[a]\n",
        "  #Let's do a splitting 1/3 train, 1/3 rank, 1/3 test\n",
        "    X_train, X_test, t_train, t_test, e_train, e_test = train_test_split(\n",
        "    X, T, E, test_size=0.33, random_state = seed )\n",
        "    X_train, X_rank, t_train, t_rank, e_train, e_rank = train_test_split(\n",
        "    X_train, t_train, e_train, test_size=0.5, random_state = seed)\n",
        "  #Let's train the NN \n",
        "    structure = [ {'activation': 'ReLU', 'num_units': 128}, {'activation': 'ReLU', 'num_units': 64}, ]\n",
        "    nonlinear_coxph = NonLinearCoxPHModel(structure = structure)\n",
        "    nonlinear_coxph.fit(X_train, t_train, e_train, num_epochs = 100, dropout = 0.2,)\n",
        "    c_score_total.append(concordance_index(nonlinear_coxph, X_test, t_test, e_test))\n",
        "    \n",
        "  #Let's compute the C - scores\n",
        "  #Let's compute the integrated brier score\n",
        "    ibs = integrated_brier_score(nonlinear_coxph, X_test, t_test, e_test)\n",
        "    ibstotal.append(ibs)\n",
        "    \n",
        "  \n",
        "  \n",
        "  ibstotal2 = np.mean(np.array(ibstotal))\n",
        "  ibs_std = np.std(np.array(ibstotal))\n",
        "  c_score_avg = np.mean(np.array(c_score_total))\n",
        "  c_score_std = np.std(np.array(c_score_total))\n",
        "\n",
        "  return ibstotal2, ibs_std, c_score_avg, c_score_std"
      ],
      "execution_count": 39,
      "outputs": []
    },
    {
      "cell_type": "code",
      "metadata": {
        "id": "PqLSp_J0DrD7"
      },
      "source": [
        "ib, ibstd, c_index_avg, c_score_std = Py_scores_deepsurv(X, T, E, 100)"
      ],
      "execution_count": null,
      "outputs": []
    },
    {
      "cell_type": "code",
      "metadata": {
        "colab": {
          "base_uri": "https://localhost:8080/"
        },
        "id": "r8j4X0MyFqOp",
        "outputId": "0d50175f-9871-4790-dab2-a774bb70c9a0"
      },
      "source": [
        "c_index_avg"
      ],
      "execution_count": 41,
      "outputs": [
        {
          "output_type": "execute_result",
          "data": {
            "text/plain": [
              "0.6897279533286147"
            ]
          },
          "metadata": {
            "tags": []
          },
          "execution_count": 41
        }
      ]
    },
    {
      "cell_type": "code",
      "metadata": {
        "colab": {
          "base_uri": "https://localhost:8080/"
        },
        "id": "82-sq0TIFqXG",
        "outputId": "1dfef586-2d15-41e6-c095-989a86655283"
      },
      "source": [
        "c_score_std"
      ],
      "execution_count": 42,
      "outputs": [
        {
          "output_type": "execute_result",
          "data": {
            "text/plain": [
              "0.06999610522329555"
            ]
          },
          "metadata": {
            "tags": []
          },
          "execution_count": 42
        }
      ]
    },
    {
      "cell_type": "code",
      "metadata": {
        "colab": {
          "base_uri": "https://localhost:8080/"
        },
        "id": "A1aVpW00FqZ6",
        "outputId": "e76ec999-8e73-4fd7-ed1f-7faddc06cf5b"
      },
      "source": [
        "ib"
      ],
      "execution_count": 43,
      "outputs": [
        {
          "output_type": "execute_result",
          "data": {
            "text/plain": [
              "0.1197420629534416"
            ]
          },
          "metadata": {
            "tags": []
          },
          "execution_count": 43
        }
      ]
    },
    {
      "cell_type": "code",
      "metadata": {
        "colab": {
          "base_uri": "https://localhost:8080/"
        },
        "id": "UWaQpCZpFvrr",
        "outputId": "6036c28f-da0f-4fb9-9851-6eeba15c3b19"
      },
      "source": [
        "ibstd"
      ],
      "execution_count": 44,
      "outputs": [
        {
          "output_type": "execute_result",
          "data": {
            "text/plain": [
              "0.02567779284053625"
            ]
          },
          "metadata": {
            "tags": []
          },
          "execution_count": 44
        }
      ]
    },
    {
      "cell_type": "markdown",
      "metadata": {
        "id": "rsgSjldiHEL5"
      },
      "source": [
        "## Cox Proportional Hazards\n"
      ]
    },
    {
      "cell_type": "code",
      "metadata": {
        "id": "6zWCIKO8HDfk"
      },
      "source": [
        "from pysurvival.models.semi_parametric import CoxPHModel\n"
      ],
      "execution_count": 45,
      "outputs": []
    },
    {
      "cell_type": "code",
      "metadata": {
        "id": "0hVT9so_HDiF"
      },
      "source": [
        "coxph = CoxPHModel()\n"
      ],
      "execution_count": 46,
      "outputs": []
    },
    {
      "cell_type": "code",
      "metadata": {
        "id": "8RDJixqdHSHD"
      },
      "source": [
        "def Py_scores_cox(X, T, E, model, loops):\n",
        "  \n",
        "  c_score_total = []\n",
        "  ibstotal = []\n",
        "  a= 0\n",
        "  np.random.seed(42); randseed = np.random.randint(9999, size = 1500)\n",
        "  for x in range(loops):\n",
        "\n",
        "    #Let's do this trick with the seeding, so we can have the same array of test sets, that we had in the previous feature selection algorithm. \n",
        "    a += 1\n",
        "    seed = randseed[a]\n",
        "  #Let's do a splitting 1/3 train, 1/3 rank, 1/3 test\n",
        "    X_train, X_test, t_train, t_test, e_train, e_test = train_test_split(\n",
        "    X, T, E, test_size=0.33, random_state = seed )\n",
        "    X_train, X_rank, t_train, t_rank, e_train, e_rank = train_test_split(\n",
        "    X_train, t_train, e_train, test_size=0.5, random_state = seed)\n",
        "  #Let's train the model on the \n",
        "    model.fit(X_train, t_train, e_train)\n",
        "    c_score_total.append(concordance_index(model, X_test, t_test, e_test))\n",
        "    \n",
        "  #Let's compute the C - scores\n",
        "  #Let's compute the integrated brier score\n",
        "    ibs = integrated_brier_score(model, X_test, t_test, e_test)\n",
        "    ibstotal.append(ibs)\n",
        "    \n",
        "  \n",
        "  \n",
        "  ibstotal2 = np.mean(np.array(ibstotal))\n",
        "  ibs_std = np.std(np.array(ibstotal))\n",
        "  c_index = np.mean(np.array(c_score_total))\n",
        "  c_index_sd = np.std(np.array(c_score_total))\n",
        "\n",
        "  return ibstotal2, ibs_std, c_index, c_index_sd"
      ],
      "execution_count": 47,
      "outputs": []
    },
    {
      "cell_type": "code",
      "metadata": {
        "id": "GyfTFTAcHU-V"
      },
      "source": [
        "ib, ibstd, c_index_avg, c_index_sd = Py_scores_cox(X, T, E, coxph, 100)"
      ],
      "execution_count": null,
      "outputs": []
    },
    {
      "cell_type": "code",
      "metadata": {
        "colab": {
          "base_uri": "https://localhost:8080/"
        },
        "id": "EwkKYelWHVNU",
        "outputId": "22a60990-052e-467a-fcdb-f927ee729a99"
      },
      "source": [
        "ib"
      ],
      "execution_count": 49,
      "outputs": [
        {
          "output_type": "execute_result",
          "data": {
            "text/plain": [
              "0.11500412911909985"
            ]
          },
          "metadata": {
            "tags": []
          },
          "execution_count": 49
        }
      ]
    },
    {
      "cell_type": "code",
      "metadata": {
        "colab": {
          "base_uri": "https://localhost:8080/"
        },
        "id": "aJs8Td81HlSd",
        "outputId": "7ae1b4b7-f53f-42c7-cdd9-122c483057c1"
      },
      "source": [
        "ibstd"
      ],
      "execution_count": 50,
      "outputs": [
        {
          "output_type": "execute_result",
          "data": {
            "text/plain": [
              "0.02680322751157355"
            ]
          },
          "metadata": {
            "tags": []
          },
          "execution_count": 50
        }
      ]
    },
    {
      "cell_type": "code",
      "metadata": {
        "colab": {
          "base_uri": "https://localhost:8080/"
        },
        "id": "KP7iHkXgHnkW",
        "outputId": "0b94699a-89d2-4c37-ab01-0d98bb28c7a1"
      },
      "source": [
        "c_index_avg"
      ],
      "execution_count": 51,
      "outputs": [
        {
          "output_type": "execute_result",
          "data": {
            "text/plain": [
              "0.6799917848326246"
            ]
          },
          "metadata": {
            "tags": []
          },
          "execution_count": 51
        }
      ]
    },
    {
      "cell_type": "code",
      "metadata": {
        "colab": {
          "base_uri": "https://localhost:8080/"
        },
        "id": "iI1bxFGeuyTM",
        "outputId": "9cc6c140-a539-497d-d674-8afc96266a7f"
      },
      "source": [
        "c_index_sd"
      ],
      "execution_count": 52,
      "outputs": [
        {
          "output_type": "execute_result",
          "data": {
            "text/plain": [
              "0.07589780599720908"
            ]
          },
          "metadata": {
            "tags": []
          },
          "execution_count": 52
        }
      ]
    }
  ]
}