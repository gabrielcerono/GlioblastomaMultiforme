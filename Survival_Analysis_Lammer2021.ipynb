{
  "nbformat": 4,
  "nbformat_minor": 0,
  "metadata": {
    "colab": {
      "name": "Survival Analysis Lammer2021.ipynb",
      "provenance": [],
      "authorship_tag": "ABX9TyMNKTxDeX1CEQNtkX68VOFm",
      "include_colab_link": true
    },
    "kernelspec": {
      "name": "python3",
      "display_name": "Python 3"
    },
    "language_info": {
      "name": "python"
    }
  },
  "cells": [
    {
      "cell_type": "markdown",
      "metadata": {
        "id": "view-in-github",
        "colab_type": "text"
      },
      "source": [
        "<a href=\"https://colab.research.google.com/github/gabrielcerono/GlioblastomaMultiforme/blob/main/Survival_Analysis_Lammer2021.ipynb\" target=\"_parent\"><img src=\"https://colab.research.google.com/assets/colab-badge.svg\" alt=\"Open In Colab\"/></a>"
      ]
    },
    {
      "cell_type": "code",
      "metadata": {
        "id": "jlS-peiMK0Hm",
        "colab": {
          "base_uri": "https://localhost:8080/"
        },
        "outputId": "5eb1c9e9-6e44-4a6e-aa31-9c6416ff4828"
      },
      "source": [
        "!pip install --upgrade pip\n",
        "!pip uninstall --yes --quiet osqp\n",
        "!pip install -U scikit-survival"
      ],
      "execution_count": 1,
      "outputs": [
        {
          "output_type": "stream",
          "text": [
            "Collecting pip\n",
            "\u001b[?25l  Downloading https://files.pythonhosted.org/packages/47/ca/f0d790b6e18b3a6f3bd5e80c2ee4edbb5807286c21cdd0862ca933f751dd/pip-21.1.3-py3-none-any.whl (1.5MB)\n",
            "\r\u001b[K     |▏                               | 10kB 23.9MB/s eta 0:00:01\r\u001b[K     |▍                               | 20kB 33.3MB/s eta 0:00:01\r\u001b[K     |▋                               | 30kB 30.9MB/s eta 0:00:01\r\u001b[K     |▉                               | 40kB 21.9MB/s eta 0:00:01\r\u001b[K     |█                               | 51kB 14.4MB/s eta 0:00:01\r\u001b[K     |█▎                              | 61kB 12.5MB/s eta 0:00:01\r\u001b[K     |█▌                              | 71kB 13.4MB/s eta 0:00:01\r\u001b[K     |█▊                              | 81kB 14.5MB/s eta 0:00:01\r\u001b[K     |██                              | 92kB 10.6MB/s eta 0:00:01\r\u001b[K     |██▏                             | 102kB 11.3MB/s eta 0:00:01\r\u001b[K     |██▎                             | 112kB 11.3MB/s eta 0:00:01\r\u001b[K     |██▌                             | 122kB 11.3MB/s eta 0:00:01\r\u001b[K     |██▊                             | 133kB 11.3MB/s eta 0:00:01\r\u001b[K     |███                             | 143kB 11.3MB/s eta 0:00:01\r\u001b[K     |███▏                            | 153kB 11.3MB/s eta 0:00:01\r\u001b[K     |███▍                            | 163kB 11.3MB/s eta 0:00:01\r\u001b[K     |███▋                            | 174kB 11.3MB/s eta 0:00:01\r\u001b[K     |███▉                            | 184kB 11.3MB/s eta 0:00:01\r\u001b[K     |████                            | 194kB 11.3MB/s eta 0:00:01\r\u001b[K     |████▎                           | 204kB 11.3MB/s eta 0:00:01\r\u001b[K     |████▌                           | 215kB 11.3MB/s eta 0:00:01\r\u001b[K     |████▋                           | 225kB 11.3MB/s eta 0:00:01\r\u001b[K     |████▉                           | 235kB 11.3MB/s eta 0:00:01\r\u001b[K     |█████                           | 245kB 11.3MB/s eta 0:00:01\r\u001b[K     |█████▎                          | 256kB 11.3MB/s eta 0:00:01\r\u001b[K     |█████▌                          | 266kB 11.3MB/s eta 0:00:01\r\u001b[K     |█████▊                          | 276kB 11.3MB/s eta 0:00:01\r\u001b[K     |██████                          | 286kB 11.3MB/s eta 0:00:01\r\u001b[K     |██████▏                         | 296kB 11.3MB/s eta 0:00:01\r\u001b[K     |██████▍                         | 307kB 11.3MB/s eta 0:00:01\r\u001b[K     |██████▋                         | 317kB 11.3MB/s eta 0:00:01\r\u001b[K     |██████▊                         | 327kB 11.3MB/s eta 0:00:01\r\u001b[K     |███████                         | 337kB 11.3MB/s eta 0:00:01\r\u001b[K     |███████▏                        | 348kB 11.3MB/s eta 0:00:01\r\u001b[K     |███████▍                        | 358kB 11.3MB/s eta 0:00:01\r\u001b[K     |███████▋                        | 368kB 11.3MB/s eta 0:00:01\r\u001b[K     |███████▉                        | 378kB 11.3MB/s eta 0:00:01\r\u001b[K     |████████                        | 389kB 11.3MB/s eta 0:00:01\r\u001b[K     |████████▎                       | 399kB 11.3MB/s eta 0:00:01\r\u001b[K     |████████▌                       | 409kB 11.3MB/s eta 0:00:01\r\u001b[K     |████████▊                       | 419kB 11.3MB/s eta 0:00:01\r\u001b[K     |█████████                       | 430kB 11.3MB/s eta 0:00:01\r\u001b[K     |█████████                       | 440kB 11.3MB/s eta 0:00:01\r\u001b[K     |█████████▎                      | 450kB 11.3MB/s eta 0:00:01\r\u001b[K     |█████████▌                      | 460kB 11.3MB/s eta 0:00:01\r\u001b[K     |█████████▊                      | 471kB 11.3MB/s eta 0:00:01\r\u001b[K     |██████████                      | 481kB 11.3MB/s eta 0:00:01\r\u001b[K     |██████████▏                     | 491kB 11.3MB/s eta 0:00:01\r\u001b[K     |██████████▍                     | 501kB 11.3MB/s eta 0:00:01\r\u001b[K     |██████████▋                     | 512kB 11.3MB/s eta 0:00:01\r\u001b[K     |██████████▉                     | 522kB 11.3MB/s eta 0:00:01\r\u001b[K     |███████████                     | 532kB 11.3MB/s eta 0:00:01\r\u001b[K     |███████████▏                    | 542kB 11.3MB/s eta 0:00:01\r\u001b[K     |███████████▍                    | 552kB 11.3MB/s eta 0:00:01\r\u001b[K     |███████████▋                    | 563kB 11.3MB/s eta 0:00:01\r\u001b[K     |███████████▉                    | 573kB 11.3MB/s eta 0:00:01\r\u001b[K     |████████████                    | 583kB 11.3MB/s eta 0:00:01\r\u001b[K     |████████████▎                   | 593kB 11.3MB/s eta 0:00:01\r\u001b[K     |████████████▌                   | 604kB 11.3MB/s eta 0:00:01\r\u001b[K     |████████████▊                   | 614kB 11.3MB/s eta 0:00:01\r\u001b[K     |█████████████                   | 624kB 11.3MB/s eta 0:00:01\r\u001b[K     |█████████████▏                  | 634kB 11.3MB/s eta 0:00:01\r\u001b[K     |█████████████▍                  | 645kB 11.3MB/s eta 0:00:01\r\u001b[K     |█████████████▌                  | 655kB 11.3MB/s eta 0:00:01\r\u001b[K     |█████████████▊                  | 665kB 11.3MB/s eta 0:00:01\r\u001b[K     |██████████████                  | 675kB 11.3MB/s eta 0:00:01\r\u001b[K     |██████████████▏                 | 686kB 11.3MB/s eta 0:00:01\r\u001b[K     |██████████████▍                 | 696kB 11.3MB/s eta 0:00:01\r\u001b[K     |██████████████▋                 | 706kB 11.3MB/s eta 0:00:01\r\u001b[K     |██████████████▉                 | 716kB 11.3MB/s eta 0:00:01\r\u001b[K     |███████████████                 | 727kB 11.3MB/s eta 0:00:01\r\u001b[K     |███████████████▎                | 737kB 11.3MB/s eta 0:00:01\r\u001b[K     |███████████████▌                | 747kB 11.3MB/s eta 0:00:01\r\u001b[K     |███████████████▋                | 757kB 11.3MB/s eta 0:00:01\r\u001b[K     |███████████████▉                | 768kB 11.3MB/s eta 0:00:01\r\u001b[K     |████████████████                | 778kB 11.3MB/s eta 0:00:01\r\u001b[K     |████████████████▎               | 788kB 11.3MB/s eta 0:00:01\r\u001b[K     |████████████████▌               | 798kB 11.3MB/s eta 0:00:01\r\u001b[K     |████████████████▊               | 808kB 11.3MB/s eta 0:00:01\r\u001b[K     |█████████████████               | 819kB 11.3MB/s eta 0:00:01\r\u001b[K     |█████████████████▏              | 829kB 11.3MB/s eta 0:00:01\r\u001b[K     |█████████████████▍              | 839kB 11.3MB/s eta 0:00:01\r\u001b[K     |█████████████████▋              | 849kB 11.3MB/s eta 0:00:01\r\u001b[K     |█████████████████▉              | 860kB 11.3MB/s eta 0:00:01\r\u001b[K     |██████████████████              | 870kB 11.3MB/s eta 0:00:01\r\u001b[K     |██████████████████▏             | 880kB 11.3MB/s eta 0:00:01\r\u001b[K     |██████████████████▍             | 890kB 11.3MB/s eta 0:00:01\r\u001b[K     |██████████████████▋             | 901kB 11.3MB/s eta 0:00:01\r\u001b[K     |██████████████████▉             | 911kB 11.3MB/s eta 0:00:01\r\u001b[K     |███████████████████             | 921kB 11.3MB/s eta 0:00:01\r\u001b[K     |███████████████████▎            | 931kB 11.3MB/s eta 0:00:01\r\u001b[K     |███████████████████▌            | 942kB 11.3MB/s eta 0:00:01\r\u001b[K     |███████████████████▊            | 952kB 11.3MB/s eta 0:00:01\r\u001b[K     |████████████████████            | 962kB 11.3MB/s eta 0:00:01\r\u001b[K     |████████████████████            | 972kB 11.3MB/s eta 0:00:01\r\u001b[K     |████████████████████▎           | 983kB 11.3MB/s eta 0:00:01\r\u001b[K     |████████████████████▌           | 993kB 11.3MB/s eta 0:00:01\r\u001b[K     |████████████████████▊           | 1.0MB 11.3MB/s eta 0:00:01\r\u001b[K     |█████████████████████           | 1.0MB 11.3MB/s eta 0:00:01\r\u001b[K     |█████████████████████▏          | 1.0MB 11.3MB/s eta 0:00:01\r\u001b[K     |█████████████████████▍          | 1.0MB 11.3MB/s eta 0:00:01\r\u001b[K     |█████████████████████▋          | 1.0MB 11.3MB/s eta 0:00:01\r\u001b[K     |█████████████████████▉          | 1.1MB 11.3MB/s eta 0:00:01\r\u001b[K     |██████████████████████          | 1.1MB 11.3MB/s eta 0:00:01\r\u001b[K     |██████████████████████▎         | 1.1MB 11.3MB/s eta 0:00:01\r\u001b[K     |██████████████████████▍         | 1.1MB 11.3MB/s eta 0:00:01\r\u001b[K     |██████████████████████▋         | 1.1MB 11.3MB/s eta 0:00:01\r\u001b[K     |██████████████████████▉         | 1.1MB 11.3MB/s eta 0:00:01\r\u001b[K     |███████████████████████         | 1.1MB 11.3MB/s eta 0:00:01\r\u001b[K     |███████████████████████▎        | 1.1MB 11.3MB/s eta 0:00:01\r\u001b[K     |███████████████████████▌        | 1.1MB 11.3MB/s eta 0:00:01\r\u001b[K     |███████████████████████▊        | 1.1MB 11.3MB/s eta 0:00:01\r\u001b[K     |████████████████████████        | 1.2MB 11.3MB/s eta 0:00:01\r\u001b[K     |████████████████████████▏       | 1.2MB 11.3MB/s eta 0:00:01\r\u001b[K     |████████████████████████▍       | 1.2MB 11.3MB/s eta 0:00:01\r\u001b[K     |████████████████████████▌       | 1.2MB 11.3MB/s eta 0:00:01\r\u001b[K     |████████████████████████▊       | 1.2MB 11.3MB/s eta 0:00:01\r\u001b[K     |█████████████████████████       | 1.2MB 11.3MB/s eta 0:00:01\r\u001b[K     |█████████████████████████▏      | 1.2MB 11.3MB/s eta 0:00:01\r\u001b[K     |█████████████████████████▍      | 1.2MB 11.3MB/s eta 0:00:01\r\u001b[K     |█████████████████████████▋      | 1.2MB 11.3MB/s eta 0:00:01\r\u001b[K     |█████████████████████████▉      | 1.2MB 11.3MB/s eta 0:00:01\r\u001b[K     |██████████████████████████      | 1.3MB 11.3MB/s eta 0:00:01\r\u001b[K     |██████████████████████████▎     | 1.3MB 11.3MB/s eta 0:00:01\r\u001b[K     |██████████████████████████▌     | 1.3MB 11.3MB/s eta 0:00:01\r\u001b[K     |██████████████████████████▊     | 1.3MB 11.3MB/s eta 0:00:01\r\u001b[K     |██████████████████████████▉     | 1.3MB 11.3MB/s eta 0:00:01\r\u001b[K     |███████████████████████████     | 1.3MB 11.3MB/s eta 0:00:01\r\u001b[K     |███████████████████████████▎    | 1.3MB 11.3MB/s eta 0:00:01\r\u001b[K     |███████████████████████████▌    | 1.3MB 11.3MB/s eta 0:00:01\r\u001b[K     |███████████████████████████▊    | 1.3MB 11.3MB/s eta 0:00:01\r\u001b[K     |████████████████████████████    | 1.4MB 11.3MB/s eta 0:00:01\r\u001b[K     |████████████████████████████▏   | 1.4MB 11.3MB/s eta 0:00:01\r\u001b[K     |████████████████████████████▍   | 1.4MB 11.3MB/s eta 0:00:01\r\u001b[K     |████████████████████████████▋   | 1.4MB 11.3MB/s eta 0:00:01\r\u001b[K     |████████████████████████████▉   | 1.4MB 11.3MB/s eta 0:00:01\r\u001b[K     |█████████████████████████████   | 1.4MB 11.3MB/s eta 0:00:01\r\u001b[K     |█████████████████████████████▏  | 1.4MB 11.3MB/s eta 0:00:01\r\u001b[K     |█████████████████████████████▍  | 1.4MB 11.3MB/s eta 0:00:01\r\u001b[K     |█████████████████████████████▋  | 1.4MB 11.3MB/s eta 0:00:01\r\u001b[K     |█████████████████████████████▉  | 1.4MB 11.3MB/s eta 0:00:01\r\u001b[K     |██████████████████████████████  | 1.5MB 11.3MB/s eta 0:00:01\r\u001b[K     |██████████████████████████████▎ | 1.5MB 11.3MB/s eta 0:00:01\r\u001b[K     |██████████████████████████████▌ | 1.5MB 11.3MB/s eta 0:00:01\r\u001b[K     |██████████████████████████████▊ | 1.5MB 11.3MB/s eta 0:00:01\r\u001b[K     |███████████████████████████████ | 1.5MB 11.3MB/s eta 0:00:01\r\u001b[K     |███████████████████████████████▏| 1.5MB 11.3MB/s eta 0:00:01\r\u001b[K     |███████████████████████████████▎| 1.5MB 11.3MB/s eta 0:00:01\r\u001b[K     |███████████████████████████████▌| 1.5MB 11.3MB/s eta 0:00:01\r\u001b[K     |███████████████████████████████▊| 1.5MB 11.3MB/s eta 0:00:01\r\u001b[K     |████████████████████████████████| 1.5MB 11.3MB/s eta 0:00:01\r\u001b[K     |████████████████████████████████| 1.6MB 11.3MB/s \n",
            "\u001b[?25hInstalling collected packages: pip\n",
            "  Found existing installation: pip 19.3.1\n",
            "    Uninstalling pip-19.3.1:\n",
            "      Successfully uninstalled pip-19.3.1\n",
            "Successfully installed pip-21.1.3\n",
            "\u001b[33mWARNING: Running pip as the 'root' user can result in broken permissions and conflicting behaviour with the system package manager. It is recommended to use a virtual environment instead: https://pip.pypa.io/warnings/venv\u001b[0m\n",
            "Collecting scikit-survival\n",
            "  Downloading scikit-survival-0.15.0.post0.tar.gz (2.4 MB)\n",
            "\u001b[K     |████████████████████████████████| 2.4 MB 14.1 MB/s \n",
            "\u001b[?25h  Installing build dependencies ... \u001b[?25l\u001b[?25hdone\n",
            "  Getting requirements to build wheel ... \u001b[?25l\u001b[?25herror\n",
            "\u001b[33mWARNING: Discarding https://files.pythonhosted.org/packages/91/f0/047ce90bb831ab34ca287d1d23f0c61b6546cd89494566898c0e17516990/scikit-survival-0.15.0.post0.tar.gz#sha256=572c3ac6818a9d0944fc4b8176eb948051654de857e28419ecc5060bcc6fbf37 (from https://pypi.org/simple/scikit-survival/) (requires-python:>=3.7). Command errored out with exit status 1: /usr/bin/python3 /usr/local/lib/python3.7/dist-packages/pip/_vendor/pep517/in_process/_in_process.py get_requires_for_build_wheel /tmp/tmphgwb9k0k Check the logs for full command output.\u001b[0m\n",
            "  Downloading scikit-survival-0.14.0.tar.gz (2.3 MB)\n",
            "\u001b[K     |████████████████████████████████| 2.3 MB 61.0 MB/s \n",
            "\u001b[?25h  Installing build dependencies ... \u001b[?25l\u001b[?25hdone\n",
            "  Getting requirements to build wheel ... \u001b[?25l\u001b[?25hdone\n",
            "    Preparing wheel metadata ... \u001b[?25l\u001b[?25hdone\n",
            "Requirement already satisfied: numpy in /usr/local/lib/python3.7/dist-packages (from scikit-survival) (1.19.5)\n",
            "Requirement already satisfied: numexpr in /usr/local/lib/python3.7/dist-packages (from scikit-survival) (2.7.3)\n",
            "Collecting osqp!=0.6.0,!=0.6.1\n",
            "  Downloading osqp-0.6.2.post0-cp37-cp37m-manylinux2014_x86_64.whl (212 kB)\n",
            "\u001b[K     |████████████████████████████████| 212 kB 68.1 MB/s \n",
            "\u001b[?25hRequirement already satisfied: scipy!=1.3.0,>=1.0 in /usr/local/lib/python3.7/dist-packages (from scikit-survival) (1.4.1)\n",
            "Requirement already satisfied: scikit-learn<0.24,>=0.22.0 in /usr/local/lib/python3.7/dist-packages (from scikit-survival) (0.22.2.post1)\n",
            "Requirement already satisfied: cvxopt in /usr/local/lib/python3.7/dist-packages (from scikit-survival) (1.2.6)\n",
            "Requirement already satisfied: joblib in /usr/local/lib/python3.7/dist-packages (from scikit-survival) (1.0.1)\n",
            "Requirement already satisfied: cvxpy>=1.0 in /usr/local/lib/python3.7/dist-packages (from scikit-survival) (1.0.31)\n",
            "Requirement already satisfied: pandas>=0.21 in /usr/local/lib/python3.7/dist-packages (from scikit-survival) (1.1.5)\n",
            "Requirement already satisfied: multiprocess in /usr/local/lib/python3.7/dist-packages (from cvxpy>=1.0->scikit-survival) (0.70.12.2)\n",
            "Requirement already satisfied: scs>=1.1.3 in /usr/local/lib/python3.7/dist-packages (from cvxpy>=1.0->scikit-survival) (2.1.4)\n",
            "Requirement already satisfied: ecos>=2 in /usr/local/lib/python3.7/dist-packages (from cvxpy>=1.0->scikit-survival) (2.0.7.post1)\n",
            "Requirement already satisfied: qdldl in /usr/local/lib/python3.7/dist-packages (from osqp!=0.6.0,!=0.6.1->scikit-survival) (0.1.5.post0)\n",
            "Requirement already satisfied: python-dateutil>=2.7.3 in /usr/local/lib/python3.7/dist-packages (from pandas>=0.21->scikit-survival) (2.8.1)\n",
            "Requirement already satisfied: pytz>=2017.2 in /usr/local/lib/python3.7/dist-packages (from pandas>=0.21->scikit-survival) (2018.9)\n",
            "Requirement already satisfied: six>=1.5 in /usr/local/lib/python3.7/dist-packages (from python-dateutil>=2.7.3->pandas>=0.21->scikit-survival) (1.15.0)\n",
            "Requirement already satisfied: dill>=0.3.4 in /usr/local/lib/python3.7/dist-packages (from multiprocess->cvxpy>=1.0->scikit-survival) (0.3.4)\n",
            "Building wheels for collected packages: scikit-survival\n",
            "  Building wheel for scikit-survival (PEP 517) ... \u001b[?25l\u001b[?25hdone\n",
            "  Created wheel for scikit-survival: filename=scikit_survival-0.14.0-cp37-cp37m-linux_x86_64.whl size=4061841 sha256=fd6b2eb057bf5f055d3d906798a27ae90f72ddfc1072ea19d4592e7567fb7565\n",
            "  Stored in directory: /root/.cache/pip/wheels/a2/3e/97/3722ba215d3dfe5429c1a7e4f24f535a3f46004fb29a16d505\n",
            "Successfully built scikit-survival\n",
            "Installing collected packages: osqp, scikit-survival\n",
            "Successfully installed osqp-0.6.2.post0 scikit-survival-0.14.0\n",
            "\u001b[33mWARNING: Running pip as the 'root' user can result in broken permissions and conflicting behaviour with the system package manager. It is recommended to use a virtual environment instead: https://pip.pypa.io/warnings/venv\u001b[0m\n"
          ],
          "name": "stdout"
        }
      ]
    },
    {
      "cell_type": "code",
      "metadata": {
        "id": "4VlNlxH7K3d_"
      },
      "source": [
        "import pandas as pd\n",
        "import matplotlib.pyplot as plt\n",
        "import numpy as np\n",
        "import sklearn as sk"
      ],
      "execution_count": 2,
      "outputs": []
    },
    {
      "cell_type": "code",
      "metadata": {
        "colab": {
          "base_uri": "https://localhost:8080/"
        },
        "id": "uG1_HiLgmhkF",
        "outputId": "bbee1ce7-364b-40f3-80df-ccf3d08886f4"
      },
      "source": [
        "pip install eli5"
      ],
      "execution_count": 3,
      "outputs": [
        {
          "output_type": "stream",
          "text": [
            "Collecting eli5\n",
            "  Downloading eli5-0.11.0-py2.py3-none-any.whl (106 kB)\n",
            "\u001b[?25l\r\u001b[K     |███                             | 10 kB 28.6 MB/s eta 0:00:01\r\u001b[K     |██████▏                         | 20 kB 35.5 MB/s eta 0:00:01\r\u001b[K     |█████████▎                      | 30 kB 28.7 MB/s eta 0:00:01\r\u001b[K     |████████████▍                   | 40 kB 18.3 MB/s eta 0:00:01\r\u001b[K     |███████████████▌                | 51 kB 14.1 MB/s eta 0:00:01\r\u001b[K     |██████████████████▌             | 61 kB 12.2 MB/s eta 0:00:01\r\u001b[K     |█████████████████████▋          | 71 kB 13.3 MB/s eta 0:00:01\r\u001b[K     |████████████████████████▊       | 81 kB 13.5 MB/s eta 0:00:01\r\u001b[K     |███████████████████████████▉    | 92 kB 11.4 MB/s eta 0:00:01\r\u001b[K     |███████████████████████████████ | 102 kB 12.3 MB/s eta 0:00:01\r\u001b[K     |████████████████████████████████| 106 kB 12.3 MB/s \n",
            "\u001b[?25hRequirement already satisfied: scikit-learn>=0.20 in /usr/local/lib/python3.7/dist-packages (from eli5) (0.22.2.post1)\n",
            "Requirement already satisfied: scipy in /usr/local/lib/python3.7/dist-packages (from eli5) (1.4.1)\n",
            "Requirement already satisfied: six in /usr/local/lib/python3.7/dist-packages (from eli5) (1.15.0)\n",
            "Requirement already satisfied: jinja2 in /usr/local/lib/python3.7/dist-packages (from eli5) (2.11.3)\n",
            "Requirement already satisfied: numpy>=1.9.0 in /usr/local/lib/python3.7/dist-packages (from eli5) (1.19.5)\n",
            "Requirement already satisfied: attrs>16.0.0 in /usr/local/lib/python3.7/dist-packages (from eli5) (21.2.0)\n",
            "Requirement already satisfied: tabulate>=0.7.7 in /usr/local/lib/python3.7/dist-packages (from eli5) (0.8.9)\n",
            "Requirement already satisfied: graphviz in /usr/local/lib/python3.7/dist-packages (from eli5) (0.10.1)\n",
            "Requirement already satisfied: joblib>=0.11 in /usr/local/lib/python3.7/dist-packages (from scikit-learn>=0.20->eli5) (1.0.1)\n",
            "Requirement already satisfied: MarkupSafe>=0.23 in /usr/local/lib/python3.7/dist-packages (from jinja2->eli5) (2.0.1)\n",
            "Installing collected packages: eli5\n",
            "Successfully installed eli5-0.11.0\n",
            "\u001b[33mWARNING: Running pip as the 'root' user can result in broken permissions and conflicting behaviour with the system package manager. It is recommended to use a virtual environment instead: https://pip.pypa.io/warnings/venv\u001b[0m\n"
          ],
          "name": "stdout"
        }
      ]
    },
    {
      "cell_type": "code",
      "metadata": {
        "id": "HdO_u4PKLAGK"
      },
      "source": [
        "from sksurv.linear_model import CoxPHSurvivalAnalysis\n",
        "from sksurv.metrics import concordance_index_censored\n",
        "from sksurv.metrics import brier_score"
      ],
      "execution_count": 4,
      "outputs": []
    },
    {
      "cell_type": "code",
      "metadata": {
        "id": "DDpJB6cmL0hm"
      },
      "source": [
        "dataset = pd.read_excel('/content/glioma.xlsx')"
      ],
      "execution_count": 6,
      "outputs": []
    },
    {
      "cell_type": "code",
      "metadata": {
        "colab": {
          "base_uri": "https://localhost:8080/",
          "height": 237
        },
        "id": "WqmvS430MEW5",
        "outputId": "2c11fc28-79a6-463d-a763-ce76673a1047"
      },
      "source": [
        "dataset.head()"
      ],
      "execution_count": 7,
      "outputs": [
        {
          "output_type": "execute_result",
          "data": {
            "text/html": [
              "<div>\n",
              "<style scoped>\n",
              "    .dataframe tbody tr th:only-of-type {\n",
              "        vertical-align: middle;\n",
              "    }\n",
              "\n",
              "    .dataframe tbody tr th {\n",
              "        vertical-align: top;\n",
              "    }\n",
              "\n",
              "    .dataframe thead th {\n",
              "        text-align: right;\n",
              "    }\n",
              "</style>\n",
              "<table border=\"1\" class=\"dataframe\">\n",
              "  <thead>\n",
              "    <tr style=\"text-align: right;\">\n",
              "      <th></th>\n",
              "      <th>patient ID</th>\n",
              "      <th>sex</th>\n",
              "      <th>age [years]</th>\n",
              "      <th>OS [months]</th>\n",
              "      <th>OS status (1=deceased, 0=living)</th>\n",
              "      <th>PFS [months]</th>\n",
              "      <th>progression (1=yes, 0=no)</th>\n",
              "      <th>MGMT methylation (1=methylated, 0=unmethylated)</th>\n",
              "      <th>cHsp70</th>\n",
              "    </tr>\n",
              "  </thead>\n",
              "  <tbody>\n",
              "    <tr>\n",
              "      <th>0</th>\n",
              "      <td>1</td>\n",
              "      <td>m</td>\n",
              "      <td>62</td>\n",
              "      <td>1.2</td>\n",
              "      <td>1</td>\n",
              "      <td>1.2</td>\n",
              "      <td>1</td>\n",
              "      <td>0</td>\n",
              "      <td>high</td>\n",
              "    </tr>\n",
              "    <tr>\n",
              "      <th>1</th>\n",
              "      <td>2</td>\n",
              "      <td>m</td>\n",
              "      <td>58</td>\n",
              "      <td>20.9</td>\n",
              "      <td>1</td>\n",
              "      <td>18.2</td>\n",
              "      <td>1</td>\n",
              "      <td>0</td>\n",
              "      <td>high</td>\n",
              "    </tr>\n",
              "    <tr>\n",
              "      <th>2</th>\n",
              "      <td>3</td>\n",
              "      <td>f</td>\n",
              "      <td>50</td>\n",
              "      <td>4.0</td>\n",
              "      <td>1</td>\n",
              "      <td>4.6</td>\n",
              "      <td>1</td>\n",
              "      <td>0</td>\n",
              "      <td>low</td>\n",
              "    </tr>\n",
              "    <tr>\n",
              "      <th>3</th>\n",
              "      <td>4</td>\n",
              "      <td>m</td>\n",
              "      <td>20</td>\n",
              "      <td>26.0</td>\n",
              "      <td>1</td>\n",
              "      <td>16.1</td>\n",
              "      <td>1</td>\n",
              "      <td>1</td>\n",
              "      <td>high</td>\n",
              "    </tr>\n",
              "    <tr>\n",
              "      <th>4</th>\n",
              "      <td>6</td>\n",
              "      <td>m</td>\n",
              "      <td>42</td>\n",
              "      <td>15.8</td>\n",
              "      <td>1</td>\n",
              "      <td>6.2</td>\n",
              "      <td>1</td>\n",
              "      <td>0</td>\n",
              "      <td>low</td>\n",
              "    </tr>\n",
              "  </tbody>\n",
              "</table>\n",
              "</div>"
            ],
            "text/plain": [
              "   patient ID sex  ...  MGMT methylation (1=methylated, 0=unmethylated)  cHsp70\n",
              "0           1   m  ...                                                0    high\n",
              "1           2   m  ...                                                0    high\n",
              "2           3   f  ...                                                0     low\n",
              "3           4   m  ...                                                1    high\n",
              "4           6   m  ...                                                0     low\n",
              "\n",
              "[5 rows x 9 columns]"
            ]
          },
          "metadata": {
            "tags": []
          },
          "execution_count": 7
        }
      ]
    },
    {
      "cell_type": "code",
      "metadata": {
        "id": "edND4gDjMGAJ"
      },
      "source": [
        "dataset = dataset.drop(columns=['patient ID'])"
      ],
      "execution_count": 8,
      "outputs": []
    },
    {
      "cell_type": "code",
      "metadata": {
        "colab": {
          "base_uri": "https://localhost:8080/"
        },
        "id": "q5tLc21pMzoQ",
        "outputId": "35284905-610c-45be-feec-baae086bafa2"
      },
      "source": [
        "dataset.columns"
      ],
      "execution_count": 9,
      "outputs": [
        {
          "output_type": "execute_result",
          "data": {
            "text/plain": [
              "Index(['sex', 'age [years]', 'OS [months]', 'OS status (1=deceased, 0=living)',\n",
              "       'PFS [months]', 'progression (1=yes, 0=no)',\n",
              "       'MGMT methylation (1=methylated, 0=unmethylated)', 'cHsp70'],\n",
              "      dtype='object')"
            ]
          },
          "metadata": {
            "tags": []
          },
          "execution_count": 9
        }
      ]
    },
    {
      "cell_type": "code",
      "metadata": {
        "id": "n7Dui3HCMYiJ"
      },
      "source": [
        "dataset = dataset.rename(columns={'age [years]' : 'age', 'OS [months]' : 'os', 'OS status (1=deceased, 0=living)' : 'death',\n",
        "       'progression (1=yes, 0=no)' : \"didprogress\",'MGMT methylation (1=methylated, 0=unmethylated)' : 'mgmt_methylation', 'cHsp70' : 'chsp70_0h1l', 'PFS [months]': 'pfs'})"
      ],
      "execution_count": 10,
      "outputs": []
    },
    {
      "cell_type": "code",
      "metadata": {
        "colab": {
          "base_uri": "https://localhost:8080/",
          "height": 203
        },
        "id": "1k7iBfYvNc3J",
        "outputId": "221d48ec-ef0c-4bd3-a91f-ced99b4c2dfa"
      },
      "source": [
        "dataset.head()"
      ],
      "execution_count": 11,
      "outputs": [
        {
          "output_type": "execute_result",
          "data": {
            "text/html": [
              "<div>\n",
              "<style scoped>\n",
              "    .dataframe tbody tr th:only-of-type {\n",
              "        vertical-align: middle;\n",
              "    }\n",
              "\n",
              "    .dataframe tbody tr th {\n",
              "        vertical-align: top;\n",
              "    }\n",
              "\n",
              "    .dataframe thead th {\n",
              "        text-align: right;\n",
              "    }\n",
              "</style>\n",
              "<table border=\"1\" class=\"dataframe\">\n",
              "  <thead>\n",
              "    <tr style=\"text-align: right;\">\n",
              "      <th></th>\n",
              "      <th>sex</th>\n",
              "      <th>age</th>\n",
              "      <th>os</th>\n",
              "      <th>death</th>\n",
              "      <th>pfs</th>\n",
              "      <th>didprogress</th>\n",
              "      <th>mgmt_methylation</th>\n",
              "      <th>chsp70_0h1l</th>\n",
              "    </tr>\n",
              "  </thead>\n",
              "  <tbody>\n",
              "    <tr>\n",
              "      <th>0</th>\n",
              "      <td>m</td>\n",
              "      <td>62</td>\n",
              "      <td>1.2</td>\n",
              "      <td>1</td>\n",
              "      <td>1.2</td>\n",
              "      <td>1</td>\n",
              "      <td>0</td>\n",
              "      <td>high</td>\n",
              "    </tr>\n",
              "    <tr>\n",
              "      <th>1</th>\n",
              "      <td>m</td>\n",
              "      <td>58</td>\n",
              "      <td>20.9</td>\n",
              "      <td>1</td>\n",
              "      <td>18.2</td>\n",
              "      <td>1</td>\n",
              "      <td>0</td>\n",
              "      <td>high</td>\n",
              "    </tr>\n",
              "    <tr>\n",
              "      <th>2</th>\n",
              "      <td>f</td>\n",
              "      <td>50</td>\n",
              "      <td>4.0</td>\n",
              "      <td>1</td>\n",
              "      <td>4.6</td>\n",
              "      <td>1</td>\n",
              "      <td>0</td>\n",
              "      <td>low</td>\n",
              "    </tr>\n",
              "    <tr>\n",
              "      <th>3</th>\n",
              "      <td>m</td>\n",
              "      <td>20</td>\n",
              "      <td>26.0</td>\n",
              "      <td>1</td>\n",
              "      <td>16.1</td>\n",
              "      <td>1</td>\n",
              "      <td>1</td>\n",
              "      <td>high</td>\n",
              "    </tr>\n",
              "    <tr>\n",
              "      <th>4</th>\n",
              "      <td>m</td>\n",
              "      <td>42</td>\n",
              "      <td>15.8</td>\n",
              "      <td>1</td>\n",
              "      <td>6.2</td>\n",
              "      <td>1</td>\n",
              "      <td>0</td>\n",
              "      <td>low</td>\n",
              "    </tr>\n",
              "  </tbody>\n",
              "</table>\n",
              "</div>"
            ],
            "text/plain": [
              "  sex  age    os  death   pfs  didprogress  mgmt_methylation chsp70_0h1l\n",
              "0   m   62   1.2      1   1.2            1                 0        high\n",
              "1   m   58  20.9      1  18.2            1                 0        high\n",
              "2   f   50   4.0      1   4.6            1                 0         low\n",
              "3   m   20  26.0      1  16.1            1                 1        high\n",
              "4   m   42  15.8      1   6.2            1                 0         low"
            ]
          },
          "metadata": {
            "tags": []
          },
          "execution_count": 11
        }
      ]
    },
    {
      "cell_type": "code",
      "metadata": {
        "id": "WmaGl_HpNtgL"
      },
      "source": [
        "from sklearn.preprocessing import LabelEncoder\n",
        "from pandas import get_dummies"
      ],
      "execution_count": 12,
      "outputs": []
    },
    {
      "cell_type": "code",
      "metadata": {
        "id": "DcI2LMwqOIE2"
      },
      "source": [
        "label_encoder = LabelEncoder()\n",
        "dataset['sex'] = label_encoder.fit_transform(dataset['sex'])\n",
        "dataset['chsp70_0h1l'] = label_encoder.fit_transform(dataset['chsp70_0h1l'])"
      ],
      "execution_count": 13,
      "outputs": []
    },
    {
      "cell_type": "markdown",
      "metadata": {
        "id": "YiCaS63ANmKW"
      },
      "source": [
        "Let's try to predict first overall survival\n",
        "\n",
        "1.   We need to map death as True or False\n",
        "2.   We need to put death event first, then the right censored data. Example : (True, 21 months) \n",
        "3.   Then we have to pass from pandas DataFrame to structured array\n",
        "4.   We can recover the data frame from records\n",
        "\n",
        "\n"
      ]
    },
    {
      "cell_type": "code",
      "metadata": {
        "colab": {
          "base_uri": "https://localhost:8080/",
          "height": 297
        },
        "id": "Kmze-iWRnj-a",
        "outputId": "1a130c19-e09b-477e-bdd0-2f5976e227c2"
      },
      "source": [
        "dataset.corr(method='pearson')"
      ],
      "execution_count": 14,
      "outputs": [
        {
          "output_type": "execute_result",
          "data": {
            "text/html": [
              "<div>\n",
              "<style scoped>\n",
              "    .dataframe tbody tr th:only-of-type {\n",
              "        vertical-align: middle;\n",
              "    }\n",
              "\n",
              "    .dataframe tbody tr th {\n",
              "        vertical-align: top;\n",
              "    }\n",
              "\n",
              "    .dataframe thead th {\n",
              "        text-align: right;\n",
              "    }\n",
              "</style>\n",
              "<table border=\"1\" class=\"dataframe\">\n",
              "  <thead>\n",
              "    <tr style=\"text-align: right;\">\n",
              "      <th></th>\n",
              "      <th>sex</th>\n",
              "      <th>age</th>\n",
              "      <th>os</th>\n",
              "      <th>death</th>\n",
              "      <th>pfs</th>\n",
              "      <th>didprogress</th>\n",
              "      <th>mgmt_methylation</th>\n",
              "      <th>chsp70_0h1l</th>\n",
              "    </tr>\n",
              "  </thead>\n",
              "  <tbody>\n",
              "    <tr>\n",
              "      <th>sex</th>\n",
              "      <td>1.000000</td>\n",
              "      <td>-0.269165</td>\n",
              "      <td>-0.016478</td>\n",
              "      <td>0.138013</td>\n",
              "      <td>0.039569</td>\n",
              "      <td>-0.010193</td>\n",
              "      <td>-0.168035</td>\n",
              "      <td>-0.058461</td>\n",
              "    </tr>\n",
              "    <tr>\n",
              "      <th>age</th>\n",
              "      <td>-0.269165</td>\n",
              "      <td>1.000000</td>\n",
              "      <td>0.061198</td>\n",
              "      <td>-0.080623</td>\n",
              "      <td>0.177742</td>\n",
              "      <td>-0.161440</td>\n",
              "      <td>0.118375</td>\n",
              "      <td>-0.079750</td>\n",
              "    </tr>\n",
              "    <tr>\n",
              "      <th>os</th>\n",
              "      <td>-0.016478</td>\n",
              "      <td>0.061198</td>\n",
              "      <td>1.000000</td>\n",
              "      <td>-0.185224</td>\n",
              "      <td>0.873120</td>\n",
              "      <td>-0.288235</td>\n",
              "      <td>0.330128</td>\n",
              "      <td>-0.313911</td>\n",
              "    </tr>\n",
              "    <tr>\n",
              "      <th>death</th>\n",
              "      <td>0.138013</td>\n",
              "      <td>-0.080623</td>\n",
              "      <td>-0.185224</td>\n",
              "      <td>1.000000</td>\n",
              "      <td>-0.223676</td>\n",
              "      <td>0.369274</td>\n",
              "      <td>-0.265897</td>\n",
              "      <td>0.127076</td>\n",
              "    </tr>\n",
              "    <tr>\n",
              "      <th>pfs</th>\n",
              "      <td>0.039569</td>\n",
              "      <td>0.177742</td>\n",
              "      <td>0.873120</td>\n",
              "      <td>-0.223676</td>\n",
              "      <td>1.000000</td>\n",
              "      <td>-0.456801</td>\n",
              "      <td>0.320183</td>\n",
              "      <td>-0.328388</td>\n",
              "    </tr>\n",
              "    <tr>\n",
              "      <th>didprogress</th>\n",
              "      <td>-0.010193</td>\n",
              "      <td>-0.161440</td>\n",
              "      <td>-0.288235</td>\n",
              "      <td>0.369274</td>\n",
              "      <td>-0.456801</td>\n",
              "      <td>1.000000</td>\n",
              "      <td>-0.010336</td>\n",
              "      <td>0.229416</td>\n",
              "    </tr>\n",
              "    <tr>\n",
              "      <th>mgmt_methylation</th>\n",
              "      <td>-0.168035</td>\n",
              "      <td>0.118375</td>\n",
              "      <td>0.330128</td>\n",
              "      <td>-0.265897</td>\n",
              "      <td>0.320183</td>\n",
              "      <td>-0.010336</td>\n",
              "      <td>1.000000</td>\n",
              "      <td>-0.386500</td>\n",
              "    </tr>\n",
              "    <tr>\n",
              "      <th>chsp70_0h1l</th>\n",
              "      <td>-0.058461</td>\n",
              "      <td>-0.079750</td>\n",
              "      <td>-0.313911</td>\n",
              "      <td>0.127076</td>\n",
              "      <td>-0.328388</td>\n",
              "      <td>0.229416</td>\n",
              "      <td>-0.386500</td>\n",
              "      <td>1.000000</td>\n",
              "    </tr>\n",
              "  </tbody>\n",
              "</table>\n",
              "</div>"
            ],
            "text/plain": [
              "                       sex       age  ...  mgmt_methylation  chsp70_0h1l\n",
              "sex               1.000000 -0.269165  ...         -0.168035    -0.058461\n",
              "age              -0.269165  1.000000  ...          0.118375    -0.079750\n",
              "os               -0.016478  0.061198  ...          0.330128    -0.313911\n",
              "death             0.138013 -0.080623  ...         -0.265897     0.127076\n",
              "pfs               0.039569  0.177742  ...          0.320183    -0.328388\n",
              "didprogress      -0.010193 -0.161440  ...         -0.010336     0.229416\n",
              "mgmt_methylation -0.168035  0.118375  ...          1.000000    -0.386500\n",
              "chsp70_0h1l      -0.058461 -0.079750  ...         -0.386500     1.000000\n",
              "\n",
              "[8 rows x 8 columns]"
            ]
          },
          "metadata": {
            "tags": []
          },
          "execution_count": 14
        }
      ]
    },
    {
      "cell_type": "code",
      "metadata": {
        "id": "VGtbjgcxPrWP"
      },
      "source": [
        "Y = dataset[['death', 'os']]"
      ],
      "execution_count": 22,
      "outputs": []
    },
    {
      "cell_type": "code",
      "metadata": {
        "id": "G7BzKw5DQty5"
      },
      "source": [
        "Y['death'] = Y['death'].map({1: True, 0: False})"
      ],
      "execution_count": null,
      "outputs": []
    },
    {
      "cell_type": "code",
      "metadata": {
        "id": "T7KDYUa4S24t"
      },
      "source": [
        "Y = Y.to_records(index=False)"
      ],
      "execution_count": 24,
      "outputs": []
    },
    {
      "cell_type": "code",
      "metadata": {
        "id": "ukO-uCkVTVfU"
      },
      "source": [
        "X = dataset.drop(columns = ['death', 'os'])"
      ],
      "execution_count": 60,
      "outputs": []
    },
    {
      "cell_type": "code",
      "metadata": {
        "id": "uQODhSdPUBqq"
      },
      "source": [
        "from sksurv.ensemble import RandomSurvivalForest\n",
        "from sklearn.model_selection import train_test_split\n"
      ],
      "execution_count": 26,
      "outputs": []
    },
    {
      "cell_type": "code",
      "metadata": {
        "id": "WuNg-0jZU2YK"
      },
      "source": [
        "rsf = RandomSurvivalForest()"
      ],
      "execution_count": 27,
      "outputs": []
    },
    {
      "cell_type": "code",
      "metadata": {
        "id": "TvPpCz4mYD88",
        "colab": {
          "base_uri": "https://localhost:8080/"
        },
        "outputId": "f7527721-883a-418c-ca77-89541f2cfcea"
      },
      "source": [
        "from eli5.sklearn import PermutationImportance\n",
        "import eli5\n"
      ],
      "execution_count": 28,
      "outputs": [
        {
          "output_type": "stream",
          "text": [
            "/usr/local/lib/python3.7/dist-packages/sklearn/utils/deprecation.py:144: FutureWarning: The sklearn.feature_selection.base module is  deprecated in version 0.22 and will be removed in version 0.24. The corresponding classes / functions should instead be imported from sklearn.feature_selection. Anything that cannot be imported from sklearn.feature_selection is now part of the private API.\n",
            "  warnings.warn(message, FutureWarning)\n"
          ],
          "name": "stderr"
        }
      ]
    },
    {
      "cell_type": "code",
      "metadata": {
        "id": "Qplb_9RgAShS"
      },
      "source": [
        "from sksurv.metrics import (concordance_index_censored,\n",
        "                            concordance_index_ipcw,\n",
        "                            cumulative_dynamic_auc)"
      ],
      "execution_count": 29,
      "outputs": []
    },
    {
      "cell_type": "markdown",
      "metadata": {
        "id": "-X76QkR5urOg"
      },
      "source": [
        "Let's build a function, to use a rank feature to permutate, and select feature importance and a test split to check for the C-score\n"
      ]
    },
    {
      "cell_type": "code",
      "metadata": {
        "id": "A8XvDmYX1xcW"
      },
      "source": [
        "def permutation(X, y, model, loops):\n",
        "  rankings = np.zeros(len(X.columns),)\n",
        "  c_score_total = []\n",
        "  a= 0\n",
        "  np.random.seed(42); randseed = np.random.randint(9999, size = 1500)\n",
        "  for x in range(loops):\n",
        "\n",
        "    #Let's do this trick with the seeding, so we can have the same test \n",
        "    a += 1\n",
        "    seed = randseed[a]\n",
        "  #Let's do a splitting 1/3 train, 1/3 rank, 1/3 test\n",
        "    X_train, X_test, y_train, y_test = train_test_split(\n",
        "    X, Y, test_size=0.33, random_state = seed )\n",
        "    X_train, X_rank, y_train, y_rank = train_test_split(\n",
        "    X, Y, test_size=0.5, random_state = seed)\n",
        "  #Let's train the model on the \n",
        "    model.fit(X_train, y_train)\n",
        "  #Let's define the permutation.\n",
        "    permuter = PermutationImportance(\n",
        "    estimator = model,\n",
        "    n_iter = 10)\n",
        "  #Let's fit the permutator on the Y test, (This permutation only shuffle the Y test.)\n",
        "    permuter.fit(X_rank, y_rank)\n",
        "  \n",
        "    columns = X_test.columns.to_list()\n",
        "  #The feature importance will give us and n array of how much \n",
        "    feature_importance = permuter.feature_importances_\n",
        "    rankings = np.add(feature_importance, rankings)\n",
        "  #Let's compute the scores\n",
        "    c_score = model.score(X_test, y_test)\n",
        "    c_score_total.append(c_score)\n",
        "\n",
        "  \n",
        "    \n",
        "  #Dividing to get the average \n",
        "  ranking_terminal = np.true_divide(rankings, loops) \n",
        "  c_rank = pd.Series(ranking_terminal, columns).sort_values(ascending = False)\n",
        "  c_mean = np.mean(np.array(c_score_total))\n",
        "  \n",
        "\n",
        "\n",
        "\n",
        "  return c_rank, c_mean"
      ],
      "execution_count": 46,
      "outputs": []
    },
    {
      "cell_type": "markdown",
      "metadata": {
        "id": "NGItXh_ibX1x"
      },
      "source": [
        "Let's try a 1000 looping permutation "
      ]
    },
    {
      "cell_type": "code",
      "metadata": {
        "id": "dNm35_496nby"
      },
      "source": [
        "rank, score = permutation(X, Y, rsf, 1000)"
      ],
      "execution_count": 61,
      "outputs": []
    },
    {
      "cell_type": "code",
      "metadata": {
        "colab": {
          "base_uri": "https://localhost:8080/"
        },
        "id": "90x3DDam6r3j",
        "outputId": "593a6897-5e07-4762-e036-2c265dc2b514"
      },
      "source": [
        "rank"
      ],
      "execution_count": 64,
      "outputs": [
        {
          "output_type": "execute_result",
          "data": {
            "text/plain": [
              "pfs                 0.216566\n",
              "mgmt_methylation    0.015568\n",
              "chsp70_0h1l         0.007754\n",
              "age                 0.002757\n",
              "didprogress         0.001232\n",
              "sex                -0.006497\n",
              "dtype: float64"
            ]
          },
          "metadata": {
            "tags": []
          },
          "execution_count": 64
        }
      ]
    },
    {
      "cell_type": "code",
      "metadata": {
        "colab": {
          "base_uri": "https://localhost:8080/"
        },
        "id": "NVxk1bIr9o17",
        "outputId": "d9018e96-38fc-4974-8d60-14fa48ce79d0"
      },
      "source": [
        "score"
      ],
      "execution_count": 65,
      "outputs": [
        {
          "output_type": "execute_result",
          "data": {
            "text/plain": [
              "0.7539081090977212"
            ]
          },
          "metadata": {
            "tags": []
          },
          "execution_count": 65
        }
      ]
    },
    {
      "cell_type": "markdown",
      "metadata": {
        "id": "qyOMEAQRdOx7"
      },
      "source": [
        "Let's run again, but with the top 2 features using "
      ]
    },
    {
      "cell_type": "code",
      "metadata": {
        "id": "n5ufGcUpkgIY"
      },
      "source": [
        "X_tf = dataset[['pfs', 'mgmt_methylation']]"
      ],
      "execution_count": 52,
      "outputs": []
    },
    {
      "cell_type": "code",
      "metadata": {
        "id": "mR10OKpLj7oo"
      },
      "source": [
        "def top2features(X, y, model, loops):\n",
        "  \n",
        "  c_score_total = []\n",
        "  a= 0\n",
        "  np.random.seed(42); randseed = np.random.randint(9999, size = 1500)\n",
        "  for x in range(loops):\n",
        "\n",
        "    #Let's do this trick with the seeding, so we can have the same array of test sets, that we had in the previous feature selection algorithm. \n",
        "    a += 1\n",
        "    seed = randseed[a]\n",
        "  #Let's do a splitting 1/3 train, 1/3 rank, 1/3 test\n",
        "    X_train, X_test, y_train, y_test = train_test_split(\n",
        "    X, Y, test_size=0.33, random_state = seed )\n",
        "    X_train, X_rank, y_train, y_rank = train_test_split(\n",
        "    X, Y, test_size=0.5, random_state = seed)\n",
        "  #Let's train the model on the \n",
        "    model.fit(X_train, y_train)\n",
        "  #Let's compute the scores\n",
        "    c_score = model.score(X_test, y_test)\n",
        "    c_score_total.append(c_score)\n",
        "\n",
        "  \n",
        "  c_mean_top2 = np.mean(np.array(c_score_total))\n",
        "  \n",
        "\n",
        "\n",
        "\n",
        "  return c_mean_top2"
      ],
      "execution_count": 55,
      "outputs": []
    },
    {
      "cell_type": "code",
      "metadata": {
        "id": "6vrCubC0m5wB"
      },
      "source": [
        "c_score_tf = top2features(X_tf, Y, rsf, 1000)"
      ],
      "execution_count": 58,
      "outputs": []
    },
    {
      "cell_type": "markdown",
      "metadata": {
        "id": "1hxlXVxJpST2"
      },
      "source": [
        "Prediction using only the top 2 features\n"
      ]
    },
    {
      "cell_type": "code",
      "metadata": {
        "colab": {
          "base_uri": "https://localhost:8080/"
        },
        "id": "VU1PQMckpOl3",
        "outputId": "84941c02-6310-4e2c-f904-a7debf4d1cd3"
      },
      "source": [
        "c_score_tf"
      ],
      "execution_count": 59,
      "outputs": [
        {
          "output_type": "execute_result",
          "data": {
            "text/plain": [
              "0.7685409921681158"
            ]
          },
          "metadata": {
            "tags": []
          },
          "execution_count": 59
        }
      ]
    }
  ]
}