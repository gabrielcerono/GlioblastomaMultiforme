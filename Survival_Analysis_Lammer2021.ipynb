{
  "nbformat": 4,
  "nbformat_minor": 0,
  "metadata": {
    "colab": {
      "name": "Survival Analysis Lammer2021.ipynb",
      "provenance": [],
      "authorship_tag": "ABX9TyNFOlqVnuv7eOslQL1MvAky",
      "include_colab_link": true
    },
    "kernelspec": {
      "name": "python3",
      "display_name": "Python 3"
    },
    "language_info": {
      "name": "python"
    }
  },
  "cells": [
    {
      "cell_type": "markdown",
      "metadata": {
        "id": "view-in-github",
        "colab_type": "text"
      },
      "source": [
        "<a href=\"https://colab.research.google.com/github/gabrielcerono/GlioblastomaMultiforme/blob/main/Survival_Analysis_Lammer2021.ipynb\" target=\"_parent\"><img src=\"https://colab.research.google.com/assets/colab-badge.svg\" alt=\"Open In Colab\"/></a>"
      ]
    },
    {
      "cell_type": "code",
      "metadata": {
        "id": "jlS-peiMK0Hm"
      },
      "source": [
        "!pip install --upgrade pip\n",
        "!pip uninstall --yes --quiet osqp\n",
        "!pip install -U scikit-survival"
      ],
      "execution_count": null,
      "outputs": []
    },
    {
      "cell_type": "code",
      "metadata": {
        "id": "4VlNlxH7K3d_"
      },
      "source": [
        "import pandas as pd\n",
        "import matplotlib.pyplot as plt\n",
        "import numpy as np\n",
        "import sklearn as sk"
      ],
      "execution_count": 2,
      "outputs": []
    },
    {
      "cell_type": "code",
      "metadata": {
        "colab": {
          "base_uri": "https://localhost:8080/"
        },
        "id": "p-wu2MXt8GZk",
        "outputId": "b62c12ad-669d-4f9c-dd9a-2eb76c180a1c"
      },
      "source": [
        "!pip install scipy --upgrade"
      ],
      "execution_count": 1,
      "outputs": [
        {
          "output_type": "stream",
          "text": [
            "Requirement already satisfied: scipy in /usr/local/lib/python3.7/dist-packages (1.7.0)\n",
            "Requirement already satisfied: numpy<1.23.0,>=1.16.5 in /usr/local/lib/python3.7/dist-packages (from scipy) (1.19.5)\n",
            "\u001b[33mWARNING: Running pip as the 'root' user can result in broken permissions and conflicting behaviour with the system package manager. It is recommended to use a virtual environment instead: https://pip.pypa.io/warnings/venv\u001b[0m\n"
          ],
          "name": "stdout"
        }
      ]
    },
    {
      "cell_type": "code",
      "metadata": {
        "id": "x0T5EjjM69-f"
      },
      "source": [
        "from scipy.stats import rankdata\n"
      ],
      "execution_count": 3,
      "outputs": []
    },
    {
      "cell_type": "code",
      "metadata": {
        "colab": {
          "base_uri": "https://localhost:8080/"
        },
        "id": "uG1_HiLgmhkF",
        "outputId": "a9cba079-2fdb-4abc-8835-23b7903b2442"
      },
      "source": [
        "pip install eli5"
      ],
      "execution_count": 4,
      "outputs": [
        {
          "output_type": "stream",
          "text": [
            "Requirement already satisfied: eli5 in /usr/local/lib/python3.7/dist-packages (0.11.0)\n",
            "Requirement already satisfied: tabulate>=0.7.7 in /usr/local/lib/python3.7/dist-packages (from eli5) (0.8.9)\n",
            "Requirement already satisfied: jinja2 in /usr/local/lib/python3.7/dist-packages (from eli5) (2.11.3)\n",
            "Requirement already satisfied: graphviz in /usr/local/lib/python3.7/dist-packages (from eli5) (0.10.1)\n",
            "Requirement already satisfied: six in /usr/local/lib/python3.7/dist-packages (from eli5) (1.15.0)\n",
            "Requirement already satisfied: numpy>=1.9.0 in /usr/local/lib/python3.7/dist-packages (from eli5) (1.19.5)\n",
            "Requirement already satisfied: scipy in /usr/local/lib/python3.7/dist-packages (from eli5) (1.7.0)\n",
            "Requirement already satisfied: scikit-learn>=0.20 in /usr/local/lib/python3.7/dist-packages (from eli5) (0.22.2.post1)\n",
            "Requirement already satisfied: attrs>16.0.0 in /usr/local/lib/python3.7/dist-packages (from eli5) (21.2.0)\n",
            "Requirement already satisfied: joblib>=0.11 in /usr/local/lib/python3.7/dist-packages (from scikit-learn>=0.20->eli5) (1.0.1)\n",
            "Requirement already satisfied: MarkupSafe>=0.23 in /usr/local/lib/python3.7/dist-packages (from jinja2->eli5) (2.0.1)\n",
            "\u001b[33mWARNING: Running pip as the 'root' user can result in broken permissions and conflicting behaviour with the system package manager. It is recommended to use a virtual environment instead: https://pip.pypa.io/warnings/venv\u001b[0m\n"
          ],
          "name": "stdout"
        }
      ]
    },
    {
      "cell_type": "code",
      "metadata": {
        "id": "HdO_u4PKLAGK"
      },
      "source": [
        "from sksurv.linear_model import CoxPHSurvivalAnalysis\n",
        "from sksurv.metrics import concordance_index_censored\n",
        "from sksurv.metrics import brier_score"
      ],
      "execution_count": 5,
      "outputs": []
    },
    {
      "cell_type": "code",
      "metadata": {
        "id": "DDpJB6cmL0hm"
      },
      "source": [
        "dataset = pd.read_excel('/content/glioma.xlsx')"
      ],
      "execution_count": 6,
      "outputs": []
    },
    {
      "cell_type": "code",
      "metadata": {
        "colab": {
          "base_uri": "https://localhost:8080/",
          "height": 237
        },
        "id": "WqmvS430MEW5",
        "outputId": "f59b38da-8e82-405d-98f5-eae06cac8c03"
      },
      "source": [
        "dataset.head()"
      ],
      "execution_count": 7,
      "outputs": [
        {
          "output_type": "execute_result",
          "data": {
            "text/html": [
              "<div>\n",
              "<style scoped>\n",
              "    .dataframe tbody tr th:only-of-type {\n",
              "        vertical-align: middle;\n",
              "    }\n",
              "\n",
              "    .dataframe tbody tr th {\n",
              "        vertical-align: top;\n",
              "    }\n",
              "\n",
              "    .dataframe thead th {\n",
              "        text-align: right;\n",
              "    }\n",
              "</style>\n",
              "<table border=\"1\" class=\"dataframe\">\n",
              "  <thead>\n",
              "    <tr style=\"text-align: right;\">\n",
              "      <th></th>\n",
              "      <th>patient ID</th>\n",
              "      <th>sex</th>\n",
              "      <th>age [years]</th>\n",
              "      <th>OS [months]</th>\n",
              "      <th>OS status (1=deceased, 0=living)</th>\n",
              "      <th>PFS [months]</th>\n",
              "      <th>progression (1=yes, 0=no)</th>\n",
              "      <th>MGMT methylation (1=methylated, 0=unmethylated)</th>\n",
              "      <th>cHsp70</th>\n",
              "    </tr>\n",
              "  </thead>\n",
              "  <tbody>\n",
              "    <tr>\n",
              "      <th>0</th>\n",
              "      <td>1</td>\n",
              "      <td>m</td>\n",
              "      <td>62</td>\n",
              "      <td>1.2</td>\n",
              "      <td>1</td>\n",
              "      <td>1.2</td>\n",
              "      <td>1</td>\n",
              "      <td>0</td>\n",
              "      <td>high</td>\n",
              "    </tr>\n",
              "    <tr>\n",
              "      <th>1</th>\n",
              "      <td>2</td>\n",
              "      <td>m</td>\n",
              "      <td>58</td>\n",
              "      <td>20.9</td>\n",
              "      <td>1</td>\n",
              "      <td>18.2</td>\n",
              "      <td>1</td>\n",
              "      <td>0</td>\n",
              "      <td>high</td>\n",
              "    </tr>\n",
              "    <tr>\n",
              "      <th>2</th>\n",
              "      <td>3</td>\n",
              "      <td>f</td>\n",
              "      <td>50</td>\n",
              "      <td>4.0</td>\n",
              "      <td>1</td>\n",
              "      <td>4.6</td>\n",
              "      <td>1</td>\n",
              "      <td>0</td>\n",
              "      <td>low</td>\n",
              "    </tr>\n",
              "    <tr>\n",
              "      <th>3</th>\n",
              "      <td>4</td>\n",
              "      <td>m</td>\n",
              "      <td>20</td>\n",
              "      <td>26.0</td>\n",
              "      <td>1</td>\n",
              "      <td>16.1</td>\n",
              "      <td>1</td>\n",
              "      <td>1</td>\n",
              "      <td>high</td>\n",
              "    </tr>\n",
              "    <tr>\n",
              "      <th>4</th>\n",
              "      <td>6</td>\n",
              "      <td>m</td>\n",
              "      <td>42</td>\n",
              "      <td>15.8</td>\n",
              "      <td>1</td>\n",
              "      <td>6.2</td>\n",
              "      <td>1</td>\n",
              "      <td>0</td>\n",
              "      <td>low</td>\n",
              "    </tr>\n",
              "  </tbody>\n",
              "</table>\n",
              "</div>"
            ],
            "text/plain": [
              "   patient ID sex  ...  MGMT methylation (1=methylated, 0=unmethylated)  cHsp70\n",
              "0           1   m  ...                                                0    high\n",
              "1           2   m  ...                                                0    high\n",
              "2           3   f  ...                                                0     low\n",
              "3           4   m  ...                                                1    high\n",
              "4           6   m  ...                                                0     low\n",
              "\n",
              "[5 rows x 9 columns]"
            ]
          },
          "metadata": {
            "tags": []
          },
          "execution_count": 7
        }
      ]
    },
    {
      "cell_type": "code",
      "metadata": {
        "id": "edND4gDjMGAJ"
      },
      "source": [
        "dataset = dataset.drop(columns=['patient ID'])"
      ],
      "execution_count": 8,
      "outputs": []
    },
    {
      "cell_type": "code",
      "metadata": {
        "colab": {
          "base_uri": "https://localhost:8080/"
        },
        "id": "q5tLc21pMzoQ",
        "outputId": "31953aa1-9343-474f-ca9e-bee3b87b506d"
      },
      "source": [
        "dataset.columns"
      ],
      "execution_count": 9,
      "outputs": [
        {
          "output_type": "execute_result",
          "data": {
            "text/plain": [
              "Index(['sex', 'age [years]', 'OS [months]', 'OS status (1=deceased, 0=living)',\n",
              "       'PFS [months]', 'progression (1=yes, 0=no)',\n",
              "       'MGMT methylation (1=methylated, 0=unmethylated)', 'cHsp70'],\n",
              "      dtype='object')"
            ]
          },
          "metadata": {
            "tags": []
          },
          "execution_count": 9
        }
      ]
    },
    {
      "cell_type": "code",
      "metadata": {
        "id": "n7Dui3HCMYiJ"
      },
      "source": [
        "dataset = dataset.rename(columns={'age [years]' : 'age', 'OS [months]' : 'os', 'OS status (1=deceased, 0=living)' : 'death',\n",
        "       'progression (1=yes, 0=no)' : \"didprogress\",'MGMT methylation (1=methylated, 0=unmethylated)' : 'mgmt_methylation', 'cHsp70' : 'chsp70_0h1l', 'PFS [months]': 'pfs'})"
      ],
      "execution_count": 10,
      "outputs": []
    },
    {
      "cell_type": "code",
      "metadata": {
        "colab": {
          "base_uri": "https://localhost:8080/",
          "height": 203
        },
        "id": "1k7iBfYvNc3J",
        "outputId": "18707841-8687-4e62-90d4-9ab5b3d721a0"
      },
      "source": [
        "dataset.head()"
      ],
      "execution_count": 11,
      "outputs": [
        {
          "output_type": "execute_result",
          "data": {
            "text/html": [
              "<div>\n",
              "<style scoped>\n",
              "    .dataframe tbody tr th:only-of-type {\n",
              "        vertical-align: middle;\n",
              "    }\n",
              "\n",
              "    .dataframe tbody tr th {\n",
              "        vertical-align: top;\n",
              "    }\n",
              "\n",
              "    .dataframe thead th {\n",
              "        text-align: right;\n",
              "    }\n",
              "</style>\n",
              "<table border=\"1\" class=\"dataframe\">\n",
              "  <thead>\n",
              "    <tr style=\"text-align: right;\">\n",
              "      <th></th>\n",
              "      <th>sex</th>\n",
              "      <th>age</th>\n",
              "      <th>os</th>\n",
              "      <th>death</th>\n",
              "      <th>pfs</th>\n",
              "      <th>didprogress</th>\n",
              "      <th>mgmt_methylation</th>\n",
              "      <th>chsp70_0h1l</th>\n",
              "    </tr>\n",
              "  </thead>\n",
              "  <tbody>\n",
              "    <tr>\n",
              "      <th>0</th>\n",
              "      <td>m</td>\n",
              "      <td>62</td>\n",
              "      <td>1.2</td>\n",
              "      <td>1</td>\n",
              "      <td>1.2</td>\n",
              "      <td>1</td>\n",
              "      <td>0</td>\n",
              "      <td>high</td>\n",
              "    </tr>\n",
              "    <tr>\n",
              "      <th>1</th>\n",
              "      <td>m</td>\n",
              "      <td>58</td>\n",
              "      <td>20.9</td>\n",
              "      <td>1</td>\n",
              "      <td>18.2</td>\n",
              "      <td>1</td>\n",
              "      <td>0</td>\n",
              "      <td>high</td>\n",
              "    </tr>\n",
              "    <tr>\n",
              "      <th>2</th>\n",
              "      <td>f</td>\n",
              "      <td>50</td>\n",
              "      <td>4.0</td>\n",
              "      <td>1</td>\n",
              "      <td>4.6</td>\n",
              "      <td>1</td>\n",
              "      <td>0</td>\n",
              "      <td>low</td>\n",
              "    </tr>\n",
              "    <tr>\n",
              "      <th>3</th>\n",
              "      <td>m</td>\n",
              "      <td>20</td>\n",
              "      <td>26.0</td>\n",
              "      <td>1</td>\n",
              "      <td>16.1</td>\n",
              "      <td>1</td>\n",
              "      <td>1</td>\n",
              "      <td>high</td>\n",
              "    </tr>\n",
              "    <tr>\n",
              "      <th>4</th>\n",
              "      <td>m</td>\n",
              "      <td>42</td>\n",
              "      <td>15.8</td>\n",
              "      <td>1</td>\n",
              "      <td>6.2</td>\n",
              "      <td>1</td>\n",
              "      <td>0</td>\n",
              "      <td>low</td>\n",
              "    </tr>\n",
              "  </tbody>\n",
              "</table>\n",
              "</div>"
            ],
            "text/plain": [
              "  sex  age    os  death   pfs  didprogress  mgmt_methylation chsp70_0h1l\n",
              "0   m   62   1.2      1   1.2            1                 0        high\n",
              "1   m   58  20.9      1  18.2            1                 0        high\n",
              "2   f   50   4.0      1   4.6            1                 0         low\n",
              "3   m   20  26.0      1  16.1            1                 1        high\n",
              "4   m   42  15.8      1   6.2            1                 0         low"
            ]
          },
          "metadata": {
            "tags": []
          },
          "execution_count": 11
        }
      ]
    },
    {
      "cell_type": "code",
      "metadata": {
        "id": "WmaGl_HpNtgL"
      },
      "source": [
        "from sklearn.preprocessing import LabelEncoder\n",
        "from pandas import get_dummies"
      ],
      "execution_count": 12,
      "outputs": []
    },
    {
      "cell_type": "code",
      "metadata": {
        "id": "DcI2LMwqOIE2"
      },
      "source": [
        "label_encoder = LabelEncoder()\n",
        "dataset['sex'] = label_encoder.fit_transform(dataset['sex'])\n",
        "dataset['chsp70_0h1l'] = label_encoder.fit_transform(dataset['chsp70_0h1l'])"
      ],
      "execution_count": 13,
      "outputs": []
    },
    {
      "cell_type": "markdown",
      "metadata": {
        "id": "YiCaS63ANmKW"
      },
      "source": [
        "Let's try to predict first overall survival\n",
        "\n",
        "1.   We need to map death as True or False\n",
        "2.   We need to put death event first, then the right censored data. Example : (True, 21 months) \n",
        "3.   Then we have to pass from pandas DataFrame to structured array\n",
        "4.   We can recover the data frame from records\n",
        "\n",
        "\n"
      ]
    },
    {
      "cell_type": "code",
      "metadata": {
        "colab": {
          "base_uri": "https://localhost:8080/",
          "height": 297
        },
        "id": "Kmze-iWRnj-a",
        "outputId": "3b6bd677-58d7-42c7-9f8f-b845c8210cd4"
      },
      "source": [
        "dataset.corr(method='pearson')"
      ],
      "execution_count": 14,
      "outputs": [
        {
          "output_type": "execute_result",
          "data": {
            "text/html": [
              "<div>\n",
              "<style scoped>\n",
              "    .dataframe tbody tr th:only-of-type {\n",
              "        vertical-align: middle;\n",
              "    }\n",
              "\n",
              "    .dataframe tbody tr th {\n",
              "        vertical-align: top;\n",
              "    }\n",
              "\n",
              "    .dataframe thead th {\n",
              "        text-align: right;\n",
              "    }\n",
              "</style>\n",
              "<table border=\"1\" class=\"dataframe\">\n",
              "  <thead>\n",
              "    <tr style=\"text-align: right;\">\n",
              "      <th></th>\n",
              "      <th>sex</th>\n",
              "      <th>age</th>\n",
              "      <th>os</th>\n",
              "      <th>death</th>\n",
              "      <th>pfs</th>\n",
              "      <th>didprogress</th>\n",
              "      <th>mgmt_methylation</th>\n",
              "      <th>chsp70_0h1l</th>\n",
              "    </tr>\n",
              "  </thead>\n",
              "  <tbody>\n",
              "    <tr>\n",
              "      <th>sex</th>\n",
              "      <td>1.000000</td>\n",
              "      <td>-0.269165</td>\n",
              "      <td>-0.016478</td>\n",
              "      <td>0.138013</td>\n",
              "      <td>0.039569</td>\n",
              "      <td>-0.010193</td>\n",
              "      <td>-0.168035</td>\n",
              "      <td>-0.058461</td>\n",
              "    </tr>\n",
              "    <tr>\n",
              "      <th>age</th>\n",
              "      <td>-0.269165</td>\n",
              "      <td>1.000000</td>\n",
              "      <td>0.061198</td>\n",
              "      <td>-0.080623</td>\n",
              "      <td>0.177742</td>\n",
              "      <td>-0.161440</td>\n",
              "      <td>0.118375</td>\n",
              "      <td>-0.079750</td>\n",
              "    </tr>\n",
              "    <tr>\n",
              "      <th>os</th>\n",
              "      <td>-0.016478</td>\n",
              "      <td>0.061198</td>\n",
              "      <td>1.000000</td>\n",
              "      <td>-0.185224</td>\n",
              "      <td>0.873120</td>\n",
              "      <td>-0.288235</td>\n",
              "      <td>0.330128</td>\n",
              "      <td>-0.313911</td>\n",
              "    </tr>\n",
              "    <tr>\n",
              "      <th>death</th>\n",
              "      <td>0.138013</td>\n",
              "      <td>-0.080623</td>\n",
              "      <td>-0.185224</td>\n",
              "      <td>1.000000</td>\n",
              "      <td>-0.223676</td>\n",
              "      <td>0.369274</td>\n",
              "      <td>-0.265897</td>\n",
              "      <td>0.127076</td>\n",
              "    </tr>\n",
              "    <tr>\n",
              "      <th>pfs</th>\n",
              "      <td>0.039569</td>\n",
              "      <td>0.177742</td>\n",
              "      <td>0.873120</td>\n",
              "      <td>-0.223676</td>\n",
              "      <td>1.000000</td>\n",
              "      <td>-0.456801</td>\n",
              "      <td>0.320183</td>\n",
              "      <td>-0.328388</td>\n",
              "    </tr>\n",
              "    <tr>\n",
              "      <th>didprogress</th>\n",
              "      <td>-0.010193</td>\n",
              "      <td>-0.161440</td>\n",
              "      <td>-0.288235</td>\n",
              "      <td>0.369274</td>\n",
              "      <td>-0.456801</td>\n",
              "      <td>1.000000</td>\n",
              "      <td>-0.010336</td>\n",
              "      <td>0.229416</td>\n",
              "    </tr>\n",
              "    <tr>\n",
              "      <th>mgmt_methylation</th>\n",
              "      <td>-0.168035</td>\n",
              "      <td>0.118375</td>\n",
              "      <td>0.330128</td>\n",
              "      <td>-0.265897</td>\n",
              "      <td>0.320183</td>\n",
              "      <td>-0.010336</td>\n",
              "      <td>1.000000</td>\n",
              "      <td>-0.386500</td>\n",
              "    </tr>\n",
              "    <tr>\n",
              "      <th>chsp70_0h1l</th>\n",
              "      <td>-0.058461</td>\n",
              "      <td>-0.079750</td>\n",
              "      <td>-0.313911</td>\n",
              "      <td>0.127076</td>\n",
              "      <td>-0.328388</td>\n",
              "      <td>0.229416</td>\n",
              "      <td>-0.386500</td>\n",
              "      <td>1.000000</td>\n",
              "    </tr>\n",
              "  </tbody>\n",
              "</table>\n",
              "</div>"
            ],
            "text/plain": [
              "                       sex       age  ...  mgmt_methylation  chsp70_0h1l\n",
              "sex               1.000000 -0.269165  ...         -0.168035    -0.058461\n",
              "age              -0.269165  1.000000  ...          0.118375    -0.079750\n",
              "os               -0.016478  0.061198  ...          0.330128    -0.313911\n",
              "death             0.138013 -0.080623  ...         -0.265897     0.127076\n",
              "pfs               0.039569  0.177742  ...          0.320183    -0.328388\n",
              "didprogress      -0.010193 -0.161440  ...         -0.010336     0.229416\n",
              "mgmt_methylation -0.168035  0.118375  ...          1.000000    -0.386500\n",
              "chsp70_0h1l      -0.058461 -0.079750  ...         -0.386500     1.000000\n",
              "\n",
              "[8 rows x 8 columns]"
            ]
          },
          "metadata": {
            "tags": []
          },
          "execution_count": 14
        }
      ]
    },
    {
      "cell_type": "code",
      "metadata": {
        "id": "VGtbjgcxPrWP"
      },
      "source": [
        "Y = dataset[['death', 'os']]"
      ],
      "execution_count": 15,
      "outputs": []
    },
    {
      "cell_type": "code",
      "metadata": {
        "id": "G7BzKw5DQty5"
      },
      "source": [
        "Y['death'] = Y['death'].map({1: True, 0: False})"
      ],
      "execution_count": null,
      "outputs": []
    },
    {
      "cell_type": "code",
      "metadata": {
        "id": "T7KDYUa4S24t"
      },
      "source": [
        "Y = Y.to_records(index=False)"
      ],
      "execution_count": 17,
      "outputs": []
    },
    {
      "cell_type": "code",
      "metadata": {
        "id": "ukO-uCkVTVfU"
      },
      "source": [
        "X = dataset.drop(columns = ['death', 'os'])"
      ],
      "execution_count": 18,
      "outputs": []
    },
    {
      "cell_type": "code",
      "metadata": {
        "id": "uQODhSdPUBqq"
      },
      "source": [
        "from sksurv.ensemble import RandomSurvivalForest\n",
        "from sklearn.model_selection import train_test_split\n"
      ],
      "execution_count": 19,
      "outputs": []
    },
    {
      "cell_type": "code",
      "metadata": {
        "id": "WuNg-0jZU2YK"
      },
      "source": [
        "rsf = RandomSurvivalForest()"
      ],
      "execution_count": 20,
      "outputs": []
    },
    {
      "cell_type": "code",
      "metadata": {
        "id": "TvPpCz4mYD88",
        "colab": {
          "base_uri": "https://localhost:8080/"
        },
        "outputId": "543bbaae-5a91-42d0-f134-ad216d28d094"
      },
      "source": [
        "from eli5.sklearn import PermutationImportance\n",
        "import eli5\n"
      ],
      "execution_count": 21,
      "outputs": [
        {
          "output_type": "stream",
          "text": [
            "/usr/local/lib/python3.7/dist-packages/sklearn/utils/deprecation.py:144: FutureWarning: The sklearn.feature_selection.base module is  deprecated in version 0.22 and will be removed in version 0.24. The corresponding classes / functions should instead be imported from sklearn.feature_selection. Anything that cannot be imported from sklearn.feature_selection is now part of the private API.\n",
            "  warnings.warn(message, FutureWarning)\n"
          ],
          "name": "stderr"
        }
      ]
    },
    {
      "cell_type": "code",
      "metadata": {
        "id": "Qplb_9RgAShS"
      },
      "source": [
        "from sksurv.metrics import (concordance_index_censored,\n",
        "                            concordance_index_ipcw,\n",
        "                            cumulative_dynamic_auc)"
      ],
      "execution_count": 22,
      "outputs": []
    },
    {
      "cell_type": "markdown",
      "metadata": {
        "id": "-X76QkR5urOg"
      },
      "source": [
        "Let's build a function, to use a rank feature to permutate, and select feature importance and a test split to check for the C-score\n"
      ]
    },
    {
      "cell_type": "code",
      "metadata": {
        "id": "A8XvDmYX1xcW"
      },
      "source": [
        "def permutation(X, y, model, loops):\n",
        "  rankings = np.zeros(len(X.columns),)\n",
        "  bordarank = np.zeros(len(X.columns),)\n",
        "  c_score_total = []\n",
        "  a= 0\n",
        "  np.random.seed(42); randseed = np.random.randint(9999, size = 1500)\n",
        "\n",
        "  for x in range(loops):\n",
        "\n",
        "    #Let's do this trick with the seeding, so we can have the same test set\n",
        "    a += 1\n",
        "    seed = randseed[a]\n",
        "  #Let's do a splitting 1/3 train, 1/3 rank, 1/3 test\n",
        "    X_train, X_test, y_train, y_test = train_test_split(\n",
        "    X, Y, test_size=0.33, random_state = seed )\n",
        "    X_train, X_rank, y_train, y_rank = train_test_split(\n",
        "    X_train, y_train, test_size=0.5, random_state = seed)\n",
        "  #Let's train the model on the \n",
        "    model.fit(X_train, y_train)\n",
        "  #Let's define the permutation.\n",
        "    permuter = PermutationImportance(\n",
        "    estimator = model,\n",
        "    n_iter = 10)\n",
        "  #Let's fit the permutator on the Y test, (This permutation only shuffle the Y test.)\n",
        "    permuter.fit(X_rank, y_rank)\n",
        "  \n",
        "    columns = X_test.columns.to_list()\n",
        "  #The feature importance will give us and n array of how much the Concordance score dropped\n",
        "    feature_importance = permuter.feature_importances_\n",
        "  # I need to create a ranking out of this\n",
        "    rankings = np.add(feature_importance, rankings)\n",
        "  #This will create a numpy array with each c index loss. Each row is a loop. \n",
        "    bordarank = np.vstack((bordarank, feature_importance))\n",
        "  #Let's compute the Concordance index score\n",
        "    c_score = model.score(X_test, y_test)\n",
        "    c_score_total.append(c_score)\n",
        "\n",
        "  \n",
        "    \n",
        "  #Dividing to get the average \n",
        "  ranking_terminal = np.true_divide(rankings, loops) \n",
        "  c_rank = pd.DataFrame({'features': columns, 'C_loss': ranking_terminal}).sort_values(ascending = False, by =['C_loss'])\n",
        "  c_mean = np.mean(np.array(c_score_total))\n",
        "  c_std = np.std(np.array(c_score_total))\n",
        "  #Let's start working with the borda. First we delete the first row that is just 0s\n",
        "  bordarank = np.delete(bordarank, 0, 0)\n",
        "  ranking_the_data = rankdata(bordarank * -1, axis=1)\n",
        "  rankavg = np.mean(ranking_the_data, axis = 0)\n",
        "  ranksd = np.std(ranking_the_data, axis = 0)\n",
        "  #Vamos a ver como queda\n",
        "  borda = pd.DataFrame({'Features': columns, 'C_Average_Loss': ranking_terminal, 'borda_average': rankavg, 'borda_sd': ranksd}).sort_values(ascending = True, by = ['borda_average'])\n",
        "  \n",
        "\n",
        "\n",
        "\n",
        "  return c_rank, c_mean, c_std, borda"
      ],
      "execution_count": 25,
      "outputs": []
    },
    {
      "cell_type": "markdown",
      "metadata": {
        "id": "NGItXh_ibX1x"
      },
      "source": [
        "Let's try a 1000 looping permutation "
      ]
    },
    {
      "cell_type": "code",
      "metadata": {
        "id": "dNm35_496nby"
      },
      "source": [
        "rankfinal, c_score, c_std, borda = permutation(X, Y, rsf, 100)"
      ],
      "execution_count": 31,
      "outputs": []
    },
    {
      "cell_type": "code",
      "metadata": {
        "colab": {
          "base_uri": "https://localhost:8080/"
        },
        "id": "iXuQzmxxt2m3",
        "outputId": "c91b7fd2-0b2c-4f75-b393-cfe80ef5293b"
      },
      "source": [
        "c_score"
      ],
      "execution_count": 33,
      "outputs": [
        {
          "output_type": "execute_result",
          "data": {
            "text/plain": [
              "0.7321947980182856"
            ]
          },
          "metadata": {
            "tags": []
          },
          "execution_count": 33
        }
      ]
    },
    {
      "cell_type": "code",
      "metadata": {
        "id": "vrR9pTnI-Thy"
      },
      "source": [
        "c_std"
      ],
      "execution_count": null,
      "outputs": []
    },
    {
      "cell_type": "code",
      "metadata": {
        "colab": {
          "base_uri": "https://localhost:8080/",
          "height": 234
        },
        "id": "p9ayzH133cch",
        "outputId": "6b3c5758-67ce-4fe7-ab27-df12246dbbbd"
      },
      "source": [
        "borda"
      ],
      "execution_count": 34,
      "outputs": [
        {
          "output_type": "execute_result",
          "data": {
            "text/html": [
              "<div>\n",
              "<style scoped>\n",
              "    .dataframe tbody tr th:only-of-type {\n",
              "        vertical-align: middle;\n",
              "    }\n",
              "\n",
              "    .dataframe tbody tr th {\n",
              "        vertical-align: top;\n",
              "    }\n",
              "\n",
              "    .dataframe thead th {\n",
              "        text-align: right;\n",
              "    }\n",
              "</style>\n",
              "<table border=\"1\" class=\"dataframe\">\n",
              "  <thead>\n",
              "    <tr style=\"text-align: right;\">\n",
              "      <th></th>\n",
              "      <th>Features</th>\n",
              "      <th>C_Average_Loss</th>\n",
              "      <th>borda_average</th>\n",
              "      <th>borda_sd</th>\n",
              "    </tr>\n",
              "  </thead>\n",
              "  <tbody>\n",
              "    <tr>\n",
              "      <th>2</th>\n",
              "      <td>pfs</td>\n",
              "      <td>0.185322</td>\n",
              "      <td>1.11</td>\n",
              "      <td>0.598247</td>\n",
              "    </tr>\n",
              "    <tr>\n",
              "      <th>4</th>\n",
              "      <td>mgmt_methylation</td>\n",
              "      <td>0.018294</td>\n",
              "      <td>3.43</td>\n",
              "      <td>1.423060</td>\n",
              "    </tr>\n",
              "    <tr>\n",
              "      <th>5</th>\n",
              "      <td>chsp70_0h1l</td>\n",
              "      <td>0.009145</td>\n",
              "      <td>3.62</td>\n",
              "      <td>1.433736</td>\n",
              "    </tr>\n",
              "    <tr>\n",
              "      <th>3</th>\n",
              "      <td>didprogress</td>\n",
              "      <td>0.000690</td>\n",
              "      <td>4.10</td>\n",
              "      <td>1.236932</td>\n",
              "    </tr>\n",
              "    <tr>\n",
              "      <th>1</th>\n",
              "      <td>age</td>\n",
              "      <td>-0.002259</td>\n",
              "      <td>4.36</td>\n",
              "      <td>1.493452</td>\n",
              "    </tr>\n",
              "    <tr>\n",
              "      <th>0</th>\n",
              "      <td>sex</td>\n",
              "      <td>-0.005237</td>\n",
              "      <td>4.38</td>\n",
              "      <td>1.302152</td>\n",
              "    </tr>\n",
              "  </tbody>\n",
              "</table>\n",
              "</div>"
            ],
            "text/plain": [
              "           Features  C_Average_Loss  borda_average  borda_sd\n",
              "2               pfs        0.185322           1.11  0.598247\n",
              "4  mgmt_methylation        0.018294           3.43  1.423060\n",
              "5       chsp70_0h1l        0.009145           3.62  1.433736\n",
              "3       didprogress        0.000690           4.10  1.236932\n",
              "1               age       -0.002259           4.36  1.493452\n",
              "0               sex       -0.005237           4.38  1.302152"
            ]
          },
          "metadata": {
            "tags": []
          },
          "execution_count": 34
        }
      ]
    },
    {
      "cell_type": "markdown",
      "metadata": {
        "id": "qyOMEAQRdOx7"
      },
      "source": [
        "Let's run again, but with the top 2 features using "
      ]
    },
    {
      "cell_type": "code",
      "metadata": {
        "id": "n5ufGcUpkgIY"
      },
      "source": [
        "X_tf = dataset[['pfs', 'mgmt_methylation']]"
      ],
      "execution_count": 35,
      "outputs": []
    },
    {
      "cell_type": "code",
      "metadata": {
        "id": "mR10OKpLj7oo"
      },
      "source": [
        "def top2features(X, y, model, loops):\n",
        "  \n",
        "  c_score_total = []\n",
        "  a= 0\n",
        "  np.random.seed(42); randseed = np.random.randint(9999, size = 1500)\n",
        "  for x in range(loops):\n",
        "\n",
        "    #Let's do this trick with the seeding, so we can have the same array of test sets, that we had in the previous feature selection algorithm. \n",
        "    a += 1\n",
        "    seed = randseed[a]\n",
        "  #Let's do a splitting 1/3 train, 1/3 rank, 1/3 test\n",
        "    X_train, X_test, y_train, y_test = train_test_split(\n",
        "    X, Y, test_size=0.33, random_state = seed )\n",
        "    X_train, X_rank, y_train, y_rank = train_test_split(\n",
        "    X, Y, test_size=0.5, random_state = seed)\n",
        "  #Let's train the model on the \n",
        "    model.fit(X_train, y_train)\n",
        "  #Let's compute the scores\n",
        "    c_score = model.score(X_test, y_test)\n",
        "    c_score_total.append(c_score)\n",
        "\n",
        "  \n",
        "  c_mean_top2 = np.mean(np.array(c_score_total))\n",
        "  c_std = np.std(np.array(c_score_total))\n",
        "\n",
        "\n",
        "\n",
        "  return c_mean_top2, c_std"
      ],
      "execution_count": 37,
      "outputs": []
    },
    {
      "cell_type": "code",
      "metadata": {
        "id": "6vrCubC0m5wB"
      },
      "source": [
        "c_score_tf, c_std_tf = top2features(X_tf, Y, rsf, 100)"
      ],
      "execution_count": 39,
      "outputs": []
    },
    {
      "cell_type": "markdown",
      "metadata": {
        "id": "1hxlXVxJpST2"
      },
      "source": [
        "Prediction using only the top 2 features\n"
      ]
    },
    {
      "cell_type": "code",
      "metadata": {
        "colab": {
          "base_uri": "https://localhost:8080/"
        },
        "id": "VU1PQMckpOl3",
        "outputId": "0542ba24-9f17-4288-e521-c1f8ffa39b04"
      },
      "source": [
        "c_score_tf"
      ],
      "execution_count": 40,
      "outputs": [
        {
          "output_type": "execute_result",
          "data": {
            "text/plain": [
              "0.7704624920499491"
            ]
          },
          "metadata": {
            "tags": []
          },
          "execution_count": 40
        }
      ]
    },
    {
      "cell_type": "markdown",
      "metadata": {
        "id": "lDvhow5Fehq7"
      },
      "source": [
        "Pysurvival to get the brier score "
      ]
    },
    {
      "cell_type": "code",
      "metadata": {
        "id": "RKp8oi85elWD"
      },
      "source": [
        "pip install pysurvival"
      ],
      "execution_count": null,
      "outputs": []
    },
    {
      "cell_type": "code",
      "metadata": {
        "id": "BimXJN7yjegh"
      },
      "source": [
        "from pysurvival.utils.metrics import concordance_index"
      ],
      "execution_count": 162,
      "outputs": []
    },
    {
      "cell_type": "code",
      "metadata": {
        "id": "aIugPb4Il_F5"
      },
      "source": [
        "from pysurvival.utils.metrics import integrated_brier_score\n"
      ],
      "execution_count": 66,
      "outputs": []
    },
    {
      "cell_type": "code",
      "metadata": {
        "id": "dLKwqjOkemIv"
      },
      "source": [
        "from pysurvival.models.survival_forest import RandomSurvivalForestModel"
      ],
      "execution_count": 43,
      "outputs": []
    },
    {
      "cell_type": "code",
      "metadata": {
        "id": "jf0XMcuye668"
      },
      "source": [
        "pyforest = RandomSurvivalForestModel(num_trees=100)"
      ],
      "execution_count": 44,
      "outputs": []
    },
    {
      "cell_type": "markdown",
      "metadata": {
        "id": "EzI14Yq_goHi"
      },
      "source": [
        "x = covariates\n",
        "t = times\n",
        "e = event"
      ]
    },
    {
      "cell_type": "code",
      "metadata": {
        "id": "lPNCsceagAWS"
      },
      "source": [
        "T = dataset['os']\n",
        "E = dataset['death']"
      ],
      "execution_count": 45,
      "outputs": []
    },
    {
      "cell_type": "code",
      "metadata": {
        "id": "ur05s_jBhbnu"
      },
      "source": [
        "X_train, X_test, t_train, t_test, e_train, e_test = train_test_split(\n",
        "    X, T, E, test_size=0.33)"
      ],
      "execution_count": 73,
      "outputs": []
    },
    {
      "cell_type": "code",
      "metadata": {
        "colab": {
          "base_uri": "https://localhost:8080/"
        },
        "id": "qCCoaF25fJ91",
        "outputId": "0213fb05-a10a-431c-a791-00ac7e63d442"
      },
      "source": [
        "pyforest.fit(X_train, t_train, e_train, max_depth=5)\n"
      ],
      "execution_count": 167,
      "outputs": [
        {
          "output_type": "execute_result",
          "data": {
            "text/plain": [
              "RandomSurvivalForestModel"
            ]
          },
          "metadata": {
            "tags": []
          },
          "execution_count": 167
        }
      ]
    },
    {
      "cell_type": "code",
      "metadata": {
        "id": "ls6ocw8ci6KS"
      },
      "source": [
        "a = concordance_index(pyforest, X_test, t_test, e_test)"
      ],
      "execution_count": 168,
      "outputs": []
    },
    {
      "cell_type": "code",
      "metadata": {
        "id": "AwuwTeH_jg4b"
      },
      "source": [
        "def Py_scores(X, T, E, model, loops):\n",
        "  \n",
        "  c_score_total = []\n",
        "  ibstotal = []\n",
        "  a= 0\n",
        "  np.random.seed(42); randseed = np.random.randint(9999, size = 1500)\n",
        "  for x in range(loops):\n",
        "\n",
        "    #Let's do this trick with the seeding, so we can have the same array of test sets, that we had in the previous feature selection algorithm. \n",
        "    a += 1\n",
        "    seed = randseed[a]\n",
        "  #Let's do a splitting 1/3 train, 1/3 rank, 1/3 test\n",
        "    X_train, X_test, t_train, t_test, e_train, e_test = train_test_split(\n",
        "    X, T, E, test_size=0.33, random_state = seed )\n",
        "    X_train, X_rank, t_train, t_rank, e_train, e_rank = train_test_split(\n",
        "    X_train, t_train, e_train, test_size=0.5, random_state = seed)\n",
        "  #Let's train the model on the \n",
        "    model.fit(X_train, t_train, e_train, max_depth=5)\n",
        "    print(concordance_index(model, X_test, t_test, e_test))\n",
        "    \n",
        "  #Let's compute the C - scores\n",
        "  #Let's compute the integrated brier score\n",
        "    ibs = integrated_brier_score(model, X_test, t_test, e_test)\n",
        "    ibstotal.append(ibs)\n",
        "    \n",
        "  \n",
        "  \n",
        "  ibstotal2 = np.mean(np.array(ibstotal))\n",
        "  ibs_std = np.std(np.array(ibstotal))\n",
        "\n",
        "\n",
        "  return ibstotal2, ibs_std"
      ],
      "execution_count": 175,
      "outputs": []
    },
    {
      "cell_type": "code",
      "metadata": {
        "id": "Xf5hZ0stkyKD"
      },
      "source": [
        "ibs_mean, ibs_std = Py_scores(X, T, E, pyforest, 10)"
      ],
      "execution_count": null,
      "outputs": []
    },
    {
      "cell_type": "code",
      "metadata": {
        "colab": {
          "base_uri": "https://localhost:8080/"
        },
        "id": "DqEfcZIFme2J",
        "outputId": "9c8ce043-026c-4457-b55a-936b66a592e6"
      },
      "source": [
        "ibs_mean"
      ],
      "execution_count": 177,
      "outputs": [
        {
          "output_type": "execute_result",
          "data": {
            "text/plain": [
              "0.17665924107648406"
            ]
          },
          "metadata": {
            "tags": []
          },
          "execution_count": 177
        }
      ]
    },
    {
      "cell_type": "code",
      "metadata": {
        "colab": {
          "base_uri": "https://localhost:8080/"
        },
        "id": "-D1U9DD-mf_b",
        "outputId": "0cc8acec-f322-44b9-ba6e-2519de95c3e2"
      },
      "source": [
        "ibs_std"
      ],
      "execution_count": 178,
      "outputs": [
        {
          "output_type": "execute_result",
          "data": {
            "text/plain": [
              "0.02589170232622558"
            ]
          },
          "metadata": {
            "tags": []
          },
          "execution_count": 178
        }
      ]
    },
    {
      "cell_type": "markdown",
      "metadata": {
        "id": "_dKUklL0p187"
      },
      "source": [
        "##Deep Surv"
      ]
    },
    {
      "cell_type": "code",
      "metadata": {
        "id": "epgR0rWFp3e7"
      },
      "source": [
        "from pysurvival.models.semi_parametric import NonLinearCoxPHModel\n"
      ],
      "execution_count": 117,
      "outputs": []
    },
    {
      "cell_type": "code",
      "metadata": {
        "id": "dbkeUX84s6HI"
      },
      "source": [
        "def Py_scores_deepsurv(X, T, E, loops):\n",
        "  \n",
        "  c_score_total = []\n",
        "  ibstotal = []\n",
        "  a= 0\n",
        "  np.random.seed(42); randseed = np.random.randint(9999, size = 1500)\n",
        "  for x in range(loops):\n",
        "\n",
        "    #Let's do this trick with the seeding, so we can have the same array of test sets, that we had in the previous feature selection algorithm. \n",
        "    a += 1\n",
        "    seed = randseed[a]\n",
        "  #Let's do a splitting 1/3 train, 1/3 rank, 1/3 test\n",
        "    X_train, X_test, t_train, t_test, e_train, e_test = train_test_split(\n",
        "    X, T, E, test_size=0.33, random_state = seed )\n",
        "    X_train, X_rank, t_train, t_rank, e_train, e_rank = train_test_split(\n",
        "    X_train, t_train, e_train, test_size=0.5, random_state = seed)\n",
        "  #Let's train the NN \n",
        "    structure = [ {'activation': 'ReLU', 'num_units': 128}, {'activation': 'ReLU', 'num_units': 64}, ]\n",
        "    nonlinear_coxph = NonLinearCoxPHModel(structure = structure)\n",
        "    nonlinear_coxph.fit(X_train, t_train, e_train, num_epochs = 100, dropout = 0.2,)\n",
        "    c_score_total.append(concordance_index(nonlinear_coxph, X_test, t_test, e_test))\n",
        "    \n",
        "  #Let's compute the C - scores\n",
        "  #Let's compute the integrated brier score\n",
        "    ibs = integrated_brier_score(nonlinear_coxph, X_test, t_test, e_test)\n",
        "    ibstotal.append(ibs)\n",
        "    \n",
        "  \n",
        "  \n",
        "  ibstotal2 = np.mean(np.array(ibstotal))\n",
        "  ibs_std = np.std(np.array(ibstotal))\n",
        "  c_score_avg = np.mean(np.array(c_score_total))\n",
        "  c_score_std = np.std(np.array(c_score_total))\n",
        "\n",
        "  return ibstotal2, ibs_std, c_score_avg, c_score_std"
      ],
      "execution_count": 234,
      "outputs": []
    },
    {
      "cell_type": "code",
      "metadata": {
        "id": "W6S4SwuJwEq_"
      },
      "source": [
        "ib, ibstd, c_index_avg, c_score_std = Py_scores_deepsurv(X, T, E, 100)"
      ],
      "execution_count": null,
      "outputs": []
    },
    {
      "cell_type": "markdown",
      "metadata": {
        "id": "l4yM6vVn2pxs"
      },
      "source": [
        "C score average"
      ]
    },
    {
      "cell_type": "code",
      "metadata": {
        "colab": {
          "base_uri": "https://localhost:8080/"
        },
        "id": "I4Fce7mcyG9H",
        "outputId": "23d4539b-2bf8-4413-f3c6-f57042ef0291"
      },
      "source": [
        "c_index_avg"
      ],
      "execution_count": 236,
      "outputs": [
        {
          "output_type": "execute_result",
          "data": {
            "text/plain": [
              "0.7177449452745102"
            ]
          },
          "metadata": {
            "tags": []
          },
          "execution_count": 236
        }
      ]
    },
    {
      "cell_type": "markdown",
      "metadata": {
        "id": "dntNw6w52z8k"
      },
      "source": [
        "C score std"
      ]
    },
    {
      "cell_type": "code",
      "metadata": {
        "colab": {
          "base_uri": "https://localhost:8080/"
        },
        "id": "ikoqRHVo21fH",
        "outputId": "2e671a2b-0a8e-4886-e50d-1b4eb0201172"
      },
      "source": [
        "c_score_std"
      ],
      "execution_count": 237,
      "outputs": [
        {
          "output_type": "execute_result",
          "data": {
            "text/plain": [
              "0.0874345827169553"
            ]
          },
          "metadata": {
            "tags": []
          },
          "execution_count": 237
        }
      ]
    },
    {
      "cell_type": "markdown",
      "metadata": {
        "id": "neuMeyw522_5"
      },
      "source": [
        "Brier integrated score"
      ]
    },
    {
      "cell_type": "code",
      "metadata": {
        "colab": {
          "base_uri": "https://localhost:8080/"
        },
        "id": "6e86zMjTyHkB",
        "outputId": "4ebb0973-324e-4c0a-afff-d27d8b03a1ea"
      },
      "source": [
        "ib"
      ],
      "execution_count": 238,
      "outputs": [
        {
          "output_type": "execute_result",
          "data": {
            "text/plain": [
              "0.14627258640098614"
            ]
          },
          "metadata": {
            "tags": []
          },
          "execution_count": 238
        }
      ]
    },
    {
      "cell_type": "markdown",
      "metadata": {
        "id": "tPGlD33P240Q"
      },
      "source": [
        "Brier std "
      ]
    },
    {
      "cell_type": "code",
      "metadata": {
        "colab": {
          "base_uri": "https://localhost:8080/"
        },
        "id": "IK-SYLk4z9MX",
        "outputId": "d85eee4d-03c6-4983-b4c7-824139399249"
      },
      "source": [
        "ibstd"
      ],
      "execution_count": 239,
      "outputs": [
        {
          "output_type": "execute_result",
          "data": {
            "text/plain": [
              "0.02466113964711274"
            ]
          },
          "metadata": {
            "tags": []
          },
          "execution_count": 239
        }
      ]
    },
    {
      "cell_type": "markdown",
      "metadata": {
        "id": "zigEGdRX2C3A"
      },
      "source": [
        "## Standard Cox Proportional Hazards"
      ]
    },
    {
      "cell_type": "code",
      "metadata": {
        "id": "Fa7m4gnC3IOH"
      },
      "source": [
        "from pysurvival.models.semi_parametric import CoxPHModel\n",
        "  "
      ],
      "execution_count": 240,
      "outputs": []
    },
    {
      "cell_type": "code",
      "metadata": {
        "id": "Qw2fhpae5avz"
      },
      "source": [
        "coxph = CoxPHModel()\n"
      ],
      "execution_count": 241,
      "outputs": []
    },
    {
      "cell_type": "code",
      "metadata": {
        "id": "7hKQSa705gTJ"
      },
      "source": [
        "def Py_scores_cox(X, T, E, model, loops):\n",
        "  \n",
        "  c_score_total = []\n",
        "  ibstotal = []\n",
        "  a= 0\n",
        "  np.random.seed(42); randseed = np.random.randint(9999, size = 1500)\n",
        "  for x in range(loops):\n",
        "\n",
        "    #Let's do this trick with the seeding, so we can have the same array of test sets, that we had in the previous feature selection algorithm. \n",
        "    a += 1\n",
        "    seed = randseed[a]\n",
        "  #Let's do a splitting 1/3 train, 1/3 rank, 1/3 test\n",
        "    X_train, X_test, t_train, t_test, e_train, e_test = train_test_split(\n",
        "    X, T, E, test_size=0.33, random_state = seed )\n",
        "    X_train, X_rank, t_train, t_rank, e_train, e_rank = train_test_split(\n",
        "    X_train, t_train, e_train, test_size=0.5, random_state = seed)\n",
        "  #Let's train the model on the \n",
        "    model.fit(X_train, t_train, e_train)\n",
        "    c_score_total.append(concordance_index(model, X_test, t_test, e_test))\n",
        "    \n",
        "  #Let's compute the C - scores\n",
        "  #Let's compute the integrated brier score\n",
        "    ibs = integrated_brier_score(model, X_test, t_test, e_test)\n",
        "    ibstotal.append(ibs)\n",
        "    \n",
        "  \n",
        "  \n",
        "  ibstotal2 = np.mean(np.array(ibstotal))\n",
        "  ibs_std = np.std(np.array(ibstotal))\n",
        "  c_index = np.mean(np.array(c_score_total))\n",
        "\n",
        "  return ibstotal2, ibs_std, c_index"
      ],
      "execution_count": 247,
      "outputs": []
    },
    {
      "cell_type": "code",
      "metadata": {
        "id": "2ZZt3tyl53sg"
      },
      "source": [
        "ib, ibstd, c_index_avg = Py_scores_cox(X, T, E, coxph, 100)"
      ],
      "execution_count": null,
      "outputs": []
    },
    {
      "cell_type": "code",
      "metadata": {
        "colab": {
          "base_uri": "https://localhost:8080/"
        },
        "id": "sqg5U5Tj505H",
        "outputId": "031770b4-d05d-4be5-cf1b-baece5e87ee4"
      },
      "source": [
        "ib"
      ],
      "execution_count": 249,
      "outputs": [
        {
          "output_type": "execute_result",
          "data": {
            "text/plain": [
              "0.14343060203299754"
            ]
          },
          "metadata": {
            "tags": []
          },
          "execution_count": 249
        }
      ]
    },
    {
      "cell_type": "code",
      "metadata": {
        "colab": {
          "base_uri": "https://localhost:8080/"
        },
        "id": "AyVa6Xya6bZd",
        "outputId": "7e334d4c-1807-4fb7-c74d-3c5c8807f6d6"
      },
      "source": [
        "ibstd"
      ],
      "execution_count": 250,
      "outputs": [
        {
          "output_type": "execute_result",
          "data": {
            "text/plain": [
              "0.039486677124801785"
            ]
          },
          "metadata": {
            "tags": []
          },
          "execution_count": 250
        }
      ]
    },
    {
      "cell_type": "code",
      "metadata": {
        "colab": {
          "base_uri": "https://localhost:8080/"
        },
        "id": "COZULfQ46cI7",
        "outputId": "2ee74fdc-d558-469c-826a-27d723bd0788"
      },
      "source": [
        "c_index_avg"
      ],
      "execution_count": 251,
      "outputs": [
        {
          "output_type": "execute_result",
          "data": {
            "text/plain": [
              "0.7058919912001946"
            ]
          },
          "metadata": {
            "tags": []
          },
          "execution_count": 251
        }
      ]
    }
  ]
}