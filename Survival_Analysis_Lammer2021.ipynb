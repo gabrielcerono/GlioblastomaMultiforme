{
  "nbformat": 4,
  "nbformat_minor": 0,
  "metadata": {
    "colab": {
      "name": "Survival Analysis Lammer2021.ipynb",
      "provenance": [],
      "toc_visible": true,
      "authorship_tag": "ABX9TyM50AEjhFJ81UTTCrg62izN",
      "include_colab_link": true
    },
    "kernelspec": {
      "name": "python3",
      "display_name": "Python 3"
    },
    "language_info": {
      "name": "python"
    }
  },
  "cells": [
    {
      "cell_type": "markdown",
      "metadata": {
        "id": "view-in-github",
        "colab_type": "text"
      },
      "source": [
        "<a href=\"https://colab.research.google.com/github/gabrielcerono/GlioblastomaMultiforme/blob/main/Survival_Analysis_Lammer2021.ipynb\" target=\"_parent\"><img src=\"https://colab.research.google.com/assets/colab-badge.svg\" alt=\"Open In Colab\"/></a>"
      ]
    },
    {
      "cell_type": "code",
      "metadata": {
        "id": "jlS-peiMK0Hm",
        "colab": {
          "base_uri": "https://localhost:8080/"
        },
        "outputId": "fc9bd970-56e8-4d64-c535-b712cb1da4fb"
      },
      "source": [
        "!pip install --upgrade pip\n",
        "!pip uninstall --yes --quiet osqp\n",
        "!pip install -U scikit-survival"
      ],
      "execution_count": null,
      "outputs": [
        {
          "output_type": "stream",
          "text": [
            "Collecting pip\n",
            "\u001b[?25l  Downloading https://files.pythonhosted.org/packages/cd/82/04e9aaf603fdbaecb4323b9e723f13c92c245f6ab2902195c53987848c78/pip-21.1.2-py3-none-any.whl (1.5MB)\n",
            "\u001b[K     |████████████████████████████████| 1.6MB 15.6MB/s \n",
            "\u001b[?25hInstalling collected packages: pip\n",
            "  Found existing installation: pip 19.3.1\n",
            "    Uninstalling pip-19.3.1:\n",
            "      Successfully uninstalled pip-19.3.1\n",
            "Successfully installed pip-21.1.2\n",
            "\u001b[33mWARNING: Running pip as root will break packages and permissions. You should install packages reliably by using venv: https://pip.pypa.io/warnings/venv\u001b[0m\n",
            "Collecting scikit-survival\n",
            "  Downloading scikit-survival-0.15.0.post0.tar.gz (2.4 MB)\n",
            "\u001b[K     |████████████████████████████████| 2.4 MB 15.2 MB/s \n",
            "\u001b[?25h  Installing build dependencies ... \u001b[?25l\u001b[?25hdone\n",
            "  Getting requirements to build wheel ... \u001b[?25l\u001b[?25herror\n",
            "\u001b[33mWARNING: Discarding https://files.pythonhosted.org/packages/91/f0/047ce90bb831ab34ca287d1d23f0c61b6546cd89494566898c0e17516990/scikit-survival-0.15.0.post0.tar.gz#sha256=572c3ac6818a9d0944fc4b8176eb948051654de857e28419ecc5060bcc6fbf37 (from https://pypi.org/simple/scikit-survival/) (requires-python:>=3.7). Command errored out with exit status 1: /usr/bin/python3 /usr/local/lib/python3.7/dist-packages/pip/_vendor/pep517/in_process/_in_process.py get_requires_for_build_wheel /tmp/tmpurxfmj_l Check the logs for full command output.\u001b[0m\n",
            "  Downloading scikit-survival-0.14.0.tar.gz (2.3 MB)\n",
            "\u001b[K     |████████████████████████████████| 2.3 MB 39.6 MB/s \n",
            "\u001b[?25h  Installing build dependencies ... \u001b[?25l\u001b[?25hdone\n",
            "  Getting requirements to build wheel ... \u001b[?25l\u001b[?25hdone\n",
            "    Preparing wheel metadata ... \u001b[?25l\u001b[?25hdone\n",
            "Requirement already satisfied: numpy in /usr/local/lib/python3.7/dist-packages (from scikit-survival) (1.19.5)\n",
            "Requirement already satisfied: joblib in /usr/local/lib/python3.7/dist-packages (from scikit-survival) (1.0.1)\n",
            "Requirement already satisfied: pandas>=0.21 in /usr/local/lib/python3.7/dist-packages (from scikit-survival) (1.1.5)\n",
            "Requirement already satisfied: scikit-learn<0.24,>=0.22.0 in /usr/local/lib/python3.7/dist-packages (from scikit-survival) (0.22.2.post1)\n",
            "Requirement already satisfied: cvxpy>=1.0 in /usr/local/lib/python3.7/dist-packages (from scikit-survival) (1.0.31)\n",
            "Requirement already satisfied: scipy!=1.3.0,>=1.0 in /usr/local/lib/python3.7/dist-packages (from scikit-survival) (1.4.1)\n",
            "Requirement already satisfied: numexpr in /usr/local/lib/python3.7/dist-packages (from scikit-survival) (2.7.3)\n",
            "Requirement already satisfied: cvxopt in /usr/local/lib/python3.7/dist-packages (from scikit-survival) (1.2.6)\n",
            "Collecting osqp!=0.6.0,!=0.6.1\n",
            "  Downloading osqp-0.6.2.post0-cp37-cp37m-manylinux2014_x86_64.whl (212 kB)\n",
            "\u001b[K     |████████████████████████████████| 212 kB 53.1 MB/s \n",
            "\u001b[?25hRequirement already satisfied: ecos>=2 in /usr/local/lib/python3.7/dist-packages (from cvxpy>=1.0->scikit-survival) (2.0.7.post1)\n",
            "Requirement already satisfied: multiprocess in /usr/local/lib/python3.7/dist-packages (from cvxpy>=1.0->scikit-survival) (0.70.12.2)\n",
            "Requirement already satisfied: scs>=1.1.3 in /usr/local/lib/python3.7/dist-packages (from cvxpy>=1.0->scikit-survival) (2.1.4)\n",
            "Requirement already satisfied: qdldl in /usr/local/lib/python3.7/dist-packages (from osqp!=0.6.0,!=0.6.1->scikit-survival) (0.1.5.post0)\n",
            "Requirement already satisfied: pytz>=2017.2 in /usr/local/lib/python3.7/dist-packages (from pandas>=0.21->scikit-survival) (2018.9)\n",
            "Requirement already satisfied: python-dateutil>=2.7.3 in /usr/local/lib/python3.7/dist-packages (from pandas>=0.21->scikit-survival) (2.8.1)\n",
            "Requirement already satisfied: six>=1.5 in /usr/local/lib/python3.7/dist-packages (from python-dateutil>=2.7.3->pandas>=0.21->scikit-survival) (1.15.0)\n",
            "Requirement already satisfied: dill>=0.3.4 in /usr/local/lib/python3.7/dist-packages (from multiprocess->cvxpy>=1.0->scikit-survival) (0.3.4)\n",
            "Building wheels for collected packages: scikit-survival\n",
            "  Building wheel for scikit-survival (PEP 517) ... \u001b[?25l\u001b[?25hdone\n",
            "  Created wheel for scikit-survival: filename=scikit_survival-0.14.0-cp37-cp37m-linux_x86_64.whl size=4061831 sha256=f304179ce503bb2c6a458af7233cd32fda68967a1532ae4dce4be76206d2f830\n",
            "  Stored in directory: /root/.cache/pip/wheels/a2/3e/97/3722ba215d3dfe5429c1a7e4f24f535a3f46004fb29a16d505\n",
            "Successfully built scikit-survival\n",
            "Installing collected packages: osqp, scikit-survival\n",
            "Successfully installed osqp-0.6.2.post0 scikit-survival-0.14.0\n",
            "\u001b[33mWARNING: Running pip as root will break packages and permissions. You should install packages reliably by using venv: https://pip.pypa.io/warnings/venv\u001b[0m\n"
          ],
          "name": "stdout"
        }
      ]
    },
    {
      "cell_type": "code",
      "metadata": {
        "id": "4VlNlxH7K3d_"
      },
      "source": [
        "import pandas as pd\n",
        "import matplotlib.pyplot as plt\n",
        "import numpy as np\n",
        "import sklearn as sk"
      ],
      "execution_count": null,
      "outputs": []
    },
    {
      "cell_type": "code",
      "metadata": {
        "colab": {
          "base_uri": "https://localhost:8080/"
        },
        "id": "uG1_HiLgmhkF",
        "outputId": "c54d722c-e9ea-4395-f506-105c53d38d75"
      },
      "source": [
        "pip install eli5"
      ],
      "execution_count": null,
      "outputs": [
        {
          "output_type": "stream",
          "text": [
            "Collecting eli5\n",
            "  Downloading eli5-0.11.0-py2.py3-none-any.whl (106 kB)\n",
            "\u001b[?25l\r\u001b[K     |███                             | 10 kB 22.2 MB/s eta 0:00:01\r\u001b[K     |██████▏                         | 20 kB 26.3 MB/s eta 0:00:01\r\u001b[K     |█████████▎                      | 30 kB 30.7 MB/s eta 0:00:01\r\u001b[K     |████████████▍                   | 40 kB 23.0 MB/s eta 0:00:01\r\u001b[K     |███████████████▌                | 51 kB 20.4 MB/s eta 0:00:01\r\u001b[K     |██████████████████▌             | 61 kB 14.9 MB/s eta 0:00:01\r\u001b[K     |█████████████████████▋          | 71 kB 15.4 MB/s eta 0:00:01\r\u001b[K     |████████████████████████▊       | 81 kB 16.7 MB/s eta 0:00:01\r\u001b[K     |███████████████████████████▉    | 92 kB 14.4 MB/s eta 0:00:01\r\u001b[K     |███████████████████████████████ | 102 kB 15.5 MB/s eta 0:00:01\r\u001b[K     |████████████████████████████████| 106 kB 15.5 MB/s \n",
            "\u001b[?25hRequirement already satisfied: numpy>=1.9.0 in /usr/local/lib/python3.7/dist-packages (from eli5) (1.19.5)\n",
            "Requirement already satisfied: attrs>16.0.0 in /usr/local/lib/python3.7/dist-packages (from eli5) (21.2.0)\n",
            "Requirement already satisfied: jinja2 in /usr/local/lib/python3.7/dist-packages (from eli5) (2.11.3)\n",
            "Requirement already satisfied: graphviz in /usr/local/lib/python3.7/dist-packages (from eli5) (0.10.1)\n",
            "Requirement already satisfied: six in /usr/local/lib/python3.7/dist-packages (from eli5) (1.15.0)\n",
            "Requirement already satisfied: scipy in /usr/local/lib/python3.7/dist-packages (from eli5) (1.4.1)\n",
            "Requirement already satisfied: scikit-learn>=0.20 in /usr/local/lib/python3.7/dist-packages (from eli5) (0.22.2.post1)\n",
            "Requirement already satisfied: tabulate>=0.7.7 in /usr/local/lib/python3.7/dist-packages (from eli5) (0.8.9)\n",
            "Requirement already satisfied: joblib>=0.11 in /usr/local/lib/python3.7/dist-packages (from scikit-learn>=0.20->eli5) (1.0.1)\n",
            "Requirement already satisfied: MarkupSafe>=0.23 in /usr/local/lib/python3.7/dist-packages (from jinja2->eli5) (2.0.1)\n",
            "Installing collected packages: eli5\n",
            "Successfully installed eli5-0.11.0\n",
            "\u001b[33mWARNING: Running pip as root will break packages and permissions. You should install packages reliably by using venv: https://pip.pypa.io/warnings/venv\u001b[0m\n"
          ],
          "name": "stdout"
        }
      ]
    },
    {
      "cell_type": "code",
      "metadata": {
        "id": "HdO_u4PKLAGK"
      },
      "source": [
        "from sksurv.linear_model import CoxPHSurvivalAnalysis\n",
        "from sksurv.metrics import concordance_index_censored\n",
        "from sksurv.metrics import brier_score"
      ],
      "execution_count": null,
      "outputs": []
    },
    {
      "cell_type": "code",
      "metadata": {
        "id": "DDpJB6cmL0hm"
      },
      "source": [
        "dataset = pd.read_excel('/content/glioma.xlsx')"
      ],
      "execution_count": null,
      "outputs": []
    },
    {
      "cell_type": "code",
      "metadata": {
        "colab": {
          "base_uri": "https://localhost:8080/",
          "height": 237
        },
        "id": "WqmvS430MEW5",
        "outputId": "1b0f31e2-0ecd-4a46-f023-e563bb5e71a7"
      },
      "source": [
        "dataset.head()"
      ],
      "execution_count": null,
      "outputs": [
        {
          "output_type": "execute_result",
          "data": {
            "text/html": [
              "<div>\n",
              "<style scoped>\n",
              "    .dataframe tbody tr th:only-of-type {\n",
              "        vertical-align: middle;\n",
              "    }\n",
              "\n",
              "    .dataframe tbody tr th {\n",
              "        vertical-align: top;\n",
              "    }\n",
              "\n",
              "    .dataframe thead th {\n",
              "        text-align: right;\n",
              "    }\n",
              "</style>\n",
              "<table border=\"1\" class=\"dataframe\">\n",
              "  <thead>\n",
              "    <tr style=\"text-align: right;\">\n",
              "      <th></th>\n",
              "      <th>patient ID</th>\n",
              "      <th>sex</th>\n",
              "      <th>age [years]</th>\n",
              "      <th>OS [months]</th>\n",
              "      <th>OS status (1=deceased, 0=living)</th>\n",
              "      <th>PFS [months]</th>\n",
              "      <th>progression (1=yes, 0=no)</th>\n",
              "      <th>MGMT methylation (1=methylated, 0=unmethylated)</th>\n",
              "      <th>cHsp70</th>\n",
              "    </tr>\n",
              "  </thead>\n",
              "  <tbody>\n",
              "    <tr>\n",
              "      <th>0</th>\n",
              "      <td>1</td>\n",
              "      <td>m</td>\n",
              "      <td>62</td>\n",
              "      <td>1.2</td>\n",
              "      <td>1</td>\n",
              "      <td>1.2</td>\n",
              "      <td>1</td>\n",
              "      <td>0</td>\n",
              "      <td>high</td>\n",
              "    </tr>\n",
              "    <tr>\n",
              "      <th>1</th>\n",
              "      <td>2</td>\n",
              "      <td>m</td>\n",
              "      <td>58</td>\n",
              "      <td>20.9</td>\n",
              "      <td>1</td>\n",
              "      <td>18.2</td>\n",
              "      <td>1</td>\n",
              "      <td>0</td>\n",
              "      <td>high</td>\n",
              "    </tr>\n",
              "    <tr>\n",
              "      <th>2</th>\n",
              "      <td>3</td>\n",
              "      <td>f</td>\n",
              "      <td>50</td>\n",
              "      <td>4.0</td>\n",
              "      <td>1</td>\n",
              "      <td>4.6</td>\n",
              "      <td>1</td>\n",
              "      <td>0</td>\n",
              "      <td>low</td>\n",
              "    </tr>\n",
              "    <tr>\n",
              "      <th>3</th>\n",
              "      <td>4</td>\n",
              "      <td>m</td>\n",
              "      <td>20</td>\n",
              "      <td>26.0</td>\n",
              "      <td>1</td>\n",
              "      <td>16.1</td>\n",
              "      <td>1</td>\n",
              "      <td>1</td>\n",
              "      <td>high</td>\n",
              "    </tr>\n",
              "    <tr>\n",
              "      <th>4</th>\n",
              "      <td>6</td>\n",
              "      <td>m</td>\n",
              "      <td>42</td>\n",
              "      <td>15.8</td>\n",
              "      <td>1</td>\n",
              "      <td>6.2</td>\n",
              "      <td>1</td>\n",
              "      <td>0</td>\n",
              "      <td>low</td>\n",
              "    </tr>\n",
              "  </tbody>\n",
              "</table>\n",
              "</div>"
            ],
            "text/plain": [
              "   patient ID sex  ...  MGMT methylation (1=methylated, 0=unmethylated)  cHsp70\n",
              "0           1   m  ...                                                0    high\n",
              "1           2   m  ...                                                0    high\n",
              "2           3   f  ...                                                0     low\n",
              "3           4   m  ...                                                1    high\n",
              "4           6   m  ...                                                0     low\n",
              "\n",
              "[5 rows x 9 columns]"
            ]
          },
          "metadata": {
            "tags": []
          },
          "execution_count": 8
        }
      ]
    },
    {
      "cell_type": "code",
      "metadata": {
        "id": "edND4gDjMGAJ"
      },
      "source": [
        "dataset = dataset.drop(columns=['patient ID'])"
      ],
      "execution_count": null,
      "outputs": []
    },
    {
      "cell_type": "code",
      "metadata": {
        "colab": {
          "base_uri": "https://localhost:8080/"
        },
        "id": "q5tLc21pMzoQ",
        "outputId": "d7e1f11b-0281-49d8-c62a-9b27ccd4f0ac"
      },
      "source": [
        "dataset.columns"
      ],
      "execution_count": null,
      "outputs": [
        {
          "output_type": "execute_result",
          "data": {
            "text/plain": [
              "Index(['sex', 'age [years]', 'OS [months]', 'OS status (1=deceased, 0=living)',\n",
              "       'PFS [months]', 'progression (1=yes, 0=no)',\n",
              "       'MGMT methylation (1=methylated, 0=unmethylated)', 'cHsp70'],\n",
              "      dtype='object')"
            ]
          },
          "metadata": {
            "tags": []
          },
          "execution_count": 10
        }
      ]
    },
    {
      "cell_type": "code",
      "metadata": {
        "id": "n7Dui3HCMYiJ"
      },
      "source": [
        "dataset = dataset.rename(columns={'age [years]' : 'age', 'OS [months]' : 'os', 'OS status (1=deceased, 0=living)' : 'death',\n",
        "       'progression (1=yes, 0=no)' : \"didprogress\",'MGMT methylation (1=methylated, 0=unmethylated)' : 'mgmt_methylation', 'cHsp70' : 'chsp70_0h1l', 'PFS [months]': 'pfs'})"
      ],
      "execution_count": null,
      "outputs": []
    },
    {
      "cell_type": "code",
      "metadata": {
        "colab": {
          "base_uri": "https://localhost:8080/",
          "height": 203
        },
        "id": "1k7iBfYvNc3J",
        "outputId": "b87b6e84-dc5c-45f2-a9b3-3ae1ec996694"
      },
      "source": [
        "dataset.head()"
      ],
      "execution_count": null,
      "outputs": [
        {
          "output_type": "execute_result",
          "data": {
            "text/html": [
              "<div>\n",
              "<style scoped>\n",
              "    .dataframe tbody tr th:only-of-type {\n",
              "        vertical-align: middle;\n",
              "    }\n",
              "\n",
              "    .dataframe tbody tr th {\n",
              "        vertical-align: top;\n",
              "    }\n",
              "\n",
              "    .dataframe thead th {\n",
              "        text-align: right;\n",
              "    }\n",
              "</style>\n",
              "<table border=\"1\" class=\"dataframe\">\n",
              "  <thead>\n",
              "    <tr style=\"text-align: right;\">\n",
              "      <th></th>\n",
              "      <th>sex</th>\n",
              "      <th>age</th>\n",
              "      <th>os</th>\n",
              "      <th>death</th>\n",
              "      <th>pfs</th>\n",
              "      <th>didprogress</th>\n",
              "      <th>mgmt_methylation</th>\n",
              "      <th>chsp70_0h1l</th>\n",
              "    </tr>\n",
              "  </thead>\n",
              "  <tbody>\n",
              "    <tr>\n",
              "      <th>0</th>\n",
              "      <td>m</td>\n",
              "      <td>62</td>\n",
              "      <td>1.2</td>\n",
              "      <td>1</td>\n",
              "      <td>1.2</td>\n",
              "      <td>1</td>\n",
              "      <td>0</td>\n",
              "      <td>high</td>\n",
              "    </tr>\n",
              "    <tr>\n",
              "      <th>1</th>\n",
              "      <td>m</td>\n",
              "      <td>58</td>\n",
              "      <td>20.9</td>\n",
              "      <td>1</td>\n",
              "      <td>18.2</td>\n",
              "      <td>1</td>\n",
              "      <td>0</td>\n",
              "      <td>high</td>\n",
              "    </tr>\n",
              "    <tr>\n",
              "      <th>2</th>\n",
              "      <td>f</td>\n",
              "      <td>50</td>\n",
              "      <td>4.0</td>\n",
              "      <td>1</td>\n",
              "      <td>4.6</td>\n",
              "      <td>1</td>\n",
              "      <td>0</td>\n",
              "      <td>low</td>\n",
              "    </tr>\n",
              "    <tr>\n",
              "      <th>3</th>\n",
              "      <td>m</td>\n",
              "      <td>20</td>\n",
              "      <td>26.0</td>\n",
              "      <td>1</td>\n",
              "      <td>16.1</td>\n",
              "      <td>1</td>\n",
              "      <td>1</td>\n",
              "      <td>high</td>\n",
              "    </tr>\n",
              "    <tr>\n",
              "      <th>4</th>\n",
              "      <td>m</td>\n",
              "      <td>42</td>\n",
              "      <td>15.8</td>\n",
              "      <td>1</td>\n",
              "      <td>6.2</td>\n",
              "      <td>1</td>\n",
              "      <td>0</td>\n",
              "      <td>low</td>\n",
              "    </tr>\n",
              "  </tbody>\n",
              "</table>\n",
              "</div>"
            ],
            "text/plain": [
              "  sex  age    os  death   pfs  didprogress  mgmt_methylation chsp70_0h1l\n",
              "0   m   62   1.2      1   1.2            1                 0        high\n",
              "1   m   58  20.9      1  18.2            1                 0        high\n",
              "2   f   50   4.0      1   4.6            1                 0         low\n",
              "3   m   20  26.0      1  16.1            1                 1        high\n",
              "4   m   42  15.8      1   6.2            1                 0         low"
            ]
          },
          "metadata": {
            "tags": []
          },
          "execution_count": 12
        }
      ]
    },
    {
      "cell_type": "code",
      "metadata": {
        "id": "WmaGl_HpNtgL"
      },
      "source": [
        "from sklearn.preprocessing import LabelEncoder\n",
        "from pandas import get_dummies"
      ],
      "execution_count": null,
      "outputs": []
    },
    {
      "cell_type": "code",
      "metadata": {
        "id": "DcI2LMwqOIE2"
      },
      "source": [
        "label_encoder = LabelEncoder()\n",
        "dataset['sex'] = label_encoder.fit_transform(dataset['sex'])\n",
        "dataset['chsp70_0h1l'] = label_encoder.fit_transform(dataset['chsp70_0h1l'])"
      ],
      "execution_count": null,
      "outputs": []
    },
    {
      "cell_type": "markdown",
      "metadata": {
        "id": "YiCaS63ANmKW"
      },
      "source": [
        "Let's try to predict first overall survival\n",
        "\n",
        "1.   We need to map death as True or False\n",
        "2.   We need to put death event first, then the right censored data. Example : (True, 21 months) \n",
        "3.   Then we have to pass from pandas DataFrame to structured array\n",
        "4.   We can recover the data frame from records\n",
        "\n",
        "\n"
      ]
    },
    {
      "cell_type": "code",
      "metadata": {
        "colab": {
          "base_uri": "https://localhost:8080/",
          "height": 203
        },
        "id": "xpCBcyTLNrqG",
        "outputId": "ea457fd3-49ae-4406-d209-5a3f644937b1"
      },
      "source": [
        "dataset.head(5)"
      ],
      "execution_count": null,
      "outputs": [
        {
          "output_type": "execute_result",
          "data": {
            "text/html": [
              "<div>\n",
              "<style scoped>\n",
              "    .dataframe tbody tr th:only-of-type {\n",
              "        vertical-align: middle;\n",
              "    }\n",
              "\n",
              "    .dataframe tbody tr th {\n",
              "        vertical-align: top;\n",
              "    }\n",
              "\n",
              "    .dataframe thead th {\n",
              "        text-align: right;\n",
              "    }\n",
              "</style>\n",
              "<table border=\"1\" class=\"dataframe\">\n",
              "  <thead>\n",
              "    <tr style=\"text-align: right;\">\n",
              "      <th></th>\n",
              "      <th>sex</th>\n",
              "      <th>age</th>\n",
              "      <th>os</th>\n",
              "      <th>death</th>\n",
              "      <th>pfs</th>\n",
              "      <th>didprogress</th>\n",
              "      <th>mgmt_methylation</th>\n",
              "      <th>chsp70_0h1l</th>\n",
              "    </tr>\n",
              "  </thead>\n",
              "  <tbody>\n",
              "    <tr>\n",
              "      <th>0</th>\n",
              "      <td>1</td>\n",
              "      <td>62</td>\n",
              "      <td>1.2</td>\n",
              "      <td>1</td>\n",
              "      <td>1.2</td>\n",
              "      <td>1</td>\n",
              "      <td>0</td>\n",
              "      <td>0</td>\n",
              "    </tr>\n",
              "    <tr>\n",
              "      <th>1</th>\n",
              "      <td>1</td>\n",
              "      <td>58</td>\n",
              "      <td>20.9</td>\n",
              "      <td>1</td>\n",
              "      <td>18.2</td>\n",
              "      <td>1</td>\n",
              "      <td>0</td>\n",
              "      <td>0</td>\n",
              "    </tr>\n",
              "    <tr>\n",
              "      <th>2</th>\n",
              "      <td>0</td>\n",
              "      <td>50</td>\n",
              "      <td>4.0</td>\n",
              "      <td>1</td>\n",
              "      <td>4.6</td>\n",
              "      <td>1</td>\n",
              "      <td>0</td>\n",
              "      <td>1</td>\n",
              "    </tr>\n",
              "    <tr>\n",
              "      <th>3</th>\n",
              "      <td>1</td>\n",
              "      <td>20</td>\n",
              "      <td>26.0</td>\n",
              "      <td>1</td>\n",
              "      <td>16.1</td>\n",
              "      <td>1</td>\n",
              "      <td>1</td>\n",
              "      <td>0</td>\n",
              "    </tr>\n",
              "    <tr>\n",
              "      <th>4</th>\n",
              "      <td>1</td>\n",
              "      <td>42</td>\n",
              "      <td>15.8</td>\n",
              "      <td>1</td>\n",
              "      <td>6.2</td>\n",
              "      <td>1</td>\n",
              "      <td>0</td>\n",
              "      <td>1</td>\n",
              "    </tr>\n",
              "  </tbody>\n",
              "</table>\n",
              "</div>"
            ],
            "text/plain": [
              "   sex  age    os  death   pfs  didprogress  mgmt_methylation  chsp70_0h1l\n",
              "0    1   62   1.2      1   1.2            1                 0            0\n",
              "1    1   58  20.9      1  18.2            1                 0            0\n",
              "2    0   50   4.0      1   4.6            1                 0            1\n",
              "3    1   20  26.0      1  16.1            1                 1            0\n",
              "4    1   42  15.8      1   6.2            1                 0            1"
            ]
          },
          "metadata": {
            "tags": []
          },
          "execution_count": 15
        }
      ]
    },
    {
      "cell_type": "code",
      "metadata": {
        "colab": {
          "base_uri": "https://localhost:8080/",
          "height": 297
        },
        "id": "Kmze-iWRnj-a",
        "outputId": "269f70b3-574d-4dfa-911c-919b24929794"
      },
      "source": [
        "dataset.corr(method='pearson')"
      ],
      "execution_count": null,
      "outputs": [
        {
          "output_type": "execute_result",
          "data": {
            "text/html": [
              "<div>\n",
              "<style scoped>\n",
              "    .dataframe tbody tr th:only-of-type {\n",
              "        vertical-align: middle;\n",
              "    }\n",
              "\n",
              "    .dataframe tbody tr th {\n",
              "        vertical-align: top;\n",
              "    }\n",
              "\n",
              "    .dataframe thead th {\n",
              "        text-align: right;\n",
              "    }\n",
              "</style>\n",
              "<table border=\"1\" class=\"dataframe\">\n",
              "  <thead>\n",
              "    <tr style=\"text-align: right;\">\n",
              "      <th></th>\n",
              "      <th>sex</th>\n",
              "      <th>age</th>\n",
              "      <th>os</th>\n",
              "      <th>death</th>\n",
              "      <th>pfs</th>\n",
              "      <th>didprogress</th>\n",
              "      <th>mgmt_methylation</th>\n",
              "      <th>chsp70_0h1l</th>\n",
              "    </tr>\n",
              "  </thead>\n",
              "  <tbody>\n",
              "    <tr>\n",
              "      <th>sex</th>\n",
              "      <td>1.000000</td>\n",
              "      <td>-0.269165</td>\n",
              "      <td>-0.016478</td>\n",
              "      <td>0.138013</td>\n",
              "      <td>0.039569</td>\n",
              "      <td>-0.010193</td>\n",
              "      <td>-0.168035</td>\n",
              "      <td>-0.058461</td>\n",
              "    </tr>\n",
              "    <tr>\n",
              "      <th>age</th>\n",
              "      <td>-0.269165</td>\n",
              "      <td>1.000000</td>\n",
              "      <td>0.061198</td>\n",
              "      <td>-0.080623</td>\n",
              "      <td>0.177742</td>\n",
              "      <td>-0.161440</td>\n",
              "      <td>0.118375</td>\n",
              "      <td>-0.079750</td>\n",
              "    </tr>\n",
              "    <tr>\n",
              "      <th>os</th>\n",
              "      <td>-0.016478</td>\n",
              "      <td>0.061198</td>\n",
              "      <td>1.000000</td>\n",
              "      <td>-0.185224</td>\n",
              "      <td>0.873120</td>\n",
              "      <td>-0.288235</td>\n",
              "      <td>0.330128</td>\n",
              "      <td>-0.313911</td>\n",
              "    </tr>\n",
              "    <tr>\n",
              "      <th>death</th>\n",
              "      <td>0.138013</td>\n",
              "      <td>-0.080623</td>\n",
              "      <td>-0.185224</td>\n",
              "      <td>1.000000</td>\n",
              "      <td>-0.223676</td>\n",
              "      <td>0.369274</td>\n",
              "      <td>-0.265897</td>\n",
              "      <td>0.127076</td>\n",
              "    </tr>\n",
              "    <tr>\n",
              "      <th>pfs</th>\n",
              "      <td>0.039569</td>\n",
              "      <td>0.177742</td>\n",
              "      <td>0.873120</td>\n",
              "      <td>-0.223676</td>\n",
              "      <td>1.000000</td>\n",
              "      <td>-0.456801</td>\n",
              "      <td>0.320183</td>\n",
              "      <td>-0.328388</td>\n",
              "    </tr>\n",
              "    <tr>\n",
              "      <th>didprogress</th>\n",
              "      <td>-0.010193</td>\n",
              "      <td>-0.161440</td>\n",
              "      <td>-0.288235</td>\n",
              "      <td>0.369274</td>\n",
              "      <td>-0.456801</td>\n",
              "      <td>1.000000</td>\n",
              "      <td>-0.010336</td>\n",
              "      <td>0.229416</td>\n",
              "    </tr>\n",
              "    <tr>\n",
              "      <th>mgmt_methylation</th>\n",
              "      <td>-0.168035</td>\n",
              "      <td>0.118375</td>\n",
              "      <td>0.330128</td>\n",
              "      <td>-0.265897</td>\n",
              "      <td>0.320183</td>\n",
              "      <td>-0.010336</td>\n",
              "      <td>1.000000</td>\n",
              "      <td>-0.386500</td>\n",
              "    </tr>\n",
              "    <tr>\n",
              "      <th>chsp70_0h1l</th>\n",
              "      <td>-0.058461</td>\n",
              "      <td>-0.079750</td>\n",
              "      <td>-0.313911</td>\n",
              "      <td>0.127076</td>\n",
              "      <td>-0.328388</td>\n",
              "      <td>0.229416</td>\n",
              "      <td>-0.386500</td>\n",
              "      <td>1.000000</td>\n",
              "    </tr>\n",
              "  </tbody>\n",
              "</table>\n",
              "</div>"
            ],
            "text/plain": [
              "                       sex       age  ...  mgmt_methylation  chsp70_0h1l\n",
              "sex               1.000000 -0.269165  ...         -0.168035    -0.058461\n",
              "age              -0.269165  1.000000  ...          0.118375    -0.079750\n",
              "os               -0.016478  0.061198  ...          0.330128    -0.313911\n",
              "death             0.138013 -0.080623  ...         -0.265897     0.127076\n",
              "pfs               0.039569  0.177742  ...          0.320183    -0.328388\n",
              "didprogress      -0.010193 -0.161440  ...         -0.010336     0.229416\n",
              "mgmt_methylation -0.168035  0.118375  ...          1.000000    -0.386500\n",
              "chsp70_0h1l      -0.058461 -0.079750  ...         -0.386500     1.000000\n",
              "\n",
              "[8 rows x 8 columns]"
            ]
          },
          "metadata": {
            "tags": []
          },
          "execution_count": 28
        }
      ]
    },
    {
      "cell_type": "code",
      "metadata": {
        "id": "VGtbjgcxPrWP"
      },
      "source": [
        "Y = dataset[['os', 'death']]"
      ],
      "execution_count": null,
      "outputs": []
    },
    {
      "cell_type": "code",
      "metadata": {
        "id": "G7BzKw5DQty5",
        "colab": {
          "base_uri": "https://localhost:8080/"
        },
        "outputId": "ff0b48e0-3a95-4a04-ff42-4cab449589b3"
      },
      "source": [
        "Y['death'] = Y['death'].map({1: True, 0: False})"
      ],
      "execution_count": null,
      "outputs": [
        {
          "output_type": "stream",
          "text": [
            "/usr/local/lib/python3.7/dist-packages/ipykernel_launcher.py:1: SettingWithCopyWarning: \n",
            "A value is trying to be set on a copy of a slice from a DataFrame.\n",
            "Try using .loc[row_indexer,col_indexer] = value instead\n",
            "\n",
            "See the caveats in the documentation: https://pandas.pydata.org/pandas-docs/stable/user_guide/indexing.html#returning-a-view-versus-a-copy\n",
            "  \"\"\"Entry point for launching an IPython kernel.\n"
          ],
          "name": "stderr"
        }
      ]
    },
    {
      "cell_type": "code",
      "metadata": {
        "id": "ekAnb3ayQu3g"
      },
      "source": [
        "Y = Y[['death', 'os']]"
      ],
      "execution_count": null,
      "outputs": []
    },
    {
      "cell_type": "code",
      "metadata": {
        "id": "T7KDYUa4S24t"
      },
      "source": [
        "Y = Y.to_records(index=False)"
      ],
      "execution_count": null,
      "outputs": []
    },
    {
      "cell_type": "code",
      "metadata": {
        "id": "ukO-uCkVTVfU"
      },
      "source": [
        "X = dataset.drop(columns = ['death', 'os'])"
      ],
      "execution_count": null,
      "outputs": []
    },
    {
      "cell_type": "code",
      "metadata": {
        "id": "uQODhSdPUBqq"
      },
      "source": [
        "from sksurv.ensemble import RandomSurvivalForest\n",
        "from sklearn.model_selection import train_test_split\n"
      ],
      "execution_count": null,
      "outputs": []
    },
    {
      "cell_type": "code",
      "metadata": {
        "id": "-X1ej6xAUt7s"
      },
      "source": [
        "X_train, X_test, y_train, y_test = train_test_split(\n",
        "    X, Y, test_size=0.25)"
      ],
      "execution_count": null,
      "outputs": []
    },
    {
      "cell_type": "code",
      "metadata": {
        "colab": {
          "base_uri": "https://localhost:8080/"
        },
        "id": "WuNg-0jZU2YK",
        "outputId": "bf2f82cb-63bd-4274-c705-c24f55b79b75"
      },
      "source": [
        "rsf = RandomSurvivalForest()\n",
        "rsf.fit(X_train, y_train)\n"
      ],
      "execution_count": null,
      "outputs": [
        {
          "output_type": "execute_result",
          "data": {
            "text/plain": [
              "RandomSurvivalForest(bootstrap=True, max_depth=None, max_features='auto',\n",
              "                     max_leaf_nodes=None, max_samples=None, min_samples_leaf=3,\n",
              "                     min_samples_split=6, min_weight_fraction_leaf=0.0,\n",
              "                     n_estimators=100, n_jobs=None, oob_score=False,\n",
              "                     random_state=None, verbose=0, warm_start=False)"
            ]
          },
          "metadata": {
            "tags": []
          },
          "execution_count": 25
        }
      ]
    },
    {
      "cell_type": "code",
      "metadata": {
        "colab": {
          "base_uri": "https://localhost:8080/"
        },
        "id": "dIJLzXL8W2rc",
        "outputId": "09212de4-50cd-4c00-b7ad-e23f67d2db3d"
      },
      "source": [
        "rsf.score(X_test, y_test)"
      ],
      "execution_count": null,
      "outputs": [
        {
          "output_type": "execute_result",
          "data": {
            "text/plain": [
              "0.8771929824561403"
            ]
          },
          "metadata": {
            "tags": []
          },
          "execution_count": 26
        }
      ]
    },
    {
      "cell_type": "code",
      "metadata": {
        "id": "TvPpCz4mYD88"
      },
      "source": [
        "from eli5.sklearn import PermutationImportance\n",
        "import eli5\n"
      ],
      "execution_count": null,
      "outputs": []
    },
    {
      "cell_type": "code",
      "metadata": {
        "id": "EcXxUb61nYKN"
      },
      "source": [
        "permuter = PermutationImportance(\n",
        "    estimator = rsf,\n",
        "    n_iter = 500,\n",
        "    random_state = 42\n",
        ")"
      ],
      "execution_count": null,
      "outputs": []
    },
    {
      "cell_type": "code",
      "metadata": {
        "colab": {
          "base_uri": "https://localhost:8080/"
        },
        "id": "Z_b1eCrwtJRu",
        "outputId": "a014e44d-4b8a-460d-e4a6-c98ad96d8709"
      },
      "source": [
        "permuter.fit(X_test, y_test)"
      ],
      "execution_count": null,
      "outputs": [
        {
          "output_type": "execute_result",
          "data": {
            "text/plain": [
              "PermutationImportance(cv='prefit',\n",
              "                      estimator=RandomSurvivalForest(bootstrap=True,\n",
              "                                                     max_depth=None,\n",
              "                                                     max_features='auto',\n",
              "                                                     max_leaf_nodes=None,\n",
              "                                                     max_samples=None,\n",
              "                                                     min_samples_leaf=3,\n",
              "                                                     min_samples_split=6,\n",
              "                                                     min_weight_fraction_leaf=0.0,\n",
              "                                                     n_estimators=100,\n",
              "                                                     n_jobs=None,\n",
              "                                                     oob_score=False,\n",
              "                                                     random_state=None,\n",
              "                                                     verbose=0,\n",
              "                                                     warm_start=False),\n",
              "                      n_iter=100, random_state=42, refit=True, scoring=None)"
            ]
          },
          "metadata": {
            "tags": []
          },
          "execution_count": 56
        }
      ]
    },
    {
      "cell_type": "code",
      "metadata": {
        "id": "bVKH_jsYYAu5"
      },
      "source": [
        "columns = X_test.columns.to_list()"
      ],
      "execution_count": null,
      "outputs": []
    },
    {
      "cell_type": "code",
      "metadata": {
        "id": "kan1ckwaswD6"
      },
      "source": [
        "feature_importance = permuter.feature_importances_"
      ],
      "execution_count": null,
      "outputs": []
    },
    {
      "cell_type": "code",
      "metadata": {
        "colab": {
          "base_uri": "https://localhost:8080/"
        },
        "id": "PtZiy20zuzEw",
        "outputId": "8bdd8b2b-8ade-445c-957d-416ce5f738d6"
      },
      "source": [
        "feature_importance"
      ],
      "execution_count": null,
      "outputs": [
        {
          "output_type": "execute_result",
          "data": {
            "text/plain": [
              "array([-0.04701754,  0.04421053,  0.27184211,  0.0022807 ,  0.03649123,\n",
              "        0.01912281])"
            ]
          },
          "metadata": {
            "tags": []
          },
          "execution_count": 63
        }
      ]
    },
    {
      "cell_type": "code",
      "metadata": {
        "colab": {
          "base_uri": "https://localhost:8080/"
        },
        "id": "PoEorHgitE1f",
        "outputId": "c442fa9e-465a-469c-8e92-e17fdb3ad77f"
      },
      "source": [
        "pd.Series(feature_importance, columns).sort_values(ascending = False)"
      ],
      "execution_count": null,
      "outputs": [
        {
          "output_type": "execute_result",
          "data": {
            "text/plain": [
              "pfs                 0.271842\n",
              "age                 0.044211\n",
              "mgmt_methylation    0.036491\n",
              "chsp70_0h1l         0.019123\n",
              "didprogress         0.002281\n",
              "sex                -0.047018\n",
              "dtype: float64"
            ]
          },
          "metadata": {
            "tags": []
          },
          "execution_count": 59
        }
      ]
    },
    {
      "cell_type": "code",
      "metadata": {
        "id": "U5-oyXMqtfVL"
      },
      "source": [
        "metric = eli5.show_weights(\n",
        "    estimator = permuter,\n",
        "    top = None, \n",
        "    feature_names = columns\n",
        ")"
      ],
      "execution_count": null,
      "outputs": []
    },
    {
      "cell_type": "code",
      "metadata": {
        "colab": {
          "base_uri": "https://localhost:8080/",
          "height": 136
        },
        "id": "d8AKz3REtxE4",
        "outputId": "eb99fc71-8355-48d2-ab99-1e0cf1fe06a9"
      },
      "source": [
        "metric"
      ],
      "execution_count": null,
      "outputs": [
        {
          "output_type": "execute_result",
          "data": {
            "text/html": [
              "\n",
              "    <style>\n",
              "    table.eli5-weights tr:hover {\n",
              "        filter: brightness(85%);\n",
              "    }\n",
              "</style>\n",
              "\n",
              "\n",
              "\n",
              "    \n",
              "\n",
              "    \n",
              "\n",
              "    \n",
              "\n",
              "    \n",
              "\n",
              "    \n",
              "\n",
              "    \n",
              "\n",
              "\n",
              "    \n",
              "\n",
              "    \n",
              "\n",
              "    \n",
              "\n",
              "    \n",
              "\n",
              "    \n",
              "\n",
              "    \n",
              "\n",
              "\n",
              "    \n",
              "\n",
              "    \n",
              "\n",
              "    \n",
              "\n",
              "    \n",
              "\n",
              "    \n",
              "        <table class=\"eli5-weights eli5-feature-importances\" style=\"border-collapse: collapse; border: none; margin-top: 0em; table-layout: auto;\">\n",
              "    <thead>\n",
              "    <tr style=\"border: none;\">\n",
              "        <th style=\"padding: 0 1em 0 0.5em; text-align: right; border: none;\">Weight</th>\n",
              "        <th style=\"padding: 0 0.5em 0 0.5em; text-align: left; border: none;\">Feature</th>\n",
              "    </tr>\n",
              "    </thead>\n",
              "    <tbody>\n",
              "    \n",
              "        <tr style=\"background-color: hsl(120, 100.00%, 80.00%); border: none;\">\n",
              "            <td style=\"padding: 0 1em 0 0.5em; text-align: right; border: none;\">\n",
              "                0.2718\n",
              "                \n",
              "                    &plusmn; 0.2369\n",
              "                \n",
              "            </td>\n",
              "            <td style=\"padding: 0 0.5em 0 0.5em; text-align: left; border: none;\">\n",
              "                pfs\n",
              "            </td>\n",
              "        </tr>\n",
              "    \n",
              "        <tr style=\"background-color: hsl(120, 100.00%, 94.39%); border: none;\">\n",
              "            <td style=\"padding: 0 1em 0 0.5em; text-align: right; border: none;\">\n",
              "                0.0442\n",
              "                \n",
              "                    &plusmn; 0.0926\n",
              "                \n",
              "            </td>\n",
              "            <td style=\"padding: 0 0.5em 0 0.5em; text-align: left; border: none;\">\n",
              "                age\n",
              "            </td>\n",
              "        </tr>\n",
              "    \n",
              "        <tr style=\"background-color: hsl(120, 100.00%, 95.10%); border: none;\">\n",
              "            <td style=\"padding: 0 1em 0 0.5em; text-align: right; border: none;\">\n",
              "                0.0365\n",
              "                \n",
              "                    &plusmn; 0.0793\n",
              "                \n",
              "            </td>\n",
              "            <td style=\"padding: 0 0.5em 0 0.5em; text-align: left; border: none;\">\n",
              "                mgmt_methylation\n",
              "            </td>\n",
              "        </tr>\n",
              "    \n",
              "        <tr style=\"background-color: hsl(120, 100.00%, 96.88%); border: none;\">\n",
              "            <td style=\"padding: 0 1em 0 0.5em; text-align: right; border: none;\">\n",
              "                0.0191\n",
              "                \n",
              "                    &plusmn; 0.0351\n",
              "                \n",
              "            </td>\n",
              "            <td style=\"padding: 0 0.5em 0 0.5em; text-align: left; border: none;\">\n",
              "                chsp70_0h1l\n",
              "            </td>\n",
              "        </tr>\n",
              "    \n",
              "        <tr style=\"background-color: hsl(120, 100.00%, 99.30%); border: none;\">\n",
              "            <td style=\"padding: 0 1em 0 0.5em; text-align: right; border: none;\">\n",
              "                0.0023\n",
              "                \n",
              "                    &plusmn; 0.0284\n",
              "                \n",
              "            </td>\n",
              "            <td style=\"padding: 0 0.5em 0 0.5em; text-align: left; border: none;\">\n",
              "                didprogress\n",
              "            </td>\n",
              "        </tr>\n",
              "    \n",
              "        <tr style=\"background-color: hsl(0, 100.00%, 94.14%); border: none;\">\n",
              "            <td style=\"padding: 0 1em 0 0.5em; text-align: right; border: none;\">\n",
              "                -0.0470\n",
              "                \n",
              "                    &plusmn; 0.0368\n",
              "                \n",
              "            </td>\n",
              "            <td style=\"padding: 0 0.5em 0 0.5em; text-align: left; border: none;\">\n",
              "                sex\n",
              "            </td>\n",
              "        </tr>\n",
              "    \n",
              "    \n",
              "    </tbody>\n",
              "</table>\n",
              "    \n",
              "\n",
              "    \n",
              "\n",
              "\n",
              "    \n",
              "\n",
              "    \n",
              "\n",
              "    \n",
              "\n",
              "    \n",
              "\n",
              "    \n",
              "\n",
              "    \n",
              "\n",
              "\n",
              "\n"
            ],
            "text/plain": [
              "<IPython.core.display.HTML object>"
            ]
          },
          "metadata": {
            "tags": []
          },
          "execution_count": 61
        }
      ]
    },
    {
      "cell_type": "code",
      "metadata": {
        "id": "Qplb_9RgAShS"
      },
      "source": [
        "from sksurv.metrics import (concordance_index_censored,\n",
        "                            concordance_index_ipcw,\n",
        "                            cumulative_dynamic_auc)"
      ],
      "execution_count": null,
      "outputs": []
    },
    {
      "cell_type": "markdown",
      "metadata": {
        "id": "-X76QkR5urOg"
      },
      "source": [
        "Let's build a function"
      ]
    },
    {
      "cell_type": "code",
      "metadata": {
        "id": "KQCYq85Nusjl"
      },
      "source": [
        "def permutation(X, y, model):\n",
        "\n",
        "  #Let's do a splitting\n",
        "  X_train, X_test, y_train, y_test = train_test_split(\n",
        "    X, Y, test_size=0.25)\n",
        "  #Let's train the model on the \n",
        "  model.fit(X_train, y_train)\n",
        "  #Let's define the permutation.\n",
        "  permuter = PermutationImportance(\n",
        "    estimator = rsf,\n",
        "    n_iter = 20,\n",
        "    random_state = 42)\n",
        "  \n",
        "  permuter.fit(X_test, y_test)\n",
        "  \n",
        "  columns = X_test.columns.to_list()\n",
        "  feature_importance = permuter.feature_importances_\n",
        "\n",
        "  metric = eli5.show_weights(\n",
        "    estimator = permuter,\n",
        "    top = None, \n",
        "    feature_names = columns\n",
        "  )\n",
        "  return metric"
      ],
      "execution_count": null,
      "outputs": []
    },
    {
      "cell_type": "code",
      "metadata": {
        "colab": {
          "base_uri": "https://localhost:8080/",
          "height": 138
        },
        "id": "DU1dLIyv1slW",
        "outputId": "21063868-f514-4be6-a941-4c1fb87130d4"
      },
      "source": [
        "permutation(X, Y, rsf)"
      ],
      "execution_count": null,
      "outputs": [
        {
          "output_type": "execute_result",
          "data": {
            "text/html": [
              "\n",
              "    <style>\n",
              "    table.eli5-weights tr:hover {\n",
              "        filter: brightness(85%);\n",
              "    }\n",
              "</style>\n",
              "\n",
              "\n",
              "\n",
              "    \n",
              "\n",
              "    \n",
              "\n",
              "    \n",
              "\n",
              "    \n",
              "\n",
              "    \n",
              "\n",
              "    \n",
              "\n",
              "\n",
              "    \n",
              "\n",
              "    \n",
              "\n",
              "    \n",
              "\n",
              "    \n",
              "\n",
              "    \n",
              "\n",
              "    \n",
              "\n",
              "\n",
              "    \n",
              "\n",
              "    \n",
              "\n",
              "    \n",
              "\n",
              "    \n",
              "\n",
              "    \n",
              "        <table class=\"eli5-weights eli5-feature-importances\" style=\"border-collapse: collapse; border: none; margin-top: 0em; table-layout: auto;\">\n",
              "    <thead>\n",
              "    <tr style=\"border: none;\">\n",
              "        <th style=\"padding: 0 1em 0 0.5em; text-align: right; border: none;\">Weight</th>\n",
              "        <th style=\"padding: 0 0.5em 0 0.5em; text-align: left; border: none;\">Feature</th>\n",
              "    </tr>\n",
              "    </thead>\n",
              "    <tbody>\n",
              "    \n",
              "        <tr style=\"background-color: hsl(120, 100.00%, 80.00%); border: none;\">\n",
              "            <td style=\"padding: 0 1em 0 0.5em; text-align: right; border: none;\">\n",
              "                0.1849\n",
              "                \n",
              "                    &plusmn; 0.2046\n",
              "                \n",
              "            </td>\n",
              "            <td style=\"padding: 0 0.5em 0 0.5em; text-align: left; border: none;\">\n",
              "                pfs\n",
              "            </td>\n",
              "        </tr>\n",
              "    \n",
              "        <tr style=\"background-color: hsl(120, 100.00%, 96.14%); border: none;\">\n",
              "            <td style=\"padding: 0 1em 0 0.5em; text-align: right; border: none;\">\n",
              "                0.0176\n",
              "                \n",
              "                    &plusmn; 0.0864\n",
              "                \n",
              "            </td>\n",
              "            <td style=\"padding: 0 0.5em 0 0.5em; text-align: left; border: none;\">\n",
              "                age\n",
              "            </td>\n",
              "        </tr>\n",
              "    \n",
              "        <tr style=\"background-color: hsl(120, 100.00%, 99.33%); border: none;\">\n",
              "            <td style=\"padding: 0 1em 0 0.5em; text-align: right; border: none;\">\n",
              "                0.0015\n",
              "                \n",
              "                    &plusmn; 0.0258\n",
              "                \n",
              "            </td>\n",
              "            <td style=\"padding: 0 0.5em 0 0.5em; text-align: left; border: none;\">\n",
              "                didprogress\n",
              "            </td>\n",
              "        </tr>\n",
              "    \n",
              "        <tr style=\"background-color: hsl(0, 100.00%, 99.28%); border: none;\">\n",
              "            <td style=\"padding: 0 1em 0 0.5em; text-align: right; border: none;\">\n",
              "                -0.0016\n",
              "                \n",
              "                    &plusmn; 0.0341\n",
              "                \n",
              "            </td>\n",
              "            <td style=\"padding: 0 0.5em 0 0.5em; text-align: left; border: none;\">\n",
              "                sex\n",
              "            </td>\n",
              "        </tr>\n",
              "    \n",
              "        <tr style=\"background-color: hsl(0, 100.00%, 92.24%); border: none;\">\n",
              "            <td style=\"padding: 0 1em 0 0.5em; text-align: right; border: none;\">\n",
              "                -0.0478\n",
              "                \n",
              "                    &plusmn; 0.0488\n",
              "                \n",
              "            </td>\n",
              "            <td style=\"padding: 0 0.5em 0 0.5em; text-align: left; border: none;\">\n",
              "                chsp70_0h1l\n",
              "            </td>\n",
              "        </tr>\n",
              "    \n",
              "        <tr style=\"background-color: hsl(0, 100.00%, 90.32%); border: none;\">\n",
              "            <td style=\"padding: 0 1em 0 0.5em; text-align: right; border: none;\">\n",
              "                -0.0655\n",
              "                \n",
              "                    &plusmn; 0.1130\n",
              "                \n",
              "            </td>\n",
              "            <td style=\"padding: 0 0.5em 0 0.5em; text-align: left; border: none;\">\n",
              "                mgmt_methylation\n",
              "            </td>\n",
              "        </tr>\n",
              "    \n",
              "    \n",
              "    </tbody>\n",
              "</table>\n",
              "    \n",
              "\n",
              "    \n",
              "\n",
              "\n",
              "    \n",
              "\n",
              "    \n",
              "\n",
              "    \n",
              "\n",
              "    \n",
              "\n",
              "    \n",
              "\n",
              "    \n",
              "\n",
              "\n",
              "\n"
            ],
            "text/plain": [
              "<IPython.core.display.HTML object>"
            ]
          },
          "metadata": {
            "tags": []
          },
          "execution_count": 67
        }
      ]
    },
    {
      "cell_type": "code",
      "metadata": {
        "id": "A8XvDmYX1xcW"
      },
      "source": [
        "def permutation(X, y, model, loops):\n",
        "  rankings = np.zeros(len(X.columns),)\n",
        "  c_score_total = []\n",
        "\n",
        "  for x in range(loops):\n",
        "    \n",
        "  #Let's do a splitting\n",
        "    X_train, X_test, y_train, y_test = train_test_split(\n",
        "    X, Y, test_size=0.25)\n",
        "  #Let's train the model on the \n",
        "    model.fit(X_train, y_train)\n",
        "  #Let's define the permutation.\n",
        "    permuter = PermutationImportance(\n",
        "    estimator = model,\n",
        "    n_iter = 10)\n",
        "  #Let's fit the permutator on the Y test, (This permutation only shuffle the Y test.)\n",
        "    permuter.fit(X_test, y_test)\n",
        "  \n",
        "    columns = X_test.columns.to_list()\n",
        "  #The feature importance will give us and n array of how much \n",
        "    feature_importance = permuter.feature_importances_\n",
        "    rankings = np.add(feature_importance, rankings)\n",
        "  #Let's compute the scores\n",
        "    c_score = model.score(X_test, y_test)\n",
        "    c_score_total.append(c_score)\n",
        "\n",
        "  \n",
        "    \n",
        "  #Dividing to get the average \n",
        "  ranking_terminal = np.true_divide(rankings, loops) \n",
        "  c_rank = pd.Series(ranking_terminal, columns).sort_values(ascending = False)\n",
        "  c_mean = np.mean(np.array(c_score_total))\n",
        "  return c_rank, c_mean"
      ],
      "execution_count": null,
      "outputs": []
    },
    {
      "cell_type": "code",
      "metadata": {
        "id": "dNm35_496nby"
      },
      "source": [
        "rank, score = permutation(X, Y, rsf, 100)"
      ],
      "execution_count": null,
      "outputs": []
    },
    {
      "cell_type": "code",
      "metadata": {
        "colab": {
          "base_uri": "https://localhost:8080/"
        },
        "id": "90x3DDam6r3j",
        "outputId": "d8d2e0f1-1533-426e-c0fa-2adbaf42f34e"
      },
      "source": [
        "rank"
      ],
      "execution_count": null,
      "outputs": [
        {
          "output_type": "execute_result",
          "data": {
            "text/plain": [
              "pfs                 0.227283\n",
              "mgmt_methylation    0.013246\n",
              "age                 0.011976\n",
              "chsp70_0h1l         0.008141\n",
              "didprogress         0.002269\n",
              "sex                -0.004871\n",
              "dtype: float64"
            ]
          },
          "metadata": {
            "tags": []
          },
          "execution_count": 86
        }
      ]
    },
    {
      "cell_type": "code",
      "metadata": {
        "colab": {
          "base_uri": "https://localhost:8080/"
        },
        "id": "NVxk1bIr9o17",
        "outputId": "32800983-93c4-4a7d-c66b-943f456acfda"
      },
      "source": [
        "score"
      ],
      "execution_count": null,
      "outputs": [
        {
          "output_type": "execute_result",
          "data": {
            "text/plain": [
              "0.7735861444368973"
            ]
          },
          "metadata": {
            "tags": []
          },
          "execution_count": 87
        }
      ]
    },
    {
      "cell_type": "code",
      "metadata": {
        "id": "MV7_04BGCQ3q"
      },
      "source": [
        ""
      ],
      "execution_count": null,
      "outputs": []
    }
  ]
}