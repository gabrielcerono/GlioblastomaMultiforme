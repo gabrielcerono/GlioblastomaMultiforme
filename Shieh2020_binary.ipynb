{
  "nbformat": 4,
  "nbformat_minor": 0,
  "metadata": {
    "colab": {
      "name": "Shieh2020 binary.ipynb",
      "provenance": [],
      "authorship_tag": "ABX9TyO12XciKY1D/FLvzEkxtF4+",
      "include_colab_link": true
    },
    "kernelspec": {
      "name": "python3",
      "display_name": "Python 3"
    },
    "language_info": {
      "name": "python"
    }
  },
  "cells": [
    {
      "cell_type": "markdown",
      "metadata": {
        "id": "view-in-github",
        "colab_type": "text"
      },
      "source": [
        "<a href=\"https://colab.research.google.com/github/gabrielcerono/GlioblastomaMultiforme/blob/main/Shieh2020_binary.ipynb\" target=\"_parent\"><img src=\"https://colab.research.google.com/assets/colab-badge.svg\" alt=\"Open In Colab\"/></a>"
      ]
    },
    {
      "cell_type": "code",
      "metadata": {
        "id": "uscn7BKN4KAI"
      },
      "source": [
        "import pandas as pd\n",
        "import matplotlib.pyplot as plt\n",
        "import numpy as np\n",
        "import sklearn as sk\n",
        "import warnings\n",
        "warnings.filterwarnings(\"ignore\", category=RuntimeWarning) \n",
        "from imblearn.ensemble import BalancedBaggingClassifier\n",
        "from sklearn.metrics import f1_score\n",
        "from sklearn.metrics import accuracy_score\n",
        "from sklearn.metrics import confusion_matrix\n",
        "from sklearn.metrics import roc_auc_score\n",
        "from sklearn import metrics\n",
        "from sklearn.metrics import precision_recall_curve\n",
        "from sklearn.metrics import matthews_corrcoef\n",
        "import RFE_Glioblastomav2 as rfev2"
      ],
      "execution_count": 3,
      "outputs": []
    },
    {
      "cell_type": "code",
      "metadata": {
        "id": "hr172tSG4MG7"
      },
      "source": [
        "dataset = pd.read_excel('/content/shieh.xlsx')"
      ],
      "execution_count": 4,
      "outputs": []
    },
    {
      "cell_type": "code",
      "metadata": {
        "colab": {
          "base_uri": "https://localhost:8080/",
          "height": 205
        },
        "id": "MrYUL36v4kyH",
        "outputId": "485a40e8-e189-4ec6-8249-0cca0f17eca2"
      },
      "source": [
        "dataset.head(5)"
      ],
      "execution_count": 5,
      "outputs": [
        {
          "output_type": "execute_result",
          "data": {
            "text/html": [
              "<div>\n",
              "<style scoped>\n",
              "    .dataframe tbody tr th:only-of-type {\n",
              "        vertical-align: middle;\n",
              "    }\n",
              "\n",
              "    .dataframe tbody tr th {\n",
              "        vertical-align: top;\n",
              "    }\n",
              "\n",
              "    .dataframe thead th {\n",
              "        text-align: right;\n",
              "    }\n",
              "</style>\n",
              "<table border=\"1\" class=\"dataframe\">\n",
              "  <thead>\n",
              "    <tr style=\"text-align: right;\">\n",
              "      <th></th>\n",
              "      <th>gender</th>\n",
              "      <th>age</th>\n",
              "      <th>statusPFS</th>\n",
              "      <th>statusOS</th>\n",
              "      <th>surgery</th>\n",
              "      <th>dose</th>\n",
              "      <th>TMZ</th>\n",
              "      <th>Chemogroup</th>\n",
              "      <th>Chemo</th>\n",
              "      <th>diagnostic year</th>\n",
              "      <th>OS</th>\n",
              "      <th>PFS</th>\n",
              "      <th>volume</th>\n",
              "      <th>gender.1</th>\n",
              "      <th>age.1</th>\n",
              "    </tr>\n",
              "  </thead>\n",
              "  <tbody>\n",
              "    <tr>\n",
              "      <th>0</th>\n",
              "      <td>1</td>\n",
              "      <td>63</td>\n",
              "      <td>1</td>\n",
              "      <td>1</td>\n",
              "      <td>1</td>\n",
              "      <td>6000</td>\n",
              "      <td>1.0</td>\n",
              "      <td>1</td>\n",
              "      <td>1</td>\n",
              "      <td>2</td>\n",
              "      <td>1.36</td>\n",
              "      <td>1.260274</td>\n",
              "      <td>731.0</td>\n",
              "      <td>1</td>\n",
              "      <td>63</td>\n",
              "    </tr>\n",
              "    <tr>\n",
              "      <th>1</th>\n",
              "      <td>1</td>\n",
              "      <td>64</td>\n",
              "      <td>1</td>\n",
              "      <td>1</td>\n",
              "      <td>0</td>\n",
              "      <td>6600</td>\n",
              "      <td>0.0</td>\n",
              "      <td>2</td>\n",
              "      <td>1</td>\n",
              "      <td>1</td>\n",
              "      <td>8.84</td>\n",
              "      <td>5.115068</td>\n",
              "      <td>NaN</td>\n",
              "      <td>1</td>\n",
              "      <td>64</td>\n",
              "    </tr>\n",
              "    <tr>\n",
              "      <th>2</th>\n",
              "      <td>1</td>\n",
              "      <td>62</td>\n",
              "      <td>1</td>\n",
              "      <td>1</td>\n",
              "      <td>1</td>\n",
              "      <td>6000</td>\n",
              "      <td>1.0</td>\n",
              "      <td>1</td>\n",
              "      <td>1</td>\n",
              "      <td>2</td>\n",
              "      <td>1.46</td>\n",
              "      <td>0.641096</td>\n",
              "      <td>215.0</td>\n",
              "      <td>1</td>\n",
              "      <td>62</td>\n",
              "    </tr>\n",
              "    <tr>\n",
              "      <th>3</th>\n",
              "      <td>1</td>\n",
              "      <td>71</td>\n",
              "      <td>1</td>\n",
              "      <td>1</td>\n",
              "      <td>1</td>\n",
              "      <td>6000</td>\n",
              "      <td>NaN</td>\n",
              "      <td>3</td>\n",
              "      <td>1</td>\n",
              "      <td>1</td>\n",
              "      <td>2.42</td>\n",
              "      <td>0.652055</td>\n",
              "      <td>255.0</td>\n",
              "      <td>1</td>\n",
              "      <td>71</td>\n",
              "    </tr>\n",
              "    <tr>\n",
              "      <th>4</th>\n",
              "      <td>1</td>\n",
              "      <td>21</td>\n",
              "      <td>1</td>\n",
              "      <td>1</td>\n",
              "      <td>0</td>\n",
              "      <td>5940</td>\n",
              "      <td>0.0</td>\n",
              "      <td>2</td>\n",
              "      <td>1</td>\n",
              "      <td>2</td>\n",
              "      <td>1.26</td>\n",
              "      <td>1.079452</td>\n",
              "      <td>154.0</td>\n",
              "      <td>1</td>\n",
              "      <td>21</td>\n",
              "    </tr>\n",
              "  </tbody>\n",
              "</table>\n",
              "</div>"
            ],
            "text/plain": [
              "   gender  age  statusPFS  statusOS  ...       PFS  volume  gender.1  age.1\n",
              "0       1   63          1         1  ...  1.260274   731.0         1     63\n",
              "1       1   64          1         1  ...  5.115068     NaN         1     64\n",
              "2       1   62          1         1  ...  0.641096   215.0         1     62\n",
              "3       1   71          1         1  ...  0.652055   255.0         1     71\n",
              "4       1   21          1         1  ...  1.079452   154.0         1     21\n",
              "\n",
              "[5 rows x 15 columns]"
            ]
          },
          "metadata": {
            "tags": []
          },
          "execution_count": 5
        }
      ]
    },
    {
      "cell_type": "markdown",
      "metadata": {
        "id": "snybxYk_5UHa"
      },
      "source": [
        "There are missing values"
      ]
    },
    {
      "cell_type": "code",
      "metadata": {
        "id": "O4-GbVAt5WTV"
      },
      "source": [
        "from sklearn.experimental import enable_iterative_imputer\n",
        "from sklearn.impute import IterativeImputer"
      ],
      "execution_count": 6,
      "outputs": []
    },
    {
      "cell_type": "code",
      "metadata": {
        "id": "37_VOxsc5bSO"
      },
      "source": [
        "imp_mean = IterativeImputer(random_state=0)\n",
        "data = imp_mean.fit_transform(dataset)"
      ],
      "execution_count": 7,
      "outputs": []
    },
    {
      "cell_type": "code",
      "metadata": {
        "id": "b-ihHSdP5eqg"
      },
      "source": [
        "data = pd.DataFrame(data=data, columns= dataset.columns,)"
      ],
      "execution_count": 8,
      "outputs": []
    },
    {
      "cell_type": "code",
      "metadata": {
        "id": "jH6d9fjU5gQ2"
      },
      "source": [
        "data.head()"
      ],
      "execution_count": null,
      "outputs": []
    },
    {
      "cell_type": "code",
      "metadata": {
        "colab": {
          "base_uri": "https://localhost:8080/",
          "height": 553
        },
        "id": "Zz0D16IR5ls4",
        "outputId": "7f968aa0-9878-43ed-947b-e9158ee1c349"
      },
      "source": [
        "data.corr(method = 'pearson')"
      ],
      "execution_count": 10,
      "outputs": [
        {
          "output_type": "execute_result",
          "data": {
            "text/html": [
              "<div>\n",
              "<style scoped>\n",
              "    .dataframe tbody tr th:only-of-type {\n",
              "        vertical-align: middle;\n",
              "    }\n",
              "\n",
              "    .dataframe tbody tr th {\n",
              "        vertical-align: top;\n",
              "    }\n",
              "\n",
              "    .dataframe thead th {\n",
              "        text-align: right;\n",
              "    }\n",
              "</style>\n",
              "<table border=\"1\" class=\"dataframe\">\n",
              "  <thead>\n",
              "    <tr style=\"text-align: right;\">\n",
              "      <th></th>\n",
              "      <th>gender</th>\n",
              "      <th>age</th>\n",
              "      <th>statusPFS</th>\n",
              "      <th>statusOS</th>\n",
              "      <th>surgery</th>\n",
              "      <th>dose</th>\n",
              "      <th>TMZ</th>\n",
              "      <th>Chemogroup</th>\n",
              "      <th>Chemo</th>\n",
              "      <th>diagnostic year</th>\n",
              "      <th>OS</th>\n",
              "      <th>PFS</th>\n",
              "      <th>volume</th>\n",
              "      <th>gender.1</th>\n",
              "      <th>age.1</th>\n",
              "    </tr>\n",
              "  </thead>\n",
              "  <tbody>\n",
              "    <tr>\n",
              "      <th>gender</th>\n",
              "      <td>1.000000</td>\n",
              "      <td>-0.163487</td>\n",
              "      <td>-0.139923</td>\n",
              "      <td>-0.113228</td>\n",
              "      <td>0.169842</td>\n",
              "      <td>0.117790</td>\n",
              "      <td>0.159428</td>\n",
              "      <td>-0.153072</td>\n",
              "      <td>-0.030024</td>\n",
              "      <td>-0.037493</td>\n",
              "      <td>0.043419</td>\n",
              "      <td>0.080638</td>\n",
              "      <td>-0.073217</td>\n",
              "      <td>1.000000</td>\n",
              "      <td>-0.163487</td>\n",
              "    </tr>\n",
              "    <tr>\n",
              "      <th>age</th>\n",
              "      <td>-0.163487</td>\n",
              "      <td>1.000000</td>\n",
              "      <td>0.202956</td>\n",
              "      <td>0.075994</td>\n",
              "      <td>-0.005687</td>\n",
              "      <td>-0.199397</td>\n",
              "      <td>0.046168</td>\n",
              "      <td>0.037592</td>\n",
              "      <td>0.110030</td>\n",
              "      <td>0.089632</td>\n",
              "      <td>-0.188313</td>\n",
              "      <td>-0.254452</td>\n",
              "      <td>0.153293</td>\n",
              "      <td>-0.163487</td>\n",
              "      <td>1.000000</td>\n",
              "    </tr>\n",
              "    <tr>\n",
              "      <th>statusPFS</th>\n",
              "      <td>-0.139923</td>\n",
              "      <td>0.202956</td>\n",
              "      <td>1.000000</td>\n",
              "      <td>0.570352</td>\n",
              "      <td>-0.063372</td>\n",
              "      <td>0.014962</td>\n",
              "      <td>-0.091558</td>\n",
              "      <td>0.045091</td>\n",
              "      <td>-0.044811</td>\n",
              "      <td>-0.075545</td>\n",
              "      <td>-0.022415</td>\n",
              "      <td>-0.143078</td>\n",
              "      <td>0.011984</td>\n",
              "      <td>-0.139923</td>\n",
              "      <td>0.202956</td>\n",
              "    </tr>\n",
              "    <tr>\n",
              "      <th>statusOS</th>\n",
              "      <td>-0.113228</td>\n",
              "      <td>0.075994</td>\n",
              "      <td>0.570352</td>\n",
              "      <td>1.000000</td>\n",
              "      <td>-0.111111</td>\n",
              "      <td>0.026233</td>\n",
              "      <td>-0.160530</td>\n",
              "      <td>0.079058</td>\n",
              "      <td>-0.078567</td>\n",
              "      <td>-0.132453</td>\n",
              "      <td>-0.028040</td>\n",
              "      <td>-0.045293</td>\n",
              "      <td>-0.083594</td>\n",
              "      <td>-0.113228</td>\n",
              "      <td>0.075994</td>\n",
              "    </tr>\n",
              "    <tr>\n",
              "      <th>surgery</th>\n",
              "      <td>0.169842</td>\n",
              "      <td>-0.005687</td>\n",
              "      <td>-0.063372</td>\n",
              "      <td>-0.111111</td>\n",
              "      <td>1.000000</td>\n",
              "      <td>-0.033926</td>\n",
              "      <td>0.171413</td>\n",
              "      <td>0.020329</td>\n",
              "      <td>0.235702</td>\n",
              "      <td>0.132453</td>\n",
              "      <td>-0.118900</td>\n",
              "      <td>-0.001697</td>\n",
              "      <td>0.088748</td>\n",
              "      <td>0.169842</td>\n",
              "      <td>-0.005687</td>\n",
              "    </tr>\n",
              "    <tr>\n",
              "      <th>dose</th>\n",
              "      <td>0.117790</td>\n",
              "      <td>-0.199397</td>\n",
              "      <td>0.014962</td>\n",
              "      <td>0.026233</td>\n",
              "      <td>-0.033926</td>\n",
              "      <td>1.000000</td>\n",
              "      <td>-0.132206</td>\n",
              "      <td>0.315258</td>\n",
              "      <td>0.297829</td>\n",
              "      <td>-0.334150</td>\n",
              "      <td>0.468474</td>\n",
              "      <td>0.378734</td>\n",
              "      <td>-0.162929</td>\n",
              "      <td>0.117790</td>\n",
              "      <td>-0.199397</td>\n",
              "    </tr>\n",
              "    <tr>\n",
              "      <th>TMZ</th>\n",
              "      <td>0.159428</td>\n",
              "      <td>0.046168</td>\n",
              "      <td>-0.091558</td>\n",
              "      <td>-0.160530</td>\n",
              "      <td>0.171413</td>\n",
              "      <td>-0.132206</td>\n",
              "      <td>1.000000</td>\n",
              "      <td>-0.730626</td>\n",
              "      <td>0.144294</td>\n",
              "      <td>0.515709</td>\n",
              "      <td>0.092544</td>\n",
              "      <td>0.077335</td>\n",
              "      <td>-0.057429</td>\n",
              "      <td>0.159428</td>\n",
              "      <td>0.046168</td>\n",
              "    </tr>\n",
              "    <tr>\n",
              "      <th>Chemogroup</th>\n",
              "      <td>-0.153072</td>\n",
              "      <td>0.037592</td>\n",
              "      <td>0.045091</td>\n",
              "      <td>0.079058</td>\n",
              "      <td>0.020329</td>\n",
              "      <td>0.315258</td>\n",
              "      <td>-0.730626</td>\n",
              "      <td>1.000000</td>\n",
              "      <td>0.570208</td>\n",
              "      <td>-0.370692</td>\n",
              "      <td>0.002759</td>\n",
              "      <td>-0.051486</td>\n",
              "      <td>0.013387</td>\n",
              "      <td>-0.153072</td>\n",
              "      <td>0.037592</td>\n",
              "    </tr>\n",
              "    <tr>\n",
              "      <th>Chemo</th>\n",
              "      <td>-0.030024</td>\n",
              "      <td>0.110030</td>\n",
              "      <td>-0.044811</td>\n",
              "      <td>-0.078567</td>\n",
              "      <td>0.235702</td>\n",
              "      <td>0.297829</td>\n",
              "      <td>0.144294</td>\n",
              "      <td>0.570208</td>\n",
              "      <td>1.000000</td>\n",
              "      <td>0.083252</td>\n",
              "      <td>0.115345</td>\n",
              "      <td>0.018430</td>\n",
              "      <td>-0.049697</td>\n",
              "      <td>-0.030024</td>\n",
              "      <td>0.110030</td>\n",
              "    </tr>\n",
              "    <tr>\n",
              "      <th>diagnostic year</th>\n",
              "      <td>-0.037493</td>\n",
              "      <td>0.089632</td>\n",
              "      <td>-0.075545</td>\n",
              "      <td>-0.132453</td>\n",
              "      <td>0.132453</td>\n",
              "      <td>-0.334150</td>\n",
              "      <td>0.515709</td>\n",
              "      <td>-0.370692</td>\n",
              "      <td>0.083252</td>\n",
              "      <td>1.000000</td>\n",
              "      <td>-0.345445</td>\n",
              "      <td>-0.203701</td>\n",
              "      <td>-0.077207</td>\n",
              "      <td>-0.037493</td>\n",
              "      <td>0.089632</td>\n",
              "    </tr>\n",
              "    <tr>\n",
              "      <th>OS</th>\n",
              "      <td>0.043419</td>\n",
              "      <td>-0.188313</td>\n",
              "      <td>-0.022415</td>\n",
              "      <td>-0.028040</td>\n",
              "      <td>-0.118900</td>\n",
              "      <td>0.468474</td>\n",
              "      <td>0.092544</td>\n",
              "      <td>0.002759</td>\n",
              "      <td>0.115345</td>\n",
              "      <td>-0.345445</td>\n",
              "      <td>1.000000</td>\n",
              "      <td>0.730692</td>\n",
              "      <td>0.127147</td>\n",
              "      <td>0.043419</td>\n",
              "      <td>-0.188313</td>\n",
              "    </tr>\n",
              "    <tr>\n",
              "      <th>PFS</th>\n",
              "      <td>0.080638</td>\n",
              "      <td>-0.254452</td>\n",
              "      <td>-0.143078</td>\n",
              "      <td>-0.045293</td>\n",
              "      <td>-0.001697</td>\n",
              "      <td>0.378734</td>\n",
              "      <td>0.077335</td>\n",
              "      <td>-0.051486</td>\n",
              "      <td>0.018430</td>\n",
              "      <td>-0.203701</td>\n",
              "      <td>0.730692</td>\n",
              "      <td>1.000000</td>\n",
              "      <td>-0.048545</td>\n",
              "      <td>0.080638</td>\n",
              "      <td>-0.254452</td>\n",
              "    </tr>\n",
              "    <tr>\n",
              "      <th>volume</th>\n",
              "      <td>-0.073217</td>\n",
              "      <td>0.153293</td>\n",
              "      <td>0.011984</td>\n",
              "      <td>-0.083594</td>\n",
              "      <td>0.088748</td>\n",
              "      <td>-0.162929</td>\n",
              "      <td>-0.057429</td>\n",
              "      <td>0.013387</td>\n",
              "      <td>-0.049697</td>\n",
              "      <td>-0.077207</td>\n",
              "      <td>0.127147</td>\n",
              "      <td>-0.048545</td>\n",
              "      <td>1.000000</td>\n",
              "      <td>-0.073217</td>\n",
              "      <td>0.153293</td>\n",
              "    </tr>\n",
              "    <tr>\n",
              "      <th>gender.1</th>\n",
              "      <td>1.000000</td>\n",
              "      <td>-0.163487</td>\n",
              "      <td>-0.139923</td>\n",
              "      <td>-0.113228</td>\n",
              "      <td>0.169842</td>\n",
              "      <td>0.117790</td>\n",
              "      <td>0.159428</td>\n",
              "      <td>-0.153072</td>\n",
              "      <td>-0.030024</td>\n",
              "      <td>-0.037493</td>\n",
              "      <td>0.043419</td>\n",
              "      <td>0.080638</td>\n",
              "      <td>-0.073217</td>\n",
              "      <td>1.000000</td>\n",
              "      <td>-0.163487</td>\n",
              "    </tr>\n",
              "    <tr>\n",
              "      <th>age.1</th>\n",
              "      <td>-0.163487</td>\n",
              "      <td>1.000000</td>\n",
              "      <td>0.202956</td>\n",
              "      <td>0.075994</td>\n",
              "      <td>-0.005687</td>\n",
              "      <td>-0.199397</td>\n",
              "      <td>0.046168</td>\n",
              "      <td>0.037592</td>\n",
              "      <td>0.110030</td>\n",
              "      <td>0.089632</td>\n",
              "      <td>-0.188313</td>\n",
              "      <td>-0.254452</td>\n",
              "      <td>0.153293</td>\n",
              "      <td>-0.163487</td>\n",
              "      <td>1.000000</td>\n",
              "    </tr>\n",
              "  </tbody>\n",
              "</table>\n",
              "</div>"
            ],
            "text/plain": [
              "                   gender       age  statusPFS  ...    volume  gender.1     age.1\n",
              "gender           1.000000 -0.163487  -0.139923  ... -0.073217  1.000000 -0.163487\n",
              "age             -0.163487  1.000000   0.202956  ...  0.153293 -0.163487  1.000000\n",
              "statusPFS       -0.139923  0.202956   1.000000  ...  0.011984 -0.139923  0.202956\n",
              "statusOS        -0.113228  0.075994   0.570352  ... -0.083594 -0.113228  0.075994\n",
              "surgery          0.169842 -0.005687  -0.063372  ...  0.088748  0.169842 -0.005687\n",
              "dose             0.117790 -0.199397   0.014962  ... -0.162929  0.117790 -0.199397\n",
              "TMZ              0.159428  0.046168  -0.091558  ... -0.057429  0.159428  0.046168\n",
              "Chemogroup      -0.153072  0.037592   0.045091  ...  0.013387 -0.153072  0.037592\n",
              "Chemo           -0.030024  0.110030  -0.044811  ... -0.049697 -0.030024  0.110030\n",
              "diagnostic year -0.037493  0.089632  -0.075545  ... -0.077207 -0.037493  0.089632\n",
              "OS               0.043419 -0.188313  -0.022415  ...  0.127147  0.043419 -0.188313\n",
              "PFS              0.080638 -0.254452  -0.143078  ... -0.048545  0.080638 -0.254452\n",
              "volume          -0.073217  0.153293   0.011984  ...  1.000000 -0.073217  0.153293\n",
              "gender.1         1.000000 -0.163487  -0.139923  ... -0.073217  1.000000 -0.163487\n",
              "age.1           -0.163487  1.000000   0.202956  ...  0.153293 -0.163487  1.000000\n",
              "\n",
              "[15 rows x 15 columns]"
            ]
          },
          "metadata": {
            "tags": []
          },
          "execution_count": 10
        }
      ]
    },
    {
      "cell_type": "code",
      "metadata": {
        "id": "qPcE3hmj5o_E"
      },
      "source": [
        "data.drop(columns = ['TMZ', 'gender.1', 'age.1',], axis = 1, inplace= True)"
      ],
      "execution_count": 11,
      "outputs": []
    },
    {
      "cell_type": "code",
      "metadata": {
        "colab": {
          "base_uri": "https://localhost:8080/"
        },
        "id": "OXgZqnpY5-nS",
        "outputId": "c1a6f3cf-23d1-4899-b1eb-2e7a70a4d42f"
      },
      "source": [
        "data.columns"
      ],
      "execution_count": 12,
      "outputs": [
        {
          "output_type": "execute_result",
          "data": {
            "text/plain": [
              "Index(['gender', 'age', 'statusPFS', 'statusOS', 'surgery', 'dose',\n",
              "       'Chemogroup', 'Chemo', 'diagnostic year', 'OS', 'PFS', 'volume'],\n",
              "      dtype='object')"
            ]
          },
          "metadata": {
            "tags": []
          },
          "execution_count": 12
        }
      ]
    },
    {
      "cell_type": "markdown",
      "metadata": {
        "id": "-w9h87zQ51Iz"
      },
      "source": [
        "## Binary Analysis on multiple classificators"
      ]
    },
    {
      "cell_type": "code",
      "metadata": {
        "id": "MaCInIvG54sZ"
      },
      "source": [
        "X = data.drop(columns=['statusPFS', 'statusOS', 'PFS'], axis = 1)\n",
        "y = data['statusOS']"
      ],
      "execution_count": 25,
      "outputs": []
    },
    {
      "cell_type": "code",
      "metadata": {
        "id": "eoTg9K1H6u_f"
      },
      "source": [
        "from sklearn.model_selection import train_test_split\n",
        "from sklearn.ensemble import RandomForestClassifier\n",
        "from sklearn.linear_model import LogisticRegression\n",
        "import xgboost as xgb\n",
        "from sklearn.tree import DecisionTreeClassifier\n",
        "from sklearn.neighbors import KNeighborsClassifier\n",
        "from xgboost import XGBClassifier"
      ],
      "execution_count": 15,
      "outputs": []
    },
    {
      "cell_type": "markdown",
      "metadata": {
        "id": "fRsrf9x-67ux"
      },
      "source": [
        "### Random Forest"
      ]
    },
    {
      "cell_type": "code",
      "metadata": {
        "id": "wACyYv2Z6812"
      },
      "source": [
        "clf = RandomForestClassifier(random_state=0)\n"
      ],
      "execution_count": 26,
      "outputs": []
    },
    {
      "cell_type": "markdown",
      "metadata": {
        "id": "FCX6T0Rj9A84"
      },
      "source": [
        "The splitting was giving me problems in the ROC curve, as it didn't get any survival in the splitting. I had to stratify"
      ]
    },
    {
      "cell_type": "code",
      "metadata": {
        "id": "zIdXkvyX6_0N"
      },
      "source": [
        "mttavg= []\n",
        "favg= []\n",
        "accuracyavg = []\n",
        "tpavg = []\n",
        "tnavg = []\n",
        "rocavg = []\n",
        "praucavg = []\n",
        "\n",
        "\n",
        "\n",
        "\n",
        "for x in range(100): \n",
        "  X_train, X_test, y_train, y_test = train_test_split(X, y, test_size=0.3, stratify = y)\n",
        "  clf.fit(X_train, y_train)\n",
        "  #That's for the ranking, now we gotta do for the validation set and also for all the metrics\n",
        "  mttaverage = matthews_corrcoef(y_test, clf.predict(X_test))\n",
        "  mttavg.append(mttaverage)\n",
        "   #f1 score\n",
        "  faverage = f1_score(y_test, clf.predict(X_test))\n",
        "  favg.append(faverage)\n",
        "  #accuracy score\n",
        "  accuracyaverage = accuracy_score(y_test, clf.predict(X_test))\n",
        "  accuracyavg.append(accuracyaverage)\n",
        "  #TP and TN rate \n",
        "  tn, fp, fn, tp = confusion_matrix(y_test, clf.predict(X_test), labels =[0,1]).ravel()\n",
        "  tprate =  tp / (tp + fn)\n",
        "  tnrate = tn / (tn + fp)\n",
        "  tpavg.append(tprate)\n",
        "  tnavg.append(tnrate)\n",
        "  # ROC AUC \n",
        "  roc = roc_auc_score(y_test, clf.predict_proba(X_test)[:, 1])\n",
        "  rocavg.append(roc)\n",
        "  #Precision recall area under de curve\n",
        "  precision, recall, _thresholds = metrics.precision_recall_curve(y_test, clf.predict_proba(X_test)[:, 1])\n",
        "  prauc = metrics.auc(recall, precision)     \n",
        "  praucavg.append(prauc)\n",
        "\n",
        "\n",
        "mttavgmean = np.mean(np.array(mttavg))\n",
        "favgmean = np.mean(np.array(favg))\n",
        "accuracyavgmean = np.mean(np.array(accuracyavg))\n",
        "tpavgmean = np.mean(np.array(tpavg))\n",
        "tnavgmean = np.mean(np.array(tnavg))\n",
        "rocavgmean = np.mean(np.array(rocavg))\n",
        "praucavgmean = np.mean(np.array(praucavg))\n",
        "metricss = np.array([mttavgmean, favgmean, accuracyavgmean, tpavgmean, tnavgmean, rocavgmean, praucavgmean])\n",
        "metricss = metricss.reshape(1,7)\n",
        "metric_final = pd.DataFrame(data = metricss, columns = ['matthewscore', 'f1-score', 'Accuracy', 'True Positives', 'True Negatives', 'ROC AUC', 'PR AUC'])"
      ],
      "execution_count": 28,
      "outputs": []
    },
    {
      "cell_type": "code",
      "metadata": {
        "colab": {
          "base_uri": "https://localhost:8080/",
          "height": 81
        },
        "id": "y_R-OFlO78iD",
        "outputId": "8d34e410-e775-45b7-cd80-ff24cc54d0f3"
      },
      "source": [
        "metric_final"
      ],
      "execution_count": 29,
      "outputs": [
        {
          "output_type": "execute_result",
          "data": {
            "text/html": [
              "<div>\n",
              "<style scoped>\n",
              "    .dataframe tbody tr th:only-of-type {\n",
              "        vertical-align: middle;\n",
              "    }\n",
              "\n",
              "    .dataframe tbody tr th {\n",
              "        vertical-align: top;\n",
              "    }\n",
              "\n",
              "    .dataframe thead th {\n",
              "        text-align: right;\n",
              "    }\n",
              "</style>\n",
              "<table border=\"1\" class=\"dataframe\">\n",
              "  <thead>\n",
              "    <tr style=\"text-align: right;\">\n",
              "      <th></th>\n",
              "      <th>matthewscore</th>\n",
              "      <th>f1-score</th>\n",
              "      <th>Accuracy</th>\n",
              "      <th>True Positives</th>\n",
              "      <th>True Negatives</th>\n",
              "      <th>ROC AUC</th>\n",
              "      <th>PR AUC</th>\n",
              "    </tr>\n",
              "  </thead>\n",
              "  <tbody>\n",
              "    <tr>\n",
              "      <th>0</th>\n",
              "      <td>-0.0004</td>\n",
              "      <td>0.980188</td>\n",
              "      <td>0.961154</td>\n",
              "      <td>0.9996</td>\n",
              "      <td>0.0</td>\n",
              "      <td>0.5292</td>\n",
              "      <td>0.974781</td>\n",
              "    </tr>\n",
              "  </tbody>\n",
              "</table>\n",
              "</div>"
            ],
            "text/plain": [
              "   matthewscore  f1-score  Accuracy  ...  True Negatives  ROC AUC    PR AUC\n",
              "0       -0.0004  0.980188  0.961154  ...             0.0   0.5292  0.974781\n",
              "\n",
              "[1 rows x 7 columns]"
            ]
          },
          "metadata": {
            "tags": []
          },
          "execution_count": 29
        }
      ]
    },
    {
      "cell_type": "code",
      "metadata": {
        "id": "r2jV0get6_2p"
      },
      "source": [
        ""
      ],
      "execution_count": null,
      "outputs": []
    }
  ]
}