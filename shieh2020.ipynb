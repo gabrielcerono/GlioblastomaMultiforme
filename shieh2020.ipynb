{
  "nbformat": 4,
  "nbformat_minor": 0,
  "metadata": {
    "colab": {
      "name": "shieh2020.ipynb",
      "provenance": [],
      "authorship_tag": "ABX9TyNKGRpCZAkV74zBNaSruHrH",
      "include_colab_link": true
    },
    "kernelspec": {
      "name": "python3",
      "display_name": "Python 3"
    },
    "language_info": {
      "name": "python"
    }
  },
  "cells": [
    {
      "cell_type": "markdown",
      "metadata": {
        "id": "view-in-github",
        "colab_type": "text"
      },
      "source": [
        "<a href=\"https://colab.research.google.com/github/gabrielcerono/GlioblastomaMultiforme/blob/main/shieh2020.ipynb\" target=\"_parent\"><img src=\"https://colab.research.google.com/assets/colab-badge.svg\" alt=\"Open In Colab\"/></a>"
      ]
    },
    {
      "cell_type": "code",
      "metadata": {
        "id": "smkRR4Gg9Y_C"
      },
      "source": [
        "import pandas as pd\n",
        "import matplotlib.pyplot as plt\n",
        "import numpy as np\n",
        "import sklearn as sk"
      ],
      "execution_count": 1,
      "outputs": []
    },
    {
      "cell_type": "markdown",
      "metadata": {
        "id": "9QXmh5TfEx_8"
      },
      "source": [
        "paper : https://doi.org/10.1371/journal.pone.0233188\n",
        "\n"
      ]
    },
    {
      "cell_type": "markdown",
      "metadata": {
        "id": "e8hbRcBBJocp"
      },
      "source": [
        " \" IDH and MGMT markers were not mandatory for routine pathologic reports \" Sadly we won't have this markers in this one, but we have it in other datasets."
      ]
    },
    {
      "cell_type": "code",
      "metadata": {
        "id": "VWtLUGuqEUzb"
      },
      "source": [
        "dataset = pd.read_excel('/content/shieh.xlsx')"
      ],
      "execution_count": 2,
      "outputs": []
    },
    {
      "cell_type": "code",
      "metadata": {
        "colab": {
          "base_uri": "https://localhost:8080/",
          "height": 203
        },
        "id": "qYTGd5A1FJtC",
        "outputId": "9c035d3e-740a-4a6d-f865-a5732cb23bae"
      },
      "source": [
        "dataset.head(5)"
      ],
      "execution_count": 3,
      "outputs": [
        {
          "output_type": "execute_result",
          "data": {
            "text/html": [
              "<div>\n",
              "<style scoped>\n",
              "    .dataframe tbody tr th:only-of-type {\n",
              "        vertical-align: middle;\n",
              "    }\n",
              "\n",
              "    .dataframe tbody tr th {\n",
              "        vertical-align: top;\n",
              "    }\n",
              "\n",
              "    .dataframe thead th {\n",
              "        text-align: right;\n",
              "    }\n",
              "</style>\n",
              "<table border=\"1\" class=\"dataframe\">\n",
              "  <thead>\n",
              "    <tr style=\"text-align: right;\">\n",
              "      <th></th>\n",
              "      <th>gender</th>\n",
              "      <th>age</th>\n",
              "      <th>statusPFS</th>\n",
              "      <th>statusOS</th>\n",
              "      <th>surgery</th>\n",
              "      <th>dose</th>\n",
              "      <th>TMZ</th>\n",
              "      <th>Chemogroup</th>\n",
              "      <th>Chemo</th>\n",
              "      <th>diagnostic year</th>\n",
              "      <th>OS</th>\n",
              "      <th>PFS</th>\n",
              "      <th>volume</th>\n",
              "      <th>gender.1</th>\n",
              "      <th>age.1</th>\n",
              "    </tr>\n",
              "  </thead>\n",
              "  <tbody>\n",
              "    <tr>\n",
              "      <th>0</th>\n",
              "      <td>1</td>\n",
              "      <td>63</td>\n",
              "      <td>1</td>\n",
              "      <td>1</td>\n",
              "      <td>1</td>\n",
              "      <td>6000</td>\n",
              "      <td>1.0</td>\n",
              "      <td>1</td>\n",
              "      <td>1</td>\n",
              "      <td>2</td>\n",
              "      <td>1.36</td>\n",
              "      <td>1.260274</td>\n",
              "      <td>731.0</td>\n",
              "      <td>1</td>\n",
              "      <td>63</td>\n",
              "    </tr>\n",
              "    <tr>\n",
              "      <th>1</th>\n",
              "      <td>1</td>\n",
              "      <td>64</td>\n",
              "      <td>1</td>\n",
              "      <td>1</td>\n",
              "      <td>0</td>\n",
              "      <td>6600</td>\n",
              "      <td>0.0</td>\n",
              "      <td>2</td>\n",
              "      <td>1</td>\n",
              "      <td>1</td>\n",
              "      <td>8.84</td>\n",
              "      <td>5.115068</td>\n",
              "      <td>NaN</td>\n",
              "      <td>1</td>\n",
              "      <td>64</td>\n",
              "    </tr>\n",
              "    <tr>\n",
              "      <th>2</th>\n",
              "      <td>1</td>\n",
              "      <td>62</td>\n",
              "      <td>1</td>\n",
              "      <td>1</td>\n",
              "      <td>1</td>\n",
              "      <td>6000</td>\n",
              "      <td>1.0</td>\n",
              "      <td>1</td>\n",
              "      <td>1</td>\n",
              "      <td>2</td>\n",
              "      <td>1.46</td>\n",
              "      <td>0.641096</td>\n",
              "      <td>215.0</td>\n",
              "      <td>1</td>\n",
              "      <td>62</td>\n",
              "    </tr>\n",
              "    <tr>\n",
              "      <th>3</th>\n",
              "      <td>1</td>\n",
              "      <td>71</td>\n",
              "      <td>1</td>\n",
              "      <td>1</td>\n",
              "      <td>1</td>\n",
              "      <td>6000</td>\n",
              "      <td>NaN</td>\n",
              "      <td>3</td>\n",
              "      <td>1</td>\n",
              "      <td>1</td>\n",
              "      <td>2.42</td>\n",
              "      <td>0.652055</td>\n",
              "      <td>255.0</td>\n",
              "      <td>1</td>\n",
              "      <td>71</td>\n",
              "    </tr>\n",
              "    <tr>\n",
              "      <th>4</th>\n",
              "      <td>1</td>\n",
              "      <td>21</td>\n",
              "      <td>1</td>\n",
              "      <td>1</td>\n",
              "      <td>0</td>\n",
              "      <td>5940</td>\n",
              "      <td>0.0</td>\n",
              "      <td>2</td>\n",
              "      <td>1</td>\n",
              "      <td>2</td>\n",
              "      <td>1.26</td>\n",
              "      <td>1.079452</td>\n",
              "      <td>154.0</td>\n",
              "      <td>1</td>\n",
              "      <td>21</td>\n",
              "    </tr>\n",
              "  </tbody>\n",
              "</table>\n",
              "</div>"
            ],
            "text/plain": [
              "   gender  age  statusPFS  statusOS  ...       PFS  volume  gender.1  age.1\n",
              "0       1   63          1         1  ...  1.260274   731.0         1     63\n",
              "1       1   64          1         1  ...  5.115068     NaN         1     64\n",
              "2       1   62          1         1  ...  0.641096   215.0         1     62\n",
              "3       1   71          1         1  ...  0.652055   255.0         1     71\n",
              "4       1   21          1         1  ...  1.079452   154.0         1     21\n",
              "\n",
              "[5 rows x 15 columns]"
            ]
          },
          "metadata": {
            "tags": []
          },
          "execution_count": 3
        }
      ]
    },
    {
      "cell_type": "code",
      "metadata": {
        "id": "ajhfjjEWFLXo"
      },
      "source": [
        "from sklearn.experimental import enable_iterative_imputer\n",
        "from sklearn.impute import IterativeImputer"
      ],
      "execution_count": 5,
      "outputs": []
    },
    {
      "cell_type": "markdown",
      "metadata": {
        "id": "6iY4n1yiH9x2"
      },
      "source": [
        "Let's do all the pre-processing needed"
      ]
    },
    {
      "cell_type": "code",
      "metadata": {
        "id": "uYSg2wrbIA-U"
      },
      "source": [
        "imp_mean = IterativeImputer(random_state=0)"
      ],
      "execution_count": 6,
      "outputs": []
    },
    {
      "cell_type": "code",
      "metadata": {
        "id": "I5ws3IVEIClA"
      },
      "source": [
        "data = imp_mean.fit_transform(dataset)"
      ],
      "execution_count": 65,
      "outputs": []
    },
    {
      "cell_type": "code",
      "metadata": {
        "id": "ebZFafl4IJiC"
      },
      "source": [
        "data = pd.DataFrame(data=data, columns= dataset.columns,)"
      ],
      "execution_count": 66,
      "outputs": []
    },
    {
      "cell_type": "code",
      "metadata": {
        "colab": {
          "base_uri": "https://localhost:8080/",
          "height": 220
        },
        "id": "F9RprXMEIKWc",
        "outputId": "5f59bea5-6e22-46c0-e2a2-e7c79feeda57"
      },
      "source": [
        "data.head()"
      ],
      "execution_count": 67,
      "outputs": [
        {
          "output_type": "execute_result",
          "data": {
            "text/html": [
              "<div>\n",
              "<style scoped>\n",
              "    .dataframe tbody tr th:only-of-type {\n",
              "        vertical-align: middle;\n",
              "    }\n",
              "\n",
              "    .dataframe tbody tr th {\n",
              "        vertical-align: top;\n",
              "    }\n",
              "\n",
              "    .dataframe thead th {\n",
              "        text-align: right;\n",
              "    }\n",
              "</style>\n",
              "<table border=\"1\" class=\"dataframe\">\n",
              "  <thead>\n",
              "    <tr style=\"text-align: right;\">\n",
              "      <th></th>\n",
              "      <th>gender</th>\n",
              "      <th>age</th>\n",
              "      <th>statusPFS</th>\n",
              "      <th>statusOS</th>\n",
              "      <th>surgery</th>\n",
              "      <th>dose</th>\n",
              "      <th>TMZ</th>\n",
              "      <th>Chemogroup</th>\n",
              "      <th>Chemo</th>\n",
              "      <th>diagnostic year</th>\n",
              "      <th>OS</th>\n",
              "      <th>PFS</th>\n",
              "      <th>volume</th>\n",
              "      <th>gender.1</th>\n",
              "      <th>age.1</th>\n",
              "    </tr>\n",
              "  </thead>\n",
              "  <tbody>\n",
              "    <tr>\n",
              "      <th>0</th>\n",
              "      <td>1.0</td>\n",
              "      <td>63.0</td>\n",
              "      <td>1.0</td>\n",
              "      <td>1.0</td>\n",
              "      <td>1.0</td>\n",
              "      <td>6000.0</td>\n",
              "      <td>1.0</td>\n",
              "      <td>1.0</td>\n",
              "      <td>1.0</td>\n",
              "      <td>2.0</td>\n",
              "      <td>1.36</td>\n",
              "      <td>1.260274</td>\n",
              "      <td>731.000000</td>\n",
              "      <td>1.0</td>\n",
              "      <td>63.0</td>\n",
              "    </tr>\n",
              "    <tr>\n",
              "      <th>1</th>\n",
              "      <td>1.0</td>\n",
              "      <td>64.0</td>\n",
              "      <td>1.0</td>\n",
              "      <td>1.0</td>\n",
              "      <td>0.0</td>\n",
              "      <td>6600.0</td>\n",
              "      <td>0.0</td>\n",
              "      <td>2.0</td>\n",
              "      <td>1.0</td>\n",
              "      <td>1.0</td>\n",
              "      <td>8.84</td>\n",
              "      <td>5.115068</td>\n",
              "      <td>272.938289</td>\n",
              "      <td>1.0</td>\n",
              "      <td>64.0</td>\n",
              "    </tr>\n",
              "    <tr>\n",
              "      <th>2</th>\n",
              "      <td>1.0</td>\n",
              "      <td>62.0</td>\n",
              "      <td>1.0</td>\n",
              "      <td>1.0</td>\n",
              "      <td>1.0</td>\n",
              "      <td>6000.0</td>\n",
              "      <td>1.0</td>\n",
              "      <td>1.0</td>\n",
              "      <td>1.0</td>\n",
              "      <td>2.0</td>\n",
              "      <td>1.46</td>\n",
              "      <td>0.641096</td>\n",
              "      <td>215.000000</td>\n",
              "      <td>1.0</td>\n",
              "      <td>62.0</td>\n",
              "    </tr>\n",
              "    <tr>\n",
              "      <th>3</th>\n",
              "      <td>1.0</td>\n",
              "      <td>71.0</td>\n",
              "      <td>1.0</td>\n",
              "      <td>1.0</td>\n",
              "      <td>1.0</td>\n",
              "      <td>6000.0</td>\n",
              "      <td>-1.0</td>\n",
              "      <td>3.0</td>\n",
              "      <td>1.0</td>\n",
              "      <td>1.0</td>\n",
              "      <td>2.42</td>\n",
              "      <td>0.652055</td>\n",
              "      <td>255.000000</td>\n",
              "      <td>1.0</td>\n",
              "      <td>71.0</td>\n",
              "    </tr>\n",
              "    <tr>\n",
              "      <th>4</th>\n",
              "      <td>1.0</td>\n",
              "      <td>21.0</td>\n",
              "      <td>1.0</td>\n",
              "      <td>1.0</td>\n",
              "      <td>0.0</td>\n",
              "      <td>5940.0</td>\n",
              "      <td>0.0</td>\n",
              "      <td>2.0</td>\n",
              "      <td>1.0</td>\n",
              "      <td>2.0</td>\n",
              "      <td>1.26</td>\n",
              "      <td>1.079452</td>\n",
              "      <td>154.000000</td>\n",
              "      <td>1.0</td>\n",
              "      <td>21.0</td>\n",
              "    </tr>\n",
              "  </tbody>\n",
              "</table>\n",
              "</div>"
            ],
            "text/plain": [
              "   gender   age  statusPFS  statusOS  ...       PFS      volume  gender.1  age.1\n",
              "0     1.0  63.0        1.0       1.0  ...  1.260274  731.000000       1.0   63.0\n",
              "1     1.0  64.0        1.0       1.0  ...  5.115068  272.938289       1.0   64.0\n",
              "2     1.0  62.0        1.0       1.0  ...  0.641096  215.000000       1.0   62.0\n",
              "3     1.0  71.0        1.0       1.0  ...  0.652055  255.000000       1.0   71.0\n",
              "4     1.0  21.0        1.0       1.0  ...  1.079452  154.000000       1.0   21.0\n",
              "\n",
              "[5 rows x 15 columns]"
            ]
          },
          "metadata": {
            "tags": []
          },
          "execution_count": 67
        }
      ]
    },
    {
      "cell_type": "code",
      "metadata": {
        "id": "8JyZzdTEI0yU"
      },
      "source": [
        "data.drop(columns = ['TMZ', 'gender.1', 'age.1', 'statusPFS', 'PFS'], axis = 1, inplace= True)"
      ],
      "execution_count": 68,
      "outputs": []
    },
    {
      "cell_type": "code",
      "metadata": {
        "colab": {
          "base_uri": "https://localhost:8080/",
          "height": 359
        },
        "id": "UXb0aczTMGJ-",
        "outputId": "20eed4c8-6c6a-4bfd-8af3-41589ca64298"
      },
      "source": [
        "data.corr(method = 'pearson')"
      ],
      "execution_count": 69,
      "outputs": [
        {
          "output_type": "execute_result",
          "data": {
            "text/html": [
              "<div>\n",
              "<style scoped>\n",
              "    .dataframe tbody tr th:only-of-type {\n",
              "        vertical-align: middle;\n",
              "    }\n",
              "\n",
              "    .dataframe tbody tr th {\n",
              "        vertical-align: top;\n",
              "    }\n",
              "\n",
              "    .dataframe thead th {\n",
              "        text-align: right;\n",
              "    }\n",
              "</style>\n",
              "<table border=\"1\" class=\"dataframe\">\n",
              "  <thead>\n",
              "    <tr style=\"text-align: right;\">\n",
              "      <th></th>\n",
              "      <th>gender</th>\n",
              "      <th>age</th>\n",
              "      <th>statusOS</th>\n",
              "      <th>surgery</th>\n",
              "      <th>dose</th>\n",
              "      <th>Chemogroup</th>\n",
              "      <th>Chemo</th>\n",
              "      <th>diagnostic year</th>\n",
              "      <th>OS</th>\n",
              "      <th>volume</th>\n",
              "    </tr>\n",
              "  </thead>\n",
              "  <tbody>\n",
              "    <tr>\n",
              "      <th>gender</th>\n",
              "      <td>1.000000</td>\n",
              "      <td>-0.163487</td>\n",
              "      <td>-0.113228</td>\n",
              "      <td>0.169842</td>\n",
              "      <td>0.117790</td>\n",
              "      <td>-0.153072</td>\n",
              "      <td>-0.030024</td>\n",
              "      <td>-0.037493</td>\n",
              "      <td>0.043419</td>\n",
              "      <td>-0.073217</td>\n",
              "    </tr>\n",
              "    <tr>\n",
              "      <th>age</th>\n",
              "      <td>-0.163487</td>\n",
              "      <td>1.000000</td>\n",
              "      <td>0.075994</td>\n",
              "      <td>-0.005687</td>\n",
              "      <td>-0.199397</td>\n",
              "      <td>0.037592</td>\n",
              "      <td>0.110030</td>\n",
              "      <td>0.089632</td>\n",
              "      <td>-0.188313</td>\n",
              "      <td>0.153293</td>\n",
              "    </tr>\n",
              "    <tr>\n",
              "      <th>statusOS</th>\n",
              "      <td>-0.113228</td>\n",
              "      <td>0.075994</td>\n",
              "      <td>1.000000</td>\n",
              "      <td>-0.111111</td>\n",
              "      <td>0.026233</td>\n",
              "      <td>0.079058</td>\n",
              "      <td>-0.078567</td>\n",
              "      <td>-0.132453</td>\n",
              "      <td>-0.028040</td>\n",
              "      <td>-0.083594</td>\n",
              "    </tr>\n",
              "    <tr>\n",
              "      <th>surgery</th>\n",
              "      <td>0.169842</td>\n",
              "      <td>-0.005687</td>\n",
              "      <td>-0.111111</td>\n",
              "      <td>1.000000</td>\n",
              "      <td>-0.033926</td>\n",
              "      <td>0.020329</td>\n",
              "      <td>0.235702</td>\n",
              "      <td>0.132453</td>\n",
              "      <td>-0.118900</td>\n",
              "      <td>0.088748</td>\n",
              "    </tr>\n",
              "    <tr>\n",
              "      <th>dose</th>\n",
              "      <td>0.117790</td>\n",
              "      <td>-0.199397</td>\n",
              "      <td>0.026233</td>\n",
              "      <td>-0.033926</td>\n",
              "      <td>1.000000</td>\n",
              "      <td>0.315258</td>\n",
              "      <td>0.297829</td>\n",
              "      <td>-0.334150</td>\n",
              "      <td>0.468474</td>\n",
              "      <td>-0.162929</td>\n",
              "    </tr>\n",
              "    <tr>\n",
              "      <th>Chemogroup</th>\n",
              "      <td>-0.153072</td>\n",
              "      <td>0.037592</td>\n",
              "      <td>0.079058</td>\n",
              "      <td>0.020329</td>\n",
              "      <td>0.315258</td>\n",
              "      <td>1.000000</td>\n",
              "      <td>0.570208</td>\n",
              "      <td>-0.370692</td>\n",
              "      <td>0.002759</td>\n",
              "      <td>0.013387</td>\n",
              "    </tr>\n",
              "    <tr>\n",
              "      <th>Chemo</th>\n",
              "      <td>-0.030024</td>\n",
              "      <td>0.110030</td>\n",
              "      <td>-0.078567</td>\n",
              "      <td>0.235702</td>\n",
              "      <td>0.297829</td>\n",
              "      <td>0.570208</td>\n",
              "      <td>1.000000</td>\n",
              "      <td>0.083252</td>\n",
              "      <td>0.115345</td>\n",
              "      <td>-0.049697</td>\n",
              "    </tr>\n",
              "    <tr>\n",
              "      <th>diagnostic year</th>\n",
              "      <td>-0.037493</td>\n",
              "      <td>0.089632</td>\n",
              "      <td>-0.132453</td>\n",
              "      <td>0.132453</td>\n",
              "      <td>-0.334150</td>\n",
              "      <td>-0.370692</td>\n",
              "      <td>0.083252</td>\n",
              "      <td>1.000000</td>\n",
              "      <td>-0.345445</td>\n",
              "      <td>-0.077207</td>\n",
              "    </tr>\n",
              "    <tr>\n",
              "      <th>OS</th>\n",
              "      <td>0.043419</td>\n",
              "      <td>-0.188313</td>\n",
              "      <td>-0.028040</td>\n",
              "      <td>-0.118900</td>\n",
              "      <td>0.468474</td>\n",
              "      <td>0.002759</td>\n",
              "      <td>0.115345</td>\n",
              "      <td>-0.345445</td>\n",
              "      <td>1.000000</td>\n",
              "      <td>0.127147</td>\n",
              "    </tr>\n",
              "    <tr>\n",
              "      <th>volume</th>\n",
              "      <td>-0.073217</td>\n",
              "      <td>0.153293</td>\n",
              "      <td>-0.083594</td>\n",
              "      <td>0.088748</td>\n",
              "      <td>-0.162929</td>\n",
              "      <td>0.013387</td>\n",
              "      <td>-0.049697</td>\n",
              "      <td>-0.077207</td>\n",
              "      <td>0.127147</td>\n",
              "      <td>1.000000</td>\n",
              "    </tr>\n",
              "  </tbody>\n",
              "</table>\n",
              "</div>"
            ],
            "text/plain": [
              "                   gender       age  ...        OS    volume\n",
              "gender           1.000000 -0.163487  ...  0.043419 -0.073217\n",
              "age             -0.163487  1.000000  ... -0.188313  0.153293\n",
              "statusOS        -0.113228  0.075994  ... -0.028040 -0.083594\n",
              "surgery          0.169842 -0.005687  ... -0.118900  0.088748\n",
              "dose             0.117790 -0.199397  ...  0.468474 -0.162929\n",
              "Chemogroup      -0.153072  0.037592  ...  0.002759  0.013387\n",
              "Chemo           -0.030024  0.110030  ...  0.115345 -0.049697\n",
              "diagnostic year -0.037493  0.089632  ... -0.345445 -0.077207\n",
              "OS               0.043419 -0.188313  ...  1.000000  0.127147\n",
              "volume          -0.073217  0.153293  ...  0.127147  1.000000\n",
              "\n",
              "[10 rows x 10 columns]"
            ]
          },
          "metadata": {
            "tags": []
          },
          "execution_count": 69
        }
      ]
    },
    {
      "cell_type": "markdown",
      "metadata": {
        "id": "LJsf_ygOL1TU"
      },
      "source": [
        "Converting Y to the ndarray so the sksurv package can process it"
      ]
    },
    {
      "cell_type": "code",
      "metadata": {
        "id": "aLJ3ccO7MtZ8"
      },
      "source": [
        "Y = data[['statusOS', 'OS']]"
      ],
      "execution_count": 73,
      "outputs": []
    },
    {
      "cell_type": "code",
      "metadata": {
        "id": "7_VqQOEcNrGi"
      },
      "source": [
        "X = data.drop(columns=['statusOS', 'OS'])"
      ],
      "execution_count": 74,
      "outputs": []
    },
    {
      "cell_type": "code",
      "metadata": {
        "colab": {
          "base_uri": "https://localhost:8080/"
        },
        "id": "Ce2iyeEpL6O5",
        "outputId": "5742587d-7b53-47a7-d746-6840bd31ea75"
      },
      "source": [
        "Y['statusOS'] = Y['statusOS'].map({1.0: True, 0: False})\n"
      ],
      "execution_count": 75,
      "outputs": [
        {
          "output_type": "stream",
          "text": [
            "/usr/local/lib/python3.7/dist-packages/ipykernel_launcher.py:1: SettingWithCopyWarning: \n",
            "A value is trying to be set on a copy of a slice from a DataFrame.\n",
            "Try using .loc[row_indexer,col_indexer] = value instead\n",
            "\n",
            "See the caveats in the documentation: https://pandas.pydata.org/pandas-docs/stable/user_guide/indexing.html#returning-a-view-versus-a-copy\n",
            "  \"\"\"Entry point for launching an IPython kernel.\n"
          ],
          "name": "stderr"
        }
      ]
    },
    {
      "cell_type": "code",
      "metadata": {
        "id": "3EoMsV_-OG46"
      },
      "source": [
        "Y = Y.to_records(index=False)"
      ],
      "execution_count": 76,
      "outputs": []
    },
    {
      "cell_type": "code",
      "metadata": {
        "colab": {
          "base_uri": "https://localhost:8080/"
        },
        "id": "37LkZmjdOKce",
        "outputId": "46be3ba1-e86e-449d-8c49-9c0bf8212813"
      },
      "source": [
        "Y"
      ],
      "execution_count": 77,
      "outputs": [
        {
          "output_type": "execute_result",
          "data": {
            "text/plain": [
              "rec.array([( True, 1.36), ( True, 8.84), ( True, 1.46), ( True, 2.42),\n",
              "           ( True, 1.26), ( True, 0.85), ( True, 6.43), ( True, 0.63),\n",
              "           ( True, 0.96), ( True, 1.32), ( True, 2.82), ( True, 0.77),\n",
              "           ( True, 0.84), (False, 2.38), ( True, 0.23), ( True, 1.  ),\n",
              "           ( True, 3.5 ), ( True, 1.18), ( True, 5.4 ), ( True, 1.93),\n",
              "           ( True, 0.59), ( True, 0.48), ( True, 2.25), ( True, 1.34),\n",
              "           ( True, 0.9 ), ( True, 1.12), ( True, 0.58), ( True, 1.01),\n",
              "           ( True, 0.88), ( True, 0.62), ( True, 1.59), ( True, 2.33),\n",
              "           ( True, 1.66), ( True, 1.11), ( True, 0.79), ( True, 1.11),\n",
              "           ( True, 2.92), ( True, 1.22), ( True, 1.9 ), ( True, 2.5 ),\n",
              "           ( True, 0.32), ( True, 2.22), ( True, 9.15), ( True, 0.45),\n",
              "           ( True, 1.37), ( True, 3.45), ( True, 5.07), ( True, 1.82),\n",
              "           ( True, 0.41), ( True, 0.95), ( True, 0.98), ( True, 1.38),\n",
              "           ( True, 1.82), ( True, 2.68), ( True, 0.89), ( True, 1.68),\n",
              "           ( True, 1.77), ( True, 1.67), ( True, 0.35), ( True, 1.71),\n",
              "           ( True, 0.9 ), ( True, 0.73), ( True, 0.53), ( True, 0.68),\n",
              "           ( True, 1.04), (False, 2.05), ( True, 0.88), (False, 1.43),\n",
              "           ( True, 1.15), ( True, 4.58), ( True, 0.21), ( True, 0.52),\n",
              "           ( True, 2.93), ( True, 0.91), ( True, 0.41), ( True, 1.01),\n",
              "           ( True, 1.99), ( True, 0.47), ( True, 1.11), ( True, 4.74),\n",
              "           ( True, 1.19), ( True, 0.96), ( True, 0.56), ( True, 0.26)],\n",
              "          dtype=[('statusOS', '?'), ('OS', '<f8')])"
            ]
          },
          "metadata": {
            "tags": []
          },
          "execution_count": 77
        }
      ]
    },
    {
      "cell_type": "markdown",
      "metadata": {
        "id": "LYKNsZ_1Pf2A"
      },
      "source": [
        "# Let's do the ranking"
      ]
    },
    {
      "cell_type": "code",
      "metadata": {
        "id": "s_nNLmxsPknF"
      },
      "source": [
        "!pip install --upgrade pip\n",
        "!pip uninstall --yes --quiet osqp\n",
        "!pip install -U scikit-survival"
      ],
      "execution_count": null,
      "outputs": []
    },
    {
      "cell_type": "code",
      "metadata": {
        "id": "oO2oGQEAPqhS"
      },
      "source": [
        "pip install eli5"
      ],
      "execution_count": null,
      "outputs": []
    },
    {
      "cell_type": "code",
      "metadata": {
        "id": "x9IUhms_QLB2"
      },
      "source": [
        "from sksurv.ensemble import RandomSurvivalForest\n",
        "from sklearn.model_selection import train_test_split\n",
        "from eli5.sklearn import PermutationImportance\n",
        "import eli5\n"
      ],
      "execution_count": null,
      "outputs": []
    },
    {
      "cell_type": "code",
      "metadata": {
        "id": "YDs33q8MQM3j"
      },
      "source": [
        "rsf = RandomSurvivalForest()\n"
      ],
      "execution_count": 78,
      "outputs": []
    },
    {
      "cell_type": "code",
      "metadata": {
        "id": "p__GgWXDQTwp"
      },
      "source": [
        "def permutation(X, y, model, loops):\n",
        "  rankings = np.zeros(len(X.columns),)\n",
        "  c_score_total = []\n",
        "\n",
        "  for x in range(loops):\n",
        "    \n",
        "  #Let's do a splitting\n",
        "    X_train, X_test, y_train, y_test = train_test_split(\n",
        "    X, Y, test_size=0.25)\n",
        "  #Let's train the model on the \n",
        "    model.fit(X_train, y_train)\n",
        "  #Let's define the permutation.\n",
        "    permuter = PermutationImportance(\n",
        "    estimator = model,\n",
        "    n_iter = 10)\n",
        "  #Let's fit the permutator on the Y test, (This permutation only shuffle the Y test.)\n",
        "    permuter.fit(X_test, y_test)\n",
        "  \n",
        "    columns = X_test.columns.to_list()\n",
        "  #The feature importance will give us and n array of how much \n",
        "    feature_importance = permuter.feature_importances_\n",
        "    rankings = np.add(feature_importance, rankings)\n",
        "  #Let's compute the scores\n",
        "    c_score = model.score(X_test, y_test)\n",
        "    c_score_total.append(c_score)\n",
        "\n",
        "  \n",
        "    \n",
        "  #Dividing to get the average \n",
        "  ranking_terminal = np.true_divide(rankings, loops) \n",
        "  c_rank = pd.Series(ranking_terminal, columns).sort_values(ascending = False)\n",
        "  c_mean = np.mean(np.array(c_score_total))\n",
        "  return c_rank, c_mean"
      ],
      "execution_count": 59,
      "outputs": []
    },
    {
      "cell_type": "code",
      "metadata": {
        "id": "fDgdJmlrQj7u"
      },
      "source": [
        "rank, c_mean = permutation(X, Y, rsf, 100)"
      ],
      "execution_count": 79,
      "outputs": []
    },
    {
      "cell_type": "code",
      "metadata": {
        "colab": {
          "base_uri": "https://localhost:8080/"
        },
        "id": "CkwxH47IRIrV",
        "outputId": "13902264-2f19-40ca-b2cb-bc3402b5a74c"
      },
      "source": [
        "rank"
      ],
      "execution_count": 80,
      "outputs": [
        {
          "output_type": "execute_result",
          "data": {
            "text/plain": [
              "age                0.075392\n",
              "dose               0.038387\n",
              "diagnostic year    0.022683\n",
              "gender             0.002137\n",
              "Chemogroup         0.001975\n",
              "Chemo              0.000922\n",
              "surgery           -0.003923\n",
              "volume            -0.007399\n",
              "dtype: float64"
            ]
          },
          "metadata": {
            "tags": []
          },
          "execution_count": 80
        }
      ]
    },
    {
      "cell_type": "code",
      "metadata": {
        "colab": {
          "base_uri": "https://localhost:8080/"
        },
        "id": "OaGwtR3vRJm-",
        "outputId": "6813b539-3389-4175-ad72-4815be88b03c"
      },
      "source": [
        "c_mean"
      ],
      "execution_count": 81,
      "outputs": [
        {
          "output_type": "execute_result",
          "data": {
            "text/plain": [
              "0.6354058571811908"
            ]
          },
          "metadata": {
            "tags": []
          },
          "execution_count": 81
        }
      ]
    }
  ]
}