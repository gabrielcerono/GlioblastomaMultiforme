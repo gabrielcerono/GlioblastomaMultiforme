{
  "nbformat": 4,
  "nbformat_minor": 0,
  "metadata": {
    "colab": {
      "name": "shieh2020.ipynb",
      "provenance": [],
      "authorship_tag": "ABX9TyPOebQ4WYmtUDph+j6P5bOo",
      "include_colab_link": true
    },
    "kernelspec": {
      "name": "python3",
      "display_name": "Python 3"
    },
    "language_info": {
      "name": "python"
    }
  },
  "cells": [
    {
      "cell_type": "markdown",
      "metadata": {
        "id": "view-in-github",
        "colab_type": "text"
      },
      "source": [
        "<a href=\"https://colab.research.google.com/github/gabrielcerono/GlioblastomaMultiforme/blob/main/shieh2020.ipynb\" target=\"_parent\"><img src=\"https://colab.research.google.com/assets/colab-badge.svg\" alt=\"Open In Colab\"/></a>"
      ]
    },
    {
      "cell_type": "code",
      "metadata": {
        "id": "smkRR4Gg9Y_C"
      },
      "source": [
        "import pandas as pd\n",
        "import matplotlib.pyplot as plt\n",
        "import numpy as np\n",
        "import sklearn as sk"
      ],
      "execution_count": 2,
      "outputs": []
    },
    {
      "cell_type": "markdown",
      "metadata": {
        "id": "9QXmh5TfEx_8"
      },
      "source": [
        "paper : https://doi.org/10.1371/journal.pone.0233188\n",
        "\n"
      ]
    },
    {
      "cell_type": "markdown",
      "metadata": {
        "id": "e8hbRcBBJocp"
      },
      "source": [
        " \" IDH and MGMT markers were not mandatory for routine pathologic reports \" Sadly we won't have this markers in this one, but we have it in other datasets."
      ]
    },
    {
      "cell_type": "code",
      "metadata": {
        "id": "VWtLUGuqEUzb"
      },
      "source": [
        "dataset = pd.read_excel('/content/shieh.xlsx')"
      ],
      "execution_count": 16,
      "outputs": []
    },
    {
      "cell_type": "code",
      "metadata": {
        "colab": {
          "base_uri": "https://localhost:8080/",
          "height": 205
        },
        "id": "qYTGd5A1FJtC",
        "outputId": "f24cc8ae-0506-40d1-e9fe-04416615eb48"
      },
      "source": [
        "dataset.head(5)"
      ],
      "execution_count": 17,
      "outputs": [
        {
          "output_type": "execute_result",
          "data": {
            "text/html": [
              "<div>\n",
              "<style scoped>\n",
              "    .dataframe tbody tr th:only-of-type {\n",
              "        vertical-align: middle;\n",
              "    }\n",
              "\n",
              "    .dataframe tbody tr th {\n",
              "        vertical-align: top;\n",
              "    }\n",
              "\n",
              "    .dataframe thead th {\n",
              "        text-align: right;\n",
              "    }\n",
              "</style>\n",
              "<table border=\"1\" class=\"dataframe\">\n",
              "  <thead>\n",
              "    <tr style=\"text-align: right;\">\n",
              "      <th></th>\n",
              "      <th>gender</th>\n",
              "      <th>age</th>\n",
              "      <th>statusPFS</th>\n",
              "      <th>statusOS</th>\n",
              "      <th>surgery</th>\n",
              "      <th>dose</th>\n",
              "      <th>TMZ</th>\n",
              "      <th>Chemogroup</th>\n",
              "      <th>Chemo</th>\n",
              "      <th>diagnostic year</th>\n",
              "      <th>OS</th>\n",
              "      <th>PFS</th>\n",
              "      <th>volume</th>\n",
              "      <th>gender.1</th>\n",
              "      <th>age.1</th>\n",
              "    </tr>\n",
              "  </thead>\n",
              "  <tbody>\n",
              "    <tr>\n",
              "      <th>0</th>\n",
              "      <td>1</td>\n",
              "      <td>63</td>\n",
              "      <td>1</td>\n",
              "      <td>1</td>\n",
              "      <td>1</td>\n",
              "      <td>6000</td>\n",
              "      <td>1.0</td>\n",
              "      <td>1</td>\n",
              "      <td>1</td>\n",
              "      <td>2</td>\n",
              "      <td>1.36</td>\n",
              "      <td>1.260274</td>\n",
              "      <td>731.0</td>\n",
              "      <td>1</td>\n",
              "      <td>63</td>\n",
              "    </tr>\n",
              "    <tr>\n",
              "      <th>1</th>\n",
              "      <td>1</td>\n",
              "      <td>64</td>\n",
              "      <td>1</td>\n",
              "      <td>1</td>\n",
              "      <td>0</td>\n",
              "      <td>6600</td>\n",
              "      <td>0.0</td>\n",
              "      <td>2</td>\n",
              "      <td>1</td>\n",
              "      <td>1</td>\n",
              "      <td>8.84</td>\n",
              "      <td>5.115068</td>\n",
              "      <td>NaN</td>\n",
              "      <td>1</td>\n",
              "      <td>64</td>\n",
              "    </tr>\n",
              "    <tr>\n",
              "      <th>2</th>\n",
              "      <td>1</td>\n",
              "      <td>62</td>\n",
              "      <td>1</td>\n",
              "      <td>1</td>\n",
              "      <td>1</td>\n",
              "      <td>6000</td>\n",
              "      <td>1.0</td>\n",
              "      <td>1</td>\n",
              "      <td>1</td>\n",
              "      <td>2</td>\n",
              "      <td>1.46</td>\n",
              "      <td>0.641096</td>\n",
              "      <td>215.0</td>\n",
              "      <td>1</td>\n",
              "      <td>62</td>\n",
              "    </tr>\n",
              "    <tr>\n",
              "      <th>3</th>\n",
              "      <td>1</td>\n",
              "      <td>71</td>\n",
              "      <td>1</td>\n",
              "      <td>1</td>\n",
              "      <td>1</td>\n",
              "      <td>6000</td>\n",
              "      <td>NaN</td>\n",
              "      <td>3</td>\n",
              "      <td>1</td>\n",
              "      <td>1</td>\n",
              "      <td>2.42</td>\n",
              "      <td>0.652055</td>\n",
              "      <td>255.0</td>\n",
              "      <td>1</td>\n",
              "      <td>71</td>\n",
              "    </tr>\n",
              "    <tr>\n",
              "      <th>4</th>\n",
              "      <td>1</td>\n",
              "      <td>21</td>\n",
              "      <td>1</td>\n",
              "      <td>1</td>\n",
              "      <td>0</td>\n",
              "      <td>5940</td>\n",
              "      <td>0.0</td>\n",
              "      <td>2</td>\n",
              "      <td>1</td>\n",
              "      <td>2</td>\n",
              "      <td>1.26</td>\n",
              "      <td>1.079452</td>\n",
              "      <td>154.0</td>\n",
              "      <td>1</td>\n",
              "      <td>21</td>\n",
              "    </tr>\n",
              "  </tbody>\n",
              "</table>\n",
              "</div>"
            ],
            "text/plain": [
              "   gender  age  statusPFS  statusOS  ...       PFS  volume  gender.1  age.1\n",
              "0       1   63          1         1  ...  1.260274   731.0         1     63\n",
              "1       1   64          1         1  ...  5.115068     NaN         1     64\n",
              "2       1   62          1         1  ...  0.641096   215.0         1     62\n",
              "3       1   71          1         1  ...  0.652055   255.0         1     71\n",
              "4       1   21          1         1  ...  1.079452   154.0         1     21\n",
              "\n",
              "[5 rows x 15 columns]"
            ]
          },
          "metadata": {
            "tags": []
          },
          "execution_count": 17
        }
      ]
    },
    {
      "cell_type": "code",
      "metadata": {
        "id": "ajhfjjEWFLXo"
      },
      "source": [
        "from sklearn.experimental import enable_iterative_imputer\n",
        "from sklearn.impute import IterativeImputer"
      ],
      "execution_count": 7,
      "outputs": []
    },
    {
      "cell_type": "markdown",
      "metadata": {
        "id": "6iY4n1yiH9x2"
      },
      "source": [
        "Let's do all the pre-processing needed"
      ]
    },
    {
      "cell_type": "code",
      "metadata": {
        "id": "uYSg2wrbIA-U"
      },
      "source": [
        "imp_mean = IterativeImputer(random_state=0)"
      ],
      "execution_count": 18,
      "outputs": []
    },
    {
      "cell_type": "code",
      "metadata": {
        "id": "I5ws3IVEIClA"
      },
      "source": [
        "data = imp_mean.fit_transform(dataset)"
      ],
      "execution_count": 19,
      "outputs": []
    },
    {
      "cell_type": "code",
      "metadata": {
        "id": "ebZFafl4IJiC"
      },
      "source": [
        "data = pd.DataFrame(data=data, columns= dataset.columns,)"
      ],
      "execution_count": 20,
      "outputs": []
    },
    {
      "cell_type": "code",
      "metadata": {
        "colab": {
          "base_uri": "https://localhost:8080/",
          "height": 205
        },
        "id": "F9RprXMEIKWc",
        "outputId": "f10ee70e-cf5e-4e80-ba15-a0fa5826b56e"
      },
      "source": [
        "data.head()"
      ],
      "execution_count": 21,
      "outputs": [
        {
          "output_type": "execute_result",
          "data": {
            "text/html": [
              "<div>\n",
              "<style scoped>\n",
              "    .dataframe tbody tr th:only-of-type {\n",
              "        vertical-align: middle;\n",
              "    }\n",
              "\n",
              "    .dataframe tbody tr th {\n",
              "        vertical-align: top;\n",
              "    }\n",
              "\n",
              "    .dataframe thead th {\n",
              "        text-align: right;\n",
              "    }\n",
              "</style>\n",
              "<table border=\"1\" class=\"dataframe\">\n",
              "  <thead>\n",
              "    <tr style=\"text-align: right;\">\n",
              "      <th></th>\n",
              "      <th>gender</th>\n",
              "      <th>age</th>\n",
              "      <th>statusPFS</th>\n",
              "      <th>statusOS</th>\n",
              "      <th>surgery</th>\n",
              "      <th>dose</th>\n",
              "      <th>TMZ</th>\n",
              "      <th>Chemogroup</th>\n",
              "      <th>Chemo</th>\n",
              "      <th>diagnostic year</th>\n",
              "      <th>OS</th>\n",
              "      <th>PFS</th>\n",
              "      <th>volume</th>\n",
              "      <th>gender.1</th>\n",
              "      <th>age.1</th>\n",
              "    </tr>\n",
              "  </thead>\n",
              "  <tbody>\n",
              "    <tr>\n",
              "      <th>0</th>\n",
              "      <td>1.0</td>\n",
              "      <td>63.0</td>\n",
              "      <td>1.0</td>\n",
              "      <td>1.0</td>\n",
              "      <td>1.0</td>\n",
              "      <td>6000.0</td>\n",
              "      <td>1.0</td>\n",
              "      <td>1.0</td>\n",
              "      <td>1.0</td>\n",
              "      <td>2.0</td>\n",
              "      <td>1.36</td>\n",
              "      <td>1.260274</td>\n",
              "      <td>731.000000</td>\n",
              "      <td>1.0</td>\n",
              "      <td>63.0</td>\n",
              "    </tr>\n",
              "    <tr>\n",
              "      <th>1</th>\n",
              "      <td>1.0</td>\n",
              "      <td>64.0</td>\n",
              "      <td>1.0</td>\n",
              "      <td>1.0</td>\n",
              "      <td>0.0</td>\n",
              "      <td>6600.0</td>\n",
              "      <td>0.0</td>\n",
              "      <td>2.0</td>\n",
              "      <td>1.0</td>\n",
              "      <td>1.0</td>\n",
              "      <td>8.84</td>\n",
              "      <td>5.115068</td>\n",
              "      <td>272.938289</td>\n",
              "      <td>1.0</td>\n",
              "      <td>64.0</td>\n",
              "    </tr>\n",
              "    <tr>\n",
              "      <th>2</th>\n",
              "      <td>1.0</td>\n",
              "      <td>62.0</td>\n",
              "      <td>1.0</td>\n",
              "      <td>1.0</td>\n",
              "      <td>1.0</td>\n",
              "      <td>6000.0</td>\n",
              "      <td>1.0</td>\n",
              "      <td>1.0</td>\n",
              "      <td>1.0</td>\n",
              "      <td>2.0</td>\n",
              "      <td>1.46</td>\n",
              "      <td>0.641096</td>\n",
              "      <td>215.000000</td>\n",
              "      <td>1.0</td>\n",
              "      <td>62.0</td>\n",
              "    </tr>\n",
              "    <tr>\n",
              "      <th>3</th>\n",
              "      <td>1.0</td>\n",
              "      <td>71.0</td>\n",
              "      <td>1.0</td>\n",
              "      <td>1.0</td>\n",
              "      <td>1.0</td>\n",
              "      <td>6000.0</td>\n",
              "      <td>-1.0</td>\n",
              "      <td>3.0</td>\n",
              "      <td>1.0</td>\n",
              "      <td>1.0</td>\n",
              "      <td>2.42</td>\n",
              "      <td>0.652055</td>\n",
              "      <td>255.000000</td>\n",
              "      <td>1.0</td>\n",
              "      <td>71.0</td>\n",
              "    </tr>\n",
              "    <tr>\n",
              "      <th>4</th>\n",
              "      <td>1.0</td>\n",
              "      <td>21.0</td>\n",
              "      <td>1.0</td>\n",
              "      <td>1.0</td>\n",
              "      <td>0.0</td>\n",
              "      <td>5940.0</td>\n",
              "      <td>0.0</td>\n",
              "      <td>2.0</td>\n",
              "      <td>1.0</td>\n",
              "      <td>2.0</td>\n",
              "      <td>1.26</td>\n",
              "      <td>1.079452</td>\n",
              "      <td>154.000000</td>\n",
              "      <td>1.0</td>\n",
              "      <td>21.0</td>\n",
              "    </tr>\n",
              "  </tbody>\n",
              "</table>\n",
              "</div>"
            ],
            "text/plain": [
              "   gender   age  statusPFS  statusOS  ...       PFS      volume  gender.1  age.1\n",
              "0     1.0  63.0        1.0       1.0  ...  1.260274  731.000000       1.0   63.0\n",
              "1     1.0  64.0        1.0       1.0  ...  5.115068  272.938289       1.0   64.0\n",
              "2     1.0  62.0        1.0       1.0  ...  0.641096  215.000000       1.0   62.0\n",
              "3     1.0  71.0        1.0       1.0  ...  0.652055  255.000000       1.0   71.0\n",
              "4     1.0  21.0        1.0       1.0  ...  1.079452  154.000000       1.0   21.0\n",
              "\n",
              "[5 rows x 15 columns]"
            ]
          },
          "metadata": {
            "tags": []
          },
          "execution_count": 21
        }
      ]
    },
    {
      "cell_type": "code",
      "metadata": {
        "id": "8JyZzdTEI0yU"
      },
      "source": [
        ""
      ],
      "execution_count": 12,
      "outputs": []
    },
    {
      "cell_type": "code",
      "metadata": {
        "colab": {
          "base_uri": "https://localhost:8080/",
          "height": 553
        },
        "id": "UXb0aczTMGJ-",
        "outputId": "02497d01-3d59-4a6a-e3b3-9044a1e23a20"
      },
      "source": [
        "data.corr(method = 'pearson')"
      ],
      "execution_count": 22,
      "outputs": [
        {
          "output_type": "execute_result",
          "data": {
            "text/html": [
              "<div>\n",
              "<style scoped>\n",
              "    .dataframe tbody tr th:only-of-type {\n",
              "        vertical-align: middle;\n",
              "    }\n",
              "\n",
              "    .dataframe tbody tr th {\n",
              "        vertical-align: top;\n",
              "    }\n",
              "\n",
              "    .dataframe thead th {\n",
              "        text-align: right;\n",
              "    }\n",
              "</style>\n",
              "<table border=\"1\" class=\"dataframe\">\n",
              "  <thead>\n",
              "    <tr style=\"text-align: right;\">\n",
              "      <th></th>\n",
              "      <th>gender</th>\n",
              "      <th>age</th>\n",
              "      <th>statusPFS</th>\n",
              "      <th>statusOS</th>\n",
              "      <th>surgery</th>\n",
              "      <th>dose</th>\n",
              "      <th>TMZ</th>\n",
              "      <th>Chemogroup</th>\n",
              "      <th>Chemo</th>\n",
              "      <th>diagnostic year</th>\n",
              "      <th>OS</th>\n",
              "      <th>PFS</th>\n",
              "      <th>volume</th>\n",
              "      <th>gender.1</th>\n",
              "      <th>age.1</th>\n",
              "    </tr>\n",
              "  </thead>\n",
              "  <tbody>\n",
              "    <tr>\n",
              "      <th>gender</th>\n",
              "      <td>1.000000</td>\n",
              "      <td>-0.163487</td>\n",
              "      <td>-0.139923</td>\n",
              "      <td>-0.113228</td>\n",
              "      <td>0.169842</td>\n",
              "      <td>0.117790</td>\n",
              "      <td>0.159428</td>\n",
              "      <td>-0.153072</td>\n",
              "      <td>-0.030024</td>\n",
              "      <td>-0.037493</td>\n",
              "      <td>0.043419</td>\n",
              "      <td>0.080638</td>\n",
              "      <td>-0.073217</td>\n",
              "      <td>1.000000</td>\n",
              "      <td>-0.163487</td>\n",
              "    </tr>\n",
              "    <tr>\n",
              "      <th>age</th>\n",
              "      <td>-0.163487</td>\n",
              "      <td>1.000000</td>\n",
              "      <td>0.202956</td>\n",
              "      <td>0.075994</td>\n",
              "      <td>-0.005687</td>\n",
              "      <td>-0.199397</td>\n",
              "      <td>0.046168</td>\n",
              "      <td>0.037592</td>\n",
              "      <td>0.110030</td>\n",
              "      <td>0.089632</td>\n",
              "      <td>-0.188313</td>\n",
              "      <td>-0.254452</td>\n",
              "      <td>0.153293</td>\n",
              "      <td>-0.163487</td>\n",
              "      <td>1.000000</td>\n",
              "    </tr>\n",
              "    <tr>\n",
              "      <th>statusPFS</th>\n",
              "      <td>-0.139923</td>\n",
              "      <td>0.202956</td>\n",
              "      <td>1.000000</td>\n",
              "      <td>0.570352</td>\n",
              "      <td>-0.063372</td>\n",
              "      <td>0.014962</td>\n",
              "      <td>-0.091558</td>\n",
              "      <td>0.045091</td>\n",
              "      <td>-0.044811</td>\n",
              "      <td>-0.075545</td>\n",
              "      <td>-0.022415</td>\n",
              "      <td>-0.143078</td>\n",
              "      <td>0.011984</td>\n",
              "      <td>-0.139923</td>\n",
              "      <td>0.202956</td>\n",
              "    </tr>\n",
              "    <tr>\n",
              "      <th>statusOS</th>\n",
              "      <td>-0.113228</td>\n",
              "      <td>0.075994</td>\n",
              "      <td>0.570352</td>\n",
              "      <td>1.000000</td>\n",
              "      <td>-0.111111</td>\n",
              "      <td>0.026233</td>\n",
              "      <td>-0.160530</td>\n",
              "      <td>0.079058</td>\n",
              "      <td>-0.078567</td>\n",
              "      <td>-0.132453</td>\n",
              "      <td>-0.028040</td>\n",
              "      <td>-0.045293</td>\n",
              "      <td>-0.083594</td>\n",
              "      <td>-0.113228</td>\n",
              "      <td>0.075994</td>\n",
              "    </tr>\n",
              "    <tr>\n",
              "      <th>surgery</th>\n",
              "      <td>0.169842</td>\n",
              "      <td>-0.005687</td>\n",
              "      <td>-0.063372</td>\n",
              "      <td>-0.111111</td>\n",
              "      <td>1.000000</td>\n",
              "      <td>-0.033926</td>\n",
              "      <td>0.171413</td>\n",
              "      <td>0.020329</td>\n",
              "      <td>0.235702</td>\n",
              "      <td>0.132453</td>\n",
              "      <td>-0.118900</td>\n",
              "      <td>-0.001697</td>\n",
              "      <td>0.088748</td>\n",
              "      <td>0.169842</td>\n",
              "      <td>-0.005687</td>\n",
              "    </tr>\n",
              "    <tr>\n",
              "      <th>dose</th>\n",
              "      <td>0.117790</td>\n",
              "      <td>-0.199397</td>\n",
              "      <td>0.014962</td>\n",
              "      <td>0.026233</td>\n",
              "      <td>-0.033926</td>\n",
              "      <td>1.000000</td>\n",
              "      <td>-0.132206</td>\n",
              "      <td>0.315258</td>\n",
              "      <td>0.297829</td>\n",
              "      <td>-0.334150</td>\n",
              "      <td>0.468474</td>\n",
              "      <td>0.378734</td>\n",
              "      <td>-0.162929</td>\n",
              "      <td>0.117790</td>\n",
              "      <td>-0.199397</td>\n",
              "    </tr>\n",
              "    <tr>\n",
              "      <th>TMZ</th>\n",
              "      <td>0.159428</td>\n",
              "      <td>0.046168</td>\n",
              "      <td>-0.091558</td>\n",
              "      <td>-0.160530</td>\n",
              "      <td>0.171413</td>\n",
              "      <td>-0.132206</td>\n",
              "      <td>1.000000</td>\n",
              "      <td>-0.730626</td>\n",
              "      <td>0.144294</td>\n",
              "      <td>0.515709</td>\n",
              "      <td>0.092544</td>\n",
              "      <td>0.077335</td>\n",
              "      <td>-0.057429</td>\n",
              "      <td>0.159428</td>\n",
              "      <td>0.046168</td>\n",
              "    </tr>\n",
              "    <tr>\n",
              "      <th>Chemogroup</th>\n",
              "      <td>-0.153072</td>\n",
              "      <td>0.037592</td>\n",
              "      <td>0.045091</td>\n",
              "      <td>0.079058</td>\n",
              "      <td>0.020329</td>\n",
              "      <td>0.315258</td>\n",
              "      <td>-0.730626</td>\n",
              "      <td>1.000000</td>\n",
              "      <td>0.570208</td>\n",
              "      <td>-0.370692</td>\n",
              "      <td>0.002759</td>\n",
              "      <td>-0.051486</td>\n",
              "      <td>0.013387</td>\n",
              "      <td>-0.153072</td>\n",
              "      <td>0.037592</td>\n",
              "    </tr>\n",
              "    <tr>\n",
              "      <th>Chemo</th>\n",
              "      <td>-0.030024</td>\n",
              "      <td>0.110030</td>\n",
              "      <td>-0.044811</td>\n",
              "      <td>-0.078567</td>\n",
              "      <td>0.235702</td>\n",
              "      <td>0.297829</td>\n",
              "      <td>0.144294</td>\n",
              "      <td>0.570208</td>\n",
              "      <td>1.000000</td>\n",
              "      <td>0.083252</td>\n",
              "      <td>0.115345</td>\n",
              "      <td>0.018430</td>\n",
              "      <td>-0.049697</td>\n",
              "      <td>-0.030024</td>\n",
              "      <td>0.110030</td>\n",
              "    </tr>\n",
              "    <tr>\n",
              "      <th>diagnostic year</th>\n",
              "      <td>-0.037493</td>\n",
              "      <td>0.089632</td>\n",
              "      <td>-0.075545</td>\n",
              "      <td>-0.132453</td>\n",
              "      <td>0.132453</td>\n",
              "      <td>-0.334150</td>\n",
              "      <td>0.515709</td>\n",
              "      <td>-0.370692</td>\n",
              "      <td>0.083252</td>\n",
              "      <td>1.000000</td>\n",
              "      <td>-0.345445</td>\n",
              "      <td>-0.203701</td>\n",
              "      <td>-0.077207</td>\n",
              "      <td>-0.037493</td>\n",
              "      <td>0.089632</td>\n",
              "    </tr>\n",
              "    <tr>\n",
              "      <th>OS</th>\n",
              "      <td>0.043419</td>\n",
              "      <td>-0.188313</td>\n",
              "      <td>-0.022415</td>\n",
              "      <td>-0.028040</td>\n",
              "      <td>-0.118900</td>\n",
              "      <td>0.468474</td>\n",
              "      <td>0.092544</td>\n",
              "      <td>0.002759</td>\n",
              "      <td>0.115345</td>\n",
              "      <td>-0.345445</td>\n",
              "      <td>1.000000</td>\n",
              "      <td>0.730692</td>\n",
              "      <td>0.127147</td>\n",
              "      <td>0.043419</td>\n",
              "      <td>-0.188313</td>\n",
              "    </tr>\n",
              "    <tr>\n",
              "      <th>PFS</th>\n",
              "      <td>0.080638</td>\n",
              "      <td>-0.254452</td>\n",
              "      <td>-0.143078</td>\n",
              "      <td>-0.045293</td>\n",
              "      <td>-0.001697</td>\n",
              "      <td>0.378734</td>\n",
              "      <td>0.077335</td>\n",
              "      <td>-0.051486</td>\n",
              "      <td>0.018430</td>\n",
              "      <td>-0.203701</td>\n",
              "      <td>0.730692</td>\n",
              "      <td>1.000000</td>\n",
              "      <td>-0.048545</td>\n",
              "      <td>0.080638</td>\n",
              "      <td>-0.254452</td>\n",
              "    </tr>\n",
              "    <tr>\n",
              "      <th>volume</th>\n",
              "      <td>-0.073217</td>\n",
              "      <td>0.153293</td>\n",
              "      <td>0.011984</td>\n",
              "      <td>-0.083594</td>\n",
              "      <td>0.088748</td>\n",
              "      <td>-0.162929</td>\n",
              "      <td>-0.057429</td>\n",
              "      <td>0.013387</td>\n",
              "      <td>-0.049697</td>\n",
              "      <td>-0.077207</td>\n",
              "      <td>0.127147</td>\n",
              "      <td>-0.048545</td>\n",
              "      <td>1.000000</td>\n",
              "      <td>-0.073217</td>\n",
              "      <td>0.153293</td>\n",
              "    </tr>\n",
              "    <tr>\n",
              "      <th>gender.1</th>\n",
              "      <td>1.000000</td>\n",
              "      <td>-0.163487</td>\n",
              "      <td>-0.139923</td>\n",
              "      <td>-0.113228</td>\n",
              "      <td>0.169842</td>\n",
              "      <td>0.117790</td>\n",
              "      <td>0.159428</td>\n",
              "      <td>-0.153072</td>\n",
              "      <td>-0.030024</td>\n",
              "      <td>-0.037493</td>\n",
              "      <td>0.043419</td>\n",
              "      <td>0.080638</td>\n",
              "      <td>-0.073217</td>\n",
              "      <td>1.000000</td>\n",
              "      <td>-0.163487</td>\n",
              "    </tr>\n",
              "    <tr>\n",
              "      <th>age.1</th>\n",
              "      <td>-0.163487</td>\n",
              "      <td>1.000000</td>\n",
              "      <td>0.202956</td>\n",
              "      <td>0.075994</td>\n",
              "      <td>-0.005687</td>\n",
              "      <td>-0.199397</td>\n",
              "      <td>0.046168</td>\n",
              "      <td>0.037592</td>\n",
              "      <td>0.110030</td>\n",
              "      <td>0.089632</td>\n",
              "      <td>-0.188313</td>\n",
              "      <td>-0.254452</td>\n",
              "      <td>0.153293</td>\n",
              "      <td>-0.163487</td>\n",
              "      <td>1.000000</td>\n",
              "    </tr>\n",
              "  </tbody>\n",
              "</table>\n",
              "</div>"
            ],
            "text/plain": [
              "                   gender       age  statusPFS  ...    volume  gender.1     age.1\n",
              "gender           1.000000 -0.163487  -0.139923  ... -0.073217  1.000000 -0.163487\n",
              "age             -0.163487  1.000000   0.202956  ...  0.153293 -0.163487  1.000000\n",
              "statusPFS       -0.139923  0.202956   1.000000  ...  0.011984 -0.139923  0.202956\n",
              "statusOS        -0.113228  0.075994   0.570352  ... -0.083594 -0.113228  0.075994\n",
              "surgery          0.169842 -0.005687  -0.063372  ...  0.088748  0.169842 -0.005687\n",
              "dose             0.117790 -0.199397   0.014962  ... -0.162929  0.117790 -0.199397\n",
              "TMZ              0.159428  0.046168  -0.091558  ... -0.057429  0.159428  0.046168\n",
              "Chemogroup      -0.153072  0.037592   0.045091  ...  0.013387 -0.153072  0.037592\n",
              "Chemo           -0.030024  0.110030  -0.044811  ... -0.049697 -0.030024  0.110030\n",
              "diagnostic year -0.037493  0.089632  -0.075545  ... -0.077207 -0.037493  0.089632\n",
              "OS               0.043419 -0.188313  -0.022415  ...  0.127147  0.043419 -0.188313\n",
              "PFS              0.080638 -0.254452  -0.143078  ... -0.048545  0.080638 -0.254452\n",
              "volume          -0.073217  0.153293   0.011984  ...  1.000000 -0.073217  0.153293\n",
              "gender.1         1.000000 -0.163487  -0.139923  ... -0.073217  1.000000 -0.163487\n",
              "age.1           -0.163487  1.000000   0.202956  ...  0.153293 -0.163487  1.000000\n",
              "\n",
              "[15 rows x 15 columns]"
            ]
          },
          "metadata": {
            "tags": []
          },
          "execution_count": 22
        }
      ]
    },
    {
      "cell_type": "code",
      "metadata": {
        "id": "hXeZBzucuHTE"
      },
      "source": [
        "data.drop(columns = ['TMZ', 'gender.1', 'age.1',], axis = 1, inplace= True)"
      ],
      "execution_count": 23,
      "outputs": []
    },
    {
      "cell_type": "markdown",
      "metadata": {
        "id": "LJsf_ygOL1TU"
      },
      "source": [
        "Converting Y to the ndarray so the sksurv package can process it"
      ]
    },
    {
      "cell_type": "code",
      "metadata": {
        "id": "aLJ3ccO7MtZ8"
      },
      "source": [
        "Y = data[['statusOS', 'OS']]"
      ],
      "execution_count": 24,
      "outputs": []
    },
    {
      "cell_type": "code",
      "metadata": {
        "id": "7_VqQOEcNrGi"
      },
      "source": [
        "X = data.drop(columns=['statusOS', 'OS'])"
      ],
      "execution_count": 25,
      "outputs": []
    },
    {
      "cell_type": "code",
      "metadata": {
        "colab": {
          "base_uri": "https://localhost:8080/"
        },
        "id": "Ce2iyeEpL6O5",
        "outputId": "cb409d88-e60b-406f-babd-09f63c206144"
      },
      "source": [
        "Y['statusOS'] = Y['statusOS'].map({1.0: True, 0: False})\n"
      ],
      "execution_count": 26,
      "outputs": [
        {
          "output_type": "stream",
          "text": [
            "/usr/local/lib/python3.7/dist-packages/ipykernel_launcher.py:1: SettingWithCopyWarning: \n",
            "A value is trying to be set on a copy of a slice from a DataFrame.\n",
            "Try using .loc[row_indexer,col_indexer] = value instead\n",
            "\n",
            "See the caveats in the documentation: https://pandas.pydata.org/pandas-docs/stable/user_guide/indexing.html#returning-a-view-versus-a-copy\n",
            "  \"\"\"Entry point for launching an IPython kernel.\n"
          ],
          "name": "stderr"
        }
      ]
    },
    {
      "cell_type": "code",
      "metadata": {
        "id": "3EoMsV_-OG46"
      },
      "source": [
        "Y = Y.to_records(index=False)"
      ],
      "execution_count": 27,
      "outputs": []
    },
    {
      "cell_type": "code",
      "metadata": {
        "colab": {
          "base_uri": "https://localhost:8080/"
        },
        "id": "37LkZmjdOKce",
        "outputId": "8dc91c3e-f343-49a8-8976-a13a42f5b393"
      },
      "source": [
        "Y"
      ],
      "execution_count": 28,
      "outputs": [
        {
          "output_type": "execute_result",
          "data": {
            "text/plain": [
              "rec.array([( True, 1.36), ( True, 8.84), ( True, 1.46), ( True, 2.42),\n",
              "           ( True, 1.26), ( True, 0.85), ( True, 6.43), ( True, 0.63),\n",
              "           ( True, 0.96), ( True, 1.32), ( True, 2.82), ( True, 0.77),\n",
              "           ( True, 0.84), (False, 2.38), ( True, 0.23), ( True, 1.  ),\n",
              "           ( True, 3.5 ), ( True, 1.18), ( True, 5.4 ), ( True, 1.93),\n",
              "           ( True, 0.59), ( True, 0.48), ( True, 2.25), ( True, 1.34),\n",
              "           ( True, 0.9 ), ( True, 1.12), ( True, 0.58), ( True, 1.01),\n",
              "           ( True, 0.88), ( True, 0.62), ( True, 1.59), ( True, 2.33),\n",
              "           ( True, 1.66), ( True, 1.11), ( True, 0.79), ( True, 1.11),\n",
              "           ( True, 2.92), ( True, 1.22), ( True, 1.9 ), ( True, 2.5 ),\n",
              "           ( True, 0.32), ( True, 2.22), ( True, 9.15), ( True, 0.45),\n",
              "           ( True, 1.37), ( True, 3.45), ( True, 5.07), ( True, 1.82),\n",
              "           ( True, 0.41), ( True, 0.95), ( True, 0.98), ( True, 1.38),\n",
              "           ( True, 1.82), ( True, 2.68), ( True, 0.89), ( True, 1.68),\n",
              "           ( True, 1.77), ( True, 1.67), ( True, 0.35), ( True, 1.71),\n",
              "           ( True, 0.9 ), ( True, 0.73), ( True, 0.53), ( True, 0.68),\n",
              "           ( True, 1.04), (False, 2.05), ( True, 0.88), (False, 1.43),\n",
              "           ( True, 1.15), ( True, 4.58), ( True, 0.21), ( True, 0.52),\n",
              "           ( True, 2.93), ( True, 0.91), ( True, 0.41), ( True, 1.01),\n",
              "           ( True, 1.99), ( True, 0.47), ( True, 1.11), ( True, 4.74),\n",
              "           ( True, 1.19), ( True, 0.96), ( True, 0.56), ( True, 0.26)],\n",
              "          dtype=[('statusOS', '?'), ('OS', '<f8')])"
            ]
          },
          "metadata": {
            "tags": []
          },
          "execution_count": 28
        }
      ]
    },
    {
      "cell_type": "markdown",
      "metadata": {
        "id": "LYKNsZ_1Pf2A"
      },
      "source": [
        "# Let's do the ranking"
      ]
    },
    {
      "cell_type": "code",
      "metadata": {
        "id": "s_nNLmxsPknF"
      },
      "source": [
        "!pip install --upgrade pip\n",
        "!pip uninstall --yes --quiet osqp\n",
        "!pip install -U scikit-survival"
      ],
      "execution_count": null,
      "outputs": []
    },
    {
      "cell_type": "code",
      "metadata": {
        "id": "oO2oGQEAPqhS",
        "colab": {
          "base_uri": "https://localhost:8080/"
        },
        "outputId": "64796034-cdf2-4821-a845-fafd7fb2f565"
      },
      "source": [
        "pip install eli5"
      ],
      "execution_count": 30,
      "outputs": [
        {
          "output_type": "stream",
          "text": [
            "Collecting eli5\n",
            "  Downloading eli5-0.11.0-py2.py3-none-any.whl (106 kB)\n",
            "\u001b[?25l\r\u001b[K     |███                             | 10 kB 16.8 MB/s eta 0:00:01\r\u001b[K     |██████▏                         | 20 kB 13.4 MB/s eta 0:00:01\r\u001b[K     |█████████▎                      | 30 kB 14.9 MB/s eta 0:00:01\r\u001b[K     |████████████▍                   | 40 kB 14.9 MB/s eta 0:00:01\r\u001b[K     |███████████████▌                | 51 kB 16.5 MB/s eta 0:00:01\r\u001b[K     |██████████████████▌             | 61 kB 18.2 MB/s eta 0:00:01\r\u001b[K     |█████████████████████▋          | 71 kB 19.3 MB/s eta 0:00:01\r\u001b[K     |████████████████████████▊       | 81 kB 20.2 MB/s eta 0:00:01\r\u001b[K     |███████████████████████████▉    | 92 kB 21.3 MB/s eta 0:00:01\r\u001b[K     |███████████████████████████████ | 102 kB 22.1 MB/s eta 0:00:01\r\u001b[K     |████████████████████████████████| 106 kB 22.1 MB/s \n",
            "\u001b[?25hRequirement already satisfied: scikit-learn>=0.20 in /usr/local/lib/python3.7/dist-packages (from eli5) (0.22.2.post1)\n",
            "Requirement already satisfied: graphviz in /usr/local/lib/python3.7/dist-packages (from eli5) (0.10.1)\n",
            "Requirement already satisfied: six in /usr/local/lib/python3.7/dist-packages (from eli5) (1.15.0)\n",
            "Requirement already satisfied: jinja2 in /usr/local/lib/python3.7/dist-packages (from eli5) (2.11.3)\n",
            "Requirement already satisfied: attrs>16.0.0 in /usr/local/lib/python3.7/dist-packages (from eli5) (21.2.0)\n",
            "Requirement already satisfied: numpy>=1.9.0 in /usr/local/lib/python3.7/dist-packages (from eli5) (1.19.5)\n",
            "Requirement already satisfied: scipy in /usr/local/lib/python3.7/dist-packages (from eli5) (1.4.1)\n",
            "Requirement already satisfied: tabulate>=0.7.7 in /usr/local/lib/python3.7/dist-packages (from eli5) (0.8.9)\n",
            "Requirement already satisfied: joblib>=0.11 in /usr/local/lib/python3.7/dist-packages (from scikit-learn>=0.20->eli5) (1.0.1)\n",
            "Requirement already satisfied: MarkupSafe>=0.23 in /usr/local/lib/python3.7/dist-packages (from jinja2->eli5) (2.0.1)\n",
            "Installing collected packages: eli5\n",
            "Successfully installed eli5-0.11.0\n",
            "\u001b[33mWARNING: Running pip as the 'root' user can result in broken permissions and conflicting behaviour with the system package manager. It is recommended to use a virtual environment instead: https://pip.pypa.io/warnings/venv\u001b[0m\n"
          ],
          "name": "stdout"
        }
      ]
    },
    {
      "cell_type": "code",
      "metadata": {
        "id": "x9IUhms_QLB2",
        "colab": {
          "base_uri": "https://localhost:8080/"
        },
        "outputId": "ddf3297f-e1af-47f8-ea71-c1d6959b4cdd"
      },
      "source": [
        "from sksurv.ensemble import RandomSurvivalForest\n",
        "from sklearn.model_selection import train_test_split\n",
        "from eli5.sklearn import PermutationImportance\n",
        "import eli5\n"
      ],
      "execution_count": 31,
      "outputs": [
        {
          "output_type": "stream",
          "text": [
            "/usr/local/lib/python3.7/dist-packages/sklearn/utils/deprecation.py:144: FutureWarning: The sklearn.feature_selection.base module is  deprecated in version 0.22 and will be removed in version 0.24. The corresponding classes / functions should instead be imported from sklearn.feature_selection. Anything that cannot be imported from sklearn.feature_selection is now part of the private API.\n",
            "  warnings.warn(message, FutureWarning)\n"
          ],
          "name": "stderr"
        }
      ]
    },
    {
      "cell_type": "code",
      "metadata": {
        "id": "YDs33q8MQM3j"
      },
      "source": [
        "rsf = RandomSurvivalForest()\n"
      ],
      "execution_count": 32,
      "outputs": []
    },
    {
      "cell_type": "code",
      "metadata": {
        "id": "p__GgWXDQTwp"
      },
      "source": [
        "def permutation(X, y, model, loops):\n",
        "  rankings = np.zeros(len(X.columns),)\n",
        "  c_score_total = []\n",
        "  a= 0\n",
        "  np.random.seed(42); randseed = np.random.randint(9999, size = 1500)\n",
        "  for x in range(loops):\n",
        "\n",
        "    #Let's do this trick with the seeding, so we can have the same test \n",
        "    a += 1\n",
        "    seed = randseed[a]\n",
        "  #Let's do a splitting 1/3 train, 1/3 rank, 1/3 test\n",
        "    X_train, X_test, y_train, y_test = train_test_split(\n",
        "    X, Y, test_size=0.33, random_state = seed )\n",
        "    X_train, X_rank, y_train, y_rank = train_test_split(\n",
        "    X, Y, test_size=0.5, random_state = seed)\n",
        "  #Let's train the model on the \n",
        "    model.fit(X_train, y_train)\n",
        "  #Let's define the permutation.\n",
        "    permuter = PermutationImportance(\n",
        "    estimator = model,\n",
        "    n_iter = 10)\n",
        "  #Let's fit the permutator on the Y test, (This permutation only shuffle the Y test.)\n",
        "    permuter.fit(X_rank, y_rank)\n",
        "  \n",
        "    columns = X_test.columns.to_list()\n",
        "  #The feature importance will give us and n array of how much \n",
        "    feature_importance = permuter.feature_importances_\n",
        "    rankings = np.add(feature_importance, rankings)\n",
        "  #Let's compute the scores\n",
        "    c_score = model.score(X_test, y_test)\n",
        "    c_score_total.append(c_score)\n",
        "\n",
        "  \n",
        "    \n",
        "  #Dividing to get the average \n",
        "  ranking_terminal = np.true_divide(rankings, loops) \n",
        "  c_rank = pd.Series(ranking_terminal, columns).sort_values(ascending = False)\n",
        "  c_mean = np.mean(np.array(c_score_total))\n",
        "  \n",
        "\n",
        "\n",
        "\n",
        "  return c_rank, c_mean"
      ],
      "execution_count": 34,
      "outputs": []
    },
    {
      "cell_type": "code",
      "metadata": {
        "id": "fDgdJmlrQj7u"
      },
      "source": [
        "rank, c_mean = permutation(X, Y, rsf, 100)"
      ],
      "execution_count": 35,
      "outputs": []
    },
    {
      "cell_type": "code",
      "metadata": {
        "colab": {
          "base_uri": "https://localhost:8080/"
        },
        "id": "CkwxH47IRIrV",
        "outputId": "b7519b7b-b9ba-4213-bd90-4897585dfe10"
      },
      "source": [
        "rank"
      ],
      "execution_count": 36,
      "outputs": [
        {
          "output_type": "execute_result",
          "data": {
            "text/plain": [
              "PFS                0.201808\n",
              "age                0.014192\n",
              "dose               0.007611\n",
              "diagnostic year    0.005469\n",
              "Chemogroup         0.002175\n",
              "Chemo              0.001225\n",
              "statusPFS          0.000000\n",
              "surgery           -0.001809\n",
              "gender            -0.002703\n",
              "volume            -0.002767\n",
              "dtype: float64"
            ]
          },
          "metadata": {
            "tags": []
          },
          "execution_count": 36
        }
      ]
    },
    {
      "cell_type": "code",
      "metadata": {
        "colab": {
          "base_uri": "https://localhost:8080/"
        },
        "id": "OaGwtR3vRJm-",
        "outputId": "58221fb0-4b25-4fe0-d21f-e2db40c17c6b"
      },
      "source": [
        "c_mean"
      ],
      "execution_count": 37,
      "outputs": [
        {
          "output_type": "execute_result",
          "data": {
            "text/plain": [
              "0.7656820876370868"
            ]
          },
          "metadata": {
            "tags": []
          },
          "execution_count": 37
        }
      ]
    },
    {
      "cell_type": "markdown",
      "metadata": {
        "id": "luSdzR3evp8P"
      },
      "source": [
        "Now let's try the first 2 feature."
      ]
    },
    {
      "cell_type": "code",
      "metadata": {
        "id": "xa9DdR4WvpV2"
      },
      "source": [
        "X_tf = data[['PFS', 'age']]"
      ],
      "execution_count": 43,
      "outputs": []
    },
    {
      "cell_type": "code",
      "metadata": {
        "id": "VrDCL5fwvpZD"
      },
      "source": [
        "def top2features(X, y, model, loops):\n",
        "  \n",
        "  c_score_total = []\n",
        "  a= 0\n",
        "  np.random.seed(42); randseed = np.random.randint(9999, size = 1500)\n",
        "  for x in range(loops):\n",
        "\n",
        "    #Let's do this trick with the seeding, so we can have the same array of test sets, that we had in the previous feature selection algorithm. \n",
        "    a += 1\n",
        "    seed = randseed[a]\n",
        "  #Let's do a splitting 1/3 train, 1/3 rank, 1/3 test\n",
        "    X_train, X_test, y_train, y_test = train_test_split(\n",
        "    X, Y, test_size=0.33, random_state = seed )\n",
        "    X_train, X_rank, y_train, y_rank = train_test_split(\n",
        "    X, Y, test_size=0.5, random_state = seed)\n",
        "  #Let's train the model on the \n",
        "    model.fit(X_train, y_train)\n",
        "  #Let's compute the scores\n",
        "    c_score = model.score(X_test, y_test)\n",
        "    c_score_total.append(c_score)\n",
        "\n",
        "  \n",
        "  c_mean_top2 = np.mean(np.array(c_score_total))\n",
        "  \n",
        "\n",
        "\n",
        "\n",
        "  return c_mean_top2"
      ],
      "execution_count": 39,
      "outputs": []
    },
    {
      "cell_type": "code",
      "metadata": {
        "id": "ZbF7JYYSv5t1"
      },
      "source": [
        "c_score_tf = top2features(X_tf, Y, rsf, 100)"
      ],
      "execution_count": 44,
      "outputs": []
    },
    {
      "cell_type": "code",
      "metadata": {
        "colab": {
          "base_uri": "https://localhost:8080/"
        },
        "id": "AFksFloLwOzH",
        "outputId": "fb25acd2-2294-4338-c679-aa4d51552f46"
      },
      "source": [
        "c_score_tf "
      ],
      "execution_count": 45,
      "outputs": [
        {
          "output_type": "execute_result",
          "data": {
            "text/plain": [
              "0.7707494191374952"
            ]
          },
          "metadata": {
            "tags": []
          },
          "execution_count": 45
        }
      ]
    }
  ]
}