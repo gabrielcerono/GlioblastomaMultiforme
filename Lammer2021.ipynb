{
  "nbformat": 4,
  "nbformat_minor": 0,
  "metadata": {
    "colab": {
      "name": "Lammer2021.ipynb",
      "provenance": [],
      "collapsed_sections": [
        "HW-t9mMhFmdL"
      ],
      "authorship_tag": "ABX9TyO3qLc19KsIeHjwcEY8oDt7",
      "include_colab_link": true
    },
    "kernelspec": {
      "name": "python3",
      "display_name": "Python 3"
    },
    "language_info": {
      "name": "python"
    }
  },
  "cells": [
    {
      "cell_type": "markdown",
      "metadata": {
        "id": "view-in-github",
        "colab_type": "text"
      },
      "source": [
        "<a href=\"https://colab.research.google.com/github/gabrielcerono/GlioblastomaMultiforme/blob/main/Lammer2021.ipynb\" target=\"_parent\"><img src=\"https://colab.research.google.com/assets/colab-badge.svg\" alt=\"Open In Colab\"/></a>"
      ]
    },
    {
      "cell_type": "markdown",
      "metadata": {
        "id": "DHWb94GMDjhe"
      },
      "source": [
        "The paper is found here: https://doi.org/10.1371/journal.pone.0221502https://doi.org/10.1371/journal.pone.0221502\n",
        "\n",
        "\n",
        "The original dataset here: https://figshare.com/articles/dataset/Clinical_data_of_individual_patients_/14201600"
      ]
    },
    {
      "cell_type": "code",
      "metadata": {
        "id": "vhJZMvEWDie3"
      },
      "source": [
        "import pandas as pd\n",
        "import matplotlib.pyplot as plt\n",
        "import numpy as np\n",
        "import sklearn as sk\n",
        "import warnings\n",
        "warnings.filterwarnings(\"ignore\", category=RuntimeWarning) "
      ],
      "execution_count": 49,
      "outputs": []
    },
    {
      "cell_type": "code",
      "metadata": {
        "id": "d0SOhl3bD2s0"
      },
      "source": [
        "dataset = pd.read_csv('/content/glioblastomadataset.csv')"
      ],
      "execution_count": 50,
      "outputs": []
    },
    {
      "cell_type": "code",
      "metadata": {
        "colab": {
          "base_uri": "https://localhost:8080/",
          "height": 203
        },
        "id": "mKVPfBS3Eb-v",
        "outputId": "395f56ef-2c5d-46fe-ad99-353271bb4f2c"
      },
      "source": [
        "dataset.head()"
      ],
      "execution_count": 51,
      "outputs": [
        {
          "output_type": "execute_result",
          "data": {
            "text/html": [
              "<div>\n",
              "<style scoped>\n",
              "    .dataframe tbody tr th:only-of-type {\n",
              "        vertical-align: middle;\n",
              "    }\n",
              "\n",
              "    .dataframe tbody tr th {\n",
              "        vertical-align: top;\n",
              "    }\n",
              "\n",
              "    .dataframe thead th {\n",
              "        text-align: right;\n",
              "    }\n",
              "</style>\n",
              "<table border=\"1\" class=\"dataframe\">\n",
              "  <thead>\n",
              "    <tr style=\"text-align: right;\">\n",
              "      <th></th>\n",
              "      <th>sex_0f_1m</th>\n",
              "      <th>age_years</th>\n",
              "      <th>did_progress</th>\n",
              "      <th>MGMT_methylation</th>\n",
              "      <th>cHsp70_0low_1high</th>\n",
              "      <th>survival</th>\n",
              "      <th>PFS_months</th>\n",
              "    </tr>\n",
              "  </thead>\n",
              "  <tbody>\n",
              "    <tr>\n",
              "      <th>0</th>\n",
              "      <td>0</td>\n",
              "      <td>50</td>\n",
              "      <td>1</td>\n",
              "      <td>0</td>\n",
              "      <td>0</td>\n",
              "      <td>0</td>\n",
              "      <td>4.6</td>\n",
              "    </tr>\n",
              "    <tr>\n",
              "      <th>1</th>\n",
              "      <td>0</td>\n",
              "      <td>60</td>\n",
              "      <td>1</td>\n",
              "      <td>0</td>\n",
              "      <td>0</td>\n",
              "      <td>0</td>\n",
              "      <td>0.7</td>\n",
              "    </tr>\n",
              "    <tr>\n",
              "      <th>2</th>\n",
              "      <td>0</td>\n",
              "      <td>53</td>\n",
              "      <td>1</td>\n",
              "      <td>0</td>\n",
              "      <td>0</td>\n",
              "      <td>1</td>\n",
              "      <td>11.3</td>\n",
              "    </tr>\n",
              "    <tr>\n",
              "      <th>3</th>\n",
              "      <td>0</td>\n",
              "      <td>43</td>\n",
              "      <td>1</td>\n",
              "      <td>0</td>\n",
              "      <td>0</td>\n",
              "      <td>1</td>\n",
              "      <td>10.3</td>\n",
              "    </tr>\n",
              "    <tr>\n",
              "      <th>4</th>\n",
              "      <td>0</td>\n",
              "      <td>65</td>\n",
              "      <td>1</td>\n",
              "      <td>1</td>\n",
              "      <td>0</td>\n",
              "      <td>0</td>\n",
              "      <td>7.9</td>\n",
              "    </tr>\n",
              "  </tbody>\n",
              "</table>\n",
              "</div>"
            ],
            "text/plain": [
              "   sex_0f_1m  age_years  did_progress  ...  cHsp70_0low_1high  survival  PFS_months\n",
              "0          0         50             1  ...                  0         0         4.6\n",
              "1          0         60             1  ...                  0         0         0.7\n",
              "2          0         53             1  ...                  0         1        11.3\n",
              "3          0         43             1  ...                  0         1        10.3\n",
              "4          0         65             1  ...                  0         0         7.9\n",
              "\n",
              "[5 rows x 7 columns]"
            ]
          },
          "metadata": {
            "tags": []
          },
          "execution_count": 51
        }
      ]
    },
    {
      "cell_type": "code",
      "metadata": {
        "colab": {
          "base_uri": "https://localhost:8080/",
          "height": 297
        },
        "id": "PsO9oXTnrOB3",
        "outputId": "b7874324-839f-486e-ea64-b204c05247a9"
      },
      "source": [
        "dataset.describe()"
      ],
      "execution_count": 52,
      "outputs": [
        {
          "output_type": "execute_result",
          "data": {
            "text/html": [
              "<div>\n",
              "<style scoped>\n",
              "    .dataframe tbody tr th:only-of-type {\n",
              "        vertical-align: middle;\n",
              "    }\n",
              "\n",
              "    .dataframe tbody tr th {\n",
              "        vertical-align: top;\n",
              "    }\n",
              "\n",
              "    .dataframe thead th {\n",
              "        text-align: right;\n",
              "    }\n",
              "</style>\n",
              "<table border=\"1\" class=\"dataframe\">\n",
              "  <thead>\n",
              "    <tr style=\"text-align: right;\">\n",
              "      <th></th>\n",
              "      <th>sex_0f_1m</th>\n",
              "      <th>age_years</th>\n",
              "      <th>did_progress</th>\n",
              "      <th>MGMT_methylation</th>\n",
              "      <th>cHsp70_0low_1high</th>\n",
              "      <th>survival</th>\n",
              "      <th>PFS_months</th>\n",
              "    </tr>\n",
              "  </thead>\n",
              "  <tbody>\n",
              "    <tr>\n",
              "      <th>count</th>\n",
              "      <td>60.000000</td>\n",
              "      <td>60.000000</td>\n",
              "      <td>60.000000</td>\n",
              "      <td>60.000000</td>\n",
              "      <td>60.000000</td>\n",
              "      <td>60.000000</td>\n",
              "      <td>60.000000</td>\n",
              "    </tr>\n",
              "    <tr>\n",
              "      <th>mean</th>\n",
              "      <td>0.583333</td>\n",
              "      <td>56.983333</td>\n",
              "      <td>0.916667</td>\n",
              "      <td>0.383333</td>\n",
              "      <td>0.633333</td>\n",
              "      <td>0.400000</td>\n",
              "      <td>15.713333</td>\n",
              "    </tr>\n",
              "    <tr>\n",
              "      <th>std</th>\n",
              "      <td>0.497167</td>\n",
              "      <td>12.085138</td>\n",
              "      <td>0.278718</td>\n",
              "      <td>0.490301</td>\n",
              "      <td>0.485961</td>\n",
              "      <td>0.494032</td>\n",
              "      <td>11.745962</td>\n",
              "    </tr>\n",
              "    <tr>\n",
              "      <th>min</th>\n",
              "      <td>0.000000</td>\n",
              "      <td>20.000000</td>\n",
              "      <td>0.000000</td>\n",
              "      <td>0.000000</td>\n",
              "      <td>0.000000</td>\n",
              "      <td>0.000000</td>\n",
              "      <td>0.700000</td>\n",
              "    </tr>\n",
              "    <tr>\n",
              "      <th>25%</th>\n",
              "      <td>0.000000</td>\n",
              "      <td>50.750000</td>\n",
              "      <td>1.000000</td>\n",
              "      <td>0.000000</td>\n",
              "      <td>0.000000</td>\n",
              "      <td>0.000000</td>\n",
              "      <td>8.925000</td>\n",
              "    </tr>\n",
              "    <tr>\n",
              "      <th>50%</th>\n",
              "      <td>1.000000</td>\n",
              "      <td>58.000000</td>\n",
              "      <td>1.000000</td>\n",
              "      <td>0.000000</td>\n",
              "      <td>1.000000</td>\n",
              "      <td>0.000000</td>\n",
              "      <td>12.500000</td>\n",
              "    </tr>\n",
              "    <tr>\n",
              "      <th>75%</th>\n",
              "      <td>1.000000</td>\n",
              "      <td>65.250000</td>\n",
              "      <td>1.000000</td>\n",
              "      <td>1.000000</td>\n",
              "      <td>1.000000</td>\n",
              "      <td>1.000000</td>\n",
              "      <td>21.300000</td>\n",
              "    </tr>\n",
              "    <tr>\n",
              "      <th>max</th>\n",
              "      <td>1.000000</td>\n",
              "      <td>78.000000</td>\n",
              "      <td>1.000000</td>\n",
              "      <td>1.000000</td>\n",
              "      <td>1.000000</td>\n",
              "      <td>1.000000</td>\n",
              "      <td>52.400000</td>\n",
              "    </tr>\n",
              "  </tbody>\n",
              "</table>\n",
              "</div>"
            ],
            "text/plain": [
              "       sex_0f_1m  age_years  ...   survival  PFS_months\n",
              "count  60.000000  60.000000  ...  60.000000   60.000000\n",
              "mean    0.583333  56.983333  ...   0.400000   15.713333\n",
              "std     0.497167  12.085138  ...   0.494032   11.745962\n",
              "min     0.000000  20.000000  ...   0.000000    0.700000\n",
              "25%     0.000000  50.750000  ...   0.000000    8.925000\n",
              "50%     1.000000  58.000000  ...   0.000000   12.500000\n",
              "75%     1.000000  65.250000  ...   1.000000   21.300000\n",
              "max     1.000000  78.000000  ...   1.000000   52.400000\n",
              "\n",
              "[8 rows x 7 columns]"
            ]
          },
          "metadata": {
            "tags": []
          },
          "execution_count": 52
        }
      ]
    },
    {
      "cell_type": "markdown",
      "metadata": {
        "id": "HW-t9mMhFmdL"
      },
      "source": [
        "# First, we should make a quick data exploratory analysis."
      ]
    },
    {
      "cell_type": "code",
      "metadata": {
        "id": "vc7ShB6pFamI"
      },
      "source": [
        "import seaborn as sns"
      ],
      "execution_count": 53,
      "outputs": []
    },
    {
      "cell_type": "code",
      "metadata": {
        "colab": {
          "base_uri": "https://localhost:8080/",
          "height": 0
        },
        "id": "AjdRmDFBFzP7",
        "outputId": "f6d73013-f723-4100-a8e0-4ba5237b7801"
      },
      "source": [
        "f,ax = plt.subplots(figsize =(7,10))\n",
        "sns.boxplot(x=\"survival\", y = 'age_years', data=dataset, palette=\"PRGn\",ax=ax)\n",
        "plt.show()"
      ],
      "execution_count": 54,
      "outputs": [
        {
          "output_type": "display_data",
          "data": {
            "image/png": "[encoded data removed]",
            "text/plain": [
              "<Figure size 504x720 with 1 Axes>"
            ]
          },
          "metadata": {
            "tags": [],
            "needs_background": "light"
          }
        }
      ]
    },
    {
      "cell_type": "code",
      "metadata": {
        "colab": {
          "base_uri": "https://localhost:8080/",
          "height": 0
        },
        "id": "e1zTy4VKF79J",
        "outputId": "08c0be78-a901-4fb0-b0f2-404329df2c4d"
      },
      "source": [
        "sns.catplot(x=\"sex_0f_1m\", y=\"survival\", hue=\"cHsp70_0low_1high\", ci=None, palette='viridis', kind=\"bar\", data=dataset)\n",
        "plt.ylim(0, 1)"
      ],
      "execution_count": 55,
      "outputs": [
        {
          "output_type": "execute_result",
          "data": {
            "text/plain": [
              "(0.0, 1.0)"
            ]
          },
          "metadata": {
            "tags": []
          },
          "execution_count": 55
        },
        {
          "output_type": "display_data",
          "data": {
            "image/png": "[encoded data removed]",
            "text/plain": [
              "<Figure size 466.75x360 with 1 Axes>"
            ]
          },
          "metadata": {
            "tags": [],
            "needs_background": "light"
          }
        }
      ]
    },
    {
      "cell_type": "markdown",
      "metadata": {
        "id": "qJUCEt7dt0cg"
      },
      "source": [
        "It seems that high levels cHsp70 increase survival rate only in females, something the original paper did not mention. We would have to look for covariates, and see if sex actually impact un survivality."
      ]
    },
    {
      "cell_type": "code",
      "metadata": {
        "colab": {
          "base_uri": "https://localhost:8080/",
          "height": 0
        },
        "id": "uoclYVaGIWGM",
        "outputId": "3db7500b-73b2-4fed-92d4-18c3819b5b51"
      },
      "source": [
        "sns.catplot(x=\"sex_0f_1m\", y=\"survival\", hue=\"MGMT_methylation\", kind=\"bar\", palette=\"pastel\", ci=None, data=dataset)\n",
        "plt.ylim(0, 1)"
      ],
      "execution_count": 56,
      "outputs": [
        {
          "output_type": "execute_result",
          "data": {
            "text/plain": [
              "(0.0, 1.0)"
            ]
          },
          "metadata": {
            "tags": []
          },
          "execution_count": 56
        },
        {
          "output_type": "display_data",
          "data": {
            "image/png": "[encoded data removed]",
            "text/plain": [
              "<Figure size 464x360 with 1 Axes>"
            ]
          },
          "metadata": {
            "tags": [],
            "needs_background": "light"
          }
        }
      ]
    },
    {
      "cell_type": "code",
      "metadata": {
        "colab": {
          "base_uri": "https://localhost:8080/",
          "height": 0
        },
        "id": "cR0dqW1MrkXB",
        "outputId": "8f8105df-1f2d-4f64-ae5a-e64ebed447df"
      },
      "source": [
        "sns.catplot(x=\"cHsp70_0low_1high\", y=\"survival\", hue=\"MGMT_methylation\", kind=\"bar\", ci=None,  palette=\"magma\", data=dataset)\n",
        "plt.ylim(0, 1)"
      ],
      "execution_count": 57,
      "outputs": [
        {
          "output_type": "execute_result",
          "data": {
            "text/plain": [
              "(0.0, 1.0)"
            ]
          },
          "metadata": {
            "tags": []
          },
          "execution_count": 57
        },
        {
          "output_type": "display_data",
          "data": {
            "image/png": "[encoded data removed]",
            "text/plain": [
              "<Figure size 464x360 with 1 Axes>"
            ]
          },
          "metadata": {
            "tags": [],
            "needs_background": "light"
          }
        }
      ]
    },
    {
      "cell_type": "markdown",
      "metadata": {
        "id": "NU7edlHWuwEH"
      },
      "source": [
        "It seems like MGMT methylation has a permissive effect on ChSp. The original paper did arrived to this conclusion. "
      ]
    },
    {
      "cell_type": "code",
      "metadata": {
        "colab": {
          "base_uri": "https://localhost:8080/",
          "height": 0
        },
        "id": "3tntc_DCr8wt",
        "outputId": "4bbb759a-3671-4e50-c3e9-0b7da747c71a"
      },
      "source": [
        "sns.regplot(x=\"survival\", y=\"PFS_months\", data=dataset)\n",
        "plt.ylim(0, 100)\n",
        "plt.xlim(0, 1.2)"
      ],
      "execution_count": 58,
      "outputs": [
        {
          "output_type": "execute_result",
          "data": {
            "text/plain": [
              "(0.0, 1.2)"
            ]
          },
          "metadata": {
            "tags": []
          },
          "execution_count": 58
        },
        {
          "output_type": "display_data",
          "data": {
            "image/png": "[encoded data removed]",
            "text/plain": [
              "<Figure size 432x288 with 1 Axes>"
            ]
          },
          "metadata": {
            "tags": [],
            "needs_background": "light"
          }
        }
      ]
    },
    {
      "cell_type": "code",
      "metadata": {
        "colab": {
          "base_uri": "https://localhost:8080/",
          "height": 0
        },
        "id": "KH9psv-GwLuN",
        "outputId": "78d229e8-6513-478a-8d08-5fe2dc4edb92"
      },
      "source": [
        "dataset.corr(method='pearson')"
      ],
      "execution_count": 59,
      "outputs": [
        {
          "output_type": "execute_result",
          "data": {
            "text/html": [
              "<div>\n",
              "<style scoped>\n",
              "    .dataframe tbody tr th:only-of-type {\n",
              "        vertical-align: middle;\n",
              "    }\n",
              "\n",
              "    .dataframe tbody tr th {\n",
              "        vertical-align: top;\n",
              "    }\n",
              "\n",
              "    .dataframe thead th {\n",
              "        text-align: right;\n",
              "    }\n",
              "</style>\n",
              "<table border=\"1\" class=\"dataframe\">\n",
              "  <thead>\n",
              "    <tr style=\"text-align: right;\">\n",
              "      <th></th>\n",
              "      <th>sex_0f_1m</th>\n",
              "      <th>age_years</th>\n",
              "      <th>did_progress</th>\n",
              "      <th>MGMT_methylation</th>\n",
              "      <th>cHsp70_0low_1high</th>\n",
              "      <th>survival</th>\n",
              "      <th>PFS_months</th>\n",
              "    </tr>\n",
              "  </thead>\n",
              "  <tbody>\n",
              "    <tr>\n",
              "      <th>sex_0f_1m</th>\n",
              "      <td>1.000000</td>\n",
              "      <td>-0.269165</td>\n",
              "      <td>-0.010193</td>\n",
              "      <td>-0.168035</td>\n",
              "      <td>0.058461</td>\n",
              "      <td>-0.138013</td>\n",
              "      <td>0.039569</td>\n",
              "    </tr>\n",
              "    <tr>\n",
              "      <th>age_years</th>\n",
              "      <td>-0.269165</td>\n",
              "      <td>1.000000</td>\n",
              "      <td>-0.161440</td>\n",
              "      <td>0.118375</td>\n",
              "      <td>0.079750</td>\n",
              "      <td>0.080623</td>\n",
              "      <td>0.177742</td>\n",
              "    </tr>\n",
              "    <tr>\n",
              "      <th>did_progress</th>\n",
              "      <td>-0.010193</td>\n",
              "      <td>-0.161440</td>\n",
              "      <td>1.000000</td>\n",
              "      <td>-0.010336</td>\n",
              "      <td>-0.229416</td>\n",
              "      <td>-0.369274</td>\n",
              "      <td>-0.456801</td>\n",
              "    </tr>\n",
              "    <tr>\n",
              "      <th>MGMT_methylation</th>\n",
              "      <td>-0.168035</td>\n",
              "      <td>0.118375</td>\n",
              "      <td>-0.010336</td>\n",
              "      <td>1.000000</td>\n",
              "      <td>0.386500</td>\n",
              "      <td>0.265897</td>\n",
              "      <td>0.320183</td>\n",
              "    </tr>\n",
              "    <tr>\n",
              "      <th>cHsp70_0low_1high</th>\n",
              "      <td>0.058461</td>\n",
              "      <td>0.079750</td>\n",
              "      <td>-0.229416</td>\n",
              "      <td>0.386500</td>\n",
              "      <td>1.000000</td>\n",
              "      <td>0.127076</td>\n",
              "      <td>0.328388</td>\n",
              "    </tr>\n",
              "    <tr>\n",
              "      <th>survival</th>\n",
              "      <td>-0.138013</td>\n",
              "      <td>0.080623</td>\n",
              "      <td>-0.369274</td>\n",
              "      <td>0.265897</td>\n",
              "      <td>0.127076</td>\n",
              "      <td>1.000000</td>\n",
              "      <td>0.223676</td>\n",
              "    </tr>\n",
              "    <tr>\n",
              "      <th>PFS_months</th>\n",
              "      <td>0.039569</td>\n",
              "      <td>0.177742</td>\n",
              "      <td>-0.456801</td>\n",
              "      <td>0.320183</td>\n",
              "      <td>0.328388</td>\n",
              "      <td>0.223676</td>\n",
              "      <td>1.000000</td>\n",
              "    </tr>\n",
              "  </tbody>\n",
              "</table>\n",
              "</div>"
            ],
            "text/plain": [
              "                   sex_0f_1m  age_years  ...  survival  PFS_months\n",
              "sex_0f_1m           1.000000  -0.269165  ... -0.138013    0.039569\n",
              "age_years          -0.269165   1.000000  ...  0.080623    0.177742\n",
              "did_progress       -0.010193  -0.161440  ... -0.369274   -0.456801\n",
              "MGMT_methylation   -0.168035   0.118375  ...  0.265897    0.320183\n",
              "cHsp70_0low_1high   0.058461   0.079750  ...  0.127076    0.328388\n",
              "survival           -0.138013   0.080623  ...  1.000000    0.223676\n",
              "PFS_months          0.039569   0.177742  ...  0.223676    1.000000\n",
              "\n",
              "[7 rows x 7 columns]"
            ]
          },
          "metadata": {
            "tags": []
          },
          "execution_count": 59
        }
      ]
    },
    {
      "cell_type": "markdown",
      "metadata": {
        "id": "gAvXyq3WtwyW"
      },
      "source": [
        "# First Analysis\n"
      ]
    },
    {
      "cell_type": "markdown",
      "metadata": {
        "id": "XxqJy4t3vMd-"
      },
      "source": [
        "First we want to divide the dataset in 3 sections:\n",
        "\n",
        "1.   Train set\n",
        "2.   Ranking feature set\n",
        "3.   Test\n",
        "\n"
      ]
    },
    {
      "cell_type": "code",
      "metadata": {
        "id": "sFMQ8v4D_p8A"
      },
      "source": [
        "X = dataset.drop(columns=['survival', 'PFS_months'], axis = 1)\n",
        "y = dataset['survival']"
      ],
      "execution_count": 60,
      "outputs": []
    },
    {
      "cell_type": "code",
      "metadata": {
        "id": "FtdqlOH-EZTo"
      },
      "source": [
        "from sklearn.model_selection import train_test_split"
      ],
      "execution_count": 61,
      "outputs": []
    },
    {
      "cell_type": "code",
      "metadata": {
        "id": "d8rizOrBEnQw"
      },
      "source": [
        "from sklearn.ensemble import RandomForestClassifier\n",
        "from sklearn.metrics import accuracy_score\n",
        "from sklearn.metrics import matthews_corrcoef"
      ],
      "execution_count": 62,
      "outputs": []
    },
    {
      "cell_type": "code",
      "metadata": {
        "id": "K230CmGXUrCi"
      },
      "source": [
        "clf = RandomForestClassifier(random_state=0)"
      ],
      "execution_count": 63,
      "outputs": []
    },
    {
      "cell_type": "code",
      "metadata": {
        "id": "HNHk51bic9tf"
      },
      "source": [
        "X_train, X_test, y_train, y_test = train_test_split(X, y, test_size=0.33)"
      ],
      "execution_count": 64,
      "outputs": []
    },
    {
      "cell_type": "code",
      "metadata": {
        "colab": {
          "base_uri": "https://localhost:8080/"
        },
        "id": "DuaE7Lb8dB2i",
        "outputId": "02e884ee-e173-4092-b442-d39d70e1b9f2"
      },
      "source": [
        "clf.fit(X_train, y_train)"
      ],
      "execution_count": 65,
      "outputs": [
        {
          "output_type": "execute_result",
          "data": {
            "text/plain": [
              "RandomForestClassifier(bootstrap=True, ccp_alpha=0.0, class_weight=None,\n",
              "                       criterion='gini', max_depth=None, max_features='auto',\n",
              "                       max_leaf_nodes=None, max_samples=None,\n",
              "                       min_impurity_decrease=0.0, min_impurity_split=None,\n",
              "                       min_samples_leaf=1, min_samples_split=2,\n",
              "                       min_weight_fraction_leaf=0.0, n_estimators=100,\n",
              "                       n_jobs=None, oob_score=False, random_state=0, verbose=0,\n",
              "                       warm_start=False)"
            ]
          },
          "metadata": {
            "tags": []
          },
          "execution_count": 65
        }
      ]
    },
    {
      "cell_type": "code",
      "metadata": {
        "id": "owSv0S0qdHk7"
      },
      "source": [
        "from sklearn.metrics import f1_score\n",
        "from sklearn.metrics import confusion_matrix"
      ],
      "execution_count": 66,
      "outputs": []
    },
    {
      "cell_type": "code",
      "metadata": {
        "colab": {
          "base_uri": "https://localhost:8080/"
        },
        "id": "-JfyJwsWdRIG",
        "outputId": "500a934b-07ef-48af-cb75-4626eaa6e7f3"
      },
      "source": [
        "f1_score(y_test, clf.predict(X_test))"
      ],
      "execution_count": 67,
      "outputs": [
        {
          "output_type": "execute_result",
          "data": {
            "text/plain": [
              "0.3529411764705882"
            ]
          },
          "metadata": {
            "tags": []
          },
          "execution_count": 67
        }
      ]
    },
    {
      "cell_type": "code",
      "metadata": {
        "colab": {
          "base_uri": "https://localhost:8080/"
        },
        "id": "knwOneIBx4WY",
        "outputId": "8b4c8ad3-7587-44ef-cfd8-ef1af06bd1ce"
      },
      "source": [
        "confusion_matrix(y_test, clf.predict(X_test))"
      ],
      "execution_count": 68,
      "outputs": [
        {
          "output_type": "execute_result",
          "data": {
            "text/plain": [
              "array([[6, 3],\n",
              "       [8, 3]])"
            ]
          },
          "metadata": {
            "tags": []
          },
          "execution_count": 68
        }
      ]
    },
    {
      "cell_type": "markdown",
      "metadata": {
        "id": "Z8ZzY1aIEJgs"
      },
      "source": [
        "## RFE with Matthew score as ranking system - Without Pogression free time "
      ]
    },
    {
      "cell_type": "code",
      "metadata": {
        "id": "RvI37NvgDAZA"
      },
      "source": [
        "import RFE_Glioblastoma as rfe"
      ],
      "execution_count": 69,
      "outputs": []
    },
    {
      "cell_type": "code",
      "metadata": {
        "id": "nWKoR9dFrznU"
      },
      "source": [
        "ranking = rfe.RankingRE(X, y, 100, clf)"
      ],
      "execution_count": 70,
      "outputs": []
    },
    {
      "cell_type": "code",
      "metadata": {
        "id": "nHunPGPJsNOd"
      },
      "source": [
        "rank, metrics = ranking.ranking_by_matthew_punishment()"
      ],
      "execution_count": 71,
      "outputs": []
    },
    {
      "cell_type": "code",
      "metadata": {
        "colab": {
          "base_uri": "https://localhost:8080/",
          "height": 203
        },
        "id": "iXDD659KBvwB",
        "outputId": "c6ddf25f-8a1e-4b9e-9d45-f54679f1538f"
      },
      "source": [
        "rank"
      ],
      "execution_count": 72,
      "outputs": [
        {
          "output_type": "execute_result",
          "data": {
            "text/html": [
              "<div>\n",
              "<style scoped>\n",
              "    .dataframe tbody tr th:only-of-type {\n",
              "        vertical-align: middle;\n",
              "    }\n",
              "\n",
              "    .dataframe tbody tr th {\n",
              "        vertical-align: top;\n",
              "    }\n",
              "\n",
              "    .dataframe thead th {\n",
              "        text-align: right;\n",
              "    }\n",
              "</style>\n",
              "<table border=\"1\" class=\"dataframe\">\n",
              "  <thead>\n",
              "    <tr style=\"text-align: right;\">\n",
              "      <th></th>\n",
              "      <th>Categories</th>\n",
              "      <th>average-mtt-punishment</th>\n",
              "      <th>ranking</th>\n",
              "      <th>SD_of_matt_punishment</th>\n",
              "    </tr>\n",
              "  </thead>\n",
              "  <tbody>\n",
              "    <tr>\n",
              "      <th>2</th>\n",
              "      <td>did_progress</td>\n",
              "      <td>0.06372320627966749</td>\n",
              "      <td>1.0</td>\n",
              "      <td>0.1555332751945295</td>\n",
              "    </tr>\n",
              "    <tr>\n",
              "      <th>3</th>\n",
              "      <td>MGMT_methylation</td>\n",
              "      <td>0.01748624818666679</td>\n",
              "      <td>2.0</td>\n",
              "      <td>0.2023388183350212</td>\n",
              "    </tr>\n",
              "    <tr>\n",
              "      <th>0</th>\n",
              "      <td>sex_0f_1m</td>\n",
              "      <td>0.012046948828525517</td>\n",
              "      <td>3.0</td>\n",
              "      <td>0.18397869782161339</td>\n",
              "    </tr>\n",
              "    <tr>\n",
              "      <th>1</th>\n",
              "      <td>age_years</td>\n",
              "      <td>-0.11287338559647032</td>\n",
              "      <td>4.0</td>\n",
              "      <td>0.2590059656570587</td>\n",
              "    </tr>\n",
              "    <tr>\n",
              "      <th>4</th>\n",
              "      <td>cHsp70_0low_1high</td>\n",
              "      <td>-0.019071429118095954</td>\n",
              "      <td>5.0</td>\n",
              "      <td>0.15960884297058184</td>\n",
              "    </tr>\n",
              "  </tbody>\n",
              "</table>\n",
              "</div>"
            ],
            "text/plain": [
              "          Categories average-mtt-punishment  ranking SD_of_matt_punishment\n",
              "2       did_progress    0.06372320627966749      1.0    0.1555332751945295\n",
              "3   MGMT_methylation    0.01748624818666679      2.0    0.2023388183350212\n",
              "0          sex_0f_1m   0.012046948828525517      3.0   0.18397869782161339\n",
              "1          age_years   -0.11287338559647032      4.0    0.2590059656570587\n",
              "4  cHsp70_0low_1high  -0.019071429118095954      5.0   0.15960884297058184"
            ]
          },
          "metadata": {
            "tags": []
          },
          "execution_count": 72
        }
      ]
    },
    {
      "cell_type": "code",
      "metadata": {
        "colab": {
          "base_uri": "https://localhost:8080/",
          "height": 80
        },
        "id": "9DD_eyZqDXrt",
        "outputId": "d4dd3b62-1d8f-427b-b121-2e6d22da4e0f"
      },
      "source": [
        "metrics"
      ],
      "execution_count": 73,
      "outputs": [
        {
          "output_type": "execute_result",
          "data": {
            "text/html": [
              "<div>\n",
              "<style scoped>\n",
              "    .dataframe tbody tr th:only-of-type {\n",
              "        vertical-align: middle;\n",
              "    }\n",
              "\n",
              "    .dataframe tbody tr th {\n",
              "        vertical-align: top;\n",
              "    }\n",
              "\n",
              "    .dataframe thead th {\n",
              "        text-align: right;\n",
              "    }\n",
              "</style>\n",
              "<table border=\"1\" class=\"dataframe\">\n",
              "  <thead>\n",
              "    <tr style=\"text-align: right;\">\n",
              "      <th></th>\n",
              "      <th>matthewscore</th>\n",
              "      <th>f1-score</th>\n",
              "      <th>Accuracy</th>\n",
              "      <th>True Positives</th>\n",
              "      <th>True Negatives</th>\n",
              "      <th>ROC AUC</th>\n",
              "      <th>PR AUC</th>\n",
              "    </tr>\n",
              "  </thead>\n",
              "  <tbody>\n",
              "    <tr>\n",
              "      <th>0</th>\n",
              "      <td>0.118034</td>\n",
              "      <td>0.396463</td>\n",
              "      <td>0.5805</td>\n",
              "      <td>0.412111</td>\n",
              "      <td>0.70366</td>\n",
              "      <td>0.556744</td>\n",
              "      <td>0.493785</td>\n",
              "    </tr>\n",
              "  </tbody>\n",
              "</table>\n",
              "</div>"
            ],
            "text/plain": [
              "   matthewscore  f1-score  Accuracy  ...  True Negatives   ROC AUC    PR AUC\n",
              "0      0.118034  0.396463    0.5805  ...         0.70366  0.556744  0.493785\n",
              "\n",
              "[1 rows x 7 columns]"
            ]
          },
          "metadata": {
            "tags": []
          },
          "execution_count": 73
        }
      ]
    },
    {
      "cell_type": "markdown",
      "metadata": {
        "id": "DjeTtfdKy36g"
      },
      "source": [
        "## [XgBoost]"
      ]
    },
    {
      "cell_type": "code",
      "metadata": {
        "id": "PAHDoFiZ0Evw"
      },
      "source": [
        "import xgboost as xgb\n"
      ],
      "execution_count": 74,
      "outputs": []
    },
    {
      "cell_type": "code",
      "metadata": {
        "id": "sVgTtRPLy-VQ"
      },
      "source": [
        "xgb_model = xgb.XGBClassifier(random_state=42)"
      ],
      "execution_count": 75,
      "outputs": []
    },
    {
      "cell_type": "code",
      "metadata": {
        "id": "HTmsf8uVy-8z"
      },
      "source": [
        "ranking_xgb = rfe.RankingRE(X, y, 100, xgb_model)"
      ],
      "execution_count": 76,
      "outputs": []
    },
    {
      "cell_type": "code",
      "metadata": {
        "id": "Nrrq3xMYzZP7"
      },
      "source": [
        "rank_xgb, metrics_xgb = ranking_xgb.ranking_by_matthew_punishment()"
      ],
      "execution_count": 77,
      "outputs": []
    },
    {
      "cell_type": "code",
      "metadata": {
        "colab": {
          "base_uri": "https://localhost:8080/",
          "height": 203
        },
        "id": "_YeCEdRKzY3Z",
        "outputId": "3d859e05-196d-430e-89c7-5675c360182c"
      },
      "source": [
        "rank_xgb"
      ],
      "execution_count": 78,
      "outputs": [
        {
          "output_type": "execute_result",
          "data": {
            "text/html": [
              "<div>\n",
              "<style scoped>\n",
              "    .dataframe tbody tr th:only-of-type {\n",
              "        vertical-align: middle;\n",
              "    }\n",
              "\n",
              "    .dataframe tbody tr th {\n",
              "        vertical-align: top;\n",
              "    }\n",
              "\n",
              "    .dataframe thead th {\n",
              "        text-align: right;\n",
              "    }\n",
              "</style>\n",
              "<table border=\"1\" class=\"dataframe\">\n",
              "  <thead>\n",
              "    <tr style=\"text-align: right;\">\n",
              "      <th></th>\n",
              "      <th>Categories</th>\n",
              "      <th>average-mtt-punishment</th>\n",
              "      <th>ranking</th>\n",
              "      <th>SD_of_matt_punishment</th>\n",
              "    </tr>\n",
              "  </thead>\n",
              "  <tbody>\n",
              "    <tr>\n",
              "      <th>3</th>\n",
              "      <td>MGMT_methylation</td>\n",
              "      <td>0.024558382406383094</td>\n",
              "      <td>1.0</td>\n",
              "      <td>0.16119283812669075</td>\n",
              "    </tr>\n",
              "    <tr>\n",
              "      <th>2</th>\n",
              "      <td>did_progress</td>\n",
              "      <td>0.0006546540440286216</td>\n",
              "      <td>2.0</td>\n",
              "      <td>0.006513725494595207</td>\n",
              "    </tr>\n",
              "    <tr>\n",
              "      <th>1</th>\n",
              "      <td>age_years</td>\n",
              "      <td>-0.09136617246844875</td>\n",
              "      <td>3.0</td>\n",
              "      <td>0.22589242931684492</td>\n",
              "    </tr>\n",
              "    <tr>\n",
              "      <th>0</th>\n",
              "      <td>sex_0f_1m</td>\n",
              "      <td>-0.015332535877537311</td>\n",
              "      <td>4.0</td>\n",
              "      <td>0.15621016087089828</td>\n",
              "    </tr>\n",
              "    <tr>\n",
              "      <th>4</th>\n",
              "      <td>cHsp70_0low_1high</td>\n",
              "      <td>-0.009570804858977149</td>\n",
              "      <td>5.0</td>\n",
              "      <td>0.1284199119523707</td>\n",
              "    </tr>\n",
              "  </tbody>\n",
              "</table>\n",
              "</div>"
            ],
            "text/plain": [
              "          Categories average-mtt-punishment  ranking SD_of_matt_punishment\n",
              "3   MGMT_methylation   0.024558382406383094      1.0   0.16119283812669075\n",
              "2       did_progress  0.0006546540440286216      2.0  0.006513725494595207\n",
              "1          age_years   -0.09136617246844875      3.0   0.22589242931684492\n",
              "0          sex_0f_1m  -0.015332535877537311      4.0   0.15621016087089828\n",
              "4  cHsp70_0low_1high  -0.009570804858977149      5.0    0.1284199119523707"
            ]
          },
          "metadata": {
            "tags": []
          },
          "execution_count": 78
        }
      ]
    },
    {
      "cell_type": "code",
      "metadata": {
        "colab": {
          "base_uri": "https://localhost:8080/",
          "height": 80
        },
        "id": "-s8RodD_0UvP",
        "outputId": "a4d72826-d56e-4460-c268-eec8e6701b30"
      },
      "source": [
        " metrics_xgb "
      ],
      "execution_count": 79,
      "outputs": [
        {
          "output_type": "execute_result",
          "data": {
            "text/html": [
              "<div>\n",
              "<style scoped>\n",
              "    .dataframe tbody tr th:only-of-type {\n",
              "        vertical-align: middle;\n",
              "    }\n",
              "\n",
              "    .dataframe tbody tr th {\n",
              "        vertical-align: top;\n",
              "    }\n",
              "\n",
              "    .dataframe thead th {\n",
              "        text-align: right;\n",
              "    }\n",
              "</style>\n",
              "<table border=\"1\" class=\"dataframe\">\n",
              "  <thead>\n",
              "    <tr style=\"text-align: right;\">\n",
              "      <th></th>\n",
              "      <th>matthewscore</th>\n",
              "      <th>f1-score</th>\n",
              "      <th>Accuracy</th>\n",
              "      <th>True Positives</th>\n",
              "      <th>True Negatives</th>\n",
              "      <th>ROC AUC</th>\n",
              "      <th>PR AUC</th>\n",
              "    </tr>\n",
              "  </thead>\n",
              "  <tbody>\n",
              "    <tr>\n",
              "      <th>0</th>\n",
              "      <td>-0.008832</td>\n",
              "      <td>0.321847</td>\n",
              "      <td>0.5165</td>\n",
              "      <td>0.341075</td>\n",
              "      <td>0.650153</td>\n",
              "      <td>0.506469</td>\n",
              "      <td>0.447482</td>\n",
              "    </tr>\n",
              "  </tbody>\n",
              "</table>\n",
              "</div>"
            ],
            "text/plain": [
              "   matthewscore  f1-score  Accuracy  ...  True Negatives   ROC AUC    PR AUC\n",
              "0     -0.008832  0.321847    0.5165  ...        0.650153  0.506469  0.447482\n",
              "\n",
              "[1 rows x 7 columns]"
            ]
          },
          "metadata": {
            "tags": []
          },
          "execution_count": 79
        }
      ]
    },
    {
      "cell_type": "code",
      "metadata": {
        "id": "TF2k6a1_0Ydt"
      },
      "source": [
        ""
      ],
      "execution_count": 79,
      "outputs": []
    },
    {
      "cell_type": "markdown",
      "metadata": {
        "id": "pZbXtUk22o8d"
      },
      "source": [
        "## Logistic Regression\n"
      ]
    },
    {
      "cell_type": "code",
      "metadata": {
        "id": "NO4McKlf2sPl"
      },
      "source": [
        "from sklearn.linear_model import LogisticRegression"
      ],
      "execution_count": 80,
      "outputs": []
    },
    {
      "cell_type": "code",
      "metadata": {
        "id": "WaX0iIgV24rg"
      },
      "source": [
        "log_regressor = LogisticRegression(random_state=42)"
      ],
      "execution_count": 81,
      "outputs": []
    },
    {
      "cell_type": "code",
      "metadata": {
        "id": "L2RP00kG3IT7"
      },
      "source": [
        "ranking_lgr = rfe.RankingRE(X, y, 100, log_regressor)"
      ],
      "execution_count": 82,
      "outputs": []
    },
    {
      "cell_type": "code",
      "metadata": {
        "id": "PzWG-auV3FdL"
      },
      "source": [
        "rank_lgr, metrics_lgr = ranking_lgr.ranking_by_matthew_punishment()"
      ],
      "execution_count": 83,
      "outputs": []
    },
    {
      "cell_type": "code",
      "metadata": {
        "colab": {
          "base_uri": "https://localhost:8080/",
          "height": 203
        },
        "id": "E5kkFmWo3kN3",
        "outputId": "e736dc31-314c-4b58-9492-5c0256c24547"
      },
      "source": [
        "rank_lgr"
      ],
      "execution_count": 84,
      "outputs": [
        {
          "output_type": "execute_result",
          "data": {
            "text/html": [
              "<div>\n",
              "<style scoped>\n",
              "    .dataframe tbody tr th:only-of-type {\n",
              "        vertical-align: middle;\n",
              "    }\n",
              "\n",
              "    .dataframe tbody tr th {\n",
              "        vertical-align: top;\n",
              "    }\n",
              "\n",
              "    .dataframe thead th {\n",
              "        text-align: right;\n",
              "    }\n",
              "</style>\n",
              "<table border=\"1\" class=\"dataframe\">\n",
              "  <thead>\n",
              "    <tr style=\"text-align: right;\">\n",
              "      <th></th>\n",
              "      <th>Categories</th>\n",
              "      <th>average-mtt-punishment</th>\n",
              "      <th>ranking</th>\n",
              "      <th>SD_of_matt_punishment</th>\n",
              "    </tr>\n",
              "  </thead>\n",
              "  <tbody>\n",
              "    <tr>\n",
              "      <th>2</th>\n",
              "      <td>did_progress</td>\n",
              "      <td>0.06402542313015255</td>\n",
              "      <td>1.0</td>\n",
              "      <td>0.13948621865752894</td>\n",
              "    </tr>\n",
              "    <tr>\n",
              "      <th>3</th>\n",
              "      <td>MGMT_methylation</td>\n",
              "      <td>0.04763654067297669</td>\n",
              "      <td>2.0</td>\n",
              "      <td>0.16548833014266537</td>\n",
              "    </tr>\n",
              "    <tr>\n",
              "      <th>1</th>\n",
              "      <td>age_years</td>\n",
              "      <td>-0.061350892408696824</td>\n",
              "      <td>3.0</td>\n",
              "      <td>0.18870687229184</td>\n",
              "    </tr>\n",
              "    <tr>\n",
              "      <th>0</th>\n",
              "      <td>sex_0f_1m</td>\n",
              "      <td>-0.02843423006622815</td>\n",
              "      <td>4.0</td>\n",
              "      <td>0.14966363033301205</td>\n",
              "    </tr>\n",
              "    <tr>\n",
              "      <th>4</th>\n",
              "      <td>cHsp70_0low_1high</td>\n",
              "      <td>-0.01176847552435224</td>\n",
              "      <td>5.0</td>\n",
              "      <td>0.12921303240488743</td>\n",
              "    </tr>\n",
              "  </tbody>\n",
              "</table>\n",
              "</div>"
            ],
            "text/plain": [
              "          Categories average-mtt-punishment  ranking SD_of_matt_punishment\n",
              "2       did_progress    0.06402542313015255      1.0   0.13948621865752894\n",
              "3   MGMT_methylation    0.04763654067297669      2.0   0.16548833014266537\n",
              "1          age_years  -0.061350892408696824      3.0      0.18870687229184\n",
              "0          sex_0f_1m   -0.02843423006622815      4.0   0.14966363033301205\n",
              "4  cHsp70_0low_1high   -0.01176847552435224      5.0   0.12921303240488743"
            ]
          },
          "metadata": {
            "tags": []
          },
          "execution_count": 84
        }
      ]
    },
    {
      "cell_type": "code",
      "metadata": {
        "colab": {
          "base_uri": "https://localhost:8080/",
          "height": 80
        },
        "id": "Lu1kRWPF3kQU",
        "outputId": "9e950d07-be81-4aa7-fe56-c9fa58938e84"
      },
      "source": [
        "metrics_lgr"
      ],
      "execution_count": 85,
      "outputs": [
        {
          "output_type": "execute_result",
          "data": {
            "text/html": [
              "<div>\n",
              "<style scoped>\n",
              "    .dataframe tbody tr th:only-of-type {\n",
              "        vertical-align: middle;\n",
              "    }\n",
              "\n",
              "    .dataframe tbody tr th {\n",
              "        vertical-align: top;\n",
              "    }\n",
              "\n",
              "    .dataframe thead th {\n",
              "        text-align: right;\n",
              "    }\n",
              "</style>\n",
              "<table border=\"1\" class=\"dataframe\">\n",
              "  <thead>\n",
              "    <tr style=\"text-align: right;\">\n",
              "      <th></th>\n",
              "      <th>matthewscore</th>\n",
              "      <th>f1-score</th>\n",
              "      <th>Accuracy</th>\n",
              "      <th>True Positives</th>\n",
              "      <th>True Negatives</th>\n",
              "      <th>ROC AUC</th>\n",
              "      <th>PR AUC</th>\n",
              "    </tr>\n",
              "  </thead>\n",
              "  <tbody>\n",
              "    <tr>\n",
              "      <th>0</th>\n",
              "      <td>0.095865</td>\n",
              "      <td>0.306615</td>\n",
              "      <td>0.562</td>\n",
              "      <td>0.300001</td>\n",
              "      <td>0.773156</td>\n",
              "      <td>0.556414</td>\n",
              "      <td>0.512744</td>\n",
              "    </tr>\n",
              "  </tbody>\n",
              "</table>\n",
              "</div>"
            ],
            "text/plain": [
              "   matthewscore  f1-score  Accuracy  ...  True Negatives   ROC AUC    PR AUC\n",
              "0      0.095865  0.306615     0.562  ...        0.773156  0.556414  0.512744\n",
              "\n",
              "[1 rows x 7 columns]"
            ]
          },
          "metadata": {
            "tags": []
          },
          "execution_count": 85
        }
      ]
    },
    {
      "cell_type": "markdown",
      "metadata": {
        "id": "3JBf4rWf4cGv"
      },
      "source": [
        "## Decision Trees"
      ]
    },
    {
      "cell_type": "code",
      "metadata": {
        "id": "nMvDZ5kg4e7t"
      },
      "source": [
        "from sklearn.tree import DecisionTreeClassifier\n",
        "dec_tree = DecisionTreeClassifier(random_state=42)"
      ],
      "execution_count": 86,
      "outputs": []
    },
    {
      "cell_type": "code",
      "metadata": {
        "id": "T2dVky7L5hra"
      },
      "source": [
        "ranking_dct = rfe.RankingRE(X, y, 100, dec_tree)"
      ],
      "execution_count": 87,
      "outputs": []
    },
    {
      "cell_type": "code",
      "metadata": {
        "id": "7KVEyDV45ndH"
      },
      "source": [
        "rank_dct, metrics_dct = ranking_dct.ranking_by_matthew_punishment()"
      ],
      "execution_count": 88,
      "outputs": []
    },
    {
      "cell_type": "code",
      "metadata": {
        "colab": {
          "base_uri": "https://localhost:8080/",
          "height": 203
        },
        "id": "GQFVy_Z450-3",
        "outputId": "d970acad-d8a4-443c-ec4a-a8f24deb9b43"
      },
      "source": [
        "rank_dct"
      ],
      "execution_count": 89,
      "outputs": [
        {
          "output_type": "execute_result",
          "data": {
            "text/html": [
              "<div>\n",
              "<style scoped>\n",
              "    .dataframe tbody tr th:only-of-type {\n",
              "        vertical-align: middle;\n",
              "    }\n",
              "\n",
              "    .dataframe tbody tr th {\n",
              "        vertical-align: top;\n",
              "    }\n",
              "\n",
              "    .dataframe thead th {\n",
              "        text-align: right;\n",
              "    }\n",
              "</style>\n",
              "<table border=\"1\" class=\"dataframe\">\n",
              "  <thead>\n",
              "    <tr style=\"text-align: right;\">\n",
              "      <th></th>\n",
              "      <th>Categories</th>\n",
              "      <th>average-mtt-punishment</th>\n",
              "      <th>ranking</th>\n",
              "      <th>SD_of_matt_punishment</th>\n",
              "    </tr>\n",
              "  </thead>\n",
              "  <tbody>\n",
              "    <tr>\n",
              "      <th>2</th>\n",
              "      <td>did_progress</td>\n",
              "      <td>0.06855658735393043</td>\n",
              "      <td>1.0</td>\n",
              "      <td>0.1630860253163553</td>\n",
              "    </tr>\n",
              "    <tr>\n",
              "      <th>3</th>\n",
              "      <td>MGMT_methylation</td>\n",
              "      <td>0.005724624767096042</td>\n",
              "      <td>2.0</td>\n",
              "      <td>0.17928571437479818</td>\n",
              "    </tr>\n",
              "    <tr>\n",
              "      <th>1</th>\n",
              "      <td>age_years</td>\n",
              "      <td>-0.12427462582713263</td>\n",
              "      <td>3.0</td>\n",
              "      <td>0.26760754158297034</td>\n",
              "    </tr>\n",
              "    <tr>\n",
              "      <th>4</th>\n",
              "      <td>cHsp70_0low_1high</td>\n",
              "      <td>-0.01733317585580805</td>\n",
              "      <td>4.0</td>\n",
              "      <td>0.11437788833268668</td>\n",
              "    </tr>\n",
              "    <tr>\n",
              "      <th>0</th>\n",
              "      <td>sex_0f_1m</td>\n",
              "      <td>-0.004187514235910624</td>\n",
              "      <td>5.0</td>\n",
              "      <td>0.11356166255095122</td>\n",
              "    </tr>\n",
              "  </tbody>\n",
              "</table>\n",
              "</div>"
            ],
            "text/plain": [
              "          Categories average-mtt-punishment  ranking SD_of_matt_punishment\n",
              "2       did_progress    0.06855658735393043      1.0    0.1630860253163553\n",
              "3   MGMT_methylation   0.005724624767096042      2.0   0.17928571437479818\n",
              "1          age_years   -0.12427462582713263      3.0   0.26760754158297034\n",
              "4  cHsp70_0low_1high   -0.01733317585580805      4.0   0.11437788833268668\n",
              "0          sex_0f_1m  -0.004187514235910624      5.0   0.11356166255095122"
            ]
          },
          "metadata": {
            "tags": []
          },
          "execution_count": 89
        }
      ]
    },
    {
      "cell_type": "code",
      "metadata": {
        "colab": {
          "base_uri": "https://localhost:8080/",
          "height": 80
        },
        "id": "GIguVjbE52PO",
        "outputId": "49224324-886a-4d2e-be3f-c9a49e962b34"
      },
      "source": [
        "metrics_dct"
      ],
      "execution_count": 90,
      "outputs": [
        {
          "output_type": "execute_result",
          "data": {
            "text/html": [
              "<div>\n",
              "<style scoped>\n",
              "    .dataframe tbody tr th:only-of-type {\n",
              "        vertical-align: middle;\n",
              "    }\n",
              "\n",
              "    .dataframe tbody tr th {\n",
              "        vertical-align: top;\n",
              "    }\n",
              "\n",
              "    .dataframe thead th {\n",
              "        text-align: right;\n",
              "    }\n",
              "</style>\n",
              "<table border=\"1\" class=\"dataframe\">\n",
              "  <thead>\n",
              "    <tr style=\"text-align: right;\">\n",
              "      <th></th>\n",
              "      <th>matthewscore</th>\n",
              "      <th>f1-score</th>\n",
              "      <th>Accuracy</th>\n",
              "      <th>True Positives</th>\n",
              "      <th>True Negatives</th>\n",
              "      <th>ROC AUC</th>\n",
              "      <th>PR AUC</th>\n",
              "    </tr>\n",
              "  </thead>\n",
              "  <tbody>\n",
              "    <tr>\n",
              "      <th>0</th>\n",
              "      <td>0.028971</td>\n",
              "      <td>0.404486</td>\n",
              "      <td>0.5185</td>\n",
              "      <td>0.445181</td>\n",
              "      <td>0.583787</td>\n",
              "      <td>0.517166</td>\n",
              "      <td>0.551611</td>\n",
              "    </tr>\n",
              "  </tbody>\n",
              "</table>\n",
              "</div>"
            ],
            "text/plain": [
              "   matthewscore  f1-score  Accuracy  ...  True Negatives   ROC AUC    PR AUC\n",
              "0      0.028971  0.404486    0.5185  ...        0.583787  0.517166  0.551611\n",
              "\n",
              "[1 rows x 7 columns]"
            ]
          },
          "metadata": {
            "tags": []
          },
          "execution_count": 90
        }
      ]
    },
    {
      "cell_type": "code",
      "metadata": {
        "id": "cC9zsHVb53w6"
      },
      "source": [
        ""
      ],
      "execution_count": 90,
      "outputs": []
    },
    {
      "cell_type": "markdown",
      "metadata": {
        "id": "YWkBX-i46O8M"
      },
      "source": [
        "## K-Nearest Neightbors"
      ]
    },
    {
      "cell_type": "code",
      "metadata": {
        "id": "rk-8sLlx6RwF"
      },
      "source": [
        "from sklearn.neighbors import KNeighborsClassifier\n",
        "knn = KNeighborsClassifier()"
      ],
      "execution_count": 91,
      "outputs": []
    },
    {
      "cell_type": "code",
      "metadata": {
        "id": "m6NgC6FC6TLp"
      },
      "source": [
        "ranking_knn = rfe.RankingRE(X, y, 100, knn)"
      ],
      "execution_count": 92,
      "outputs": []
    },
    {
      "cell_type": "code",
      "metadata": {
        "id": "YcrMo_v78w5F"
      },
      "source": [
        "rank_knn, metrics_knn = ranking_knn.ranking_by_matthew_punishment()"
      ],
      "execution_count": 93,
      "outputs": []
    },
    {
      "cell_type": "code",
      "metadata": {
        "colab": {
          "base_uri": "https://localhost:8080/",
          "height": 203
        },
        "id": "Bv2k7GjX81au",
        "outputId": "a9ae7434-9287-4c9e-ed41-c4c682d28de7"
      },
      "source": [
        "rank_knn"
      ],
      "execution_count": 94,
      "outputs": [
        {
          "output_type": "execute_result",
          "data": {
            "text/html": [
              "<div>\n",
              "<style scoped>\n",
              "    .dataframe tbody tr th:only-of-type {\n",
              "        vertical-align: middle;\n",
              "    }\n",
              "\n",
              "    .dataframe tbody tr th {\n",
              "        vertical-align: top;\n",
              "    }\n",
              "\n",
              "    .dataframe thead th {\n",
              "        text-align: right;\n",
              "    }\n",
              "</style>\n",
              "<table border=\"1\" class=\"dataframe\">\n",
              "  <thead>\n",
              "    <tr style=\"text-align: right;\">\n",
              "      <th></th>\n",
              "      <th>Categories</th>\n",
              "      <th>average-mtt-punishment</th>\n",
              "      <th>ranking</th>\n",
              "      <th>SD_of_matt_punishment</th>\n",
              "    </tr>\n",
              "  </thead>\n",
              "  <tbody>\n",
              "    <tr>\n",
              "      <th>2</th>\n",
              "      <td>did_progress</td>\n",
              "      <td>0.004683616483192665</td>\n",
              "      <td>1.0</td>\n",
              "      <td>0.044126478443801305</td>\n",
              "    </tr>\n",
              "    <tr>\n",
              "      <th>3</th>\n",
              "      <td>MGMT_methylation</td>\n",
              "      <td>0.0038386279957425573</td>\n",
              "      <td>2.0</td>\n",
              "      <td>0.047091790625171874</td>\n",
              "    </tr>\n",
              "    <tr>\n",
              "      <th>1</th>\n",
              "      <td>age_years</td>\n",
              "      <td>-0.14730433180517744</td>\n",
              "      <td>3.0</td>\n",
              "      <td>0.3071626478540861</td>\n",
              "    </tr>\n",
              "    <tr>\n",
              "      <th>0</th>\n",
              "      <td>sex_0f_1m</td>\n",
              "      <td>-0.010051504658167646</td>\n",
              "      <td>4.0</td>\n",
              "      <td>0.07205418778046549</td>\n",
              "    </tr>\n",
              "    <tr>\n",
              "      <th>4</th>\n",
              "      <td>cHsp70_0low_1high</td>\n",
              "      <td>-0.004283943007981022</td>\n",
              "      <td>5.0</td>\n",
              "      <td>0.06754610842745187</td>\n",
              "    </tr>\n",
              "  </tbody>\n",
              "</table>\n",
              "</div>"
            ],
            "text/plain": [
              "          Categories average-mtt-punishment  ranking SD_of_matt_punishment\n",
              "2       did_progress   0.004683616483192665      1.0  0.044126478443801305\n",
              "3   MGMT_methylation  0.0038386279957425573      2.0  0.047091790625171874\n",
              "1          age_years   -0.14730433180517744      3.0    0.3071626478540861\n",
              "0          sex_0f_1m  -0.010051504658167646      4.0   0.07205418778046549\n",
              "4  cHsp70_0low_1high  -0.004283943007981022      5.0   0.06754610842745187"
            ]
          },
          "metadata": {
            "tags": []
          },
          "execution_count": 94
        }
      ]
    },
    {
      "cell_type": "code",
      "metadata": {
        "colab": {
          "base_uri": "https://localhost:8080/",
          "height": 80
        },
        "id": "nA1T-mr883ki",
        "outputId": "22c1113f-e39a-437c-d2f6-510aadbc029c"
      },
      "source": [
        "metrics_knn"
      ],
      "execution_count": 95,
      "outputs": [
        {
          "output_type": "execute_result",
          "data": {
            "text/html": [
              "<div>\n",
              "<style scoped>\n",
              "    .dataframe tbody tr th:only-of-type {\n",
              "        vertical-align: middle;\n",
              "    }\n",
              "\n",
              "    .dataframe tbody tr th {\n",
              "        vertical-align: top;\n",
              "    }\n",
              "\n",
              "    .dataframe thead th {\n",
              "        text-align: right;\n",
              "    }\n",
              "</style>\n",
              "<table border=\"1\" class=\"dataframe\">\n",
              "  <thead>\n",
              "    <tr style=\"text-align: right;\">\n",
              "      <th></th>\n",
              "      <th>matthewscore</th>\n",
              "      <th>f1-score</th>\n",
              "      <th>Accuracy</th>\n",
              "      <th>True Positives</th>\n",
              "      <th>True Negatives</th>\n",
              "      <th>ROC AUC</th>\n",
              "      <th>PR AUC</th>\n",
              "    </tr>\n",
              "  </thead>\n",
              "  <tbody>\n",
              "    <tr>\n",
              "      <th>0</th>\n",
              "      <td>-0.023987</td>\n",
              "      <td>0.254812</td>\n",
              "      <td>0.536</td>\n",
              "      <td>0.272745</td>\n",
              "      <td>0.714223</td>\n",
              "      <td>0.4953</td>\n",
              "      <td>0.466794</td>\n",
              "    </tr>\n",
              "  </tbody>\n",
              "</table>\n",
              "</div>"
            ],
            "text/plain": [
              "   matthewscore  f1-score  Accuracy  ...  True Negatives  ROC AUC    PR AUC\n",
              "0     -0.023987  0.254812     0.536  ...        0.714223   0.4953  0.466794\n",
              "\n",
              "[1 rows x 7 columns]"
            ]
          },
          "metadata": {
            "tags": []
          },
          "execution_count": 95
        }
      ]
    },
    {
      "cell_type": "code",
      "metadata": {
        "id": "qr0m1EJ085Ft"
      },
      "source": [
        ""
      ],
      "execution_count": 95,
      "outputs": []
    }
  ]
}