{
  "nbformat": 4,
  "nbformat_minor": 0,
  "metadata": {
    "colab": {
      "name": "Lammer2021.ipynb",
      "provenance": [],
      "collapsed_sections": [],
      "authorship_tag": "ABX9TyMWLZjX791rO8CLv1CYhldU",
      "include_colab_link": true
    },
    "kernelspec": {
      "name": "python3",
      "display_name": "Python 3"
    },
    "language_info": {
      "name": "python"
    }
  },
  "cells": [
    {
      "cell_type": "markdown",
      "metadata": {
        "id": "view-in-github",
        "colab_type": "text"
      },
      "source": [
        "<a href=\"https://colab.research.google.com/github/gabrielcerono/GlioblastomaMultiforme/blob/main/Lammer2021.ipynb\" target=\"_parent\"><img src=\"https://colab.research.google.com/assets/colab-badge.svg\" alt=\"Open In Colab\"/></a>"
      ]
    },
    {
      "cell_type": "markdown",
      "metadata": {
        "id": "DHWb94GMDjhe"
      },
      "source": [
        "The paper is found here: https://doi.org/10.1371/journal.pone.0221502https://doi.org/10.1371/journal.pone.0221502\n",
        "\n",
        "\n",
        "The original dataset here: https://figshare.com/articles/dataset/Clinical_data_of_individual_patients_/14201600"
      ]
    },
    {
      "cell_type": "code",
      "metadata": {
        "id": "vhJZMvEWDie3"
      },
      "source": [
        "import pandas as pd\n",
        "import matplotlib.pyplot as plt\n",
        "import numpy as np\n",
        "import sklearn as sk"
      ],
      "execution_count": 1,
      "outputs": []
    },
    {
      "cell_type": "code",
      "metadata": {
        "id": "d0SOhl3bD2s0"
      },
      "source": [
        "dataset = pd.read_csv('/content/glioblastomadataset.csv')"
      ],
      "execution_count": 2,
      "outputs": []
    },
    {
      "cell_type": "code",
      "metadata": {
        "colab": {
          "base_uri": "https://localhost:8080/",
          "height": 203
        },
        "id": "mKVPfBS3Eb-v",
        "outputId": "99e679eb-72cd-448f-f38d-7608a076ecd3"
      },
      "source": [
        "dataset.head()"
      ],
      "execution_count": 3,
      "outputs": [
        {
          "output_type": "execute_result",
          "data": {
            "text/html": [
              "<div>\n",
              "<style scoped>\n",
              "    .dataframe tbody tr th:only-of-type {\n",
              "        vertical-align: middle;\n",
              "    }\n",
              "\n",
              "    .dataframe tbody tr th {\n",
              "        vertical-align: top;\n",
              "    }\n",
              "\n",
              "    .dataframe thead th {\n",
              "        text-align: right;\n",
              "    }\n",
              "</style>\n",
              "<table border=\"1\" class=\"dataframe\">\n",
              "  <thead>\n",
              "    <tr style=\"text-align: right;\">\n",
              "      <th></th>\n",
              "      <th>sex_0f_1m</th>\n",
              "      <th>age_years</th>\n",
              "      <th>did_progress</th>\n",
              "      <th>MGMT_methylation</th>\n",
              "      <th>cHsp70_0low_1high</th>\n",
              "      <th>survival</th>\n",
              "      <th>PFS_months</th>\n",
              "    </tr>\n",
              "  </thead>\n",
              "  <tbody>\n",
              "    <tr>\n",
              "      <th>0</th>\n",
              "      <td>0</td>\n",
              "      <td>50</td>\n",
              "      <td>1</td>\n",
              "      <td>0</td>\n",
              "      <td>0</td>\n",
              "      <td>0</td>\n",
              "      <td>4.6</td>\n",
              "    </tr>\n",
              "    <tr>\n",
              "      <th>1</th>\n",
              "      <td>0</td>\n",
              "      <td>60</td>\n",
              "      <td>1</td>\n",
              "      <td>0</td>\n",
              "      <td>0</td>\n",
              "      <td>0</td>\n",
              "      <td>0.7</td>\n",
              "    </tr>\n",
              "    <tr>\n",
              "      <th>2</th>\n",
              "      <td>0</td>\n",
              "      <td>53</td>\n",
              "      <td>1</td>\n",
              "      <td>0</td>\n",
              "      <td>0</td>\n",
              "      <td>1</td>\n",
              "      <td>11.3</td>\n",
              "    </tr>\n",
              "    <tr>\n",
              "      <th>3</th>\n",
              "      <td>0</td>\n",
              "      <td>43</td>\n",
              "      <td>1</td>\n",
              "      <td>0</td>\n",
              "      <td>0</td>\n",
              "      <td>1</td>\n",
              "      <td>10.3</td>\n",
              "    </tr>\n",
              "    <tr>\n",
              "      <th>4</th>\n",
              "      <td>0</td>\n",
              "      <td>65</td>\n",
              "      <td>1</td>\n",
              "      <td>1</td>\n",
              "      <td>0</td>\n",
              "      <td>0</td>\n",
              "      <td>7.9</td>\n",
              "    </tr>\n",
              "  </tbody>\n",
              "</table>\n",
              "</div>"
            ],
            "text/plain": [
              "   sex_0f_1m  age_years  did_progress  ...  cHsp70_0low_1high  survival  PFS_months\n",
              "0          0         50             1  ...                  0         0         4.6\n",
              "1          0         60             1  ...                  0         0         0.7\n",
              "2          0         53             1  ...                  0         1        11.3\n",
              "3          0         43             1  ...                  0         1        10.3\n",
              "4          0         65             1  ...                  0         0         7.9\n",
              "\n",
              "[5 rows x 7 columns]"
            ]
          },
          "metadata": {
            "tags": []
          },
          "execution_count": 3
        }
      ]
    },
    {
      "cell_type": "code",
      "metadata": {
        "colab": {
          "base_uri": "https://localhost:8080/",
          "height": 297
        },
        "id": "PsO9oXTnrOB3",
        "outputId": "1bdc2fa6-fe80-4d4a-d83b-cb82ba0904d4"
      },
      "source": [
        "dataset.describe()"
      ],
      "execution_count": 4,
      "outputs": [
        {
          "output_type": "execute_result",
          "data": {
            "text/html": [
              "<div>\n",
              "<style scoped>\n",
              "    .dataframe tbody tr th:only-of-type {\n",
              "        vertical-align: middle;\n",
              "    }\n",
              "\n",
              "    .dataframe tbody tr th {\n",
              "        vertical-align: top;\n",
              "    }\n",
              "\n",
              "    .dataframe thead th {\n",
              "        text-align: right;\n",
              "    }\n",
              "</style>\n",
              "<table border=\"1\" class=\"dataframe\">\n",
              "  <thead>\n",
              "    <tr style=\"text-align: right;\">\n",
              "      <th></th>\n",
              "      <th>sex_0f_1m</th>\n",
              "      <th>age_years</th>\n",
              "      <th>did_progress</th>\n",
              "      <th>MGMT_methylation</th>\n",
              "      <th>cHsp70_0low_1high</th>\n",
              "      <th>survival</th>\n",
              "      <th>PFS_months</th>\n",
              "    </tr>\n",
              "  </thead>\n",
              "  <tbody>\n",
              "    <tr>\n",
              "      <th>count</th>\n",
              "      <td>60.000000</td>\n",
              "      <td>60.000000</td>\n",
              "      <td>60.000000</td>\n",
              "      <td>60.000000</td>\n",
              "      <td>60.000000</td>\n",
              "      <td>60.000000</td>\n",
              "      <td>60.000000</td>\n",
              "    </tr>\n",
              "    <tr>\n",
              "      <th>mean</th>\n",
              "      <td>0.583333</td>\n",
              "      <td>56.983333</td>\n",
              "      <td>0.916667</td>\n",
              "      <td>0.383333</td>\n",
              "      <td>0.633333</td>\n",
              "      <td>0.400000</td>\n",
              "      <td>15.713333</td>\n",
              "    </tr>\n",
              "    <tr>\n",
              "      <th>std</th>\n",
              "      <td>0.497167</td>\n",
              "      <td>12.085138</td>\n",
              "      <td>0.278718</td>\n",
              "      <td>0.490301</td>\n",
              "      <td>0.485961</td>\n",
              "      <td>0.494032</td>\n",
              "      <td>11.745962</td>\n",
              "    </tr>\n",
              "    <tr>\n",
              "      <th>min</th>\n",
              "      <td>0.000000</td>\n",
              "      <td>20.000000</td>\n",
              "      <td>0.000000</td>\n",
              "      <td>0.000000</td>\n",
              "      <td>0.000000</td>\n",
              "      <td>0.000000</td>\n",
              "      <td>0.700000</td>\n",
              "    </tr>\n",
              "    <tr>\n",
              "      <th>25%</th>\n",
              "      <td>0.000000</td>\n",
              "      <td>50.750000</td>\n",
              "      <td>1.000000</td>\n",
              "      <td>0.000000</td>\n",
              "      <td>0.000000</td>\n",
              "      <td>0.000000</td>\n",
              "      <td>8.925000</td>\n",
              "    </tr>\n",
              "    <tr>\n",
              "      <th>50%</th>\n",
              "      <td>1.000000</td>\n",
              "      <td>58.000000</td>\n",
              "      <td>1.000000</td>\n",
              "      <td>0.000000</td>\n",
              "      <td>1.000000</td>\n",
              "      <td>0.000000</td>\n",
              "      <td>12.500000</td>\n",
              "    </tr>\n",
              "    <tr>\n",
              "      <th>75%</th>\n",
              "      <td>1.000000</td>\n",
              "      <td>65.250000</td>\n",
              "      <td>1.000000</td>\n",
              "      <td>1.000000</td>\n",
              "      <td>1.000000</td>\n",
              "      <td>1.000000</td>\n",
              "      <td>21.300000</td>\n",
              "    </tr>\n",
              "    <tr>\n",
              "      <th>max</th>\n",
              "      <td>1.000000</td>\n",
              "      <td>78.000000</td>\n",
              "      <td>1.000000</td>\n",
              "      <td>1.000000</td>\n",
              "      <td>1.000000</td>\n",
              "      <td>1.000000</td>\n",
              "      <td>52.400000</td>\n",
              "    </tr>\n",
              "  </tbody>\n",
              "</table>\n",
              "</div>"
            ],
            "text/plain": [
              "       sex_0f_1m  age_years  ...   survival  PFS_months\n",
              "count  60.000000  60.000000  ...  60.000000   60.000000\n",
              "mean    0.583333  56.983333  ...   0.400000   15.713333\n",
              "std     0.497167  12.085138  ...   0.494032   11.745962\n",
              "min     0.000000  20.000000  ...   0.000000    0.700000\n",
              "25%     0.000000  50.750000  ...   0.000000    8.925000\n",
              "50%     1.000000  58.000000  ...   0.000000   12.500000\n",
              "75%     1.000000  65.250000  ...   1.000000   21.300000\n",
              "max     1.000000  78.000000  ...   1.000000   52.400000\n",
              "\n",
              "[8 rows x 7 columns]"
            ]
          },
          "metadata": {
            "tags": []
          },
          "execution_count": 4
        }
      ]
    },
    {
      "cell_type": "markdown",
      "metadata": {
        "id": "HW-t9mMhFmdL"
      },
      "source": [
        "# First, we should make a quick data exploratory analysis."
      ]
    },
    {
      "cell_type": "code",
      "metadata": {
        "id": "vc7ShB6pFamI"
      },
      "source": [
        "import seaborn as sns"
      ],
      "execution_count": 5,
      "outputs": []
    },
    {
      "cell_type": "code",
      "metadata": {
        "colab": {
          "base_uri": "https://localhost:8080/",
          "height": 606
        },
        "id": "AjdRmDFBFzP7",
        "outputId": "72de6326-b17d-42dc-f304-07374f137f90"
      },
      "source": [
        "f,ax = plt.subplots(figsize =(7,10))\n",
        "sns.boxplot(x=\"survival\", y = 'age_years', data=dataset, palette=\"PRGn\",ax=ax)\n",
        "plt.show()"
      ],
      "execution_count": 6,
      "outputs": [
        {
          "output_type": "display_data",
          "data": {
            "image/png": "[encoded data removed]",
            "text/plain": [
              "<Figure size 504x720 with 1 Axes>"
            ]
          },
          "metadata": {
            "tags": [],
            "needs_background": "light"
          }
        }
      ]
    },
    {
      "cell_type": "code",
      "metadata": {
        "colab": {
          "base_uri": "https://localhost:8080/",
          "height": 405
        },
        "id": "e1zTy4VKF79J",
        "outputId": "67d54b73-ac31-4574-8646-ddbafcb04a90"
      },
      "source": [
        "sns.catplot(x=\"sex_0f_1m\", y=\"survival\", hue=\"cHsp70_0low_1high\", ci=None, palette='viridis', kind=\"bar\", data=dataset)\n",
        "plt.ylim(0, 1)"
      ],
      "execution_count": 7,
      "outputs": [
        {
          "output_type": "execute_result",
          "data": {
            "text/plain": [
              "(0.0, 1.0)"
            ]
          },
          "metadata": {
            "tags": []
          },
          "execution_count": 7
        },
        {
          "output_type": "display_data",
          "data": {
            "image/png": "[encoded data removed]",
            "text/plain": [
              "<Figure size 466.75x360 with 1 Axes>"
            ]
          },
          "metadata": {
            "tags": [],
            "needs_background": "light"
          }
        }
      ]
    },
    {
      "cell_type": "markdown",
      "metadata": {
        "id": "qJUCEt7dt0cg"
      },
      "source": [
        "It seems that high levels cHsp70 increase survival rate only in females, something the original paper did not mention. We would have to look for covariates, and see if sex actually impact un survivality."
      ]
    },
    {
      "cell_type": "code",
      "metadata": {
        "colab": {
          "base_uri": "https://localhost:8080/",
          "height": 405
        },
        "id": "uoclYVaGIWGM",
        "outputId": "2e236924-b087-404f-bd10-38c3c5d1db1b"
      },
      "source": [
        "sns.catplot(x=\"sex_0f_1m\", y=\"survival\", hue=\"MGMT_methylation\", kind=\"bar\", palette=\"pastel\", ci=None, data=dataset)\n",
        "plt.ylim(0, 1)"
      ],
      "execution_count": 8,
      "outputs": [
        {
          "output_type": "execute_result",
          "data": {
            "text/plain": [
              "(0.0, 1.0)"
            ]
          },
          "metadata": {
            "tags": []
          },
          "execution_count": 8
        },
        {
          "output_type": "display_data",
          "data": {
            "image/png": "[encoded data removed]",
            "text/plain": [
              "<Figure size 464x360 with 1 Axes>"
            ]
          },
          "metadata": {
            "tags": [],
            "needs_background": "light"
          }
        }
      ]
    },
    {
      "cell_type": "code",
      "metadata": {
        "colab": {
          "base_uri": "https://localhost:8080/",
          "height": 405
        },
        "id": "cR0dqW1MrkXB",
        "outputId": "ea4823b1-a6cd-4e8e-d164-73edc04a709f"
      },
      "source": [
        "sns.catplot(x=\"cHsp70_0low_1high\", y=\"survival\", hue=\"MGMT_methylation\", kind=\"bar\", ci=None,  palette=\"magma\", data=dataset)\n",
        "plt.ylim(0, 1)"
      ],
      "execution_count": 9,
      "outputs": [
        {
          "output_type": "execute_result",
          "data": {
            "text/plain": [
              "(0.0, 1.0)"
            ]
          },
          "metadata": {
            "tags": []
          },
          "execution_count": 9
        },
        {
          "output_type": "display_data",
          "data": {
            "image/png": "[encoded data removed]",
            "text/plain": [
              "<Figure size 464x360 with 1 Axes>"
            ]
          },
          "metadata": {
            "tags": [],
            "needs_background": "light"
          }
        }
      ]
    },
    {
      "cell_type": "markdown",
      "metadata": {
        "id": "NU7edlHWuwEH"
      },
      "source": [
        "It seems like MGMT methylation has a permissive effect on ChSp. The original paper did arrived to this conclusion. "
      ]
    },
    {
      "cell_type": "code",
      "metadata": {
        "colab": {
          "base_uri": "https://localhost:8080/",
          "height": 300
        },
        "id": "3tntc_DCr8wt",
        "outputId": "495c1dbd-b325-4261-d30a-340fa40af691"
      },
      "source": [
        "sns.regplot(x=\"survival\", y=\"PFS_months\", data=dataset)\n",
        "plt.ylim(0, 100)\n",
        "plt.xlim(0, 1.2)"
      ],
      "execution_count": 10,
      "outputs": [
        {
          "output_type": "execute_result",
          "data": {
            "text/plain": [
              "(0.0, 1.2)"
            ]
          },
          "metadata": {
            "tags": []
          },
          "execution_count": 10
        },
        {
          "output_type": "display_data",
          "data": {
            "image/png": "[encoded data removed]",
            "text/plain": [
              "<Figure size 432x288 with 1 Axes>"
            ]
          },
          "metadata": {
            "tags": [],
            "needs_background": "light"
          }
        }
      ]
    },
    {
      "cell_type": "code",
      "metadata": {
        "colab": {
          "base_uri": "https://localhost:8080/",
          "height": 265
        },
        "id": "KH9psv-GwLuN",
        "outputId": "473996ae-06ae-4644-e6b8-3212c80d614b"
      },
      "source": [
        "dataset.corr(method='pearson')"
      ],
      "execution_count": 11,
      "outputs": [
        {
          "output_type": "execute_result",
          "data": {
            "text/html": [
              "<div>\n",
              "<style scoped>\n",
              "    .dataframe tbody tr th:only-of-type {\n",
              "        vertical-align: middle;\n",
              "    }\n",
              "\n",
              "    .dataframe tbody tr th {\n",
              "        vertical-align: top;\n",
              "    }\n",
              "\n",
              "    .dataframe thead th {\n",
              "        text-align: right;\n",
              "    }\n",
              "</style>\n",
              "<table border=\"1\" class=\"dataframe\">\n",
              "  <thead>\n",
              "    <tr style=\"text-align: right;\">\n",
              "      <th></th>\n",
              "      <th>sex_0f_1m</th>\n",
              "      <th>age_years</th>\n",
              "      <th>did_progress</th>\n",
              "      <th>MGMT_methylation</th>\n",
              "      <th>cHsp70_0low_1high</th>\n",
              "      <th>survival</th>\n",
              "      <th>PFS_months</th>\n",
              "    </tr>\n",
              "  </thead>\n",
              "  <tbody>\n",
              "    <tr>\n",
              "      <th>sex_0f_1m</th>\n",
              "      <td>1.000000</td>\n",
              "      <td>-0.269165</td>\n",
              "      <td>-0.010193</td>\n",
              "      <td>-0.168035</td>\n",
              "      <td>0.058461</td>\n",
              "      <td>-0.138013</td>\n",
              "      <td>0.039569</td>\n",
              "    </tr>\n",
              "    <tr>\n",
              "      <th>age_years</th>\n",
              "      <td>-0.269165</td>\n",
              "      <td>1.000000</td>\n",
              "      <td>-0.161440</td>\n",
              "      <td>0.118375</td>\n",
              "      <td>0.079750</td>\n",
              "      <td>0.080623</td>\n",
              "      <td>0.177742</td>\n",
              "    </tr>\n",
              "    <tr>\n",
              "      <th>did_progress</th>\n",
              "      <td>-0.010193</td>\n",
              "      <td>-0.161440</td>\n",
              "      <td>1.000000</td>\n",
              "      <td>-0.010336</td>\n",
              "      <td>-0.229416</td>\n",
              "      <td>-0.369274</td>\n",
              "      <td>-0.456801</td>\n",
              "    </tr>\n",
              "    <tr>\n",
              "      <th>MGMT_methylation</th>\n",
              "      <td>-0.168035</td>\n",
              "      <td>0.118375</td>\n",
              "      <td>-0.010336</td>\n",
              "      <td>1.000000</td>\n",
              "      <td>0.386500</td>\n",
              "      <td>0.265897</td>\n",
              "      <td>0.320183</td>\n",
              "    </tr>\n",
              "    <tr>\n",
              "      <th>cHsp70_0low_1high</th>\n",
              "      <td>0.058461</td>\n",
              "      <td>0.079750</td>\n",
              "      <td>-0.229416</td>\n",
              "      <td>0.386500</td>\n",
              "      <td>1.000000</td>\n",
              "      <td>0.127076</td>\n",
              "      <td>0.328388</td>\n",
              "    </tr>\n",
              "    <tr>\n",
              "      <th>survival</th>\n",
              "      <td>-0.138013</td>\n",
              "      <td>0.080623</td>\n",
              "      <td>-0.369274</td>\n",
              "      <td>0.265897</td>\n",
              "      <td>0.127076</td>\n",
              "      <td>1.000000</td>\n",
              "      <td>0.223676</td>\n",
              "    </tr>\n",
              "    <tr>\n",
              "      <th>PFS_months</th>\n",
              "      <td>0.039569</td>\n",
              "      <td>0.177742</td>\n",
              "      <td>-0.456801</td>\n",
              "      <td>0.320183</td>\n",
              "      <td>0.328388</td>\n",
              "      <td>0.223676</td>\n",
              "      <td>1.000000</td>\n",
              "    </tr>\n",
              "  </tbody>\n",
              "</table>\n",
              "</div>"
            ],
            "text/plain": [
              "                   sex_0f_1m  age_years  ...  survival  PFS_months\n",
              "sex_0f_1m           1.000000  -0.269165  ... -0.138013    0.039569\n",
              "age_years          -0.269165   1.000000  ...  0.080623    0.177742\n",
              "did_progress       -0.010193  -0.161440  ... -0.369274   -0.456801\n",
              "MGMT_methylation   -0.168035   0.118375  ...  0.265897    0.320183\n",
              "cHsp70_0low_1high   0.058461   0.079750  ...  0.127076    0.328388\n",
              "survival           -0.138013   0.080623  ...  1.000000    0.223676\n",
              "PFS_months          0.039569   0.177742  ...  0.223676    1.000000\n",
              "\n",
              "[7 rows x 7 columns]"
            ]
          },
          "metadata": {
            "tags": []
          },
          "execution_count": 11
        }
      ]
    },
    {
      "cell_type": "markdown",
      "metadata": {
        "id": "gAvXyq3WtwyW"
      },
      "source": [
        "# First Analysis\n"
      ]
    },
    {
      "cell_type": "markdown",
      "metadata": {
        "id": "XxqJy4t3vMd-"
      },
      "source": [
        "First we want to divide the dataset in 3 sections:\n",
        "\n",
        "1.   Train set\n",
        "2.   Ranking feature set\n",
        "3.   Test\n",
        "\n"
      ]
    },
    {
      "cell_type": "code",
      "metadata": {
        "id": "sFMQ8v4D_p8A"
      },
      "source": [
        "X = dataset.drop(columns=['survival', 'PFS_months'], axis = 1)\n",
        "y = dataset['survival']"
      ],
      "execution_count": 12,
      "outputs": []
    },
    {
      "cell_type": "code",
      "metadata": {
        "id": "FtdqlOH-EZTo"
      },
      "source": [
        "from sklearn.model_selection import train_test_split"
      ],
      "execution_count": 13,
      "outputs": []
    },
    {
      "cell_type": "code",
      "metadata": {
        "id": "yLpghFy7EQjc"
      },
      "source": [
        "X_train, X_test, y_train, y_test = train_test_split(X, y, test_size=0.33, random_state=12)"
      ],
      "execution_count": 14,
      "outputs": []
    },
    {
      "cell_type": "code",
      "metadata": {
        "id": "d8rizOrBEnQw"
      },
      "source": [
        "from sklearn.ensemble import RandomForestClassifier\n",
        "from sklearn.metrics import accuracy_score\n",
        "from sklearn.metrics import matthews_corrcoef"
      ],
      "execution_count": 15,
      "outputs": []
    },
    {
      "cell_type": "code",
      "metadata": {
        "colab": {
          "base_uri": "https://localhost:8080/"
        },
        "id": "8_0M3AdWExa3",
        "outputId": "03974583-eec1-4d5c-c405-25a9e3a5e9c9"
      },
      "source": [
        "clf = RandomForestClassifier()\n",
        "clf.fit(X_train, y_train)"
      ],
      "execution_count": 16,
      "outputs": [
        {
          "output_type": "execute_result",
          "data": {
            "text/plain": [
              "RandomForestClassifier(bootstrap=True, ccp_alpha=0.0, class_weight=None,\n",
              "                       criterion='gini', max_depth=None, max_features='auto',\n",
              "                       max_leaf_nodes=None, max_samples=None,\n",
              "                       min_impurity_decrease=0.0, min_impurity_split=None,\n",
              "                       min_samples_leaf=1, min_samples_split=2,\n",
              "                       min_weight_fraction_leaf=0.0, n_estimators=100,\n",
              "                       n_jobs=None, oob_score=False, random_state=None,\n",
              "                       verbose=0, warm_start=False)"
            ]
          },
          "metadata": {
            "tags": []
          },
          "execution_count": 16
        }
      ]
    },
    {
      "cell_type": "code",
      "metadata": {
        "colab": {
          "base_uri": "https://localhost:8080/"
        },
        "id": "K435r-S9E2Fj",
        "outputId": "cba59d19-ccc4-4167-aac8-553ed3499c08"
      },
      "source": [
        "y_pred = clf.predict(X_test)\n",
        "\n",
        "print('Model accuracy score with 100 decision-trees : {0:0.4f}'. format(accuracy_score(y_test, y_pred)))"
      ],
      "execution_count": 17,
      "outputs": [
        {
          "output_type": "stream",
          "text": [
            "Model accuracy score with 100 decision-trees : 0.4500\n"
          ],
          "name": "stdout"
        }
      ]
    },
    {
      "cell_type": "code",
      "metadata": {
        "colab": {
          "base_uri": "https://localhost:8080/"
        },
        "id": "JS8nLYGEGHSR",
        "outputId": "80ce5f9b-ae12-450b-f1a0-822b9191a7ac"
      },
      "source": [
        "matthews_corrcoef(y_test, y_pred)"
      ],
      "execution_count": 18,
      "outputs": [
        {
          "output_type": "execute_result",
          "data": {
            "text/plain": [
              "0.022875450543583874"
            ]
          },
          "metadata": {
            "tags": []
          },
          "execution_count": 18
        }
      ]
    },
    {
      "cell_type": "code",
      "metadata": {
        "id": "bZVuSlQAerc8"
      },
      "source": [
        "matthews = ()"
      ],
      "execution_count": 19,
      "outputs": []
    },
    {
      "cell_type": "code",
      "metadata": {
        "id": "ihrMVyG9vaxg"
      },
      "source": [
        "features = []\n",
        "matthew = []\n",
        "f1score = []\n",
        "accuracy = []\n",
        "ppv = []\n",
        "npv = []\n",
        "\n",
        "for x in range(10):\n",
        "  seed = np.random.randint(10000)\n",
        "  X_train, X_test, y_train, y_test = train_test_split(X, y, test_size=0.33, random_state=seed)\n",
        "  X_train, X_rank, y_train, y_rank = train_test_split(X_train, y_train, test_size=0.5, random_state=seed)\n",
        "  clf = RandomForestClassifier()\n",
        "  clf.fit(X_train, y_train)\n",
        "  #Numpy array of X.columns dimensions. We vertical stack it, so we get one column. \n",
        "  featuresInside = np.vstack(clf.feature_importances_)\n",
        "  #We pass the numpy array to Pandas Dataframe, so we can rank it. \n",
        "  featuresdf = pd.DataFrame(data = featuresInside, columns = ['features'])\n",
        "  #We rank the features\n",
        "  featuresdf['ranking'] = featuresdf['features'].rank(ascending = 0)\n",
        "  #We convert back the ranking to numpy array\n",
        "  featuresnp = featuresdf['ranking'].to_numpy()\n",
        "  #We will add the numpy array to the list\n",
        "  features.append(featuresnp)\n",
        "\n",
        "features = np.array(features)\n",
        "featurestotal = features.sum(axis=0)\n",
        "featuremean = features.mean(axis = 0)\n",
        "featuresd = features.std(axis = 0)\n",
        "featuresname = X.columns\n",
        "feature_by_ranking = np.dstack((featurestotal, featuremean, featuresd, featuresname))\n",
        "feature_by_ranking = feature_by_ranking.reshape(5, 4)\n",
        "finalranking = pd.DataFrame(data = feature_by_ranking, columns= ['Borda Total', 'Borda Average', 'Borda Standard Deviation', 'Feature'])\n",
        "finalranking.sort_values(by = ['Borda Average'], ascending = 1, inplace = True)"
      ],
      "execution_count": 23,
      "outputs": []
    },
    {
      "cell_type": "code",
      "metadata": {
        "colab": {
          "base_uri": "https://localhost:8080/",
          "height": 203
        },
        "id": "a36GpYRGXlNj",
        "outputId": "67635cef-8af3-4909-f6f3-a13189d2b819"
      },
      "source": [
        "finalranking"
      ],
      "execution_count": 24,
      "outputs": [
        {
          "output_type": "execute_result",
          "data": {
            "text/html": [
              "<div>\n",
              "<style scoped>\n",
              "    .dataframe tbody tr th:only-of-type {\n",
              "        vertical-align: middle;\n",
              "    }\n",
              "\n",
              "    .dataframe tbody tr th {\n",
              "        vertical-align: top;\n",
              "    }\n",
              "\n",
              "    .dataframe thead th {\n",
              "        text-align: right;\n",
              "    }\n",
              "</style>\n",
              "<table border=\"1\" class=\"dataframe\">\n",
              "  <thead>\n",
              "    <tr style=\"text-align: right;\">\n",
              "      <th></th>\n",
              "      <th>Borda Total</th>\n",
              "      <th>Borda Average</th>\n",
              "      <th>Borda Standard Deviation</th>\n",
              "      <th>Feature</th>\n",
              "    </tr>\n",
              "  </thead>\n",
              "  <tbody>\n",
              "    <tr>\n",
              "      <th>1</th>\n",
              "      <td>10</td>\n",
              "      <td>1</td>\n",
              "      <td>0</td>\n",
              "      <td>age_years</td>\n",
              "    </tr>\n",
              "    <tr>\n",
              "      <th>0</th>\n",
              "      <td>31</td>\n",
              "      <td>3.1</td>\n",
              "      <td>0.7</td>\n",
              "      <td>sex_0f_1m</td>\n",
              "    </tr>\n",
              "    <tr>\n",
              "      <th>3</th>\n",
              "      <td>32</td>\n",
              "      <td>3.2</td>\n",
              "      <td>0.87178</td>\n",
              "      <td>MGMT_methylation</td>\n",
              "    </tr>\n",
              "    <tr>\n",
              "      <th>4</th>\n",
              "      <td>35</td>\n",
              "      <td>3.5</td>\n",
              "      <td>1.20416</td>\n",
              "      <td>cHsp70_0low_1high</td>\n",
              "    </tr>\n",
              "    <tr>\n",
              "      <th>2</th>\n",
              "      <td>42</td>\n",
              "      <td>4.2</td>\n",
              "      <td>1.249</td>\n",
              "      <td>did_progress</td>\n",
              "    </tr>\n",
              "  </tbody>\n",
              "</table>\n",
              "</div>"
            ],
            "text/plain": [
              "  Borda Total Borda Average Borda Standard Deviation            Feature\n",
              "1          10             1                        0          age_years\n",
              "0          31           3.1                      0.7          sex_0f_1m\n",
              "3          32           3.2                  0.87178   MGMT_methylation\n",
              "4          35           3.5                  1.20416  cHsp70_0low_1high\n",
              "2          42           4.2                    1.249       did_progress"
            ]
          },
          "metadata": {
            "tags": []
          },
          "execution_count": 24
        }
      ]
    },
    {
      "cell_type": "code",
      "metadata": {
        "colab": {
          "base_uri": "https://localhost:8080/"
        },
        "id": "y9Vzbhp5Y4Ha",
        "outputId": "18b97a09-4254-429f-c69d-8c774589b248"
      },
      "source": [
        "featuresd"
      ],
      "execution_count": 25,
      "outputs": [
        {
          "output_type": "execute_result",
          "data": {
            "text/plain": [
              "array([0.7       , 0.        , 1.2489996 , 0.87177979, 1.20415946])"
            ]
          },
          "metadata": {
            "tags": []
          },
          "execution_count": 25
        }
      ]
    },
    {
      "cell_type": "code",
      "metadata": {
        "colab": {
          "base_uri": "https://localhost:8080/"
        },
        "id": "PJfjVj6rIFsa",
        "outputId": "1fbfc6e9-5d7a-420b-87ab-a23df169edbf"
      },
      "source": [
        "loco = clf.feature_importances_\n",
        "loco"
      ],
      "execution_count": 27,
      "outputs": [
        {
          "output_type": "execute_result",
          "data": {
            "text/plain": [
              "array([0.13516639, 0.52134501, 0.05201522, 0.20501019, 0.08646319])"
            ]
          },
          "metadata": {
            "tags": []
          },
          "execution_count": 27
        }
      ]
    },
    {
      "cell_type": "code",
      "metadata": {
        "colab": {
          "base_uri": "https://localhost:8080/"
        },
        "id": "MDKVb0n2JoBD",
        "outputId": "de640fa2-94e8-4dc9-dc13-dc62ae18efa3"
      },
      "source": [
        "np.vstack(loco)"
      ],
      "execution_count": 28,
      "outputs": [
        {
          "output_type": "execute_result",
          "data": {
            "text/plain": [
              "array([[0.13516639],\n",
              "       [0.52134501],\n",
              "       [0.05201522],\n",
              "       [0.20501019],\n",
              "       [0.08646319]])"
            ]
          },
          "metadata": {
            "tags": []
          },
          "execution_count": 28
        }
      ]
    },
    {
      "cell_type": "code",
      "metadata": {
        "colab": {
          "base_uri": "https://localhost:8080/",
          "height": 359
        },
        "id": "TG-ZSkABGcZQ",
        "outputId": "5dc4c5b5-1b67-4769-b299-1892031a66a3"
      },
      "source": [
        "prueba1 = pd.DataFrame(data = features, columns= X.columns )\n",
        "prueba1"
      ],
      "execution_count": 29,
      "outputs": [
        {
          "output_type": "execute_result",
          "data": {
            "text/html": [
              "<div>\n",
              "<style scoped>\n",
              "    .dataframe tbody tr th:only-of-type {\n",
              "        vertical-align: middle;\n",
              "    }\n",
              "\n",
              "    .dataframe tbody tr th {\n",
              "        vertical-align: top;\n",
              "    }\n",
              "\n",
              "    .dataframe thead th {\n",
              "        text-align: right;\n",
              "    }\n",
              "</style>\n",
              "<table border=\"1\" class=\"dataframe\">\n",
              "  <thead>\n",
              "    <tr style=\"text-align: right;\">\n",
              "      <th></th>\n",
              "      <th>sex_0f_1m</th>\n",
              "      <th>age_years</th>\n",
              "      <th>did_progress</th>\n",
              "      <th>MGMT_methylation</th>\n",
              "      <th>cHsp70_0low_1high</th>\n",
              "    </tr>\n",
              "  </thead>\n",
              "  <tbody>\n",
              "    <tr>\n",
              "      <th>0</th>\n",
              "      <td>4.0</td>\n",
              "      <td>1.0</td>\n",
              "      <td>2.0</td>\n",
              "      <td>3.0</td>\n",
              "      <td>5.0</td>\n",
              "    </tr>\n",
              "    <tr>\n",
              "      <th>1</th>\n",
              "      <td>3.0</td>\n",
              "      <td>1.0</td>\n",
              "      <td>2.0</td>\n",
              "      <td>4.0</td>\n",
              "      <td>5.0</td>\n",
              "    </tr>\n",
              "    <tr>\n",
              "      <th>2</th>\n",
              "      <td>3.0</td>\n",
              "      <td>1.0</td>\n",
              "      <td>5.0</td>\n",
              "      <td>4.0</td>\n",
              "      <td>2.0</td>\n",
              "    </tr>\n",
              "    <tr>\n",
              "      <th>3</th>\n",
              "      <td>3.0</td>\n",
              "      <td>1.0</td>\n",
              "      <td>5.0</td>\n",
              "      <td>4.0</td>\n",
              "      <td>2.0</td>\n",
              "    </tr>\n",
              "    <tr>\n",
              "      <th>4</th>\n",
              "      <td>4.0</td>\n",
              "      <td>1.0</td>\n",
              "      <td>5.0</td>\n",
              "      <td>3.0</td>\n",
              "      <td>2.0</td>\n",
              "    </tr>\n",
              "    <tr>\n",
              "      <th>5</th>\n",
              "      <td>4.0</td>\n",
              "      <td>1.0</td>\n",
              "      <td>5.0</td>\n",
              "      <td>2.0</td>\n",
              "      <td>3.0</td>\n",
              "    </tr>\n",
              "    <tr>\n",
              "      <th>6</th>\n",
              "      <td>2.0</td>\n",
              "      <td>1.0</td>\n",
              "      <td>5.0</td>\n",
              "      <td>4.0</td>\n",
              "      <td>3.0</td>\n",
              "    </tr>\n",
              "    <tr>\n",
              "      <th>7</th>\n",
              "      <td>3.0</td>\n",
              "      <td>1.0</td>\n",
              "      <td>5.0</td>\n",
              "      <td>2.0</td>\n",
              "      <td>4.0</td>\n",
              "    </tr>\n",
              "    <tr>\n",
              "      <th>8</th>\n",
              "      <td>2.0</td>\n",
              "      <td>1.0</td>\n",
              "      <td>3.0</td>\n",
              "      <td>4.0</td>\n",
              "      <td>5.0</td>\n",
              "    </tr>\n",
              "    <tr>\n",
              "      <th>9</th>\n",
              "      <td>3.0</td>\n",
              "      <td>1.0</td>\n",
              "      <td>5.0</td>\n",
              "      <td>2.0</td>\n",
              "      <td>4.0</td>\n",
              "    </tr>\n",
              "  </tbody>\n",
              "</table>\n",
              "</div>"
            ],
            "text/plain": [
              "   sex_0f_1m  age_years  did_progress  MGMT_methylation  cHsp70_0low_1high\n",
              "0        4.0        1.0           2.0               3.0                5.0\n",
              "1        3.0        1.0           2.0               4.0                5.0\n",
              "2        3.0        1.0           5.0               4.0                2.0\n",
              "3        3.0        1.0           5.0               4.0                2.0\n",
              "4        4.0        1.0           5.0               3.0                2.0\n",
              "5        4.0        1.0           5.0               2.0                3.0\n",
              "6        2.0        1.0           5.0               4.0                3.0\n",
              "7        3.0        1.0           5.0               2.0                4.0\n",
              "8        2.0        1.0           3.0               4.0                5.0\n",
              "9        3.0        1.0           5.0               2.0                4.0"
            ]
          },
          "metadata": {
            "tags": []
          },
          "execution_count": 29
        }
      ]
    },
    {
      "cell_type": "code",
      "metadata": {
        "colab": {
          "base_uri": "https://localhost:8080/"
        },
        "id": "H4wvGK_7HNHe",
        "outputId": "1ce2812c-98f7-412c-f15f-a83a54f6bf3b"
      },
      "source": [
        "prueba1[\"sex_0f_1m\"].to_numpy()"
      ],
      "execution_count": 30,
      "outputs": [
        {
          "output_type": "execute_result",
          "data": {
            "text/plain": [
              "array([4., 3., 3., 3., 4., 4., 2., 3., 2., 3.])"
            ]
          },
          "metadata": {
            "tags": []
          },
          "execution_count": 30
        }
      ]
    },
    {
      "cell_type": "markdown",
      "metadata": {
        "id": "Z8ZzY1aIEJgs"
      },
      "source": [
        "## RFE with Matthew score"
      ]
    },
    {
      "cell_type": "code",
      "metadata": {
        "id": "RvI37NvgDAZA",
        "colab": {
          "base_uri": "https://localhost:8080/"
        },
        "outputId": "58616142-a510-4b48-a70c-c926b29fbffe"
      },
      "source": [
        "import RFE_Glioblastoma as rfe"
      ],
      "execution_count": 34,
      "outputs": [
        {
          "output_type": "stream",
          "text": [
            "/usr/local/lib/python3.7/dist-packages/sklearn/externals/six.py:31: FutureWarning: The module is deprecated in version 0.21 and will be removed in version 0.23 since we've dropped support for Python 2.7. Please rely on the official version of six (https://pypi.org/project/six/).\n",
            "  \"(https://pypi.org/project/six/).\", FutureWarning)\n",
            "/usr/local/lib/python3.7/dist-packages/sklearn/utils/deprecation.py:144: FutureWarning: The sklearn.neighbors.base module is  deprecated in version 0.22 and will be removed in version 0.24. The corresponding classes / functions should instead be imported from sklearn.neighbors. Anything that cannot be imported from sklearn.neighbors is now part of the private API.\n",
            "  warnings.warn(message, FutureWarning)\n",
            "/usr/local/lib/python3.7/dist-packages/sklearn/utils/deprecation.py:144: FutureWarning: The sklearn.ensemble.bagging module is  deprecated in version 0.22 and will be removed in version 0.24. The corresponding classes / functions should instead be imported from sklearn.ensemble. Anything that cannot be imported from sklearn.ensemble is now part of the private API.\n",
            "  warnings.warn(message, FutureWarning)\n",
            "/usr/local/lib/python3.7/dist-packages/sklearn/utils/deprecation.py:144: FutureWarning: The sklearn.ensemble.base module is  deprecated in version 0.22 and will be removed in version 0.24. The corresponding classes / functions should instead be imported from sklearn.ensemble. Anything that cannot be imported from sklearn.ensemble is now part of the private API.\n",
            "  warnings.warn(message, FutureWarning)\n",
            "/usr/local/lib/python3.7/dist-packages/sklearn/utils/deprecation.py:144: FutureWarning: The sklearn.ensemble.forest module is  deprecated in version 0.22 and will be removed in version 0.24. The corresponding classes / functions should instead be imported from sklearn.ensemble. Anything that cannot be imported from sklearn.ensemble is now part of the private API.\n",
            "  warnings.warn(message, FutureWarning)\n",
            "/usr/local/lib/python3.7/dist-packages/sklearn/externals/joblib/__init__.py:15: FutureWarning: sklearn.externals.joblib is deprecated in 0.21 and will be removed in 0.23. Please import this functionality directly from joblib, which can be installed with: pip install joblib. If this warning is raised when loading pickled models, you may need to re-serialize those models with scikit-learn 0.21+.\n",
            "  warnings.warn(msg, category=FutureWarning)\n"
          ],
          "name": "stderr"
        }
      ]
    },
    {
      "cell_type": "code",
      "metadata": {
        "id": "nWKoR9dFrznU"
      },
      "source": [
        "ranking = rfe.RankingRE(X, y, 100, clf)"
      ],
      "execution_count": 35,
      "outputs": []
    },
    {
      "cell_type": "code",
      "metadata": {
        "id": "nHunPGPJsNOd",
        "colab": {
          "base_uri": "https://localhost:8080/"
        },
        "outputId": "0a62eadc-bc45-415d-96db-cc6478440686"
      },
      "source": [
        "rank, score = ranking.ranking_by_matthew_punishment()"
      ],
      "execution_count": 36,
      "outputs": [
        {
          "output_type": "stream",
          "text": [
            "/usr/local/lib/python3.7/dist-packages/sklearn/metrics/_classification.py:900: RuntimeWarning: invalid value encountered in double_scalars\n",
            "  mcc = cov_ytyp / np.sqrt(cov_ytyt * cov_ypyp)\n",
            "/usr/local/lib/python3.7/dist-packages/sklearn/metrics/_classification.py:900: RuntimeWarning: invalid value encountered in double_scalars\n",
            "  mcc = cov_ytyp / np.sqrt(cov_ytyt * cov_ypyp)\n",
            "/usr/local/lib/python3.7/dist-packages/sklearn/metrics/_classification.py:900: RuntimeWarning: invalid value encountered in double_scalars\n",
            "  mcc = cov_ytyp / np.sqrt(cov_ytyt * cov_ypyp)\n"
          ],
          "name": "stderr"
        }
      ]
    },
    {
      "cell_type": "code",
      "metadata": {
        "colab": {
          "base_uri": "https://localhost:8080/",
          "height": 203
        },
        "id": "iXDD659KBvwB",
        "outputId": "2708a456-30c7-4548-a191-d095454701e6"
      },
      "source": [
        "rank"
      ],
      "execution_count": 37,
      "outputs": [
        {
          "output_type": "execute_result",
          "data": {
            "text/html": [
              "<div>\n",
              "<style scoped>\n",
              "    .dataframe tbody tr th:only-of-type {\n",
              "        vertical-align: middle;\n",
              "    }\n",
              "\n",
              "    .dataframe tbody tr th {\n",
              "        vertical-align: top;\n",
              "    }\n",
              "\n",
              "    .dataframe thead th {\n",
              "        text-align: right;\n",
              "    }\n",
              "</style>\n",
              "<table border=\"1\" class=\"dataframe\">\n",
              "  <thead>\n",
              "    <tr style=\"text-align: right;\">\n",
              "      <th></th>\n",
              "      <th>Categories</th>\n",
              "      <th>average-mtt-punishment</th>\n",
              "      <th>ranking</th>\n",
              "      <th>SD_of_matt_punishment</th>\n",
              "    </tr>\n",
              "  </thead>\n",
              "  <tbody>\n",
              "    <tr>\n",
              "      <th>2</th>\n",
              "      <td>did_progress</td>\n",
              "      <td>0.04264286264937213</td>\n",
              "      <td>1.0</td>\n",
              "      <td>0.167728563744348</td>\n",
              "    </tr>\n",
              "    <tr>\n",
              "      <th>3</th>\n",
              "      <td>MGMT_methylation</td>\n",
              "      <td>0.029112349228890066</td>\n",
              "      <td>2.0</td>\n",
              "      <td>0.17599907178711663</td>\n",
              "    </tr>\n",
              "    <tr>\n",
              "      <th>1</th>\n",
              "      <td>age_years</td>\n",
              "      <td>-0.07673179329790314</td>\n",
              "      <td>3.0</td>\n",
              "      <td>0.20829247443019802</td>\n",
              "    </tr>\n",
              "    <tr>\n",
              "      <th>4</th>\n",
              "      <td>cHsp70_0low_1high</td>\n",
              "      <td>-0.011113645032262465</td>\n",
              "      <td>4.0</td>\n",
              "      <td>0.2029815339658201</td>\n",
              "    </tr>\n",
              "    <tr>\n",
              "      <th>0</th>\n",
              "      <td>sex_0f_1m</td>\n",
              "      <td>-0.009464106266606535</td>\n",
              "      <td>5.0</td>\n",
              "      <td>0.1864670581167237</td>\n",
              "    </tr>\n",
              "  </tbody>\n",
              "</table>\n",
              "</div>"
            ],
            "text/plain": [
              "          Categories average-mtt-punishment  ranking SD_of_matt_punishment\n",
              "2       did_progress    0.04264286264937213      1.0     0.167728563744348\n",
              "3   MGMT_methylation   0.029112349228890066      2.0   0.17599907178711663\n",
              "1          age_years   -0.07673179329790314      3.0   0.20829247443019802\n",
              "4  cHsp70_0low_1high  -0.011113645032262465      4.0    0.2029815339658201\n",
              "0          sex_0f_1m  -0.009464106266606535      5.0    0.1864670581167237"
            ]
          },
          "metadata": {
            "tags": []
          },
          "execution_count": 37
        }
      ]
    },
    {
      "cell_type": "code",
      "metadata": {
        "colab": {
          "base_uri": "https://localhost:8080/"
        },
        "id": "9DD_eyZqDXrt",
        "outputId": "40e9999c-fd13-46cd-b77e-13a6f61671d7"
      },
      "source": [
        "score # Is the matthew mean"
      ],
      "execution_count": 38,
      "outputs": [
        {
          "output_type": "execute_result",
          "data": {
            "text/plain": [
              "0.29012942659282975"
            ]
          },
          "metadata": {
            "tags": []
          },
          "execution_count": 38
        }
      ]
    },
    {
      "cell_type": "code",
      "metadata": {
        "id": "1_i2voxHK855"
      },
      "source": [
        ""
      ],
      "execution_count": null,
      "outputs": []
    }
  ]
}